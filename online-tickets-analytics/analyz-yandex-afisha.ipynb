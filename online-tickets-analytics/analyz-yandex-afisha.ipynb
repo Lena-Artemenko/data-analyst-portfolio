{
 "cells": [
  {
   "cell_type": "markdown",
   "metadata": {
    "id": "LMuaGIE3lGcr"
   },
   "source": [
    "# Исследовательский анализ данных в Python и проверка гипотез."
   ]
  },
  {
   "cell_type": "markdown",
   "metadata": {},
   "source": [
    "## Анализ данных сервиса Яндекс Афиша \n",
    "\n",
    "- Автор: Артеменко Елена\n",
    "- Дата: 1 июля 2025"
   ]
  },
  {
   "cell_type": "markdown",
   "metadata": {},
   "source": [
    "## Цели и задачи проекта\n",
    "\n",
    "**Цель проекта:**\n",
    "\n",
    "1. изучить изменение пользовательской активности в связи с сезонностью.\n",
    "2. проверить гипотезы относительно активности пользователей мобильных и стационарных устройств.\n",
    "\n",
    "**Задачи проекта:**\n",
    "\n",
    "1. Сбор и предобработка данных.\n",
    "2. Анализ:\n",
    "\n",
    "    2.1. распределения заказов по сегментам и их сезонных изменений;\n",
    "    \n",
    "    2.2. активности пользователей осенью 2024 года;\n",
    "    \n",
    "    2.3. популярных событий и партнёров.\n",
    "    \n",
    "3. Статистический анализ данных и проверка гипотез о поведении пользователей мобильных/стационарных устройств.\n",
    "4. Интерпретация результатов и выводы.\n",
    "\n"
   ]
  },
  {
   "cell_type": "markdown",
   "metadata": {},
   "source": [
    "## Описание данных\n",
    "\n",
    "Для анализа предоставлены данные о бронировании билетов на сервисе Яндекс Афиша за период с 1 июня по 30 октября 2024 года.\n",
    "\n",
    "**Датасет `final_tickets_orders_df.csv`** включает информацию обо всех заказах билетов, совершённых с двух типов устройств — мобильных и стационарных.\n",
    "\n",
    "`order_id` — уникальный идентификатор заказа.\n",
    "\n",
    "`user_id` — уникальный идентификатор пользователя.\n",
    "\n",
    "`created_dt_msk` — дата создания заказа (московское время).\n",
    "\n",
    "`created_ts_msk` — дата и время создания заказа (московское время).\n",
    "\n",
    "`event_id` — идентификатор мероприятия из таблицы events.\n",
    "\n",
    "`cinema_circuit` — сеть кинотеатров. Если не применимо, то здесь будет значение 'нет'.\n",
    "\n",
    "`age_limit` — возрастное ограничение мероприятия.\n",
    "\n",
    "`currency_code` — валюта оплаты, например rub для российских рублей.\n",
    "\n",
    "`device_type_canonical` — тип устройства, с которого был оформлен заказ, например mobile для мобильных устройств, desktop для стационарных.\n",
    "\n",
    "`revenue` — выручка от заказа.\n",
    "\n",
    "`service_name` — название билетного оператора.\n",
    "\n",
    "`tickets_count` — количество купленных билетов.\n",
    "\n",
    "`total` — общая сумма заказа.\n",
    "\n",
    "`days_since_prev` – количество дней с предыдущей покупки для каждого пользователя. Если покупки не было, то данные содержат пропуск.\n",
    "\n",
    "**Датасет `final_tickets_events_df.csv`** содержит информацию о событиях, включая город и регион события, а также информацию о площадке проведения мероприятия.\n",
    "\n",
    "`event_id` — уникальный идентификатор мероприятия.\n",
    "\n",
    "`event_name` — название мероприятия. Аналог поля event_name_code из исходной базы данных.\n",
    "\n",
    "`event_type_description` — описание типа мероприятия.\n",
    "\n",
    "`event_type_main` — основной тип мероприятия: театральная постановка, концерт и так далее.\n",
    "\n",
    "`organizers` — организаторы мероприятия.\n",
    "\n",
    "`region_name` — название региона.\n",
    "\n",
    "`city_name` — название города.\n",
    "\n",
    "`venue_id` — уникальный идентификатор площадки.\n",
    "\n",
    "`venue_name` — название площадки.\n",
    "\n",
    "`venue_address` — адрес площадки.\n",
    "\n",
    "**Датасет `final_tickets_tenge_df.csv`** содержит информацию о курсе тенге к российскому рублю за 2024 год. Значения в рублях представлено для 100 тенге.\n",
    "\n",
    "`nominal` — номинал (100 тенге).\n",
    "\n",
    "`data` — дата.\n",
    "\n",
    "`curs` — курс тенге к рублю.\n",
    "\n",
    "`cdx` — обозначение валюты (kzt).\n"
   ]
  },
  {
   "cell_type": "markdown",
   "metadata": {},
   "source": [
    "## Содержимое проекта\n",
    "\n",
    "1. Сбор и предобработка данных.\n",
    "\n",
    "    1.1. Загрузка и объединение данных и проверка на пропуски.\n",
    "    \n",
    "    1.2. Преобразование форматов.\n",
    "    \n",
    "    1.3. Создание дополнительных столбцов для анализа. \n",
    "    \n",
    "    1.4. Проверка на явные и неявные дубликаты.\n",
    "    \n",
    "    1.5. Изучение статистик данных, оценка данных на выбросы, обработка.\n",
    "    \n",
    "    1.6. Создание дополнительных столбцов, необходимых для анализа. Приведение данных к единой валюте.\n",
    "    \n",
    "    \n",
    "2. Исследовательский анализ данных.\n",
    "    2.1. Анализ распределения заказов по сегментам и их сезонных изменений.\n",
    "    * динамика заказов по месяцам.\n",
    "    * cравнение лето/осень.\n",
    "    * промежуточный вывод.\n",
    "    \n",
    "    2.2. Анализ активности пользователей осенью 2024 года.\n",
    "    * динамика по дням.\n",
    "    * недельная цикличность.\n",
    "    * промежуточный вывод.\n",
    "    \n",
    "    2.3. Популярные события и партнёры.\n",
    "    * анализ по регионам.\n",
    "    * анализ по партнёрам.\n",
    "    * промежуточный вывод.\n",
    "    \n",
    "\n",
    "3. Статистический анализ данных и проверка гипотезы.\n",
    "\n",
    "    3.1. Проверка гипотезы о разнице среднего количества заказов на одного пользователя между мобильным приложением и стационарными устройствами.\n",
    "    \n",
    "    3.2. Проверка гипотезы о разницы среднего времени между заказами пользователей мобильного приложения и стационарных устройств.\n",
    "    \n",
    "    3.3. Промежуточный вывод: подтверждение / отклонение гипотез.\n",
    "    \n",
    "\n",
    "4. Общий вывод и рекомендации."
   ]
  },
  {
   "cell_type": "markdown",
   "metadata": {},
   "source": [
    "## Сбор и предобработка данных.\n",
    "### Загрузка и объединение данных, проверка на пропуски.\n"
   ]
  },
  {
   "cell_type": "code",
   "execution_count": 1,
   "metadata": {},
   "outputs": [],
   "source": [
    "#импортируем нужные библиотеки\n",
    "import pandas as pd\n",
    "import matplotlib.pyplot as plt\n",
    "import seaborn as sns\n",
    "from scipy.stats import mannwhitneyu"
   ]
  },
  {
   "cell_type": "code",
   "execution_count": 2,
   "metadata": {
    "scrolled": false
   },
   "outputs": [
    {
     "data": {
      "text/html": [
       "<div>\n",
       "<style scoped>\n",
       "    .dataframe tbody tr th:only-of-type {\n",
       "        vertical-align: middle;\n",
       "    }\n",
       "\n",
       "    .dataframe tbody tr th {\n",
       "        vertical-align: top;\n",
       "    }\n",
       "\n",
       "    .dataframe thead th {\n",
       "        text-align: right;\n",
       "    }\n",
       "</style>\n",
       "<table border=\"1\" class=\"dataframe\">\n",
       "  <thead>\n",
       "    <tr style=\"text-align: right;\">\n",
       "      <th></th>\n",
       "      <th>order_id</th>\n",
       "      <th>user_id</th>\n",
       "      <th>created_dt_msk</th>\n",
       "      <th>created_ts_msk</th>\n",
       "      <th>event_id</th>\n",
       "      <th>cinema_circuit</th>\n",
       "      <th>age_limit</th>\n",
       "      <th>currency_code</th>\n",
       "      <th>device_type_canonical</th>\n",
       "      <th>revenue</th>\n",
       "      <th>service_name</th>\n",
       "      <th>tickets_count</th>\n",
       "      <th>total</th>\n",
       "      <th>days_since_prev</th>\n",
       "    </tr>\n",
       "  </thead>\n",
       "  <tbody>\n",
       "    <tr>\n",
       "      <th>0</th>\n",
       "      <td>4359165</td>\n",
       "      <td>0002849b70a3ce2</td>\n",
       "      <td>2024-08-20</td>\n",
       "      <td>2024-08-20 16:08:03</td>\n",
       "      <td>169230</td>\n",
       "      <td>нет</td>\n",
       "      <td>16</td>\n",
       "      <td>rub</td>\n",
       "      <td>mobile</td>\n",
       "      <td>1521.94</td>\n",
       "      <td>Край билетов</td>\n",
       "      <td>4</td>\n",
       "      <td>10870.99</td>\n",
       "      <td>NaN</td>\n",
       "    </tr>\n",
       "    <tr>\n",
       "      <th>1</th>\n",
       "      <td>7965605</td>\n",
       "      <td>0005ca5e93f2cf4</td>\n",
       "      <td>2024-07-23</td>\n",
       "      <td>2024-07-23 18:36:24</td>\n",
       "      <td>237325</td>\n",
       "      <td>нет</td>\n",
       "      <td>0</td>\n",
       "      <td>rub</td>\n",
       "      <td>mobile</td>\n",
       "      <td>289.45</td>\n",
       "      <td>Мой билет</td>\n",
       "      <td>2</td>\n",
       "      <td>2067.51</td>\n",
       "      <td>NaN</td>\n",
       "    </tr>\n",
       "    <tr>\n",
       "      <th>2</th>\n",
       "      <td>7292370</td>\n",
       "      <td>0005ca5e93f2cf4</td>\n",
       "      <td>2024-10-06</td>\n",
       "      <td>2024-10-06 13:56:02</td>\n",
       "      <td>578454</td>\n",
       "      <td>нет</td>\n",
       "      <td>0</td>\n",
       "      <td>rub</td>\n",
       "      <td>mobile</td>\n",
       "      <td>1258.57</td>\n",
       "      <td>За билетом!</td>\n",
       "      <td>4</td>\n",
       "      <td>13984.16</td>\n",
       "      <td>75.0</td>\n",
       "    </tr>\n",
       "    <tr>\n",
       "      <th>3</th>\n",
       "      <td>1139875</td>\n",
       "      <td>000898990054619</td>\n",
       "      <td>2024-07-13</td>\n",
       "      <td>2024-07-13 19:40:48</td>\n",
       "      <td>387271</td>\n",
       "      <td>нет</td>\n",
       "      <td>0</td>\n",
       "      <td>rub</td>\n",
       "      <td>mobile</td>\n",
       "      <td>8.49</td>\n",
       "      <td>Лови билет!</td>\n",
       "      <td>2</td>\n",
       "      <td>212.28</td>\n",
       "      <td>NaN</td>\n",
       "    </tr>\n",
       "    <tr>\n",
       "      <th>4</th>\n",
       "      <td>972400</td>\n",
       "      <td>000898990054619</td>\n",
       "      <td>2024-10-04</td>\n",
       "      <td>2024-10-04 22:33:15</td>\n",
       "      <td>509453</td>\n",
       "      <td>нет</td>\n",
       "      <td>18</td>\n",
       "      <td>rub</td>\n",
       "      <td>mobile</td>\n",
       "      <td>1390.41</td>\n",
       "      <td>Билеты без проблем</td>\n",
       "      <td>3</td>\n",
       "      <td>10695.43</td>\n",
       "      <td>83.0</td>\n",
       "    </tr>\n",
       "  </tbody>\n",
       "</table>\n",
       "</div>"
      ],
      "text/plain": [
       "   order_id          user_id created_dt_msk       created_ts_msk  event_id  \\\n",
       "0   4359165  0002849b70a3ce2     2024-08-20  2024-08-20 16:08:03    169230   \n",
       "1   7965605  0005ca5e93f2cf4     2024-07-23  2024-07-23 18:36:24    237325   \n",
       "2   7292370  0005ca5e93f2cf4     2024-10-06  2024-10-06 13:56:02    578454   \n",
       "3   1139875  000898990054619     2024-07-13  2024-07-13 19:40:48    387271   \n",
       "4    972400  000898990054619     2024-10-04  2024-10-04 22:33:15    509453   \n",
       "\n",
       "  cinema_circuit  age_limit currency_code device_type_canonical  revenue  \\\n",
       "0            нет         16           rub                mobile  1521.94   \n",
       "1            нет          0           rub                mobile   289.45   \n",
       "2            нет          0           rub                mobile  1258.57   \n",
       "3            нет          0           rub                mobile     8.49   \n",
       "4            нет         18           rub                mobile  1390.41   \n",
       "\n",
       "         service_name  tickets_count     total  days_since_prev  \n",
       "0        Край билетов              4  10870.99              NaN  \n",
       "1           Мой билет              2   2067.51              NaN  \n",
       "2         За билетом!              4  13984.16             75.0  \n",
       "3         Лови билет!              2    212.28              NaN  \n",
       "4  Билеты без проблем              3  10695.43             83.0  "
      ]
     },
     "execution_count": 2,
     "metadata": {},
     "output_type": "execute_result"
    }
   ],
   "source": [
    "#загружаем и просматриваем данные датасета с заказами\n",
    "final_tickets_orders = pd.read_csv('https://code.s3.yandex.net/datasets/final_tickets_orders_df.csv')\n",
    "final_tickets_orders.head(5)"
   ]
  },
  {
   "cell_type": "code",
   "execution_count": 3,
   "metadata": {
    "scrolled": false
   },
   "outputs": [
    {
     "name": "stdout",
     "output_type": "stream",
     "text": [
      "<class 'pandas.core.frame.DataFrame'>\n",
      "RangeIndex: 290849 entries, 0 to 290848\n",
      "Data columns (total 14 columns):\n",
      " #   Column                 Non-Null Count   Dtype  \n",
      "---  ------                 --------------   -----  \n",
      " 0   order_id               290849 non-null  int64  \n",
      " 1   user_id                290849 non-null  object \n",
      " 2   created_dt_msk         290849 non-null  object \n",
      " 3   created_ts_msk         290849 non-null  object \n",
      " 4   event_id               290849 non-null  int64  \n",
      " 5   cinema_circuit         290849 non-null  object \n",
      " 6   age_limit              290849 non-null  int64  \n",
      " 7   currency_code          290849 non-null  object \n",
      " 8   device_type_canonical  290849 non-null  object \n",
      " 9   revenue                290849 non-null  float64\n",
      " 10  service_name           290849 non-null  object \n",
      " 11  tickets_count          290849 non-null  int64  \n",
      " 12  total                  290849 non-null  float64\n",
      " 13  days_since_prev        268909 non-null  float64\n",
      "dtypes: float64(3), int64(4), object(7)\n",
      "memory usage: 31.1+ MB\n"
     ]
    }
   ],
   "source": [
    "#смотрим пропуски\n",
    "final_tickets_orders.info()"
   ]
  },
  {
   "cell_type": "markdown",
   "metadata": {},
   "source": [
    "✅ Датасет содержит 14 столбцов и 290849 строк. Пропуски содержит только поле `days_since_prev`, что является органическим: у части пользователей может не быть предыдущих заказов. "
   ]
  },
  {
   "cell_type": "code",
   "execution_count": 4,
   "metadata": {
    "scrolled": false
   },
   "outputs": [
    {
     "data": {
      "text/html": [
       "<div>\n",
       "<style scoped>\n",
       "    .dataframe tbody tr th:only-of-type {\n",
       "        vertical-align: middle;\n",
       "    }\n",
       "\n",
       "    .dataframe tbody tr th {\n",
       "        vertical-align: top;\n",
       "    }\n",
       "\n",
       "    .dataframe thead th {\n",
       "        text-align: right;\n",
       "    }\n",
       "</style>\n",
       "<table border=\"1\" class=\"dataframe\">\n",
       "  <thead>\n",
       "    <tr style=\"text-align: right;\">\n",
       "      <th></th>\n",
       "      <th>event_id</th>\n",
       "      <th>event_name</th>\n",
       "      <th>event_type_description</th>\n",
       "      <th>event_type_main</th>\n",
       "      <th>organizers</th>\n",
       "      <th>region_name</th>\n",
       "      <th>city_name</th>\n",
       "      <th>city_id</th>\n",
       "      <th>venue_id</th>\n",
       "      <th>venue_name</th>\n",
       "      <th>venue_address</th>\n",
       "    </tr>\n",
       "  </thead>\n",
       "  <tbody>\n",
       "    <tr>\n",
       "      <th>0</th>\n",
       "      <td>4436</td>\n",
       "      <td>e4f26fba-da77-4c61-928a-6c3e434d793f</td>\n",
       "      <td>спектакль</td>\n",
       "      <td>театр</td>\n",
       "      <td>№4893</td>\n",
       "      <td>Североярская область</td>\n",
       "      <td>Озёрск</td>\n",
       "      <td>2</td>\n",
       "      <td>1600</td>\n",
       "      <td>Кладбище искусств \"Проблема\" и партнеры</td>\n",
       "      <td>наб. Загородная, д. 785</td>\n",
       "    </tr>\n",
       "    <tr>\n",
       "      <th>1</th>\n",
       "      <td>5785</td>\n",
       "      <td>5cc08a60-fdea-4186-9bb2-bffc3603fb77</td>\n",
       "      <td>спектакль</td>\n",
       "      <td>театр</td>\n",
       "      <td>№1931</td>\n",
       "      <td>Светополянский округ</td>\n",
       "      <td>Глиноград</td>\n",
       "      <td>54</td>\n",
       "      <td>2196</td>\n",
       "      <td>Лекции по искусству \"Свет\" Групп</td>\n",
       "      <td>ул. Ягодная, д. 942</td>\n",
       "    </tr>\n",
       "    <tr>\n",
       "      <th>2</th>\n",
       "      <td>8817</td>\n",
       "      <td>8e379a89-3a10-4811-ba06-ec22ebebe989</td>\n",
       "      <td>спектакль</td>\n",
       "      <td>театр</td>\n",
       "      <td>№4896</td>\n",
       "      <td>Североярская область</td>\n",
       "      <td>Озёрск</td>\n",
       "      <td>2</td>\n",
       "      <td>4043</td>\n",
       "      <td>Кинокомитет \"Золотая\" Инк</td>\n",
       "      <td>ш. Коммуны, д. 92 стр. 6</td>\n",
       "    </tr>\n",
       "    <tr>\n",
       "      <th>3</th>\n",
       "      <td>8849</td>\n",
       "      <td>682e3129-6a32-4952-9d8a-ef7f60d4c247</td>\n",
       "      <td>спектакль</td>\n",
       "      <td>театр</td>\n",
       "      <td>№4960</td>\n",
       "      <td>Каменевский регион</td>\n",
       "      <td>Глиногорск</td>\n",
       "      <td>213</td>\n",
       "      <td>1987</td>\n",
       "      <td>Выставка ремесел \"Свет\" Лтд</td>\n",
       "      <td>пер. Набережный, д. 35</td>\n",
       "    </tr>\n",
       "    <tr>\n",
       "      <th>4</th>\n",
       "      <td>8850</td>\n",
       "      <td>d6e99176-c77f-4af0-9222-07c571f6c624</td>\n",
       "      <td>спектакль</td>\n",
       "      <td>театр</td>\n",
       "      <td>№4770</td>\n",
       "      <td>Лесодальний край</td>\n",
       "      <td>Родниковец</td>\n",
       "      <td>55</td>\n",
       "      <td>4230</td>\n",
       "      <td>Фестивальный проект \"Листья\" Групп</td>\n",
       "      <td>пер. Проезжий, д. 9</td>\n",
       "    </tr>\n",
       "  </tbody>\n",
       "</table>\n",
       "</div>"
      ],
      "text/plain": [
       "   event_id                            event_name event_type_description  \\\n",
       "0      4436  e4f26fba-da77-4c61-928a-6c3e434d793f              спектакль   \n",
       "1      5785  5cc08a60-fdea-4186-9bb2-bffc3603fb77              спектакль   \n",
       "2      8817  8e379a89-3a10-4811-ba06-ec22ebebe989              спектакль   \n",
       "3      8849  682e3129-6a32-4952-9d8a-ef7f60d4c247              спектакль   \n",
       "4      8850  d6e99176-c77f-4af0-9222-07c571f6c624              спектакль   \n",
       "\n",
       "  event_type_main organizers           region_name   city_name  city_id  \\\n",
       "0           театр      №4893  Североярская область      Озёрск        2   \n",
       "1           театр      №1931  Светополянский округ   Глиноград       54   \n",
       "2           театр      №4896  Североярская область      Озёрск        2   \n",
       "3           театр      №4960    Каменевский регион  Глиногорск      213   \n",
       "4           театр      №4770      Лесодальний край  Родниковец       55   \n",
       "\n",
       "   venue_id                               venue_name             venue_address  \n",
       "0      1600  Кладбище искусств \"Проблема\" и партнеры   наб. Загородная, д. 785  \n",
       "1      2196         Лекции по искусству \"Свет\" Групп       ул. Ягодная, д. 942  \n",
       "2      4043                Кинокомитет \"Золотая\" Инк  ш. Коммуны, д. 92 стр. 6  \n",
       "3      1987              Выставка ремесел \"Свет\" Лтд    пер. Набережный, д. 35  \n",
       "4      4230       Фестивальный проект \"Листья\" Групп       пер. Проезжий, д. 9  "
      ]
     },
     "execution_count": 4,
     "metadata": {},
     "output_type": "execute_result"
    }
   ],
   "source": [
    "#загружаем и просматриваем данные датасета с событиями\n",
    "final_tickets_events = pd.read_csv('https://code.s3.yandex.net/datasets/final_tickets_events_df.csv')\n",
    "final_tickets_events.head(5)"
   ]
  },
  {
   "cell_type": "code",
   "execution_count": 5,
   "metadata": {
    "scrolled": true
   },
   "outputs": [
    {
     "name": "stdout",
     "output_type": "stream",
     "text": [
      "<class 'pandas.core.frame.DataFrame'>\n",
      "RangeIndex: 22427 entries, 0 to 22426\n",
      "Data columns (total 11 columns):\n",
      " #   Column                  Non-Null Count  Dtype \n",
      "---  ------                  --------------  ----- \n",
      " 0   event_id                22427 non-null  int64 \n",
      " 1   event_name              22427 non-null  object\n",
      " 2   event_type_description  22427 non-null  object\n",
      " 3   event_type_main         22427 non-null  object\n",
      " 4   organizers              22427 non-null  object\n",
      " 5   region_name             22427 non-null  object\n",
      " 6   city_name               22427 non-null  object\n",
      " 7   city_id                 22427 non-null  int64 \n",
      " 8   venue_id                22427 non-null  int64 \n",
      " 9   venue_name              22427 non-null  object\n",
      " 10  venue_address           22427 non-null  object\n",
      "dtypes: int64(3), object(8)\n",
      "memory usage: 1.9+ MB\n"
     ]
    }
   ],
   "source": [
    "#смотрим пропуски\n",
    "final_tickets_events.info()"
   ]
  },
  {
   "cell_type": "markdown",
   "metadata": {},
   "source": [
    "✅ Датасет содержит 11 столбцов и 22427 строк. Пропусков нет. "
   ]
  },
  {
   "cell_type": "code",
   "execution_count": 6,
   "metadata": {
    "scrolled": false
   },
   "outputs": [
    {
     "data": {
      "text/html": [
       "<div>\n",
       "<style scoped>\n",
       "    .dataframe tbody tr th:only-of-type {\n",
       "        vertical-align: middle;\n",
       "    }\n",
       "\n",
       "    .dataframe tbody tr th {\n",
       "        vertical-align: top;\n",
       "    }\n",
       "\n",
       "    .dataframe thead th {\n",
       "        text-align: right;\n",
       "    }\n",
       "</style>\n",
       "<table border=\"1\" class=\"dataframe\">\n",
       "  <thead>\n",
       "    <tr style=\"text-align: right;\">\n",
       "      <th></th>\n",
       "      <th>data</th>\n",
       "      <th>nominal</th>\n",
       "      <th>curs</th>\n",
       "      <th>cdx</th>\n",
       "    </tr>\n",
       "  </thead>\n",
       "  <tbody>\n",
       "    <tr>\n",
       "      <th>0</th>\n",
       "      <td>2024-01-10</td>\n",
       "      <td>100</td>\n",
       "      <td>19.9391</td>\n",
       "      <td>kzt</td>\n",
       "    </tr>\n",
       "    <tr>\n",
       "      <th>1</th>\n",
       "      <td>2024-01-11</td>\n",
       "      <td>100</td>\n",
       "      <td>19.7255</td>\n",
       "      <td>kzt</td>\n",
       "    </tr>\n",
       "    <tr>\n",
       "      <th>2</th>\n",
       "      <td>2024-01-12</td>\n",
       "      <td>100</td>\n",
       "      <td>19.5839</td>\n",
       "      <td>kzt</td>\n",
       "    </tr>\n",
       "    <tr>\n",
       "      <th>3</th>\n",
       "      <td>2024-01-13</td>\n",
       "      <td>100</td>\n",
       "      <td>19.4501</td>\n",
       "      <td>kzt</td>\n",
       "    </tr>\n",
       "    <tr>\n",
       "      <th>4</th>\n",
       "      <td>2024-01-14</td>\n",
       "      <td>100</td>\n",
       "      <td>19.4501</td>\n",
       "      <td>kzt</td>\n",
       "    </tr>\n",
       "  </tbody>\n",
       "</table>\n",
       "</div>"
      ],
      "text/plain": [
       "         data  nominal     curs  cdx\n",
       "0  2024-01-10      100  19.9391  kzt\n",
       "1  2024-01-11      100  19.7255  kzt\n",
       "2  2024-01-12      100  19.5839  kzt\n",
       "3  2024-01-13      100  19.4501  kzt\n",
       "4  2024-01-14      100  19.4501  kzt"
      ]
     },
     "execution_count": 6,
     "metadata": {},
     "output_type": "execute_result"
    }
   ],
   "source": [
    "#загружаем и просматриваем данные датасета с курсом валют\n",
    "final_tickets_tenge = pd.read_csv('https://code.s3.yandex.net/datasets/final_tickets_tenge_df.csv')\n",
    "final_tickets_tenge.head(5)"
   ]
  },
  {
   "cell_type": "code",
   "execution_count": 7,
   "metadata": {
    "scrolled": true
   },
   "outputs": [
    {
     "name": "stdout",
     "output_type": "stream",
     "text": [
      "<class 'pandas.core.frame.DataFrame'>\n",
      "RangeIndex: 357 entries, 0 to 356\n",
      "Data columns (total 4 columns):\n",
      " #   Column   Non-Null Count  Dtype  \n",
      "---  ------   --------------  -----  \n",
      " 0   data     357 non-null    object \n",
      " 1   nominal  357 non-null    int64  \n",
      " 2   curs     357 non-null    float64\n",
      " 3   cdx      357 non-null    object \n",
      "dtypes: float64(1), int64(1), object(2)\n",
      "memory usage: 11.3+ KB\n"
     ]
    }
   ],
   "source": [
    "#смотрим пропуски\n",
    "final_tickets_tenge.info()"
   ]
  },
  {
   "cell_type": "markdown",
   "metadata": {},
   "source": [
    "✅ Датасет содержит 4 столбца и 357 строк. Пропусков нет."
   ]
  },
  {
   "cell_type": "markdown",
   "metadata": {},
   "source": [
    "Так как для дальнейшей работы нам понадобится объединенный датасет, а также валюта билетов должна быть переведена в рубли, произведем сразу объединение данных. Предобработку сделаем на объединенном датасете. "
   ]
  },
  {
   "cell_type": "code",
   "execution_count": 8,
   "metadata": {},
   "outputs": [],
   "source": [
    "#объединяем датасеты с заказами и мероприятиями \n",
    "final_all_1 = pd.merge(final_tickets_orders, final_tickets_events, how='left', on='event_id')"
   ]
  },
  {
   "cell_type": "code",
   "execution_count": 9,
   "metadata": {},
   "outputs": [],
   "source": [
    "#присоединим датасета с курсом тенге к рублю\n",
    "final_all = pd.merge(final_all_1, final_tickets_tenge, how='left', left_on='created_dt_msk', right_on='data')"
   ]
  },
  {
   "cell_type": "code",
   "execution_count": 10,
   "metadata": {
    "scrolled": true
   },
   "outputs": [
    {
     "data": {
      "text/html": [
       "<div>\n",
       "<style scoped>\n",
       "    .dataframe tbody tr th:only-of-type {\n",
       "        vertical-align: middle;\n",
       "    }\n",
       "\n",
       "    .dataframe tbody tr th {\n",
       "        vertical-align: top;\n",
       "    }\n",
       "\n",
       "    .dataframe thead th {\n",
       "        text-align: right;\n",
       "    }\n",
       "</style>\n",
       "<table border=\"1\" class=\"dataframe\">\n",
       "  <thead>\n",
       "    <tr style=\"text-align: right;\">\n",
       "      <th></th>\n",
       "      <th>order_id</th>\n",
       "      <th>user_id</th>\n",
       "      <th>created_dt_msk</th>\n",
       "      <th>created_ts_msk</th>\n",
       "      <th>event_id</th>\n",
       "      <th>cinema_circuit</th>\n",
       "      <th>age_limit</th>\n",
       "      <th>currency_code</th>\n",
       "      <th>device_type_canonical</th>\n",
       "      <th>revenue</th>\n",
       "      <th>...</th>\n",
       "      <th>region_name</th>\n",
       "      <th>city_name</th>\n",
       "      <th>city_id</th>\n",
       "      <th>venue_id</th>\n",
       "      <th>venue_name</th>\n",
       "      <th>venue_address</th>\n",
       "      <th>data</th>\n",
       "      <th>nominal</th>\n",
       "      <th>curs</th>\n",
       "      <th>cdx</th>\n",
       "    </tr>\n",
       "  </thead>\n",
       "  <tbody>\n",
       "    <tr>\n",
       "      <th>0</th>\n",
       "      <td>4359165</td>\n",
       "      <td>0002849b70a3ce2</td>\n",
       "      <td>2024-08-20</td>\n",
       "      <td>2024-08-20 16:08:03</td>\n",
       "      <td>169230</td>\n",
       "      <td>нет</td>\n",
       "      <td>16</td>\n",
       "      <td>rub</td>\n",
       "      <td>mobile</td>\n",
       "      <td>1521.94</td>\n",
       "      <td>...</td>\n",
       "      <td>Каменевский регион</td>\n",
       "      <td>Глиногорск</td>\n",
       "      <td>213.0</td>\n",
       "      <td>3972.0</td>\n",
       "      <td>Сценический центр \"Деталь\" Групп</td>\n",
       "      <td>алл. Машиностроителей, д. 19 стр. 6</td>\n",
       "      <td>2024-08-20</td>\n",
       "      <td>100</td>\n",
       "      <td>18.6972</td>\n",
       "      <td>kzt</td>\n",
       "    </tr>\n",
       "    <tr>\n",
       "      <th>1</th>\n",
       "      <td>7965605</td>\n",
       "      <td>0005ca5e93f2cf4</td>\n",
       "      <td>2024-07-23</td>\n",
       "      <td>2024-07-23 18:36:24</td>\n",
       "      <td>237325</td>\n",
       "      <td>нет</td>\n",
       "      <td>0</td>\n",
       "      <td>rub</td>\n",
       "      <td>mobile</td>\n",
       "      <td>289.45</td>\n",
       "      <td>...</td>\n",
       "      <td>Каменевский регион</td>\n",
       "      <td>Глиногорск</td>\n",
       "      <td>213.0</td>\n",
       "      <td>2941.0</td>\n",
       "      <td>Музыкальная школа для детей \"Аккаунт\" Лтд</td>\n",
       "      <td>алл. Шмидта, д. 9 стр. 4</td>\n",
       "      <td>2024-07-23</td>\n",
       "      <td>100</td>\n",
       "      <td>18.3419</td>\n",
       "      <td>kzt</td>\n",
       "    </tr>\n",
       "    <tr>\n",
       "      <th>2</th>\n",
       "      <td>7292370</td>\n",
       "      <td>0005ca5e93f2cf4</td>\n",
       "      <td>2024-10-06</td>\n",
       "      <td>2024-10-06 13:56:02</td>\n",
       "      <td>578454</td>\n",
       "      <td>нет</td>\n",
       "      <td>0</td>\n",
       "      <td>rub</td>\n",
       "      <td>mobile</td>\n",
       "      <td>1258.57</td>\n",
       "      <td>...</td>\n",
       "      <td>Каменевский регион</td>\n",
       "      <td>Глиногорск</td>\n",
       "      <td>213.0</td>\n",
       "      <td>4507.0</td>\n",
       "      <td>Училище искусств \"Нирвана\" Инк</td>\n",
       "      <td>алл. Юбилейная, д. 5/6</td>\n",
       "      <td>2024-10-06</td>\n",
       "      <td>100</td>\n",
       "      <td>19.6475</td>\n",
       "      <td>kzt</td>\n",
       "    </tr>\n",
       "    <tr>\n",
       "      <th>3</th>\n",
       "      <td>1139875</td>\n",
       "      <td>000898990054619</td>\n",
       "      <td>2024-07-13</td>\n",
       "      <td>2024-07-13 19:40:48</td>\n",
       "      <td>387271</td>\n",
       "      <td>нет</td>\n",
       "      <td>0</td>\n",
       "      <td>rub</td>\n",
       "      <td>mobile</td>\n",
       "      <td>8.49</td>\n",
       "      <td>...</td>\n",
       "      <td>Североярская область</td>\n",
       "      <td>Озёрск</td>\n",
       "      <td>2.0</td>\n",
       "      <td>3574.0</td>\n",
       "      <td>Театр альтернативного искусства \"Ода\" Лимитед</td>\n",
       "      <td>алл. Есенина, д. 243 к. 3/8</td>\n",
       "      <td>2024-07-13</td>\n",
       "      <td>100</td>\n",
       "      <td>18.5010</td>\n",
       "      <td>kzt</td>\n",
       "    </tr>\n",
       "    <tr>\n",
       "      <th>4</th>\n",
       "      <td>972400</td>\n",
       "      <td>000898990054619</td>\n",
       "      <td>2024-10-04</td>\n",
       "      <td>2024-10-04 22:33:15</td>\n",
       "      <td>509453</td>\n",
       "      <td>нет</td>\n",
       "      <td>18</td>\n",
       "      <td>rub</td>\n",
       "      <td>mobile</td>\n",
       "      <td>1390.41</td>\n",
       "      <td>...</td>\n",
       "      <td>Озернинский край</td>\n",
       "      <td>Родниковецк</td>\n",
       "      <td>240.0</td>\n",
       "      <td>1896.0</td>\n",
       "      <td>Театр кукол \"Огни\" Инкорпорэйтед</td>\n",
       "      <td>ш. Набережное, д. 595 стр. 8</td>\n",
       "      <td>2024-10-04</td>\n",
       "      <td>100</td>\n",
       "      <td>19.6648</td>\n",
       "      <td>kzt</td>\n",
       "    </tr>\n",
       "  </tbody>\n",
       "</table>\n",
       "<p>5 rows × 28 columns</p>\n",
       "</div>"
      ],
      "text/plain": [
       "   order_id          user_id created_dt_msk       created_ts_msk  event_id  \\\n",
       "0   4359165  0002849b70a3ce2     2024-08-20  2024-08-20 16:08:03    169230   \n",
       "1   7965605  0005ca5e93f2cf4     2024-07-23  2024-07-23 18:36:24    237325   \n",
       "2   7292370  0005ca5e93f2cf4     2024-10-06  2024-10-06 13:56:02    578454   \n",
       "3   1139875  000898990054619     2024-07-13  2024-07-13 19:40:48    387271   \n",
       "4    972400  000898990054619     2024-10-04  2024-10-04 22:33:15    509453   \n",
       "\n",
       "  cinema_circuit  age_limit currency_code device_type_canonical  revenue  ...  \\\n",
       "0            нет         16           rub                mobile  1521.94  ...   \n",
       "1            нет          0           rub                mobile   289.45  ...   \n",
       "2            нет          0           rub                mobile  1258.57  ...   \n",
       "3            нет          0           rub                mobile     8.49  ...   \n",
       "4            нет         18           rub                mobile  1390.41  ...   \n",
       "\n",
       "            region_name    city_name  city_id  venue_id  \\\n",
       "0    Каменевский регион   Глиногорск    213.0    3972.0   \n",
       "1    Каменевский регион   Глиногорск    213.0    2941.0   \n",
       "2    Каменевский регион   Глиногорск    213.0    4507.0   \n",
       "3  Североярская область       Озёрск      2.0    3574.0   \n",
       "4      Озернинский край  Родниковецк    240.0    1896.0   \n",
       "\n",
       "                                      venue_name  \\\n",
       "0               Сценический центр \"Деталь\" Групп   \n",
       "1      Музыкальная школа для детей \"Аккаунт\" Лтд   \n",
       "2                 Училище искусств \"Нирвана\" Инк   \n",
       "3  Театр альтернативного искусства \"Ода\" Лимитед   \n",
       "4               Театр кукол \"Огни\" Инкорпорэйтед   \n",
       "\n",
       "                         venue_address        data nominal     curs  cdx  \n",
       "0  алл. Машиностроителей, д. 19 стр. 6  2024-08-20     100  18.6972  kzt  \n",
       "1             алл. Шмидта, д. 9 стр. 4  2024-07-23     100  18.3419  kzt  \n",
       "2               алл. Юбилейная, д. 5/6  2024-10-06     100  19.6475  kzt  \n",
       "3          алл. Есенина, д. 243 к. 3/8  2024-07-13     100  18.5010  kzt  \n",
       "4         ш. Набережное, д. 595 стр. 8  2024-10-04     100  19.6648  kzt  \n",
       "\n",
       "[5 rows x 28 columns]"
      ]
     },
     "execution_count": 10,
     "metadata": {},
     "output_type": "execute_result"
    }
   ],
   "source": [
    "#просмотрим итоговый датасет\n",
    "final_all.head(5)"
   ]
  },
  {
   "cell_type": "markdown",
   "metadata": {},
   "source": [
    "✅ Данные объединены, можно проводить предобработку."
   ]
  },
  {
   "cell_type": "markdown",
   "metadata": {},
   "source": [
    "### Преобразование форматов.\n"
   ]
  },
  {
   "cell_type": "code",
   "execution_count": 11,
   "metadata": {},
   "outputs": [
    {
     "name": "stdout",
     "output_type": "stream",
     "text": [
      "<class 'pandas.core.frame.DataFrame'>\n",
      "Int64Index: 290849 entries, 0 to 290848\n",
      "Data columns (total 28 columns):\n",
      " #   Column                  Non-Null Count   Dtype  \n",
      "---  ------                  --------------   -----  \n",
      " 0   order_id                290849 non-null  int64  \n",
      " 1   user_id                 290849 non-null  object \n",
      " 2   created_dt_msk          290849 non-null  object \n",
      " 3   created_ts_msk          290849 non-null  object \n",
      " 4   event_id                290849 non-null  int64  \n",
      " 5   cinema_circuit          290849 non-null  object \n",
      " 6   age_limit               290849 non-null  int64  \n",
      " 7   currency_code           290849 non-null  object \n",
      " 8   device_type_canonical   290849 non-null  object \n",
      " 9   revenue                 290849 non-null  float64\n",
      " 10  service_name            290849 non-null  object \n",
      " 11  tickets_count           290849 non-null  int64  \n",
      " 12  total                   290849 non-null  float64\n",
      " 13  days_since_prev         268909 non-null  float64\n",
      " 14  event_name              290611 non-null  object \n",
      " 15  event_type_description  290611 non-null  object \n",
      " 16  event_type_main         290611 non-null  object \n",
      " 17  organizers              290611 non-null  object \n",
      " 18  region_name             290611 non-null  object \n",
      " 19  city_name               290611 non-null  object \n",
      " 20  city_id                 290611 non-null  float64\n",
      " 21  venue_id                290611 non-null  float64\n",
      " 22  venue_name              290611 non-null  object \n",
      " 23  venue_address           290611 non-null  object \n",
      " 24  data                    290849 non-null  object \n",
      " 25  nominal                 290849 non-null  int64  \n",
      " 26  curs                    290849 non-null  float64\n",
      " 27  cdx                     290849 non-null  object \n",
      "dtypes: float64(6), int64(5), object(17)\n",
      "memory usage: 64.4+ MB\n"
     ]
    }
   ],
   "source": [
    "#проверяем типы данных\n",
    "final_all.info()"
   ]
  },
  {
   "cell_type": "markdown",
   "metadata": {},
   "source": [
    "**Итоговый датасет содержит 29 столбцов и и 290849 строк.**\n",
    "\n",
    "Значительная доля пропусков (7,5%) есть только в столбце `days_since_prev`, что является органическим: у покупателя может не быть предыдущих покупок. Заменять на 0 в данном случае некорректно, так как данные уже содержат нули, которые означают, что повторная покупка была совершена в тот же день. Поэтому оставим эти пропуски как есть.\n",
    "\n",
    "Также у части данных (менее 1%) после объединения отсутствует детальная информация о мероприятиях (название, город и тд), но так как этих пропусков очень мало, то никак обрабатывать их не будем.\n",
    "\n",
    "По типам данным: в целом, столбцы имеют корректные типы данных, с которыми можно работать, но для корректности и оптимизации можно: \n",
    "\n",
    "* привести `created_dt_msk`и `created_dt_msk` к типам даты и времени,\n",
    "* понизить разрядность у полей `age_limit`, `tickets_count`, `nominal`."
   ]
  },
  {
   "cell_type": "code",
   "execution_count": 12,
   "metadata": {},
   "outputs": [],
   "source": [
    "#преобразуем форматы \n",
    "\n",
    "final_all['created_dt_msk'] = pd.to_datetime(final_all['created_dt_msk'])\n",
    "final_all['created_ts_msk'] = pd.to_datetime(final_all['created_ts_msk'])\n",
    "\n",
    "final_all['age_limit'] = final_all['age_limit'].astype('int8')\n",
    "final_all['tickets_count'] = final_all['tickets_count'].astype('int8')\n",
    "final_all['nominal'] = final_all['nominal'].astype('int8')\n"
   ]
  },
  {
   "cell_type": "code",
   "execution_count": 13,
   "metadata": {
    "scrolled": true
   },
   "outputs": [
    {
     "name": "stdout",
     "output_type": "stream",
     "text": [
      "<class 'pandas.core.frame.DataFrame'>\n",
      "Int64Index: 290849 entries, 0 to 290848\n",
      "Data columns (total 28 columns):\n",
      " #   Column                  Non-Null Count   Dtype         \n",
      "---  ------                  --------------   -----         \n",
      " 0   order_id                290849 non-null  int64         \n",
      " 1   user_id                 290849 non-null  object        \n",
      " 2   created_dt_msk          290849 non-null  datetime64[ns]\n",
      " 3   created_ts_msk          290849 non-null  datetime64[ns]\n",
      " 4   event_id                290849 non-null  int64         \n",
      " 5   cinema_circuit          290849 non-null  object        \n",
      " 6   age_limit               290849 non-null  int8          \n",
      " 7   currency_code           290849 non-null  object        \n",
      " 8   device_type_canonical   290849 non-null  object        \n",
      " 9   revenue                 290849 non-null  float64       \n",
      " 10  service_name            290849 non-null  object        \n",
      " 11  tickets_count           290849 non-null  int8          \n",
      " 12  total                   290849 non-null  float64       \n",
      " 13  days_since_prev         268909 non-null  float64       \n",
      " 14  event_name              290611 non-null  object        \n",
      " 15  event_type_description  290611 non-null  object        \n",
      " 16  event_type_main         290611 non-null  object        \n",
      " 17  organizers              290611 non-null  object        \n",
      " 18  region_name             290611 non-null  object        \n",
      " 19  city_name               290611 non-null  object        \n",
      " 20  city_id                 290611 non-null  float64       \n",
      " 21  venue_id                290611 non-null  float64       \n",
      " 22  venue_name              290611 non-null  object        \n",
      " 23  venue_address           290611 non-null  object        \n",
      " 24  data                    290849 non-null  object        \n",
      " 25  nominal                 290849 non-null  int8          \n",
      " 26  curs                    290849 non-null  float64       \n",
      " 27  cdx                     290849 non-null  object        \n",
      "dtypes: datetime64[ns](2), float64(6), int64(2), int8(3), object(15)\n",
      "memory usage: 58.5+ MB\n"
     ]
    }
   ],
   "source": [
    "#проверка преобразования\n",
    "final_all.info()"
   ]
  },
  {
   "cell_type": "markdown",
   "metadata": {},
   "source": [
    "###  Создание дополнительных столбцов для анализа. \n"
   ]
  },
  {
   "cell_type": "markdown",
   "metadata": {},
   "source": [
    "Далее создадим нужные для анализа и дальнейшей работы столбцы. "
   ]
  },
  {
   "cell_type": "code",
   "execution_count": 14,
   "metadata": {},
   "outputs": [],
   "source": [
    "#создаем столбец revenue_rub (выручка с заказа в рублях)\n",
    "#напишем функцию, которая будет переводить тенге в рубли по соответствующему курсу \n",
    "def convert_currency(row):\n",
    "    if row['currency_code'] == row['cdx']:\n",
    "        return round(row['revenue'] / row['nominal'] * row['curs'], 2)\n",
    "    else:\n",
    "        return row['revenue']\n",
    "\n",
    "#применяем построчно к нашему датасету\n",
    "final_all['revenue_rub'] = final_all.apply(convert_currency, axis=1)"
   ]
  },
  {
   "cell_type": "code",
   "execution_count": 15,
   "metadata": {},
   "outputs": [],
   "source": [
    "#создаем столбец one_ticket_revenue_rub (выручка с продажи одного билета)\n",
    "final_all['one_ticket_revenue_rub'] = round(final_all['revenue_rub'] / final_all['tickets_count'],2)"
   ]
  },
  {
   "cell_type": "code",
   "execution_count": 16,
   "metadata": {},
   "outputs": [],
   "source": [
    "#создаем столбец month (месяц оформления заказа)\n",
    "final_all['month'] = final_all['created_dt_msk'].dt.month"
   ]
  },
  {
   "cell_type": "code",
   "execution_count": 17,
   "metadata": {},
   "outputs": [],
   "source": [
    "#создаем столбец season (категории сезонности)\n",
    "#напишем функцию, которая будет определять сезон в зависимости от номера месяца \n",
    "def seasons(row):\n",
    "    if 3 <= row['month'] <= 5:\n",
    "        return \"весна\"\n",
    "    elif 6 <= row['month'] <= 8:\n",
    "        return \"лето\"\n",
    "    elif 9 <= row['month'] <= 11:\n",
    "        return \"осень\"\n",
    "    else:\n",
    "        return \"зима\"\n",
    "#применяем построчно к нашему датасету   \n",
    "final_all['season'] = final_all.apply(seasons, axis=1)"
   ]
  },
  {
   "cell_type": "code",
   "execution_count": 18,
   "metadata": {
    "scrolled": false
   },
   "outputs": [
    {
     "data": {
      "text/html": [
       "<div>\n",
       "<style scoped>\n",
       "    .dataframe tbody tr th:only-of-type {\n",
       "        vertical-align: middle;\n",
       "    }\n",
       "\n",
       "    .dataframe tbody tr th {\n",
       "        vertical-align: top;\n",
       "    }\n",
       "\n",
       "    .dataframe thead th {\n",
       "        text-align: right;\n",
       "    }\n",
       "</style>\n",
       "<table border=\"1\" class=\"dataframe\">\n",
       "  <thead>\n",
       "    <tr style=\"text-align: right;\">\n",
       "      <th></th>\n",
       "      <th>order_id</th>\n",
       "      <th>user_id</th>\n",
       "      <th>created_dt_msk</th>\n",
       "      <th>created_ts_msk</th>\n",
       "      <th>event_id</th>\n",
       "      <th>cinema_circuit</th>\n",
       "      <th>age_limit</th>\n",
       "      <th>currency_code</th>\n",
       "      <th>device_type_canonical</th>\n",
       "      <th>revenue</th>\n",
       "      <th>...</th>\n",
       "      <th>venue_name</th>\n",
       "      <th>venue_address</th>\n",
       "      <th>data</th>\n",
       "      <th>nominal</th>\n",
       "      <th>curs</th>\n",
       "      <th>cdx</th>\n",
       "      <th>revenue_rub</th>\n",
       "      <th>one_ticket_revenue_rub</th>\n",
       "      <th>month</th>\n",
       "      <th>season</th>\n",
       "    </tr>\n",
       "  </thead>\n",
       "  <tbody>\n",
       "    <tr>\n",
       "      <th>0</th>\n",
       "      <td>4359165</td>\n",
       "      <td>0002849b70a3ce2</td>\n",
       "      <td>2024-08-20</td>\n",
       "      <td>2024-08-20 16:08:03</td>\n",
       "      <td>169230</td>\n",
       "      <td>нет</td>\n",
       "      <td>16</td>\n",
       "      <td>rub</td>\n",
       "      <td>mobile</td>\n",
       "      <td>1521.94</td>\n",
       "      <td>...</td>\n",
       "      <td>Сценический центр \"Деталь\" Групп</td>\n",
       "      <td>алл. Машиностроителей, д. 19 стр. 6</td>\n",
       "      <td>2024-08-20</td>\n",
       "      <td>100</td>\n",
       "      <td>18.6972</td>\n",
       "      <td>kzt</td>\n",
       "      <td>1521.94</td>\n",
       "      <td>380.48</td>\n",
       "      <td>8</td>\n",
       "      <td>лето</td>\n",
       "    </tr>\n",
       "    <tr>\n",
       "      <th>1</th>\n",
       "      <td>7965605</td>\n",
       "      <td>0005ca5e93f2cf4</td>\n",
       "      <td>2024-07-23</td>\n",
       "      <td>2024-07-23 18:36:24</td>\n",
       "      <td>237325</td>\n",
       "      <td>нет</td>\n",
       "      <td>0</td>\n",
       "      <td>rub</td>\n",
       "      <td>mobile</td>\n",
       "      <td>289.45</td>\n",
       "      <td>...</td>\n",
       "      <td>Музыкальная школа для детей \"Аккаунт\" Лтд</td>\n",
       "      <td>алл. Шмидта, д. 9 стр. 4</td>\n",
       "      <td>2024-07-23</td>\n",
       "      <td>100</td>\n",
       "      <td>18.3419</td>\n",
       "      <td>kzt</td>\n",
       "      <td>289.45</td>\n",
       "      <td>144.72</td>\n",
       "      <td>7</td>\n",
       "      <td>лето</td>\n",
       "    </tr>\n",
       "    <tr>\n",
       "      <th>2</th>\n",
       "      <td>7292370</td>\n",
       "      <td>0005ca5e93f2cf4</td>\n",
       "      <td>2024-10-06</td>\n",
       "      <td>2024-10-06 13:56:02</td>\n",
       "      <td>578454</td>\n",
       "      <td>нет</td>\n",
       "      <td>0</td>\n",
       "      <td>rub</td>\n",
       "      <td>mobile</td>\n",
       "      <td>1258.57</td>\n",
       "      <td>...</td>\n",
       "      <td>Училище искусств \"Нирвана\" Инк</td>\n",
       "      <td>алл. Юбилейная, д. 5/6</td>\n",
       "      <td>2024-10-06</td>\n",
       "      <td>100</td>\n",
       "      <td>19.6475</td>\n",
       "      <td>kzt</td>\n",
       "      <td>1258.57</td>\n",
       "      <td>314.64</td>\n",
       "      <td>10</td>\n",
       "      <td>осень</td>\n",
       "    </tr>\n",
       "    <tr>\n",
       "      <th>3</th>\n",
       "      <td>1139875</td>\n",
       "      <td>000898990054619</td>\n",
       "      <td>2024-07-13</td>\n",
       "      <td>2024-07-13 19:40:48</td>\n",
       "      <td>387271</td>\n",
       "      <td>нет</td>\n",
       "      <td>0</td>\n",
       "      <td>rub</td>\n",
       "      <td>mobile</td>\n",
       "      <td>8.49</td>\n",
       "      <td>...</td>\n",
       "      <td>Театр альтернативного искусства \"Ода\" Лимитед</td>\n",
       "      <td>алл. Есенина, д. 243 к. 3/8</td>\n",
       "      <td>2024-07-13</td>\n",
       "      <td>100</td>\n",
       "      <td>18.5010</td>\n",
       "      <td>kzt</td>\n",
       "      <td>8.49</td>\n",
       "      <td>4.24</td>\n",
       "      <td>7</td>\n",
       "      <td>лето</td>\n",
       "    </tr>\n",
       "    <tr>\n",
       "      <th>4</th>\n",
       "      <td>972400</td>\n",
       "      <td>000898990054619</td>\n",
       "      <td>2024-10-04</td>\n",
       "      <td>2024-10-04 22:33:15</td>\n",
       "      <td>509453</td>\n",
       "      <td>нет</td>\n",
       "      <td>18</td>\n",
       "      <td>rub</td>\n",
       "      <td>mobile</td>\n",
       "      <td>1390.41</td>\n",
       "      <td>...</td>\n",
       "      <td>Театр кукол \"Огни\" Инкорпорэйтед</td>\n",
       "      <td>ш. Набережное, д. 595 стр. 8</td>\n",
       "      <td>2024-10-04</td>\n",
       "      <td>100</td>\n",
       "      <td>19.6648</td>\n",
       "      <td>kzt</td>\n",
       "      <td>1390.41</td>\n",
       "      <td>463.47</td>\n",
       "      <td>10</td>\n",
       "      <td>осень</td>\n",
       "    </tr>\n",
       "  </tbody>\n",
       "</table>\n",
       "<p>5 rows × 32 columns</p>\n",
       "</div>"
      ],
      "text/plain": [
       "   order_id          user_id created_dt_msk      created_ts_msk  event_id  \\\n",
       "0   4359165  0002849b70a3ce2     2024-08-20 2024-08-20 16:08:03    169230   \n",
       "1   7965605  0005ca5e93f2cf4     2024-07-23 2024-07-23 18:36:24    237325   \n",
       "2   7292370  0005ca5e93f2cf4     2024-10-06 2024-10-06 13:56:02    578454   \n",
       "3   1139875  000898990054619     2024-07-13 2024-07-13 19:40:48    387271   \n",
       "4    972400  000898990054619     2024-10-04 2024-10-04 22:33:15    509453   \n",
       "\n",
       "  cinema_circuit  age_limit currency_code device_type_canonical  revenue  ...  \\\n",
       "0            нет         16           rub                mobile  1521.94  ...   \n",
       "1            нет          0           rub                mobile   289.45  ...   \n",
       "2            нет          0           rub                mobile  1258.57  ...   \n",
       "3            нет          0           rub                mobile     8.49  ...   \n",
       "4            нет         18           rub                mobile  1390.41  ...   \n",
       "\n",
       "                                      venue_name  \\\n",
       "0               Сценический центр \"Деталь\" Групп   \n",
       "1      Музыкальная школа для детей \"Аккаунт\" Лтд   \n",
       "2                 Училище искусств \"Нирвана\" Инк   \n",
       "3  Театр альтернативного искусства \"Ода\" Лимитед   \n",
       "4               Театр кукол \"Огни\" Инкорпорэйтед   \n",
       "\n",
       "                         venue_address        data  nominal     curs  cdx  \\\n",
       "0  алл. Машиностроителей, д. 19 стр. 6  2024-08-20      100  18.6972  kzt   \n",
       "1             алл. Шмидта, д. 9 стр. 4  2024-07-23      100  18.3419  kzt   \n",
       "2               алл. Юбилейная, д. 5/6  2024-10-06      100  19.6475  kzt   \n",
       "3          алл. Есенина, д. 243 к. 3/8  2024-07-13      100  18.5010  kzt   \n",
       "4         ш. Набережное, д. 595 стр. 8  2024-10-04      100  19.6648  kzt   \n",
       "\n",
       "  revenue_rub one_ticket_revenue_rub month season  \n",
       "0     1521.94                 380.48     8   лето  \n",
       "1      289.45                 144.72     7   лето  \n",
       "2     1258.57                 314.64    10  осень  \n",
       "3        8.49                   4.24     7   лето  \n",
       "4     1390.41                 463.47    10  осень  \n",
       "\n",
       "[5 rows x 32 columns]"
      ]
     },
     "execution_count": 18,
     "metadata": {},
     "output_type": "execute_result"
    }
   ],
   "source": [
    "#проверим результат\n",
    "final_all.head()"
   ]
  },
  {
   "cell_type": "markdown",
   "metadata": {},
   "source": [
    "✅ Дополнительные столбцы созданы и добавлены в датасет."
   ]
  },
  {
   "cell_type": "markdown",
   "metadata": {},
   "source": [
    "### Проверка на явные и неявные дубликаты.\n"
   ]
  },
  {
   "cell_type": "markdown",
   "metadata": {},
   "source": [
    "Теперь проверим значения категориальных полей датасета, нет ли там неявных дубликатов. "
   ]
  },
  {
   "cell_type": "code",
   "execution_count": 19,
   "metadata": {},
   "outputs": [
    {
     "data": {
      "text/plain": [
       "array(['нет', 'Другое', 'Киномакс', 'КиноСити', 'Москино', 'ЦентрФильм'],\n",
       "      dtype=object)"
      ]
     },
     "execution_count": 19,
     "metadata": {},
     "output_type": "execute_result"
    }
   ],
   "source": [
    "#проверяем уникальные значения в поле с сетями кинотеатров\n",
    "final_all['cinema_circuit'].unique()"
   ]
  },
  {
   "cell_type": "code",
   "execution_count": 20,
   "metadata": {},
   "outputs": [
    {
     "data": {
      "text/plain": [
       "нет           289451\n",
       "Другое          1261\n",
       "КиноСити         122\n",
       "Москино            7\n",
       "Киномакс           7\n",
       "ЦентрФильм         1\n",
       "Name: cinema_circuit, dtype: int64"
      ]
     },
     "execution_count": 20,
     "metadata": {},
     "output_type": "execute_result"
    }
   ],
   "source": [
    "#посмотрим на распределение по категориям\n",
    "final_all['cinema_circuit'].value_counts()"
   ]
  },
  {
   "cell_type": "markdown",
   "metadata": {},
   "source": [
    "⚠️ В поле с названиями сети кинотеатров, помимо названий, есть значения: `нет` и `Другое`. \n",
    "Наличие значения `нет` корректно, так как не ко всем мероприятиям применим параметр сети кинотеатров. А вот значение `Другое` составляет 90% оставшихся данных, что делает анализ по сетям кинотеатров затруднительным. Просто учтем это на случай, если нам понадобится этот столбец для анализа. "
   ]
  },
  {
   "cell_type": "code",
   "execution_count": 21,
   "metadata": {},
   "outputs": [
    {
     "data": {
      "text/plain": [
       "array(['rub', 'kzt'], dtype=object)"
      ]
     },
     "execution_count": 21,
     "metadata": {},
     "output_type": "execute_result"
    }
   ],
   "source": [
    "#проверяем уникальные значения в поле с валютой\n",
    "final_all['currency_code'].unique()"
   ]
  },
  {
   "cell_type": "markdown",
   "metadata": {},
   "source": [
    "✅ В поле с валютой две категории: рубли и тенге."
   ]
  },
  {
   "cell_type": "code",
   "execution_count": 22,
   "metadata": {},
   "outputs": [
    {
     "data": {
      "text/plain": [
       "array(['mobile', 'desktop'], dtype=object)"
      ]
     },
     "execution_count": 22,
     "metadata": {},
     "output_type": "execute_result"
    }
   ],
   "source": [
    "#проверяем уникальные значения в поле с типами устройств\n",
    "final_all['device_type_canonical'].unique()\n"
   ]
  },
  {
   "cell_type": "markdown",
   "metadata": {},
   "source": [
    "✅ В поле с типом устройств две категории: мобильные и десктоп."
   ]
  },
  {
   "cell_type": "code",
   "execution_count": 23,
   "metadata": {
    "scrolled": false
   },
   "outputs": [
    {
     "data": {
      "text/plain": [
       "['Crazy ticket!',\n",
       " 'Show_ticket',\n",
       " 'Билет по телефону',\n",
       " 'Билеты без проблем',\n",
       " 'Билеты в интернете',\n",
       " 'Билеты в руки',\n",
       " 'Быстробилет',\n",
       " 'Быстрый кассир',\n",
       " 'Весь в билетах',\n",
       " 'Восьмёрка',\n",
       " 'Вперёд!',\n",
       " 'Выступления.ру',\n",
       " 'Городской дом культуры',\n",
       " 'Дом культуры',\n",
       " 'Дырокол',\n",
       " 'За билетом!',\n",
       " 'Зе Бест!',\n",
       " 'КарандашРУ',\n",
       " 'Кино билет',\n",
       " 'Край билетов',\n",
       " 'Лимоны',\n",
       " 'Лови билет!',\n",
       " 'Лучшие билеты',\n",
       " 'Мир касс',\n",
       " 'Мой билет',\n",
       " 'Облачко',\n",
       " 'Прачечная',\n",
       " 'Радио ticket',\n",
       " 'Реестр',\n",
       " 'Росбилет',\n",
       " 'Тебе билет!',\n",
       " 'Телебилет',\n",
       " 'Тех билет',\n",
       " 'Цвет и билет',\n",
       " 'Шоу начинается!',\n",
       " 'Яблоко']"
      ]
     },
     "execution_count": 23,
     "metadata": {},
     "output_type": "execute_result"
    }
   ],
   "source": [
    "#проверяем уникальные значения в поле с названием сервиса (плюс сортировка)\n",
    "sorted(final_all['service_name'].unique())\n"
   ]
  },
  {
   "cell_type": "markdown",
   "metadata": {},
   "source": [
    "✅ В поле с названием сервисов продажи билетов неявных дубликатов с похожими названиями не найдено."
   ]
  },
  {
   "cell_type": "code",
   "execution_count": 24,
   "metadata": {},
   "outputs": [
    {
     "data": {
      "text/plain": [
       "['балет',\n",
       " 'выставка',\n",
       " 'концерт',\n",
       " 'кукольный спектакль',\n",
       " 'музыкальный спектакль',\n",
       " 'мюзикл',\n",
       " 'опера',\n",
       " 'оперетта',\n",
       " 'подарок',\n",
       " 'рок-мюзикл',\n",
       " 'снегурочка',\n",
       " 'событие',\n",
       " 'спектакль',\n",
       " 'спорт',\n",
       " 'спортивное мероприятие',\n",
       " 'фестиваль',\n",
       " 'цирковое шоу',\n",
       " 'шоу',\n",
       " 'экскурсия',\n",
       " 'ёлка']"
      ]
     },
     "execution_count": 24,
     "metadata": {},
     "output_type": "execute_result"
    }
   ],
   "source": [
    "#проверяем уникальные значения в поле с описанием мероприятий (плюс сортировка и удаление пропусков)\n",
    "sorted (final_all['event_type_description'].dropna().unique())\n"
   ]
  },
  {
   "cell_type": "markdown",
   "metadata": {},
   "source": [
    "⚠️ В поле с описанием события обнаружены неявные дубликаты: спорт и спортивное мероприятие. Заменим их на общее название `спортивное мероприятие`.\n",
    "Также есть вопросы к категориям: снегурочка и ёлка, но здесь есть сомнения в том, что это дубликаты, лучше уточнить этот вопрос у заказчика. "
   ]
  },
  {
   "cell_type": "code",
   "execution_count": 25,
   "metadata": {},
   "outputs": [],
   "source": [
    "#меняем название категорий\n",
    "final_all['event_type_description'] = final_all['event_type_description'].replace({'спорт': 'спортивное мероприятие'})\n"
   ]
  },
  {
   "cell_type": "code",
   "execution_count": 26,
   "metadata": {},
   "outputs": [
    {
     "data": {
      "text/plain": [
       "['выставки', 'другое', 'концерты', 'спорт', 'стендап', 'театр', 'ёлки']"
      ]
     },
     "execution_count": 26,
     "metadata": {},
     "output_type": "execute_result"
    }
   ],
   "source": [
    "#проверяем уникальные значения в поле с типом мероприятий (плюс сортировка и удаление пропусков)\n",
    "sorted(final_all['event_type_main'].dropna().unique())\n"
   ]
  },
  {
   "cell_type": "markdown",
   "metadata": {},
   "source": [
    "✅ В поле с типом мероприятия неявных дубликатов нет. \n"
   ]
  },
  {
   "cell_type": "code",
   "execution_count": 27,
   "metadata": {
    "scrolled": false
   },
   "outputs": [
    {
     "data": {
      "text/plain": [
       "['Белоярская область',\n",
       " 'Берестовский округ',\n",
       " 'Берёзовская область',\n",
       " 'Боровлянский край',\n",
       " 'Верховинская область',\n",
       " 'Верхозёрский край',\n",
       " 'Верхоречная область',\n",
       " 'Ветренский регион',\n",
       " 'Вишнёвский край',\n",
       " 'Глиногорская область',\n",
       " 'Голубевский округ',\n",
       " 'Горицветская область',\n",
       " 'Горноземский регион',\n",
       " 'Горностепной регион',\n",
       " 'Дальнеземская область',\n",
       " 'Дальнезорский край',\n",
       " 'Дубравная область',\n",
       " 'Залесский край',\n",
       " 'Заречная область',\n",
       " 'Зеленоградский округ',\n",
       " 'Златопольский округ',\n",
       " 'Золотоключевской край',\n",
       " 'Зоринский регион',\n",
       " 'Каменевский регион',\n",
       " 'Каменичская область',\n",
       " 'Каменноозёрный край',\n",
       " 'Каменноярский край',\n",
       " 'Каменополянский округ',\n",
       " 'Ключеводский округ',\n",
       " 'Кристаловская область',\n",
       " 'Кристальная область',\n",
       " 'Крутоводская область',\n",
       " 'Крутоводский регион',\n",
       " 'Лесноярский край',\n",
       " 'Лесодальний край',\n",
       " 'Лесополянская область',\n",
       " 'Лесостепной край',\n",
       " 'Лесоярская область',\n",
       " 'Луговая область',\n",
       " 'Лугоградская область',\n",
       " 'Малиновая область',\n",
       " 'Малиновоярский округ',\n",
       " 'Медовская область',\n",
       " 'Миропольская область',\n",
       " 'Нежинская область',\n",
       " 'Озернинский край',\n",
       " 'Озернопольская область',\n",
       " 'Островная область',\n",
       " 'Островогорский округ',\n",
       " 'Поленовский край',\n",
       " 'Радужногорская область',\n",
       " 'Радужнопольский край',\n",
       " 'Речиновская область',\n",
       " 'Речицкая область',\n",
       " 'Речицкий регион',\n",
       " 'Ручейковский край',\n",
       " 'Светолесский край',\n",
       " 'Светополянский округ',\n",
       " 'Североключевской округ',\n",
       " 'Североозёрский округ',\n",
       " 'Североярская область',\n",
       " 'Серебринская область',\n",
       " 'Серебряноярский округ',\n",
       " 'Синегорский регион',\n",
       " 'Солнечноземская область',\n",
       " 'Солнечнореченская область',\n",
       " 'Сосноводолинская область',\n",
       " 'Сосновская область',\n",
       " 'Теплоозёрский округ',\n",
       " 'Тепляковская область',\n",
       " 'Тихогорская область',\n",
       " 'Тихолесский край',\n",
       " 'Тихореченская область',\n",
       " 'Травиницкий округ',\n",
       " 'Травяная область',\n",
       " 'Чистогорская область',\n",
       " 'Шанырский регион',\n",
       " 'Широковская область',\n",
       " 'Яблоневская область',\n",
       " 'Ягодиновская область',\n",
       " 'Яснопольский округ']"
      ]
     },
     "execution_count": 27,
     "metadata": {},
     "output_type": "execute_result"
    }
   ],
   "source": [
    "#проверяем уникальные значения в поле с регионами (плюс сортировка и удаление пропусков)\n",
    "sorted(final_all['region_name'].dropna().unique())\n"
   ]
  },
  {
   "cell_type": "markdown",
   "metadata": {},
   "source": [
    "⚠️ Обнаружены два неявных дубликата: Речицкая область/Речицкий регион и Крутоводская область/Крутоводский регион. Так как названия вымышленные, то подтвердить на 100% не получится, но все равно посчитаем эти названия неявными дубликатами и заменим на одно. "
   ]
  },
  {
   "cell_type": "code",
   "execution_count": 28,
   "metadata": {},
   "outputs": [],
   "source": [
    "final_all['region_name'] = final_all['region_name'].replace({'Речицкий регион': 'Речицкая область'})\n",
    "final_all['region_name'] = final_all['region_name'].replace({'Крутоводский регион': 'Крутоводская область'})\n"
   ]
  },
  {
   "cell_type": "markdown",
   "metadata": {},
   "source": [
    "Оставшиеся столбцы (такие как `city_name`, `venue_name`, `venue_address`) уже не являются категориальными, да и для анализа там не понадобятся, поэтому проверять неявные дубликаты в них не будем. \n",
    "\n",
    "Теперь проверим на явные дубликаты."
   ]
  },
  {
   "cell_type": "code",
   "execution_count": 29,
   "metadata": {},
   "outputs": [
    {
     "data": {
      "text/plain": [
       "0"
      ]
     },
     "execution_count": 29,
     "metadata": {},
     "output_type": "execute_result"
    }
   ],
   "source": [
    "final_all.duplicated().sum()"
   ]
  },
  {
   "cell_type": "markdown",
   "metadata": {},
   "source": [
    "✅ Явных дубликатов не обнаружено. \n",
    "\n",
    "Однако, помимо явных и неявных (в названиях категориальных полей) дубликатов, может присутствовать еще один тип дубликатов: когда данные о билетах задублировались, но по какой-то причине им присвоены разные order_id. То есть в таких строках совпадают все данные, кроме order_id. Проверим датасет на такие дубликаты:"
   ]
  },
  {
   "cell_type": "code",
   "execution_count": 30,
   "metadata": {
    "scrolled": false
   },
   "outputs": [
    {
     "data": {
      "text/plain": [
       "58"
      ]
     },
     "execution_count": 30,
     "metadata": {},
     "output_type": "execute_result"
    }
   ],
   "source": [
    "final_all.duplicated(subset=final_all.columns.difference(['order_id']), keep=False).sum()"
   ]
  },
  {
   "cell_type": "markdown",
   "metadata": {},
   "source": [
    "⚠️ Обнаружено 58 скрытых дубликатов. Удалим их, оставив только одно вхождение. "
   ]
  },
  {
   "cell_type": "code",
   "execution_count": 31,
   "metadata": {},
   "outputs": [],
   "source": [
    "final_all_clean = final_all.drop_duplicates(subset=final_all.columns.difference(['order_id']),keep='first')"
   ]
  },
  {
   "cell_type": "code",
   "execution_count": 32,
   "metadata": {},
   "outputs": [
    {
     "data": {
      "text/plain": [
       "(290819, 32)"
      ]
     },
     "execution_count": 32,
     "metadata": {},
     "output_type": "execute_result"
    }
   ],
   "source": [
    "final_all_clean.shape"
   ]
  },
  {
   "cell_type": "markdown",
   "metadata": {},
   "source": [
    "Продолжим предобработку изучением количественных данных. "
   ]
  },
  {
   "cell_type": "markdown",
   "metadata": {},
   "source": [
    "###    Изучение количественных данных, оценка данных на выбросы, обработка.\n"
   ]
  },
  {
   "cell_type": "markdown",
   "metadata": {},
   "source": [
    "Для анализа данных важными показателями являются **выручка с заказа revenue** и **количество билетов в заказе tickets_count**, поэтому проверим данные в этих столбцах. И так как мы уже провели преобразование данных в рубли, то анализировать будем поля `revenue_rub` и `tickets_count`."
   ]
  },
  {
   "cell_type": "code",
   "execution_count": 33,
   "metadata": {
    "scrolled": false
   },
   "outputs": [
    {
     "data": {
      "text/plain": [
       "count    290819.000000\n",
       "mean        555.150649\n",
       "std         875.309591\n",
       "min         -90.760000\n",
       "25%         113.400000\n",
       "50%         350.330000\n",
       "75%         802.050000\n",
       "max       81174.540000\n",
       "Name: revenue_rub, dtype: float64"
      ]
     },
     "execution_count": 33,
     "metadata": {},
     "output_type": "execute_result"
    }
   ],
   "source": [
    "#посмотрим описательную статистику по выручке\n",
    "final_all_clean['revenue_rub'].describe()"
   ]
  },
  {
   "cell_type": "code",
   "execution_count": 34,
   "metadata": {},
   "outputs": [
    {
     "data": {
      "image/png": "[encoded data removed]",
      "text/plain": [
       "<Figure size 864x432 with 1 Axes>"
      ]
     },
     "metadata": {
      "needs_background": "light"
     },
     "output_type": "display_data"
    }
   ],
   "source": [
    "#визуализируем распределение выручки с помощью диаграммы размаха\n",
    "plt.figure(figsize=(12, 6))\n",
    "sns.boxplot(x=final_all_clean['revenue_rub'], color='#556B2F')\n",
    "\n",
    "plt.title('Диаграмма размаха выручки в рублях')\n",
    "plt.xlabel('Выручка, рубли')\n",
    "plt.grid(True)\n",
    "plt.show()"
   ]
  },
  {
   "cell_type": "markdown",
   "metadata": {},
   "source": [
    "⚠️ Данные по выручке (в рублях): \n",
    "\n",
    "* содержат отрицательные значения (возможно, возвраты билетов) \n",
    "* содержат выбросы, среднее значение и медиана существенно отличаются (среднее 555 руб., медиана 350 руб., а стандартное отклонение 875 говорит о большом разбросе данных)\n",
    "* диапазон распределения данных: от -91 руб. до 81175 руб. \n",
    "\n",
    "Разделим выручку на положительные и отрицательные значения, чтобы оценить размер этих групп. "
   ]
  },
  {
   "cell_type": "code",
   "execution_count": 35,
   "metadata": {},
   "outputs": [
    {
     "name": "stdout",
     "output_type": "stream",
     "text": [
      "Возвратов: -949.59 руб. , купленных билетов: 161459365.83 руб.\n"
     ]
    }
   ],
   "source": [
    "revenue_negative = final_all[final_all['revenue_rub'] < 0]['revenue_rub'].sum()\n",
    "revenue_positive = final_all[final_all['revenue_rub'] > 0]['revenue_rub'].sum()\n",
    "\n",
    "print (f'Возвратов: {revenue_negative} руб. , купленных билетов: {revenue_positive:.2f} руб.')"
   ]
  },
  {
   "cell_type": "markdown",
   "metadata": {},
   "source": [
    "Сумма возвратов ничтожно мала относительно общего объема выручки, поэтому можно эти данные отфильтровать. Также, отфильтруем данные по 99 процентилю, чтобы убрать выбросы с «правой» стороны. \n",
    "Но сначала изучим еще данные по количеству билетов в заказе."
   ]
  },
  {
   "cell_type": "code",
   "execution_count": 36,
   "metadata": {
    "scrolled": true
   },
   "outputs": [
    {
     "data": {
      "text/plain": [
       "count    290819.000000\n",
       "mean          2.754256\n",
       "std           1.170461\n",
       "min           1.000000\n",
       "25%           2.000000\n",
       "50%           3.000000\n",
       "75%           4.000000\n",
       "max          57.000000\n",
       "Name: tickets_count, dtype: float64"
      ]
     },
     "execution_count": 36,
     "metadata": {},
     "output_type": "execute_result"
    }
   ],
   "source": [
    "#посмотрим описательную статистику по количеству билетов\n",
    "final_all_clean['tickets_count'].describe()"
   ]
  },
  {
   "cell_type": "code",
   "execution_count": 37,
   "metadata": {},
   "outputs": [
    {
     "data": {
      "image/png": "[encoded data removed]",
      "text/plain": [
       "<Figure size 864x432 with 1 Axes>"
      ]
     },
     "metadata": {
      "needs_background": "light"
     },
     "output_type": "display_data"
    }
   ],
   "source": [
    "#визуализируем распределение количества билетов с помощью диаграммы размаха\n",
    "plt.figure(figsize=(12, 6))\n",
    "sns.boxplot(x=final_all_clean['tickets_count'],color='#556B2F')\n",
    "\n",
    "plt.title('Диаграмма размаха количества билетов в заказе')\n",
    "plt.xlabel('Количество билетов в заказе, шт.')\n",
    "plt.grid(True)\n",
    "plt.show()"
   ]
  },
  {
   "cell_type": "markdown",
   "metadata": {},
   "source": [
    "⚠️ Среднее количество билетов – 2.75, медиана – 3, стандартное отклонение небольшое (1.17), значит, разброс не слишком сильный.\n",
    "Но максимум 57 билетов за раз — это аномально высокое значение, возможно, массовая закупка или ошибка.\n",
    "75-й процентиль равен 4, следовательно, 57 — это явный выброс по сравнению с основной массой данных.\n",
    "Эти данные также отфильтруем по 99-му процентилю. "
   ]
  },
  {
   "cell_type": "code",
   "execution_count": 38,
   "metadata": {},
   "outputs": [],
   "source": [
    "#считаем 99-й процентиль по выручке\n",
    "revenue_q99 = final_all_clean['revenue_rub'].quantile(0.99)\n",
    "#считаем 99-й процентиль по количеству билетов\n",
    "tickets_count_q99 = final_all_clean['tickets_count'].quantile(0.99)\n",
    "\n",
    "#фильтруем данные, оставляя выручку больше 0 и меньше 99-го процентиля и количество билетов меньше 99-го процентиля включительно\n",
    "final_filtered = final_all_clean[\n",
    "    (final_all_clean['revenue_rub'] > 0) & \n",
    "    (final_all_clean['revenue_rub'] <= revenue_q99) &\n",
    "    (final_all_clean['tickets_count'] <= tickets_count_q99)\n",
    "]"
   ]
  },
  {
   "cell_type": "code",
   "execution_count": 39,
   "metadata": {},
   "outputs": [
    {
     "data": {
      "image/png": "[encoded data removed]",
      "text/plain": [
       "<Figure size 864x432 with 1 Axes>"
      ]
     },
     "metadata": {
      "needs_background": "light"
     },
     "output_type": "display_data"
    }
   ],
   "source": [
    "#визуализируем результат фильтрации: распределение выручки на диаграмме размаха\n",
    "plt.figure(figsize=(12, 6))\n",
    "sns.boxplot(x=final_filtered['revenue_rub'],color='#556B2F')\n",
    "\n",
    "plt.title('Диаграмма размаха выручки в рублях')\n",
    "plt.xlabel('Выручка, рубли')\n",
    "plt.grid(True)\n",
    "plt.show()"
   ]
  },
  {
   "cell_type": "code",
   "execution_count": 40,
   "metadata": {},
   "outputs": [
    {
     "data": {
      "image/png": "[encoded data removed]",
      "text/plain": [
       "<Figure size 864x432 with 1 Axes>"
      ]
     },
     "metadata": {
      "needs_background": "light"
     },
     "output_type": "display_data"
    }
   ],
   "source": [
    "#визуализируем результат фильтрации: распределение количества билетов на диаграмме размаха\n",
    "plt.figure(figsize=(12, 6))\n",
    "sns.boxplot(x=final_filtered['tickets_count'], color='#556B2F')\n",
    "\n",
    "plt.title('Диаграмма размаха количества билетов в заказе')\n",
    "plt.xlabel('Количество билетов в заказе, шт.')\n",
    "plt.grid(True)\n",
    "plt.show()"
   ]
  },
  {
   "cell_type": "code",
   "execution_count": 41,
   "metadata": {},
   "outputs": [
    {
     "name": "stdout",
     "output_type": "stream",
     "text": [
      "Всего строк: 290849, после фильтрации осталось: 281703 (96.86%)\n"
     ]
    }
   ],
   "source": [
    "print(f\"Всего строк: {len(final_all)}, после фильтрации осталось: {len(final_filtered)} ({len(final_filtered) / len(final_all) * 100:.2f}%)\")"
   ]
  },
  {
   "cell_type": "markdown",
   "metadata": {},
   "source": [
    "После удаления дубликатов и фильтрации выбросов датасет стал содержать 281703 заполненных строк (отфильтровано 3,14% данных).\n",
    "Итого, в процессе предобработки:\n",
    "\n",
    "* данные объединены в один датасет, \n",
    "* все данные приведены к единой валюте RUB (в соответствии с курсом тенге),\n",
    "* созданы дополнительные столбцы для анализа: `one_ticket_revenue_rub`, `month`, `season`,\n",
    "* преобразованы форматы данных (приведены к типу дата-время, снижена размерность),\n",
    "* проверены и оценены пропуски в данных, \n",
    "* проверены и исправлены неявные дубликаты в категориальных данных,\n",
    "* проверены явные и скрытые дубликаты (удалены),\n",
    "* количественные данные проверены на выбросы и отфильтрованы. \n"
   ]
  },
  {
   "cell_type": "markdown",
   "metadata": {},
   "source": [
    "## Исследовательский анализ данных.\n",
    "\n",
    "### Анализ распределения заказов по сегментам и их сезонных изменений."
   ]
  },
  {
   "cell_type": "markdown",
   "metadata": {},
   "source": [
    "💬 Для каждого месяца найдите количество заказов и визуализируйте результаты. Проверьте, фиксируется ли увеличение заказов от июня к ноябрю 2024 года."
   ]
  },
  {
   "cell_type": "code",
   "execution_count": 42,
   "metadata": {
    "scrolled": false
   },
   "outputs": [
    {
     "data": {
      "image/png": "[encoded data removed]",
      "text/plain": [
       "<Figure size 864x432 with 1 Axes>"
      ]
     },
     "metadata": {
      "needs_background": "light"
     },
     "output_type": "display_data"
    }
   ],
   "source": [
    "#группируем заказы по месяцам\n",
    "orders_per_month = final_filtered.groupby('month')['order_id'].count()\n",
    "\n",
    "#строим линейный график\n",
    "plt.figure(figsize=(12, 6))\n",
    "plt.plot(orders_per_month.index, orders_per_month.values, color='#696969', marker = 'o')\n",
    "plt.title('Количество заказов по месяцам')\n",
    "plt.xlabel('Месяц')\n",
    "plt.ylabel('Количество заказов')\n",
    "plt.grid(axis='y')\n",
    "plt.xticks(range(6, 11)) \n",
    "for i, v in enumerate(orders_per_month.values):\n",
    "    plt.text(orders_per_month.index[i], v, str(v), ha='center', va='bottom')\n",
    "plt.show()"
   ]
  },
  {
   "cell_type": "markdown",
   "metadata": {},
   "source": [
    "Количество заказов растет от июня к октябрю 2024. В осенние месяцы количество заказов кратно отличается от летних."
   ]
  },
  {
   "cell_type": "markdown",
   "metadata": {},
   "source": [
    "💬 Для осеннего и летнего периодов сравните распределение заказов билетов по разным категориям: тип мероприятия, тип устройства, категория мероприятия по возрастному рейтингу."
   ]
  },
  {
   "cell_type": "code",
   "execution_count": 43,
   "metadata": {},
   "outputs": [
    {
     "data": {
      "text/html": [
       "<div>\n",
       "<style scoped>\n",
       "    .dataframe tbody tr th:only-of-type {\n",
       "        vertical-align: middle;\n",
       "    }\n",
       "\n",
       "    .dataframe tbody tr th {\n",
       "        vertical-align: top;\n",
       "    }\n",
       "\n",
       "    .dataframe thead th {\n",
       "        text-align: right;\n",
       "    }\n",
       "</style>\n",
       "<table border=\"1\" class=\"dataframe\">\n",
       "  <thead>\n",
       "    <tr style=\"text-align: right;\">\n",
       "      <th>season</th>\n",
       "      <th>лето</th>\n",
       "      <th>осень</th>\n",
       "    </tr>\n",
       "    <tr>\n",
       "      <th>event_type_main</th>\n",
       "      <th></th>\n",
       "      <th></th>\n",
       "    </tr>\n",
       "  </thead>\n",
       "  <tbody>\n",
       "    <tr>\n",
       "      <th>концерты</th>\n",
       "      <td>43.78</td>\n",
       "      <td>37.43</td>\n",
       "    </tr>\n",
       "    <tr>\n",
       "      <th>другое</th>\n",
       "      <td>25.00</td>\n",
       "      <td>19.40</td>\n",
       "    </tr>\n",
       "    <tr>\n",
       "      <th>театр</th>\n",
       "      <td>20.85</td>\n",
       "      <td>25.43</td>\n",
       "    </tr>\n",
       "    <tr>\n",
       "      <th>стендап</th>\n",
       "      <td>5.58</td>\n",
       "      <td>4.12</td>\n",
       "    </tr>\n",
       "    <tr>\n",
       "      <th>спорт</th>\n",
       "      <td>2.43</td>\n",
       "      <td>11.17</td>\n",
       "    </tr>\n",
       "    <tr>\n",
       "      <th>выставки</th>\n",
       "      <td>2.12</td>\n",
       "      <td>1.43</td>\n",
       "    </tr>\n",
       "    <tr>\n",
       "      <th>ёлки</th>\n",
       "      <td>0.24</td>\n",
       "      <td>1.01</td>\n",
       "    </tr>\n",
       "  </tbody>\n",
       "</table>\n",
       "</div>"
      ],
      "text/plain": [
       "season            лето  осень\n",
       "event_type_main              \n",
       "концерты         43.78  37.43\n",
       "другое           25.00  19.40\n",
       "театр            20.85  25.43\n",
       "стендап           5.58   4.12\n",
       "спорт             2.43  11.17\n",
       "выставки          2.12   1.43\n",
       "ёлки              0.24   1.01"
      ]
     },
     "metadata": {},
     "output_type": "display_data"
    }
   ],
   "source": [
    "#cоздаем сводную таблицу с количеством заказов, сгруппированным по типу мероприятия и сезону\n",
    "orders_per_event_season = final_filtered.pivot_table(\n",
    "    index='event_type_main',\n",
    "    columns='season',\n",
    "    values='order_id',\n",
    "    aggfunc='count'\n",
    ")\n",
    "\n",
    "#считаем доли каждого мероприятия\n",
    "orders_per_event_season_percent = round(orders_per_event_season.divide(orders_per_event_season.sum(axis=0), axis=1)*100,2).sort_values(by='лето', ascending=False)\n",
    "\n",
    "#выводим таблицу на просмотр\n",
    "display(orders_per_event_season_percent)\n"
   ]
  },
  {
   "cell_type": "code",
   "execution_count": 44,
   "metadata": {
    "scrolled": false
   },
   "outputs": [
    {
     "data": {
      "image/png": "[encoded data removed]",
      "text/plain": [
       "<Figure size 864x432 with 1 Axes>"
      ]
     },
     "metadata": {
      "needs_background": "light"
     },
     "output_type": "display_data"
    }
   ],
   "source": [
    "#задаем цветовую схему для диаграммы\n",
    "colors = ['#556B2F', '#D2691E']\n",
    "#строим гистограмму\n",
    "ax = orders_per_event_season_percent.plot(kind='bar', figsize=(12, 6), color = colors)\n",
    "\n",
    "#настройки графика\n",
    "plt.title('Количество заказов по типу мероприятия и сезонам')\n",
    "plt.xlabel('Тип мероприятия')\n",
    "plt.ylabel('Количество заказов')\n",
    "plt.legend(title='Сезон')\n",
    "plt.xticks(rotation=0, ha='right')\n",
    "plt.tight_layout()\n",
    "plt.grid(axis='y')\n",
    "\n",
    "#подписи данных\n",
    "for i, row in enumerate(orders_per_event_season_percent.values):\n",
    "    for j, val in enumerate(row):\n",
    "        ax.text(i + j*0.2 - 0.08, val + 0.5, f'{val:.1f}%', ha='center', va='bottom')\n",
    "\n",
    "#просмотр \n",
    "plt.show()"
   ]
  },
  {
   "cell_type": "markdown",
   "metadata": {},
   "source": [
    "🔻 **Снижение количества заказов осенью**\n",
    "\n",
    "И в летний, и в осенний период **лидер среди мероприятий – концерты**. Однако, осенью продажи билетов на концерты снижаются относительно лета. \n",
    "На втором месте мероприятия из категории «Другое», которые также снижают активность осенью, как «Стендап» и «Выставки». \n",
    "\n",
    "🔺 **Увеличение количества заказов осенью**\n",
    "\n",
    "«Театр», «Спорт», «Ёлки» становятся популярнее с наступлением осени, что связано с факторами сезонности (такими как начало театрального сезона осенью, подготовка к новогодним ёлкам). \n"
   ]
  },
  {
   "cell_type": "code",
   "execution_count": 45,
   "metadata": {},
   "outputs": [
    {
     "data": {
      "text/html": [
       "<div>\n",
       "<style scoped>\n",
       "    .dataframe tbody tr th:only-of-type {\n",
       "        vertical-align: middle;\n",
       "    }\n",
       "\n",
       "    .dataframe tbody tr th {\n",
       "        vertical-align: top;\n",
       "    }\n",
       "\n",
       "    .dataframe thead th {\n",
       "        text-align: right;\n",
       "    }\n",
       "</style>\n",
       "<table border=\"1\" class=\"dataframe\">\n",
       "  <thead>\n",
       "    <tr style=\"text-align: right;\">\n",
       "      <th>season</th>\n",
       "      <th>лето</th>\n",
       "      <th>осень</th>\n",
       "    </tr>\n",
       "    <tr>\n",
       "      <th>device_type_canonical</th>\n",
       "      <th></th>\n",
       "      <th></th>\n",
       "    </tr>\n",
       "  </thead>\n",
       "  <tbody>\n",
       "    <tr>\n",
       "      <th>mobile</th>\n",
       "      <td>80.95</td>\n",
       "      <td>79.62</td>\n",
       "    </tr>\n",
       "    <tr>\n",
       "      <th>desktop</th>\n",
       "      <td>19.05</td>\n",
       "      <td>20.38</td>\n",
       "    </tr>\n",
       "  </tbody>\n",
       "</table>\n",
       "</div>"
      ],
      "text/plain": [
       "season                  лето  осень\n",
       "device_type_canonical              \n",
       "mobile                 80.95  79.62\n",
       "desktop                19.05  20.38"
      ]
     },
     "metadata": {},
     "output_type": "display_data"
    }
   ],
   "source": [
    "#cоздаем сводную таблицу с количеством заказов, сгруппированным по типу устройства и сезону\n",
    "orders_per_device_season = final_filtered.pivot_table(\n",
    "    index='device_type_canonical',\n",
    "    columns='season',\n",
    "    values='order_id',\n",
    "    aggfunc='count'\n",
    ")\n",
    "\n",
    "#считаем доли каждого устройства\n",
    "orders_per_device_season_percent = round(orders_per_device_season.divide(orders_per_device_season.sum(axis=0), axis=1)*100,2).sort_values(by='лето', ascending=False)\n",
    "\n",
    "#выводим таблицу на просмотр\n",
    "display(orders_per_device_season_percent)\n"
   ]
  },
  {
   "cell_type": "code",
   "execution_count": 46,
   "metadata": {
    "scrolled": false
   },
   "outputs": [
    {
     "data": {
      "image/png": "[encoded data removed]",
      "text/plain": [
       "<Figure size 864x432 with 1 Axes>"
      ]
     },
     "metadata": {
      "needs_background": "light"
     },
     "output_type": "display_data"
    }
   ],
   "source": [
    "#строим гистограмму\n",
    "ax1 = orders_per_device_season_percent.plot(kind='bar', figsize=(12, 6), color = colors)\n",
    "\n",
    "#настройки графика\n",
    "plt.title('Количество заказов по типу устройства и сезонам')\n",
    "plt.xlabel('Тип устройства')\n",
    "plt.ylabel('Количество заказов')\n",
    "plt.legend(title='Сезон')\n",
    "plt.xticks(rotation=0, ha='right')\n",
    "plt.tight_layout()\n",
    "plt.grid(axis='y')\n",
    "\n",
    "#подписи данных\n",
    "for i, row in enumerate(orders_per_device_season_percent.values):\n",
    "    for j, val in enumerate(row):\n",
    "        ax1.text(i + j*0.2 - 0.08, val + 0.5, f'{val:.1f}%', ha='center', va='bottom')\n",
    "\n",
    "#просмотр \n",
    "plt.show()"
   ]
  },
  {
   "cell_type": "markdown",
   "metadata": {},
   "source": [
    "Осенью по сравнению с летом:\n",
    "\n",
    "🔻 меньше заказывают с мобильных устройств\n",
    "\n",
    "🔺 больше заказывают с десктопов\n",
    "\n",
    "Однако, доли изменились всего на 0.4%, поэтому можно считать, что фактор сезонности (лето/осень) слабо связан с устройствами пользователей. "
   ]
  },
  {
   "cell_type": "code",
   "execution_count": 47,
   "metadata": {},
   "outputs": [
    {
     "data": {
      "text/html": [
       "<div>\n",
       "<style scoped>\n",
       "    .dataframe tbody tr th:only-of-type {\n",
       "        vertical-align: middle;\n",
       "    }\n",
       "\n",
       "    .dataframe tbody tr th {\n",
       "        vertical-align: top;\n",
       "    }\n",
       "\n",
       "    .dataframe thead th {\n",
       "        text-align: right;\n",
       "    }\n",
       "</style>\n",
       "<table border=\"1\" class=\"dataframe\">\n",
       "  <thead>\n",
       "    <tr style=\"text-align: right;\">\n",
       "      <th>season</th>\n",
       "      <th>лето</th>\n",
       "      <th>осень</th>\n",
       "    </tr>\n",
       "    <tr>\n",
       "      <th>age_limit</th>\n",
       "      <th></th>\n",
       "      <th></th>\n",
       "    </tr>\n",
       "  </thead>\n",
       "  <tbody>\n",
       "    <tr>\n",
       "      <th>16</th>\n",
       "      <td>28.49</td>\n",
       "      <td>26.32</td>\n",
       "    </tr>\n",
       "    <tr>\n",
       "      <th>12</th>\n",
       "      <td>21.03</td>\n",
       "      <td>22.17</td>\n",
       "    </tr>\n",
       "    <tr>\n",
       "      <th>6</th>\n",
       "      <td>18.45</td>\n",
       "      <td>17.72</td>\n",
       "    </tr>\n",
       "    <tr>\n",
       "      <th>0</th>\n",
       "      <td>18.16</td>\n",
       "      <td>23.37</td>\n",
       "    </tr>\n",
       "    <tr>\n",
       "      <th>18</th>\n",
       "      <td>13.87</td>\n",
       "      <td>10.42</td>\n",
       "    </tr>\n",
       "  </tbody>\n",
       "</table>\n",
       "</div>"
      ],
      "text/plain": [
       "season      лето  осень\n",
       "age_limit              \n",
       "16         28.49  26.32\n",
       "12         21.03  22.17\n",
       "6          18.45  17.72\n",
       "0          18.16  23.37\n",
       "18         13.87  10.42"
      ]
     },
     "metadata": {},
     "output_type": "display_data"
    }
   ],
   "source": [
    "#cоздаем сводную таблицу с количеством заказов, сгруппированным по возрастному лимиту и сезону\n",
    "orders_per_age_season = final_filtered.pivot_table(\n",
    "    index='age_limit',\n",
    "    columns='season',\n",
    "    values='order_id',\n",
    "    aggfunc='count'\n",
    ")\n",
    "\n",
    "#считаем доли каждого возрастного лимита\n",
    "orders_per_age_season_percent = round(orders_per_age_season.divide(orders_per_age_season.sum(axis=0), axis=1)*100,2).sort_values(by='лето', ascending=False)\n",
    "\n",
    "#выводим таблицу на просмотр\n",
    "display(orders_per_age_season_percent)"
   ]
  },
  {
   "cell_type": "code",
   "execution_count": 48,
   "metadata": {
    "scrolled": false
   },
   "outputs": [
    {
     "data": {
      "image/png": "[encoded data removed]",
      "text/plain": [
       "<Figure size 864x432 with 1 Axes>"
      ]
     },
     "metadata": {
      "needs_background": "light"
     },
     "output_type": "display_data"
    }
   ],
   "source": [
    "#строим гистограмму\n",
    "ax2 = orders_per_age_season_percent.plot(kind='bar', figsize=(12, 6), color = colors)\n",
    "\n",
    "#настройки графика\n",
    "plt.title('Количество заказов по возрастному рейтингу и сезонам')\n",
    "plt.xlabel('Возрастной рейтинг')\n",
    "plt.ylabel('Количество заказов')\n",
    "plt.legend(title='Сезон')\n",
    "plt.xticks(rotation=0, ha='right')\n",
    "plt.tight_layout()\n",
    "plt.grid(axis='y')\n",
    "\n",
    "#подписи данных\n",
    "for i, row in enumerate(orders_per_age_season_percent.values):\n",
    "    for j, val in enumerate(row):\n",
    "        ax2.text(i + j*0.2 - 0.08, val + 0.5, f'{val:.1f}%', ha='center', va='bottom')\n",
    "\n",
    "#просмотр \n",
    "plt.show()"
   ]
  },
  {
   "cell_type": "markdown",
   "metadata": {},
   "source": [
    "🔺 **Увеличение количества заказов осенью**\n",
    "\n",
    "0+ мероприятия (для всех возрастов, часто детские) заметно увеличили долю выручки осенью — с 18.16% до 23.37%.\n",
    "\n",
    "Небольшой рост 12+, и стабильность 6+ также говорит о фокусе на детские мероприятия в осенний период.\n",
    "\n",
    "\n",
    "🔻 **Снижение количества заказов осенью**\n",
    "\n",
    "Мероприятия 16+ и 18+ осенью снизили долю.\n",
    "\n",
    "\n",
    "Осенью структура выручки смещается в сторону мероприятий для детей и семейной аудитории (0+, 6+, 12+), тогда как взрослые категории (16+, 18+) теряют долю. "
   ]
  },
  {
   "cell_type": "markdown",
   "metadata": {},
   "source": [
    "💬 Изучите изменение выручки с продажи одного билета в зависимости от типа мероприятия летом и осенью. Видна ли динамика средней стоимости билета в разрезе разных категорий мероприятий?"
   ]
  },
  {
   "cell_type": "code",
   "execution_count": 49,
   "metadata": {
    "scrolled": true
   },
   "outputs": [
    {
     "data": {
      "text/html": [
       "<style  type=\"text/css\" >\n",
       "#T_0af10_row0_col2,#T_0af10_row1_col2,#T_0af10_row3_col2,#T_0af10_row4_col2,#T_0af10_row6_col2{\n",
       "            color:  red;\n",
       "        }#T_0af10_row2_col2,#T_0af10_row5_col2{\n",
       "            color:  green;\n",
       "        }</style><table id=\"T_0af10_\" ><thead>    <tr>        <th class=\"index_name level0\" >season</th>        <th class=\"col_heading level0 col0\" >лето</th>        <th class=\"col_heading level0 col1\" >осень</th>        <th class=\"col_heading level0 col2\" >change_%</th>    </tr>    <tr>        <th class=\"index_name level0\" >event_type_main</th>        <th class=\"blank\" ></th>        <th class=\"blank\" ></th>        <th class=\"blank\" ></th>    </tr></thead><tbody>\n",
       "                <tr>\n",
       "                        <th id=\"T_0af10_level0_row0\" class=\"row_heading level0 row0\" >концерты</th>\n",
       "                        <td id=\"T_0af10_row0_col0\" class=\"data row0 col0\" >307.11</td>\n",
       "                        <td id=\"T_0af10_row0_col1\" class=\"data row0 col1\" >269.41</td>\n",
       "                        <td id=\"T_0af10_row0_col2\" class=\"data row0 col2\" >-12.28</td>\n",
       "            </tr>\n",
       "            <tr>\n",
       "                        <th id=\"T_0af10_level0_row1\" class=\"row_heading level0 row1\" >ёлки</th>\n",
       "                        <td id=\"T_0af10_row1_col0\" class=\"data row1 col0\" >271.44</td>\n",
       "                        <td id=\"T_0af10_row1_col1\" class=\"data row1 col1\" >230.29</td>\n",
       "                        <td id=\"T_0af10_row1_col2\" class=\"data row1 col2\" >-15.16</td>\n",
       "            </tr>\n",
       "            <tr>\n",
       "                        <th id=\"T_0af10_level0_row2\" class=\"row_heading level0 row2\" >стендап</th>\n",
       "                        <td id=\"T_0af10_row2_col0\" class=\"data row2 col0\" >218.59</td>\n",
       "                        <td id=\"T_0af10_row2_col1\" class=\"data row2 col1\" >231.47</td>\n",
       "                        <td id=\"T_0af10_row2_col2\" class=\"data row2 col2\" >5.89</td>\n",
       "            </tr>\n",
       "            <tr>\n",
       "                        <th id=\"T_0af10_level0_row3\" class=\"row_heading level0 row3\" >театр</th>\n",
       "                        <td id=\"T_0af10_row3_col0\" class=\"data row3 col0\" >216.66</td>\n",
       "                        <td id=\"T_0af10_row3_col1\" class=\"data row3 col1\" >176.35</td>\n",
       "                        <td id=\"T_0af10_row3_col2\" class=\"data row3 col2\" >-18.60</td>\n",
       "            </tr>\n",
       "            <tr>\n",
       "                        <th id=\"T_0af10_level0_row4\" class=\"row_heading level0 row4\" >другое</th>\n",
       "                        <td id=\"T_0af10_row4_col0\" class=\"data row4 col0\" >87.98</td>\n",
       "                        <td id=\"T_0af10_row4_col1\" class=\"data row4 col1\" >77.37</td>\n",
       "                        <td id=\"T_0af10_row4_col2\" class=\"data row4 col2\" >-12.06</td>\n",
       "            </tr>\n",
       "            <tr>\n",
       "                        <th id=\"T_0af10_level0_row5\" class=\"row_heading level0 row5\" >выставки</th>\n",
       "                        <td id=\"T_0af10_row5_col0\" class=\"data row5 col0\" >86.74</td>\n",
       "                        <td id=\"T_0af10_row5_col1\" class=\"data row5 col1\" >91.90</td>\n",
       "                        <td id=\"T_0af10_row5_col2\" class=\"data row5 col2\" >5.95</td>\n",
       "            </tr>\n",
       "            <tr>\n",
       "                        <th id=\"T_0af10_level0_row6\" class=\"row_heading level0 row6\" >спорт</th>\n",
       "                        <td id=\"T_0af10_row6_col0\" class=\"data row6 col0\" >55.23</td>\n",
       "                        <td id=\"T_0af10_row6_col1\" class=\"data row6 col1\" >50.26</td>\n",
       "                        <td id=\"T_0af10_row6_col2\" class=\"data row6 col2\" >-9.00</td>\n",
       "            </tr>\n",
       "    </tbody></table>"
      ],
      "text/plain": [
       "<pandas.io.formats.style.Styler at 0x7f5a2dbe7fd0>"
      ]
     },
     "metadata": {},
     "output_type": "display_data"
    }
   ],
   "source": [
    "#cоздаем сводную таблицу с выручкой с продажи одного билета, сгруппированным по типу мероприятия и сезону\n",
    "one_ticket_rev_per_event_season = final_filtered.pivot_table(\n",
    "    index='event_type_main',\n",
    "    columns='season',\n",
    "    values='one_ticket_revenue_rub',\n",
    "    aggfunc='mean'\n",
    ").sort_values(by='лето', ascending=False)\n",
    "\n",
    "#считаем относительное изменение (осень относительно лета) в процентах\n",
    "change = ((one_ticket_rev_per_event_season['осень'] - one_ticket_rev_per_event_season['лето']) / \n",
    "                   one_ticket_rev_per_event_season['лето']) * 100\n",
    "\n",
    "\n",
    "#добавляем столбец с относительным изменением к исходной сводной таблице\n",
    "one_ticket_rev_per_event_season['change_%'] = change\n",
    "\n",
    "#функция, которая форматирует относительное изменение в зависимости от значения (больше или меньше 0)\n",
    "def color_change(val):\n",
    "    if pd.isna(val):\n",
    "        return ''\n",
    "    color = 'green' if val > 0 else 'red' if val < 0 else 'black'\n",
    "    return f'color: {color}'\n",
    "\n",
    "#вывод на экран с форматированием\n",
    "display(one_ticket_rev_per_event_season.style.applymap(color_change, subset=['change_%']).format({'change_%': '{:.2f}', 'лето': '{:.2f}', 'осень': '{:.2f}'}))\n"
   ]
  },
  {
   "cell_type": "markdown",
   "metadata": {},
   "source": [
    "Средняя цена билета (и выручка, соответственно) по большинству категорий осенью снижается, что может указывать на смещение спроса в сторону более доступных и дешевых форматов.\n",
    "Стендап и выставки — исключения, показывающие рост выручки с билета.\n",
    "\n",
    "*Примечание. Не удалось придумать более подходящей визуализации, чем таблица. Возможно, стоило построить сгруппированную гистрограмму (для стоимости билетов лето/осени), и дополнить ее линейным графиков с %динамикой. Но, честно говоря, в таблице данные воспринимаются проще.*"
   ]
  },
  {
   "cell_type": "markdown",
   "metadata": {},
   "source": [
    "**Общий вывод по сезонным изменениям лето/осень 2024:**\n",
    "\n",
    "* происходит перераспределение категорий мероприятий: осенью больше покупают билетов в театр и на спортивные мероприятия, тем самым снижая долю заказов в категориях с концертами, стендапами и прочими мероприятиями. \n",
    "\n",
    "* в сегменте устройств пользователей не наблюдается существенных сезонных изменений: пользователи покупают билеты с мобильных/десктопов примерно одинаково. \n",
    "\n",
    "* осенью происходит смещение в сторону семейных/детских мероприятий (в категориях 0+, 6+, 12+), а доля взрослых мероприятий снижается. \n",
    "\n",
    "* средняя цена билетов по большинству категорий осенью снижается, что возможно объясняется тем, что семейные мероприятия стоят дешевле (например, билеты в кино стоят дешевле билетов на концерт). "
   ]
  },
  {
   "cell_type": "markdown",
   "metadata": {},
   "source": [
    "### Анализ активности пользователей осенью 2024 года."
   ]
  },
  {
   "cell_type": "markdown",
   "metadata": {},
   "source": [
    "💬 Изучите активность пользователей осенью 2024 года.\n",
    "Проанализируйте динамику изменений по дням для:\n",
    "\n",
    "* общего числа заказов;\n",
    "* количества активных пользователей DAU;\n",
    "* среднего числа заказов на одного пользователя;\n",
    "* средней стоимости одного билета."
   ]
  },
  {
   "cell_type": "code",
   "execution_count": 50,
   "metadata": {},
   "outputs": [
    {
     "data": {
      "text/html": [
       "<div>\n",
       "<style scoped>\n",
       "    .dataframe tbody tr th:only-of-type {\n",
       "        vertical-align: middle;\n",
       "    }\n",
       "\n",
       "    .dataframe tbody tr th {\n",
       "        vertical-align: top;\n",
       "    }\n",
       "\n",
       "    .dataframe thead th {\n",
       "        text-align: right;\n",
       "    }\n",
       "</style>\n",
       "<table border=\"1\" class=\"dataframe\">\n",
       "  <thead>\n",
       "    <tr style=\"text-align: right;\">\n",
       "      <th></th>\n",
       "      <th>avg_one_ticket_revenue</th>\n",
       "      <th>orders</th>\n",
       "      <th>unique_users</th>\n",
       "      <th>orders_per_user</th>\n",
       "    </tr>\n",
       "    <tr>\n",
       "      <th>created_dt_msk</th>\n",
       "      <th></th>\n",
       "      <th></th>\n",
       "      <th></th>\n",
       "      <th></th>\n",
       "    </tr>\n",
       "  </thead>\n",
       "  <tbody>\n",
       "    <tr>\n",
       "      <th>2024-09-01</th>\n",
       "      <td>203.67</td>\n",
       "      <td>1318</td>\n",
       "      <td>556</td>\n",
       "      <td>2.37</td>\n",
       "    </tr>\n",
       "    <tr>\n",
       "      <th>2024-09-02</th>\n",
       "      <td>190.85</td>\n",
       "      <td>1370</td>\n",
       "      <td>571</td>\n",
       "      <td>2.40</td>\n",
       "    </tr>\n",
       "    <tr>\n",
       "      <th>2024-09-03</th>\n",
       "      <td>80.87</td>\n",
       "      <td>5091</td>\n",
       "      <td>776</td>\n",
       "      <td>6.56</td>\n",
       "    </tr>\n",
       "    <tr>\n",
       "      <th>2024-09-04</th>\n",
       "      <td>179.86</td>\n",
       "      <td>1758</td>\n",
       "      <td>683</td>\n",
       "      <td>2.57</td>\n",
       "    </tr>\n",
       "    <tr>\n",
       "      <th>2024-09-05</th>\n",
       "      <td>190.39</td>\n",
       "      <td>1937</td>\n",
       "      <td>739</td>\n",
       "      <td>2.62</td>\n",
       "    </tr>\n",
       "  </tbody>\n",
       "</table>\n",
       "</div>"
      ],
      "text/plain": [
       "                avg_one_ticket_revenue  orders  unique_users  orders_per_user\n",
       "created_dt_msk                                                               \n",
       "2024-09-01                      203.67    1318           556             2.37\n",
       "2024-09-02                      190.85    1370           571             2.40\n",
       "2024-09-03                       80.87    5091           776             6.56\n",
       "2024-09-04                      179.86    1758           683             2.57\n",
       "2024-09-05                      190.39    1937           739             2.62"
      ]
     },
     "metadata": {},
     "output_type": "display_data"
    }
   ],
   "source": [
    "#фильтруем данные для осеннего сезона\n",
    "final_filtered_autumn = final_filtered[final_filtered['season'] == \"осень\"]\n",
    "\n",
    "#создаем сводную таблицу с необходимыми показателями, переименовываем столбцы\n",
    "autumn_activity_per_days = final_filtered_autumn.pivot_table(\n",
    "    index='created_dt_msk',\n",
    "    values=['order_id', 'user_id', 'total', 'one_ticket_revenue_rub'],\n",
    "    aggfunc={\n",
    "        'order_id': 'count',\n",
    "        'user_id': 'nunique',\n",
    "        'one_ticket_revenue_rub': 'mean'}).rename(columns={\n",
    "    'order_id': 'orders',\n",
    "    'user_id': 'unique_users',\n",
    "    'one_ticket_revenue_rub': 'avg_one_ticket_revenue'})\n",
    "\n",
    "#округляем до 2 знаков после запятой \n",
    "autumn_activity_per_days['avg_one_ticket_revenue'] = autumn_activity_per_days['avg_one_ticket_revenue'].round(2)\n",
    "\n",
    "#добавляем столбец: среднее количество заказов на пользователя\n",
    "autumn_activity_per_days['orders_per_user'] = round((autumn_activity_per_days['orders'] / autumn_activity_per_days['unique_users']),2)\n",
    "\n",
    "#выводим результат\n",
    "display(autumn_activity_per_days.head())\n",
    "\n"
   ]
  },
  {
   "cell_type": "code",
   "execution_count": 51,
   "metadata": {
    "scrolled": false
   },
   "outputs": [
    {
     "data": {
      "image/png": "[encoded data removed]",
      "text/plain": [
       "<Figure size 864x432 with 1 Axes>"
      ]
     },
     "metadata": {
      "needs_background": "light"
     },
     "output_type": "display_data"
    }
   ],
   "source": [
    "#построим линейный график: количество заказов по дням\n",
    "plt.figure(figsize=(12, 6))\n",
    "plt.plot(autumn_activity_per_days.index, autumn_activity_per_days['orders'], color='#696969')\n",
    "\n",
    "plt.title('Количество заказов по дням')\n",
    "plt.xlabel('Дата')\n",
    "plt.ylabel('Количество заказов')\n",
    "plt.grid(axis='y')\n",
    "plt.xticks(rotation=0, ha='right')\n",
    "\n",
    "plt.show()\n"
   ]
  },
  {
   "cell_type": "markdown",
   "metadata": {},
   "source": [
    "Количество заказов в течение осенних месяцев растет. В данных есть три пика, но в целом метрика показывает плавный рост от ~2000 до ~3000 заказов в день. "
   ]
  },
  {
   "cell_type": "code",
   "execution_count": 52,
   "metadata": {
    "scrolled": false
   },
   "outputs": [
    {
     "data": {
      "image/png": "[encoded data removed]",
      "text/plain": [
       "<Figure size 864x432 with 1 Axes>"
      ]
     },
     "metadata": {
      "needs_background": "light"
     },
     "output_type": "display_data"
    }
   ],
   "source": [
    "#построим линейный график: DAU\n",
    "plt.figure(figsize=(12, 6))\n",
    "plt.plot(autumn_activity_per_days.index, autumn_activity_per_days['unique_users'], color='#696969')\n",
    "\n",
    "plt.title('DAU – количество активных пользователей по дням')\n",
    "plt.xlabel('Дата')\n",
    "plt.ylabel('Количество активных пользователей')\n",
    "plt.grid(axis='y')\n",
    "plt.xticks(rotation=0, ha='right')\n",
    "\n",
    "plt.show()"
   ]
  },
  {
   "cell_type": "markdown",
   "metadata": {},
   "source": [
    "Количество активных пользователей в день (DAU) выросло: c ~700 пользователей в начале сентября до ~1000-1200 в конце октября. Рост устойчивый, но показатель меняется скачкообразно. "
   ]
  },
  {
   "cell_type": "code",
   "execution_count": 53,
   "metadata": {
    "scrolled": false
   },
   "outputs": [
    {
     "data": {
      "image/png": "[encoded data removed]",
      "text/plain": [
       "<Figure size 864x432 with 1 Axes>"
      ]
     },
     "metadata": {
      "needs_background": "light"
     },
     "output_type": "display_data"
    }
   ],
   "source": [
    "#построим линейный график: среднее число заказов на пользователя\n",
    "plt.figure(figsize=(12, 6))\n",
    "plt.plot(autumn_activity_per_days.index, autumn_activity_per_days['orders_per_user'], color='#696969')\n",
    "\n",
    "plt.title('Среднее количество заказов на пользователя по дням')\n",
    "plt.xlabel('Дата')\n",
    "plt.ylabel('Ср. количество заказов на пользователя')\n",
    "plt.grid(axis='y')\n",
    "plt.xticks(rotation=0, ha='right')\n",
    "\n",
    "plt.show()"
   ]
  },
  {
   "cell_type": "markdown",
   "metadata": {},
   "source": [
    "Метрика среднего количество заказов пользователя в течение всего осеннего периода колеблется вокруг значения 3. Данные содержат три аномальных пика, но в остальном всё стабильно, с небольшим увеличением к концу периода."
   ]
  },
  {
   "cell_type": "code",
   "execution_count": 54,
   "metadata": {},
   "outputs": [
    {
     "data": {
      "image/png": "[encoded data removed]",
      "text/plain": [
       "<Figure size 864x432 with 1 Axes>"
      ]
     },
     "metadata": {
      "needs_background": "light"
     },
     "output_type": "display_data"
    }
   ],
   "source": [
    "#построим линейный график: средняя стоимость билета\n",
    "plt.figure(figsize=(12, 6))\n",
    "plt.plot(autumn_activity_per_days.index, autumn_activity_per_days['avg_one_ticket_revenue'], color='#696969')\n",
    "\n",
    "plt.title('Средняя выручка с билета по дням')\n",
    "plt.xlabel('Дата')\n",
    "plt.ylabel('Ср. выручка с билета')\n",
    "plt.grid(axis='y')\n",
    "plt.xticks(rotation=0, ha='right')\n",
    "\n",
    "plt.show()"
   ]
  },
  {
   "cell_type": "markdown",
   "metadata": {},
   "source": [
    "При этом метрика средняя выручка с билета по дням демонстрирует динамику, обратную количеству заказов пользователей. Данные также содержат три аномальных пика в те же даты, но в минус. Возможно, в эти дни была какая-то акция на покупку билетов. Значения колеблются вокруг 180-200 рублей с небольшим уменьшением к концу периода. \n",
    "Больше заказов ≠ больше выручка на билет."
   ]
  },
  {
   "cell_type": "markdown",
   "metadata": {},
   "source": [
    "💬 Изучите недельную цикличность. Выделите день недели и сравните пользовательскую активность в будни и выходные."
   ]
  },
  {
   "cell_type": "markdown",
   "metadata": {},
   "source": [
    "Пользовательская активность может быть охарактеризована двумя метриками: количество заказов и количество активных пользователей, посмотрим обе. "
   ]
  },
  {
   "cell_type": "code",
   "execution_count": 55,
   "metadata": {
    "scrolled": false
   },
   "outputs": [
    {
     "data": {
      "image/png": "[encoded data removed]",
      "text/plain": [
       "<Figure size 864x432 with 1 Axes>"
      ]
     },
     "metadata": {
      "needs_background": "light"
     },
     "output_type": "display_data"
    }
   ],
   "source": [
    "#добавим столбец с номером дня недели, начиная с 1 (понедельник)\n",
    "final_filtered_autumn = final_filtered_autumn.copy()\n",
    "final_filtered_autumn['day_name'] = final_filtered_autumn['created_dt_msk'].dt.weekday + 1\n",
    "\n",
    "#посчитаем количество заказов по дням недели\n",
    "orders_per_day_of_week = final_filtered_autumn.groupby('day_name')['order_id'].count()\n",
    "\n",
    "#напишем функцию, которая будет окрашивать на диаграмме столбцы с буднями/выходными в разные цвета\n",
    "def color_dayweek(val):\n",
    "    if val == 6 or val == 7:\n",
    "        color = '#D2691E'  \n",
    "    else:\n",
    "        color = '#696969' \n",
    "    return color\n",
    "\n",
    "#создадим цветовую схему для диаграммы, применив пользовательскую функцию color_dayweek\n",
    "colors2 = [color_dayweek(day) for day in orders_per_day_of_week.index]\n",
    "\n",
    "#строим столбчатую диаграмму\n",
    "ax = orders_per_day_of_week.plot(kind='bar', figsize=(12, 6), color=colors2)\n",
    "\n",
    "#добавляем линию со средним значением заказов\n",
    "mean_orders = orders_per_day_of_week.mean()\n",
    "ax.axhline(mean_orders, color='#556B2F', linestyle='--', label=f'Среднее: {mean_orders:.1f}')\n",
    "\n",
    "#добавляем подписи над столбцами\n",
    "for i, val in enumerate(orders_per_day_of_week.values):\n",
    "    ax.text(i, val + 0.5, str(val), ha='center', va='bottom')\n",
    "\n",
    "#настраиваем и выводим диаграмму\n",
    "plt.title('Количество заказов по дням недели')\n",
    "plt.xlabel('День недели (1=Понедельник)')\n",
    "plt.ylabel('Количество заказов')\n",
    "plt.xticks(rotation=0, ha='right')\n",
    "plt.grid(axis='y')\n",
    "\n",
    "plt.show()\n",
    "\n"
   ]
  },
  {
   "cell_type": "markdown",
   "metadata": {},
   "source": [
    "Самое высокое количество заказов – во вторник. \n",
    "\n",
    "Самое низкое – в воскресенье. \n",
    "\n",
    "Среднее количество заказов находится на уровне ~24 000. Во вторник, четверг и пятницу заказывают больше среднего, в остальные дни – меньше. "
   ]
  },
  {
   "cell_type": "code",
   "execution_count": 56,
   "metadata": {
    "scrolled": false
   },
   "outputs": [
    {
     "data": {
      "image/png": "[encoded data removed]",
      "text/plain": [
       "<Figure size 864x432 with 1 Axes>"
      ]
     },
     "metadata": {
      "needs_background": "light"
     },
     "output_type": "display_data"
    }
   ],
   "source": [
    "#посчитаем количество активных пользователей по дням недели\n",
    "users_per_day_of_week = final_filtered_autumn.groupby('day_name')['user_id'].nunique()\n",
    "\n",
    "#строим столбчатую диаграмму\n",
    "ax2 = users_per_day_of_week.plot(kind='bar', figsize=(12, 6), color=colors2)\n",
    "\n",
    "#добавляем линию со средним значением заказов\n",
    "mean_users = users_per_day_of_week.mean()\n",
    "ax2.axhline(mean_users, color='#556B2F', linestyle='--', label=f'Среднее: {mean_users:.1f}')\n",
    "\n",
    "#добавляем подписи над столбцами\n",
    "for i, val in enumerate(users_per_day_of_week.values):\n",
    "    ax2.text(i, val + 0.5, str(val), ha='center', va='bottom')\n",
    "\n",
    "#настраиваем и выводим диаграмму\n",
    "plt.title('Количество активных пользователей по дням недели')\n",
    "plt.xlabel('День недели (1=Понедельник)')\n",
    "plt.ylabel('Количество активных пользователей')\n",
    "plt.xticks(rotation=0, ha='right')\n",
    "plt.grid(axis='y')\n",
    "\n",
    "plt.show()"
   ]
  },
  {
   "cell_type": "markdown",
   "metadata": {},
   "source": [
    "Самое высокое количество активных пользователей – во четверг.\n",
    "\n",
    "Самое низкое – в воскресенье.\n",
    "\n",
    "Среднее количество активных пользователей находится на уровне ~4 700. Во вторник, среду, четверг и пятницу заказывают больше среднего, в остальные дни – меньше."
   ]
  },
  {
   "cell_type": "markdown",
   "metadata": {},
   "source": [
    "**Общий вывод по осенней активности пользователей**\n",
    "\n",
    "Осенний сезон 2024 года характеризуется устойчивым ростом пользовательской активности на платформе:\n",
    "\n",
    "* Количество заказов стабильно растёт — с ~2000 до ~3000 заказов в день.\n",
    "\n",
    "* Количество активных пользователей (DAU) увеличилось почти вдвое: с ~700 в начале сентября до ~1000-1200 в конце октября. \n",
    "\n",
    "* Среднее число заказов на одного пользователя сохраняется на уровне около 3, с небольшим ростом к концу периода. \n",
    "\n",
    "* Средняя выручка с билета, в целом стабильна, но демонстрирует небольшую нисходящую динамику. На те же даты, когда наблюдаются пики заказов, приходятся и минимумы по выручке на билет — вероятно, это связано с акциями или скидками.\n",
    "\n",
    "Недельная цикличность:\n",
    "\n",
    "* Активность пользователей по дням недели распределяется неравномерно.\n",
    "\n",
    "* Максимум заказов и активных пользователей приходится на будние дни, минимум — на выходные. Это указывает на ярко выраженную цикличность: в будни (особенно в середине недели) пользователи более активны, чем в выходные.\n",
    "\n"
   ]
  },
  {
   "cell_type": "markdown",
   "metadata": {},
   "source": [
    "### Популярные события и партнёры."
   ]
  },
  {
   "cell_type": "markdown",
   "metadata": {},
   "source": [
    "💬 Для каждого региона посчитайте уникальное количество мероприятий и общее число заказов. В каких регионах предлагается наибольшее разнообразие мероприятий?"
   ]
  },
  {
   "cell_type": "code",
   "execution_count": 57,
   "metadata": {
    "scrolled": true
   },
   "outputs": [
    {
     "data": {
      "text/html": [
       "<style  type=\"text/css\" >\n",
       "#T_d6de6_row0_col2,#T_d6de6_row0_col3{\n",
       "            background-color:  #662506;\n",
       "            color:  #f1f1f1;\n",
       "        }#T_d6de6_row1_col2{\n",
       "            background-color:  #e1640e;\n",
       "            color:  #000000;\n",
       "        }#T_d6de6_row1_col3{\n",
       "            background-color:  #feae3b;\n",
       "            color:  #000000;\n",
       "        }#T_d6de6_row2_col2{\n",
       "            background-color:  #feeaa1;\n",
       "            color:  #000000;\n",
       "        }#T_d6de6_row2_col3{\n",
       "            background-color:  #ffeea8;\n",
       "            color:  #000000;\n",
       "        }#T_d6de6_row3_col2{\n",
       "            background-color:  #feeca5;\n",
       "            color:  #000000;\n",
       "        }#T_d6de6_row3_col3,#T_d6de6_row8_col2,#T_d6de6_row9_col2{\n",
       "            background-color:  #fff8c4;\n",
       "            color:  #000000;\n",
       "        }#T_d6de6_row4_col2{\n",
       "            background-color:  #fff6b9;\n",
       "            color:  #000000;\n",
       "        }#T_d6de6_row4_col3,#T_d6de6_row12_col2,#T_d6de6_row13_col2,#T_d6de6_row14_col2{\n",
       "            background-color:  #fffacd;\n",
       "            color:  #000000;\n",
       "        }#T_d6de6_row5_col2{\n",
       "            background-color:  #fff8c0;\n",
       "            color:  #000000;\n",
       "        }#T_d6de6_row5_col3,#T_d6de6_row21_col3{\n",
       "            background-color:  #fff9c6;\n",
       "            color:  #000000;\n",
       "        }#T_d6de6_row6_col2{\n",
       "            background-color:  #fff8c1;\n",
       "            color:  #000000;\n",
       "        }#T_d6de6_row6_col3,#T_d6de6_row9_col3,#T_d6de6_row10_col2{\n",
       "            background-color:  #fff9c7;\n",
       "            color:  #000000;\n",
       "        }#T_d6de6_row7_col2{\n",
       "            background-color:  #fff8c2;\n",
       "            color:  #000000;\n",
       "        }#T_d6de6_row7_col3{\n",
       "            background-color:  #fffcd4;\n",
       "            color:  #000000;\n",
       "        }#T_d6de6_row8_col3{\n",
       "            background-color:  #fffbcf;\n",
       "            color:  #000000;\n",
       "        }#T_d6de6_row10_col3{\n",
       "            background-color:  #fee18c;\n",
       "            color:  #000000;\n",
       "        }#T_d6de6_row11_col2{\n",
       "            background-color:  #fff9c9;\n",
       "            color:  #000000;\n",
       "        }#T_d6de6_row11_col3,#T_d6de6_row16_col2,#T_d6de6_row17_col2,#T_d6de6_row18_col2,#T_d6de6_row19_col3{\n",
       "            background-color:  #fffcd7;\n",
       "            color:  #000000;\n",
       "        }#T_d6de6_row12_col3{\n",
       "            background-color:  #fffcd8;\n",
       "            color:  #000000;\n",
       "        }#T_d6de6_row13_col3{\n",
       "            background-color:  #fff1b0;\n",
       "            color:  #000000;\n",
       "        }#T_d6de6_row14_col3{\n",
       "            background-color:  #fffbd2;\n",
       "            color:  #000000;\n",
       "        }#T_d6de6_row15_col2,#T_d6de6_row27_col3{\n",
       "            background-color:  #fffcd6;\n",
       "            color:  #000000;\n",
       "        }#T_d6de6_row15_col3,#T_d6de6_row28_col2,#T_d6de6_row29_col2,#T_d6de6_row30_col2,#T_d6de6_row31_col2,#T_d6de6_row32_col2,#T_d6de6_row33_col2,#T_d6de6_row58_col3{\n",
       "            background-color:  #fffedf;\n",
       "            color:  #000000;\n",
       "        }#T_d6de6_row16_col3{\n",
       "            background-color:  #fffbd0;\n",
       "            color:  #000000;\n",
       "        }#T_d6de6_row17_col3,#T_d6de6_row21_col2,#T_d6de6_row22_col2,#T_d6de6_row23_col2{\n",
       "            background-color:  #fffddb;\n",
       "            color:  #000000;\n",
       "        }#T_d6de6_row18_col3,#T_d6de6_row23_col3,#T_d6de6_row25_col2,#T_d6de6_row26_col2,#T_d6de6_row27_col2,#T_d6de6_row34_col3,#T_d6de6_row36_col3,#T_d6de6_row46_col3{\n",
       "            background-color:  #fffddd;\n",
       "            color:  #000000;\n",
       "        }#T_d6de6_row19_col2,#T_d6de6_row20_col2,#T_d6de6_row29_col3{\n",
       "            background-color:  #fffdd9;\n",
       "            color:  #000000;\n",
       "        }#T_d6de6_row20_col3,#T_d6de6_row22_col3,#T_d6de6_row25_col3,#T_d6de6_row26_col3,#T_d6de6_row28_col3,#T_d6de6_row32_col3,#T_d6de6_row39_col3,#T_d6de6_row40_col2,#T_d6de6_row41_col2,#T_d6de6_row54_col3,#T_d6de6_row55_col3{\n",
       "            background-color:  #fffee1;\n",
       "            color:  #000000;\n",
       "        }#T_d6de6_row24_col2{\n",
       "            background-color:  #fffddc;\n",
       "            color:  #000000;\n",
       "        }#T_d6de6_row24_col3,#T_d6de6_row31_col3,#T_d6de6_row33_col3,#T_d6de6_row35_col3,#T_d6de6_row38_col3,#T_d6de6_row40_col3,#T_d6de6_row41_col3,#T_d6de6_row42_col2,#T_d6de6_row43_col2,#T_d6de6_row44_col2,#T_d6de6_row45_col2,#T_d6de6_row46_col2,#T_d6de6_row47_col2,#T_d6de6_row48_col2,#T_d6de6_row49_col2,#T_d6de6_row50_col2,#T_d6de6_row53_col3,#T_d6de6_row56_col3,#T_d6de6_row67_col3{\n",
       "            background-color:  #fffee2;\n",
       "            color:  #000000;\n",
       "        }#T_d6de6_row30_col3,#T_d6de6_row34_col2,#T_d6de6_row35_col2,#T_d6de6_row36_col2,#T_d6de6_row37_col2,#T_d6de6_row37_col3,#T_d6de6_row38_col2,#T_d6de6_row39_col2{\n",
       "            background-color:  #fffee0;\n",
       "            color:  #000000;\n",
       "        }#T_d6de6_row42_col3,#T_d6de6_row48_col3,#T_d6de6_row56_col2,#T_d6de6_row57_col2,#T_d6de6_row57_col3,#T_d6de6_row58_col2,#T_d6de6_row59_col2,#T_d6de6_row60_col2,#T_d6de6_row60_col3,#T_d6de6_row61_col2,#T_d6de6_row61_col3,#T_d6de6_row62_col2,#T_d6de6_row62_col3,#T_d6de6_row63_col2,#T_d6de6_row63_col3,#T_d6de6_row64_col2,#T_d6de6_row64_col3,#T_d6de6_row65_col2,#T_d6de6_row65_col3,#T_d6de6_row66_col2,#T_d6de6_row66_col3,#T_d6de6_row67_col2,#T_d6de6_row68_col2,#T_d6de6_row68_col3,#T_d6de6_row69_col2,#T_d6de6_row69_col3,#T_d6de6_row70_col2,#T_d6de6_row70_col3,#T_d6de6_row71_col2,#T_d6de6_row71_col3,#T_d6de6_row72_col2,#T_d6de6_row72_col3,#T_d6de6_row73_col2,#T_d6de6_row73_col3,#T_d6de6_row74_col2,#T_d6de6_row74_col3,#T_d6de6_row75_col2,#T_d6de6_row75_col3,#T_d6de6_row76_col2,#T_d6de6_row76_col3{\n",
       "            background-color:  #ffffe5;\n",
       "            color:  #000000;\n",
       "        }#T_d6de6_row43_col3,#T_d6de6_row44_col3,#T_d6de6_row45_col3,#T_d6de6_row47_col3,#T_d6de6_row49_col3,#T_d6de6_row50_col3,#T_d6de6_row51_col2,#T_d6de6_row51_col3,#T_d6de6_row52_col2,#T_d6de6_row52_col3,#T_d6de6_row53_col2,#T_d6de6_row54_col2,#T_d6de6_row55_col2,#T_d6de6_row59_col3{\n",
       "            background-color:  #ffffe4;\n",
       "            color:  #000000;\n",
       "        }</style><table id=\"T_d6de6_\" ><thead>    <tr>        <th class=\"blank level0\" ></th>        <th class=\"col_heading level0 col0\" >events</th>        <th class=\"col_heading level0 col1\" >orders</th>        <th class=\"col_heading level0 col2\" >events_%</th>        <th class=\"col_heading level0 col3\" >orders_%</th>    </tr>    <tr>        <th class=\"index_name level0\" >region_name</th>        <th class=\"blank\" ></th>        <th class=\"blank\" ></th>        <th class=\"blank\" ></th>        <th class=\"blank\" ></th>    </tr></thead><tbody>\n",
       "                <tr>\n",
       "                        <th id=\"T_d6de6_level0_row0\" class=\"row_heading level0 row0\" >Каменевский регион</th>\n",
       "                        <td id=\"T_d6de6_row0_col0\" class=\"data row0 col0\" >3897</td>\n",
       "                        <td id=\"T_d6de6_row0_col1\" class=\"data row0 col1\" >46600</td>\n",
       "                        <td id=\"T_d6de6_row0_col2\" class=\"data row0 col2\" >24.71</td>\n",
       "                        <td id=\"T_d6de6_row0_col3\" class=\"data row0 col3\" >27.74</td>\n",
       "            </tr>\n",
       "            <tr>\n",
       "                        <th id=\"T_d6de6_level0_row1\" class=\"row_heading level0 row1\" >Североярская область</th>\n",
       "                        <td id=\"T_d6de6_row1_col0\" class=\"data row1 col0\" >2594</td>\n",
       "                        <td id=\"T_d6de6_row1_col1\" class=\"data row1 col1\" >20571</td>\n",
       "                        <td id=\"T_d6de6_row1_col2\" class=\"data row1 col2\" >16.45</td>\n",
       "                        <td id=\"T_d6de6_row1_col3\" class=\"data row1 col3\" >12.25</td>\n",
       "            </tr>\n",
       "            <tr>\n",
       "                        <th id=\"T_d6de6_level0_row2\" class=\"row_heading level0 row2\" >Широковская область</th>\n",
       "                        <td id=\"T_d6de6_row2_col0\" class=\"data row2 col0\" >794</td>\n",
       "                        <td id=\"T_d6de6_row2_col1\" class=\"data row2 col1\" >8645</td>\n",
       "                        <td id=\"T_d6de6_row2_col2\" class=\"data row2 col2\" >5.03</td>\n",
       "                        <td id=\"T_d6de6_row2_col3\" class=\"data row2 col3\" >5.15</td>\n",
       "            </tr>\n",
       "            <tr>\n",
       "                        <th id=\"T_d6de6_level0_row3\" class=\"row_heading level0 row3\" >Светополянский округ</th>\n",
       "                        <td id=\"T_d6de6_row3_col0\" class=\"data row3 col0\" >755</td>\n",
       "                        <td id=\"T_d6de6_row3_col1\" class=\"data row3 col1\" >4751</td>\n",
       "                        <td id=\"T_d6de6_row3_col2\" class=\"data row3 col2\" >4.79</td>\n",
       "                        <td id=\"T_d6de6_row3_col3\" class=\"data row3 col3\" >2.83</td>\n",
       "            </tr>\n",
       "            <tr>\n",
       "                        <th id=\"T_d6de6_level0_row4\" class=\"row_heading level0 row4\" >Речиновская область</th>\n",
       "                        <td id=\"T_d6de6_row4_col0\" class=\"data row4 col0\" >529</td>\n",
       "                        <td id=\"T_d6de6_row4_col1\" class=\"data row4 col1\" >3565</td>\n",
       "                        <td id=\"T_d6de6_row4_col2\" class=\"data row4 col2\" >3.35</td>\n",
       "                        <td id=\"T_d6de6_row4_col3\" class=\"data row4 col3\" >2.12</td>\n",
       "            </tr>\n",
       "            <tr>\n",
       "                        <th id=\"T_d6de6_level0_row5\" class=\"row_heading level0 row5\" >Серебринская область</th>\n",
       "                        <td id=\"T_d6de6_row5_col0\" class=\"data row5 col0\" >456</td>\n",
       "                        <td id=\"T_d6de6_row5_col1\" class=\"data row5 col1\" >4470</td>\n",
       "                        <td id=\"T_d6de6_row5_col2\" class=\"data row5 col2\" >2.89</td>\n",
       "                        <td id=\"T_d6de6_row5_col3\" class=\"data row5 col3\" >2.66</td>\n",
       "            </tr>\n",
       "            <tr>\n",
       "                        <th id=\"T_d6de6_level0_row6\" class=\"row_heading level0 row6\" >Яблоневская область</th>\n",
       "                        <td id=\"T_d6de6_row6_col0\" class=\"data row6 col0\" >431</td>\n",
       "                        <td id=\"T_d6de6_row6_col1\" class=\"data row6 col1\" >4195</td>\n",
       "                        <td id=\"T_d6de6_row6_col2\" class=\"data row6 col2\" >2.73</td>\n",
       "                        <td id=\"T_d6de6_row6_col3\" class=\"data row6 col3\" >2.50</td>\n",
       "            </tr>\n",
       "            <tr>\n",
       "                        <th id=\"T_d6de6_level0_row7\" class=\"row_heading level0 row7\" >Тепляковская область</th>\n",
       "                        <td id=\"T_d6de6_row7_col0\" class=\"data row7 col0\" >419</td>\n",
       "                        <td id=\"T_d6de6_row7_col1\" class=\"data row7 col1\" >2486</td>\n",
       "                        <td id=\"T_d6de6_row7_col2\" class=\"data row7 col2\" >2.66</td>\n",
       "                        <td id=\"T_d6de6_row7_col3\" class=\"data row7 col3\" >1.48</td>\n",
       "            </tr>\n",
       "            <tr>\n",
       "                        <th id=\"T_d6de6_level0_row8\" class=\"row_heading level0 row8\" >Горицветская область</th>\n",
       "                        <td id=\"T_d6de6_row8_col0\" class=\"data row8 col0\" >406</td>\n",
       "                        <td id=\"T_d6de6_row8_col1\" class=\"data row8 col1\" >3231</td>\n",
       "                        <td id=\"T_d6de6_row8_col2\" class=\"data row8 col2\" >2.57</td>\n",
       "                        <td id=\"T_d6de6_row8_col3\" class=\"data row8 col3\" >1.92</td>\n",
       "            </tr>\n",
       "            <tr>\n",
       "                        <th id=\"T_d6de6_level0_row9\" class=\"row_heading level0 row9\" >Солнечноземская область</th>\n",
       "                        <td id=\"T_d6de6_row9_col0\" class=\"data row9 col0\" >401</td>\n",
       "                        <td id=\"T_d6de6_row9_col1\" class=\"data row9 col1\" >4197</td>\n",
       "                        <td id=\"T_d6de6_row9_col2\" class=\"data row9 col2\" >2.54</td>\n",
       "                        <td id=\"T_d6de6_row9_col3\" class=\"data row9 col3\" >2.50</td>\n",
       "            </tr>\n",
       "            <tr>\n",
       "                        <th id=\"T_d6de6_level0_row10\" class=\"row_heading level0 row10\" >Медовская область</th>\n",
       "                        <td id=\"T_d6de6_row10_col0\" class=\"data row10 col0\" >361</td>\n",
       "                        <td id=\"T_d6de6_row10_col1\" class=\"data row10 col1\" >12034</td>\n",
       "                        <td id=\"T_d6de6_row10_col2\" class=\"data row10 col2\" >2.29</td>\n",
       "                        <td id=\"T_d6de6_row10_col3\" class=\"data row10 col3\" >7.16</td>\n",
       "            </tr>\n",
       "            <tr>\n",
       "                        <th id=\"T_d6de6_level0_row11\" class=\"row_heading level0 row11\" >Травяная область</th>\n",
       "                        <td id=\"T_d6de6_row11_col0\" class=\"data row11 col0\" >351</td>\n",
       "                        <td id=\"T_d6de6_row11_col1\" class=\"data row11 col1\" >2060</td>\n",
       "                        <td id=\"T_d6de6_row11_col2\" class=\"data row11 col2\" >2.23</td>\n",
       "                        <td id=\"T_d6de6_row11_col3\" class=\"data row11 col3\" >1.23</td>\n",
       "            </tr>\n",
       "            <tr>\n",
       "                        <th id=\"T_d6de6_level0_row12\" class=\"row_heading level0 row12\" >Зоринский регион</th>\n",
       "                        <td id=\"T_d6de6_row12_col0\" class=\"data row12 col0\" >298</td>\n",
       "                        <td id=\"T_d6de6_row12_col1\" class=\"data row12 col1\" >1993</td>\n",
       "                        <td id=\"T_d6de6_row12_col2\" class=\"data row12 col2\" >1.89</td>\n",
       "                        <td id=\"T_d6de6_row12_col3\" class=\"data row12 col3\" >1.19</td>\n",
       "            </tr>\n",
       "            <tr>\n",
       "                        <th id=\"T_d6de6_level0_row13\" class=\"row_heading level0 row13\" >Озернинский край</th>\n",
       "                        <td id=\"T_d6de6_row13_col0\" class=\"data row13 col0\" >296</td>\n",
       "                        <td id=\"T_d6de6_row13_col1\" class=\"data row13 col1\" >7524</td>\n",
       "                        <td id=\"T_d6de6_row13_col2\" class=\"data row13 col2\" >1.88</td>\n",
       "                        <td id=\"T_d6de6_row13_col3\" class=\"data row13 col3\" >4.48</td>\n",
       "            </tr>\n",
       "            <tr>\n",
       "                        <th id=\"T_d6de6_level0_row14\" class=\"row_heading level0 row14\" >Солнечнореченская область</th>\n",
       "                        <td id=\"T_d6de6_row14_col0\" class=\"data row14 col0\" >291</td>\n",
       "                        <td id=\"T_d6de6_row14_col1\" class=\"data row14 col1\" >2880</td>\n",
       "                        <td id=\"T_d6de6_row14_col2\" class=\"data row14 col2\" >1.85</td>\n",
       "                        <td id=\"T_d6de6_row14_col3\" class=\"data row14 col3\" >1.71</td>\n",
       "            </tr>\n",
       "            <tr>\n",
       "                        <th id=\"T_d6de6_level0_row15\" class=\"row_heading level0 row15\" >Малиновая область</th>\n",
       "                        <td id=\"T_d6de6_row15_col0\" class=\"data row15 col0\" >185</td>\n",
       "                        <td id=\"T_d6de6_row15_col1\" class=\"data row15 col1\" >1022</td>\n",
       "                        <td id=\"T_d6de6_row15_col2\" class=\"data row15 col2\" >1.17</td>\n",
       "                        <td id=\"T_d6de6_row15_col3\" class=\"data row15 col3\" >0.61</td>\n",
       "            </tr>\n",
       "            <tr>\n",
       "                        <th id=\"T_d6de6_level0_row16\" class=\"row_heading level0 row16\" >Лугоградская область</th>\n",
       "                        <td id=\"T_d6de6_row16_col0\" class=\"data row16 col0\" >180</td>\n",
       "                        <td id=\"T_d6de6_row16_col1\" class=\"data row16 col1\" >2981</td>\n",
       "                        <td id=\"T_d6de6_row16_col2\" class=\"data row16 col2\" >1.14</td>\n",
       "                        <td id=\"T_d6de6_row16_col3\" class=\"data row16 col3\" >1.77</td>\n",
       "            </tr>\n",
       "            <tr>\n",
       "                        <th id=\"T_d6de6_level0_row17\" class=\"row_heading level0 row17\" >Лесодальний край</th>\n",
       "                        <td id=\"T_d6de6_row17_col0\" class=\"data row17 col0\" >174</td>\n",
       "                        <td id=\"T_d6de6_row17_col1\" class=\"data row17 col1\" >1627</td>\n",
       "                        <td id=\"T_d6de6_row17_col2\" class=\"data row17 col2\" >1.10</td>\n",
       "                        <td id=\"T_d6de6_row17_col3\" class=\"data row17 col3\" >0.97</td>\n",
       "            </tr>\n",
       "            <tr>\n",
       "                        <th id=\"T_d6de6_level0_row18\" class=\"row_heading level0 row18\" >Каменноозёрный край</th>\n",
       "                        <td id=\"T_d6de6_row18_col0\" class=\"data row18 col0\" >173</td>\n",
       "                        <td id=\"T_d6de6_row18_col1\" class=\"data row18 col1\" >1252</td>\n",
       "                        <td id=\"T_d6de6_row18_col2\" class=\"data row18 col2\" >1.10</td>\n",
       "                        <td id=\"T_d6de6_row18_col3\" class=\"data row18 col3\" >0.75</td>\n",
       "            </tr>\n",
       "            <tr>\n",
       "                        <th id=\"T_d6de6_level0_row19\" class=\"row_heading level0 row19\" >Глиногорская область</th>\n",
       "                        <td id=\"T_d6de6_row19_col0\" class=\"data row19 col0\" >142</td>\n",
       "                        <td id=\"T_d6de6_row19_col1\" class=\"data row19 col1\" >2184</td>\n",
       "                        <td id=\"T_d6de6_row19_col2\" class=\"data row19 col2\" >0.90</td>\n",
       "                        <td id=\"T_d6de6_row19_col3\" class=\"data row19 col3\" >1.30</td>\n",
       "            </tr>\n",
       "            <tr>\n",
       "                        <th id=\"T_d6de6_level0_row20\" class=\"row_heading level0 row20\" >Горностепной регион</th>\n",
       "                        <td id=\"T_d6de6_row20_col0\" class=\"data row20 col0\" >141</td>\n",
       "                        <td id=\"T_d6de6_row20_col1\" class=\"data row20 col1\" >681</td>\n",
       "                        <td id=\"T_d6de6_row20_col2\" class=\"data row20 col2\" >0.89</td>\n",
       "                        <td id=\"T_d6de6_row20_col3\" class=\"data row20 col3\" >0.41</td>\n",
       "            </tr>\n",
       "            <tr>\n",
       "                        <th id=\"T_d6de6_level0_row21\" class=\"row_heading level0 row21\" >Малиновоярский округ</th>\n",
       "                        <td id=\"T_d6de6_row21_col0\" class=\"data row21 col0\" >137</td>\n",
       "                        <td id=\"T_d6de6_row21_col1\" class=\"data row21 col1\" >4546</td>\n",
       "                        <td id=\"T_d6de6_row21_col2\" class=\"data row21 col2\" >0.87</td>\n",
       "                        <td id=\"T_d6de6_row21_col3\" class=\"data row21 col3\" >2.71</td>\n",
       "            </tr>\n",
       "            <tr>\n",
       "                        <th id=\"T_d6de6_level0_row22\" class=\"row_heading level0 row22\" >Золотоключевской край</th>\n",
       "                        <td id=\"T_d6de6_row22_col0\" class=\"data row22 col0\" >137</td>\n",
       "                        <td id=\"T_d6de6_row22_col1\" class=\"data row22 col1\" >720</td>\n",
       "                        <td id=\"T_d6de6_row22_col2\" class=\"data row22 col2\" >0.87</td>\n",
       "                        <td id=\"T_d6de6_row22_col3\" class=\"data row22 col3\" >0.43</td>\n",
       "            </tr>\n",
       "            <tr>\n",
       "                        <th id=\"T_d6de6_level0_row23\" class=\"row_heading level0 row23\" >Травиницкий округ</th>\n",
       "                        <td id=\"T_d6de6_row23_col0\" class=\"data row23 col0\" >130</td>\n",
       "                        <td id=\"T_d6de6_row23_col1\" class=\"data row23 col1\" >1191</td>\n",
       "                        <td id=\"T_d6de6_row23_col2\" class=\"data row23 col2\" >0.82</td>\n",
       "                        <td id=\"T_d6de6_row23_col3\" class=\"data row23 col3\" >0.71</td>\n",
       "            </tr>\n",
       "            <tr>\n",
       "                        <th id=\"T_d6de6_level0_row24\" class=\"row_heading level0 row24\" >Зеленоградский округ</th>\n",
       "                        <td id=\"T_d6de6_row24_col0\" class=\"data row24 col0\" >121</td>\n",
       "                        <td id=\"T_d6de6_row24_col1\" class=\"data row24 col1\" >452</td>\n",
       "                        <td id=\"T_d6de6_row24_col2\" class=\"data row24 col2\" >0.77</td>\n",
       "                        <td id=\"T_d6de6_row24_col3\" class=\"data row24 col3\" >0.27</td>\n",
       "            </tr>\n",
       "            <tr>\n",
       "                        <th id=\"T_d6de6_level0_row25\" class=\"row_heading level0 row25\" >Дальнеземская область</th>\n",
       "                        <td id=\"T_d6de6_row25_col0\" class=\"data row25 col0\" >105</td>\n",
       "                        <td id=\"T_d6de6_row25_col1\" class=\"data row25 col1\" >674</td>\n",
       "                        <td id=\"T_d6de6_row25_col2\" class=\"data row25 col2\" >0.67</td>\n",
       "                        <td id=\"T_d6de6_row25_col3\" class=\"data row25 col3\" >0.40</td>\n",
       "            </tr>\n",
       "            <tr>\n",
       "                        <th id=\"T_d6de6_level0_row26\" class=\"row_heading level0 row26\" >Миропольская область</th>\n",
       "                        <td id=\"T_d6de6_row26_col0\" class=\"data row26 col0\" >99</td>\n",
       "                        <td id=\"T_d6de6_row26_col1\" class=\"data row26 col1\" >713</td>\n",
       "                        <td id=\"T_d6de6_row26_col2\" class=\"data row26 col2\" >0.63</td>\n",
       "                        <td id=\"T_d6de6_row26_col3\" class=\"data row26 col3\" >0.42</td>\n",
       "            </tr>\n",
       "            <tr>\n",
       "                        <th id=\"T_d6de6_level0_row27\" class=\"row_heading level0 row27\" >Чистогорская область</th>\n",
       "                        <td id=\"T_d6de6_row27_col0\" class=\"data row27 col0\" >96</td>\n",
       "                        <td id=\"T_d6de6_row27_col1\" class=\"data row27 col1\" >2297</td>\n",
       "                        <td id=\"T_d6de6_row27_col2\" class=\"data row27 col2\" >0.61</td>\n",
       "                        <td id=\"T_d6de6_row27_col3\" class=\"data row27 col3\" >1.37</td>\n",
       "            </tr>\n",
       "            <tr>\n",
       "                        <th id=\"T_d6de6_level0_row28\" class=\"row_heading level0 row28\" >Ягодиновская область</th>\n",
       "                        <td id=\"T_d6de6_row28_col0\" class=\"data row28 col0\" >91</td>\n",
       "                        <td id=\"T_d6de6_row28_col1\" class=\"data row28 col1\" >651</td>\n",
       "                        <td id=\"T_d6de6_row28_col2\" class=\"data row28 col2\" >0.58</td>\n",
       "                        <td id=\"T_d6de6_row28_col3\" class=\"data row28 col3\" >0.39</td>\n",
       "            </tr>\n",
       "            <tr>\n",
       "                        <th id=\"T_d6de6_level0_row29\" class=\"row_heading level0 row29\" >Речицкая область</th>\n",
       "                        <td id=\"T_d6de6_row29_col0\" class=\"data row29 col0\" >88</td>\n",
       "                        <td id=\"T_d6de6_row29_col1\" class=\"data row29 col1\" >1766</td>\n",
       "                        <td id=\"T_d6de6_row29_col2\" class=\"data row29 col2\" >0.56</td>\n",
       "                        <td id=\"T_d6de6_row29_col3\" class=\"data row29 col3\" >1.05</td>\n",
       "            </tr>\n",
       "            <tr>\n",
       "                        <th id=\"T_d6de6_level0_row30\" class=\"row_heading level0 row30\" >Сосновская область</th>\n",
       "                        <td id=\"T_d6de6_row30_col0\" class=\"data row30 col0\" >86</td>\n",
       "                        <td id=\"T_d6de6_row30_col1\" class=\"data row30 col1\" >753</td>\n",
       "                        <td id=\"T_d6de6_row30_col2\" class=\"data row30 col2\" >0.55</td>\n",
       "                        <td id=\"T_d6de6_row30_col3\" class=\"data row30 col3\" >0.45</td>\n",
       "            </tr>\n",
       "            <tr>\n",
       "                        <th id=\"T_d6de6_level0_row31\" class=\"row_heading level0 row31\" >Дальнезорский край</th>\n",
       "                        <td id=\"T_d6de6_row31_col0\" class=\"data row31 col0\" >85</td>\n",
       "                        <td id=\"T_d6de6_row31_col1\" class=\"data row31 col1\" >441</td>\n",
       "                        <td id=\"T_d6de6_row31_col2\" class=\"data row31 col2\" >0.54</td>\n",
       "                        <td id=\"T_d6de6_row31_col3\" class=\"data row31 col3\" >0.26</td>\n",
       "            </tr>\n",
       "            <tr>\n",
       "                        <th id=\"T_d6de6_level0_row32\" class=\"row_heading level0 row32\" >Ключеводский округ</th>\n",
       "                        <td id=\"T_d6de6_row32_col0\" class=\"data row32 col0\" >82</td>\n",
       "                        <td id=\"T_d6de6_row32_col1\" class=\"data row32 col1\" >608</td>\n",
       "                        <td id=\"T_d6de6_row32_col2\" class=\"data row32 col2\" >0.52</td>\n",
       "                        <td id=\"T_d6de6_row32_col3\" class=\"data row32 col3\" >0.36</td>\n",
       "            </tr>\n",
       "            <tr>\n",
       "                        <th id=\"T_d6de6_level0_row33\" class=\"row_heading level0 row33\" >Луговая область</th>\n",
       "                        <td id=\"T_d6de6_row33_col0\" class=\"data row33 col0\" >82</td>\n",
       "                        <td id=\"T_d6de6_row33_col1\" class=\"data row33 col1\" >449</td>\n",
       "                        <td id=\"T_d6de6_row33_col2\" class=\"data row33 col2\" >0.52</td>\n",
       "                        <td id=\"T_d6de6_row33_col3\" class=\"data row33 col3\" >0.27</td>\n",
       "            </tr>\n",
       "            <tr>\n",
       "                        <th id=\"T_d6de6_level0_row34\" class=\"row_heading level0 row34\" >Боровлянский край</th>\n",
       "                        <td id=\"T_d6de6_row34_col0\" class=\"data row34 col0\" >76</td>\n",
       "                        <td id=\"T_d6de6_row34_col1\" class=\"data row34 col1\" >1240</td>\n",
       "                        <td id=\"T_d6de6_row34_col2\" class=\"data row34 col2\" >0.48</td>\n",
       "                        <td id=\"T_d6de6_row34_col3\" class=\"data row34 col3\" >0.74</td>\n",
       "            </tr>\n",
       "            <tr>\n",
       "                        <th id=\"T_d6de6_level0_row35\" class=\"row_heading level0 row35\" >Лесостепной край</th>\n",
       "                        <td id=\"T_d6de6_row35_col0\" class=\"data row35 col0\" >75</td>\n",
       "                        <td id=\"T_d6de6_row35_col1\" class=\"data row35 col1\" >530</td>\n",
       "                        <td id=\"T_d6de6_row35_col2\" class=\"data row35 col2\" >0.48</td>\n",
       "                        <td id=\"T_d6de6_row35_col3\" class=\"data row35 col3\" >0.32</td>\n",
       "            </tr>\n",
       "            <tr>\n",
       "                        <th id=\"T_d6de6_level0_row36\" class=\"row_heading level0 row36\" >Заречная область</th>\n",
       "                        <td id=\"T_d6de6_row36_col0\" class=\"data row36 col0\" >75</td>\n",
       "                        <td id=\"T_d6de6_row36_col1\" class=\"data row36 col1\" >1122</td>\n",
       "                        <td id=\"T_d6de6_row36_col2\" class=\"data row36 col2\" >0.48</td>\n",
       "                        <td id=\"T_d6de6_row36_col3\" class=\"data row36 col3\" >0.67</td>\n",
       "            </tr>\n",
       "            <tr>\n",
       "                        <th id=\"T_d6de6_level0_row37\" class=\"row_heading level0 row37\" >Крутоводская область</th>\n",
       "                        <td id=\"T_d6de6_row37_col0\" class=\"data row37 col0\" >70</td>\n",
       "                        <td id=\"T_d6de6_row37_col1\" class=\"data row37 col1\" >873</td>\n",
       "                        <td id=\"T_d6de6_row37_col2\" class=\"data row37 col2\" >0.44</td>\n",
       "                        <td id=\"T_d6de6_row37_col3\" class=\"data row37 col3\" >0.52</td>\n",
       "            </tr>\n",
       "            <tr>\n",
       "                        <th id=\"T_d6de6_level0_row38\" class=\"row_heading level0 row38\" >Поленовский край</th>\n",
       "                        <td id=\"T_d6de6_row38_col0\" class=\"data row38 col0\" >69</td>\n",
       "                        <td id=\"T_d6de6_row38_col1\" class=\"data row38 col1\" >451</td>\n",
       "                        <td id=\"T_d6de6_row38_col2\" class=\"data row38 col2\" >0.44</td>\n",
       "                        <td id=\"T_d6de6_row38_col3\" class=\"data row38 col3\" >0.27</td>\n",
       "            </tr>\n",
       "            <tr>\n",
       "                        <th id=\"T_d6de6_level0_row39\" class=\"row_heading level0 row39\" >Синегорский регион</th>\n",
       "                        <td id=\"T_d6de6_row39_col0\" class=\"data row39 col0\" >67</td>\n",
       "                        <td id=\"T_d6de6_row39_col1\" class=\"data row39 col1\" >561</td>\n",
       "                        <td id=\"T_d6de6_row39_col2\" class=\"data row39 col2\" >0.42</td>\n",
       "                        <td id=\"T_d6de6_row39_col3\" class=\"data row39 col3\" >0.33</td>\n",
       "            </tr>\n",
       "            <tr>\n",
       "                        <th id=\"T_d6de6_level0_row40\" class=\"row_heading level0 row40\" >Голубевский округ</th>\n",
       "                        <td id=\"T_d6de6_row40_col0\" class=\"data row40 col0\" >58</td>\n",
       "                        <td id=\"T_d6de6_row40_col1\" class=\"data row40 col1\" >447</td>\n",
       "                        <td id=\"T_d6de6_row40_col2\" class=\"data row40 col2\" >0.37</td>\n",
       "                        <td id=\"T_d6de6_row40_col3\" class=\"data row40 col3\" >0.27</td>\n",
       "            </tr>\n",
       "            <tr>\n",
       "                        <th id=\"T_d6de6_level0_row41\" class=\"row_heading level0 row41\" >Каменноярский край</th>\n",
       "                        <td id=\"T_d6de6_row41_col0\" class=\"data row41 col0\" >49</td>\n",
       "                        <td id=\"T_d6de6_row41_col1\" class=\"data row41 col1\" >386</td>\n",
       "                        <td id=\"T_d6de6_row41_col2\" class=\"data row41 col2\" >0.31</td>\n",
       "                        <td id=\"T_d6de6_row41_col3\" class=\"data row41 col3\" >0.23</td>\n",
       "            </tr>\n",
       "            <tr>\n",
       "                        <th id=\"T_d6de6_level0_row42\" class=\"row_heading level0 row42\" >Белоярская область</th>\n",
       "                        <td id=\"T_d6de6_row42_col0\" class=\"data row42 col0\" >44</td>\n",
       "                        <td id=\"T_d6de6_row42_col1\" class=\"data row42 col1\" >132</td>\n",
       "                        <td id=\"T_d6de6_row42_col2\" class=\"data row42 col2\" >0.28</td>\n",
       "                        <td id=\"T_d6de6_row42_col3\" class=\"data row42 col3\" >0.08</td>\n",
       "            </tr>\n",
       "            <tr>\n",
       "                        <th id=\"T_d6de6_level0_row43\" class=\"row_heading level0 row43\" >Берёзовская область</th>\n",
       "                        <td id=\"T_d6de6_row43_col0\" class=\"data row43 col0\" >42</td>\n",
       "                        <td id=\"T_d6de6_row43_col1\" class=\"data row43 col1\" >348</td>\n",
       "                        <td id=\"T_d6de6_row43_col2\" class=\"data row43 col2\" >0.27</td>\n",
       "                        <td id=\"T_d6de6_row43_col3\" class=\"data row43 col3\" >0.21</td>\n",
       "            </tr>\n",
       "            <tr>\n",
       "                        <th id=\"T_d6de6_level0_row44\" class=\"row_heading level0 row44\" >Златопольский округ</th>\n",
       "                        <td id=\"T_d6de6_row44_col0\" class=\"data row44 col0\" >41</td>\n",
       "                        <td id=\"T_d6de6_row44_col1\" class=\"data row44 col1\" >252</td>\n",
       "                        <td id=\"T_d6de6_row44_col2\" class=\"data row44 col2\" >0.26</td>\n",
       "                        <td id=\"T_d6de6_row44_col3\" class=\"data row44 col3\" >0.15</td>\n",
       "            </tr>\n",
       "            <tr>\n",
       "                        <th id=\"T_d6de6_level0_row45\" class=\"row_heading level0 row45\" >Серебряноярский округ</th>\n",
       "                        <td id=\"T_d6de6_row45_col0\" class=\"data row45 col0\" >39</td>\n",
       "                        <td id=\"T_d6de6_row45_col1\" class=\"data row45 col1\" >227</td>\n",
       "                        <td id=\"T_d6de6_row45_col2\" class=\"data row45 col2\" >0.25</td>\n",
       "                        <td id=\"T_d6de6_row45_col3\" class=\"data row45 col3\" >0.14</td>\n",
       "            </tr>\n",
       "            <tr>\n",
       "                        <th id=\"T_d6de6_level0_row46\" class=\"row_heading level0 row46\" >Верхоречная область</th>\n",
       "                        <td id=\"T_d6de6_row46_col0\" class=\"data row46 col0\" >37</td>\n",
       "                        <td id=\"T_d6de6_row46_col1\" class=\"data row46 col1\" >1266</td>\n",
       "                        <td id=\"T_d6de6_row46_col2\" class=\"data row46 col2\" >0.23</td>\n",
       "                        <td id=\"T_d6de6_row46_col3\" class=\"data row46 col3\" >0.75</td>\n",
       "            </tr>\n",
       "            <tr>\n",
       "                        <th id=\"T_d6de6_level0_row47\" class=\"row_heading level0 row47\" >Нежинская область</th>\n",
       "                        <td id=\"T_d6de6_row47_col0\" class=\"data row47 col0\" >36</td>\n",
       "                        <td id=\"T_d6de6_row47_col1\" class=\"data row47 col1\" >198</td>\n",
       "                        <td id=\"T_d6de6_row47_col2\" class=\"data row47 col2\" >0.23</td>\n",
       "                        <td id=\"T_d6de6_row47_col3\" class=\"data row47 col3\" >0.12</td>\n",
       "            </tr>\n",
       "            <tr>\n",
       "                        <th id=\"T_d6de6_level0_row48\" class=\"row_heading level0 row48\" >Североозёрский округ</th>\n",
       "                        <td id=\"T_d6de6_row48_col0\" class=\"data row48 col0\" >35</td>\n",
       "                        <td id=\"T_d6de6_row48_col1\" class=\"data row48 col1\" >162</td>\n",
       "                        <td id=\"T_d6de6_row48_col2\" class=\"data row48 col2\" >0.22</td>\n",
       "                        <td id=\"T_d6de6_row48_col3\" class=\"data row48 col3\" >0.10</td>\n",
       "            </tr>\n",
       "            <tr>\n",
       "                        <th id=\"T_d6de6_level0_row49\" class=\"row_heading level0 row49\" >Вишнёвский край</th>\n",
       "                        <td id=\"T_d6de6_row49_col0\" class=\"data row49 col0\" >33</td>\n",
       "                        <td id=\"T_d6de6_row49_col1\" class=\"data row49 col1\" >270</td>\n",
       "                        <td id=\"T_d6de6_row49_col2\" class=\"data row49 col2\" >0.21</td>\n",
       "                        <td id=\"T_d6de6_row49_col3\" class=\"data row49 col3\" >0.16</td>\n",
       "            </tr>\n",
       "            <tr>\n",
       "                        <th id=\"T_d6de6_level0_row50\" class=\"row_heading level0 row50\" >Радужногорская область</th>\n",
       "                        <td id=\"T_d6de6_row50_col0\" class=\"data row50 col0\" >32</td>\n",
       "                        <td id=\"T_d6de6_row50_col1\" class=\"data row50 col1\" >234</td>\n",
       "                        <td id=\"T_d6de6_row50_col2\" class=\"data row50 col2\" >0.20</td>\n",
       "                        <td id=\"T_d6de6_row50_col3\" class=\"data row50 col3\" >0.14</td>\n",
       "            </tr>\n",
       "            <tr>\n",
       "                        <th id=\"T_d6de6_level0_row51\" class=\"row_heading level0 row51\" >Каменичская область</th>\n",
       "                        <td id=\"T_d6de6_row51_col0\" class=\"data row51 col0\" >26</td>\n",
       "                        <td id=\"T_d6de6_row51_col1\" class=\"data row51 col1\" >321</td>\n",
       "                        <td id=\"T_d6de6_row51_col2\" class=\"data row51 col2\" >0.16</td>\n",
       "                        <td id=\"T_d6de6_row51_col3\" class=\"data row51 col3\" >0.19</td>\n",
       "            </tr>\n",
       "            <tr>\n",
       "                        <th id=\"T_d6de6_level0_row52\" class=\"row_heading level0 row52\" >Берестовский округ</th>\n",
       "                        <td id=\"T_d6de6_row52_col0\" class=\"data row52 col0\" >25</td>\n",
       "                        <td id=\"T_d6de6_row52_col1\" class=\"data row52 col1\" >322</td>\n",
       "                        <td id=\"T_d6de6_row52_col2\" class=\"data row52 col2\" >0.16</td>\n",
       "                        <td id=\"T_d6de6_row52_col3\" class=\"data row52 col3\" >0.19</td>\n",
       "            </tr>\n",
       "            <tr>\n",
       "                        <th id=\"T_d6de6_level0_row53\" class=\"row_heading level0 row53\" >Кристаловская область</th>\n",
       "                        <td id=\"T_d6de6_row53_col0\" class=\"data row53 col0\" >20</td>\n",
       "                        <td id=\"T_d6de6_row53_col1\" class=\"data row53 col1\" >480</td>\n",
       "                        <td id=\"T_d6de6_row53_col2\" class=\"data row53 col2\" >0.13</td>\n",
       "                        <td id=\"T_d6de6_row53_col3\" class=\"data row53 col3\" >0.29</td>\n",
       "            </tr>\n",
       "            <tr>\n",
       "                        <th id=\"T_d6de6_level0_row54\" class=\"row_heading level0 row54\" >Каменополянский округ</th>\n",
       "                        <td id=\"T_d6de6_row54_col0\" class=\"data row54 col0\" >20</td>\n",
       "                        <td id=\"T_d6de6_row54_col1\" class=\"data row54 col1\" >602</td>\n",
       "                        <td id=\"T_d6de6_row54_col2\" class=\"data row54 col2\" >0.13</td>\n",
       "                        <td id=\"T_d6de6_row54_col3\" class=\"data row54 col3\" >0.36</td>\n",
       "            </tr>\n",
       "            <tr>\n",
       "                        <th id=\"T_d6de6_level0_row55\" class=\"row_heading level0 row55\" >Североключевской округ</th>\n",
       "                        <td id=\"T_d6de6_row55_col0\" class=\"data row55 col0\" >19</td>\n",
       "                        <td id=\"T_d6de6_row55_col1\" class=\"data row55 col1\" >599</td>\n",
       "                        <td id=\"T_d6de6_row55_col2\" class=\"data row55 col2\" >0.12</td>\n",
       "                        <td id=\"T_d6de6_row55_col3\" class=\"data row55 col3\" >0.36</td>\n",
       "            </tr>\n",
       "            <tr>\n",
       "                        <th id=\"T_d6de6_level0_row56\" class=\"row_heading level0 row56\" >Шанырский регион</th>\n",
       "                        <td id=\"T_d6de6_row56_col0\" class=\"data row56 col0\" >16</td>\n",
       "                        <td id=\"T_d6de6_row56_col1\" class=\"data row56 col1\" >390</td>\n",
       "                        <td id=\"T_d6de6_row56_col2\" class=\"data row56 col2\" >0.10</td>\n",
       "                        <td id=\"T_d6de6_row56_col3\" class=\"data row56 col3\" >0.23</td>\n",
       "            </tr>\n",
       "            <tr>\n",
       "                        <th id=\"T_d6de6_level0_row57\" class=\"row_heading level0 row57\" >Лесополянская область</th>\n",
       "                        <td id=\"T_d6de6_row57_col0\" class=\"data row57 col0\" >14</td>\n",
       "                        <td id=\"T_d6de6_row57_col1\" class=\"data row57 col1\" >73</td>\n",
       "                        <td id=\"T_d6de6_row57_col2\" class=\"data row57 col2\" >0.09</td>\n",
       "                        <td id=\"T_d6de6_row57_col3\" class=\"data row57 col3\" >0.04</td>\n",
       "            </tr>\n",
       "            <tr>\n",
       "                        <th id=\"T_d6de6_level0_row58\" class=\"row_heading level0 row58\" >Ветренский регион</th>\n",
       "                        <td id=\"T_d6de6_row58_col0\" class=\"data row58 col0\" >14</td>\n",
       "                        <td id=\"T_d6de6_row58_col1\" class=\"data row58 col1\" >936</td>\n",
       "                        <td id=\"T_d6de6_row58_col2\" class=\"data row58 col2\" >0.09</td>\n",
       "                        <td id=\"T_d6de6_row58_col3\" class=\"data row58 col3\" >0.56</td>\n",
       "            </tr>\n",
       "            <tr>\n",
       "                        <th id=\"T_d6de6_level0_row59\" class=\"row_heading level0 row59\" >Горноземский регион</th>\n",
       "                        <td id=\"T_d6de6_row59_col0\" class=\"data row59 col0\" >14</td>\n",
       "                        <td id=\"T_d6de6_row59_col1\" class=\"data row59 col1\" >214</td>\n",
       "                        <td id=\"T_d6de6_row59_col2\" class=\"data row59 col2\" >0.09</td>\n",
       "                        <td id=\"T_d6de6_row59_col3\" class=\"data row59 col3\" >0.13</td>\n",
       "            </tr>\n",
       "            <tr>\n",
       "                        <th id=\"T_d6de6_level0_row60\" class=\"row_heading level0 row60\" >Дубравная область</th>\n",
       "                        <td id=\"T_d6de6_row60_col0\" class=\"data row60 col0\" >13</td>\n",
       "                        <td id=\"T_d6de6_row60_col1\" class=\"data row60 col1\" >52</td>\n",
       "                        <td id=\"T_d6de6_row60_col2\" class=\"data row60 col2\" >0.08</td>\n",
       "                        <td id=\"T_d6de6_row60_col3\" class=\"data row60 col3\" >0.03</td>\n",
       "            </tr>\n",
       "            <tr>\n",
       "                        <th id=\"T_d6de6_level0_row61\" class=\"row_heading level0 row61\" >Островная область</th>\n",
       "                        <td id=\"T_d6de6_row61_col0\" class=\"data row61 col0\" >11</td>\n",
       "                        <td id=\"T_d6de6_row61_col1\" class=\"data row61 col1\" >91</td>\n",
       "                        <td id=\"T_d6de6_row61_col2\" class=\"data row61 col2\" >0.07</td>\n",
       "                        <td id=\"T_d6de6_row61_col3\" class=\"data row61 col3\" >0.05</td>\n",
       "            </tr>\n",
       "            <tr>\n",
       "                        <th id=\"T_d6de6_level0_row62\" class=\"row_heading level0 row62\" >Лесоярская область</th>\n",
       "                        <td id=\"T_d6de6_row62_col0\" class=\"data row62 col0\" >11</td>\n",
       "                        <td id=\"T_d6de6_row62_col1\" class=\"data row62 col1\" >147</td>\n",
       "                        <td id=\"T_d6de6_row62_col2\" class=\"data row62 col2\" >0.07</td>\n",
       "                        <td id=\"T_d6de6_row62_col3\" class=\"data row62 col3\" >0.09</td>\n",
       "            </tr>\n",
       "            <tr>\n",
       "                        <th id=\"T_d6de6_level0_row63\" class=\"row_heading level0 row63\" >Радужнопольский край</th>\n",
       "                        <td id=\"T_d6de6_row63_col0\" class=\"data row63 col0\" >11</td>\n",
       "                        <td id=\"T_d6de6_row63_col1\" class=\"data row63 col1\" >95</td>\n",
       "                        <td id=\"T_d6de6_row63_col2\" class=\"data row63 col2\" >0.07</td>\n",
       "                        <td id=\"T_d6de6_row63_col3\" class=\"data row63 col3\" >0.06</td>\n",
       "            </tr>\n",
       "            <tr>\n",
       "                        <th id=\"T_d6de6_level0_row64\" class=\"row_heading level0 row64\" >Тихогорская область</th>\n",
       "                        <td id=\"T_d6de6_row64_col0\" class=\"data row64 col0\" >10</td>\n",
       "                        <td id=\"T_d6de6_row64_col1\" class=\"data row64 col1\" >19</td>\n",
       "                        <td id=\"T_d6de6_row64_col2\" class=\"data row64 col2\" >0.06</td>\n",
       "                        <td id=\"T_d6de6_row64_col3\" class=\"data row64 col3\" >0.01</td>\n",
       "            </tr>\n",
       "            <tr>\n",
       "                        <th id=\"T_d6de6_level0_row65\" class=\"row_heading level0 row65\" >Тихолесский край</th>\n",
       "                        <td id=\"T_d6de6_row65_col0\" class=\"data row65 col0\" >9</td>\n",
       "                        <td id=\"T_d6de6_row65_col1\" class=\"data row65 col1\" >54</td>\n",
       "                        <td id=\"T_d6de6_row65_col2\" class=\"data row65 col2\" >0.06</td>\n",
       "                        <td id=\"T_d6de6_row65_col3\" class=\"data row65 col3\" >0.03</td>\n",
       "            </tr>\n",
       "            <tr>\n",
       "                        <th id=\"T_d6de6_level0_row66\" class=\"row_heading level0 row66\" >Тихореченская область</th>\n",
       "                        <td id=\"T_d6de6_row66_col0\" class=\"data row66 col0\" >7</td>\n",
       "                        <td id=\"T_d6de6_row66_col1\" class=\"data row66 col1\" >45</td>\n",
       "                        <td id=\"T_d6de6_row66_col2\" class=\"data row66 col2\" >0.04</td>\n",
       "                        <td id=\"T_d6de6_row66_col3\" class=\"data row66 col3\" >0.03</td>\n",
       "            </tr>\n",
       "            <tr>\n",
       "                        <th id=\"T_d6de6_level0_row67\" class=\"row_heading level0 row67\" >Ручейковский край</th>\n",
       "                        <td id=\"T_d6de6_row67_col0\" class=\"data row67 col0\" >7</td>\n",
       "                        <td id=\"T_d6de6_row67_col1\" class=\"data row67 col1\" >374</td>\n",
       "                        <td id=\"T_d6de6_row67_col2\" class=\"data row67 col2\" >0.04</td>\n",
       "                        <td id=\"T_d6de6_row67_col3\" class=\"data row67 col3\" >0.22</td>\n",
       "            </tr>\n",
       "            <tr>\n",
       "                        <th id=\"T_d6de6_level0_row68\" class=\"row_heading level0 row68\" >Верховинская область</th>\n",
       "                        <td id=\"T_d6de6_row68_col0\" class=\"data row68 col0\" >6</td>\n",
       "                        <td id=\"T_d6de6_row68_col1\" class=\"data row68 col1\" >30</td>\n",
       "                        <td id=\"T_d6de6_row68_col2\" class=\"data row68 col2\" >0.04</td>\n",
       "                        <td id=\"T_d6de6_row68_col3\" class=\"data row68 col3\" >0.02</td>\n",
       "            </tr>\n",
       "            <tr>\n",
       "                        <th id=\"T_d6de6_level0_row69\" class=\"row_heading level0 row69\" >Озернопольская область</th>\n",
       "                        <td id=\"T_d6de6_row69_col0\" class=\"data row69 col0\" >5</td>\n",
       "                        <td id=\"T_d6de6_row69_col1\" class=\"data row69 col1\" >87</td>\n",
       "                        <td id=\"T_d6de6_row69_col2\" class=\"data row69 col2\" >0.03</td>\n",
       "                        <td id=\"T_d6de6_row69_col3\" class=\"data row69 col3\" >0.05</td>\n",
       "            </tr>\n",
       "            <tr>\n",
       "                        <th id=\"T_d6de6_level0_row70\" class=\"row_heading level0 row70\" >Кристальная область</th>\n",
       "                        <td id=\"T_d6de6_row70_col0\" class=\"data row70 col0\" >5</td>\n",
       "                        <td id=\"T_d6de6_row70_col1\" class=\"data row70 col1\" >23</td>\n",
       "                        <td id=\"T_d6de6_row70_col2\" class=\"data row70 col2\" >0.03</td>\n",
       "                        <td id=\"T_d6de6_row70_col3\" class=\"data row70 col3\" >0.01</td>\n",
       "            </tr>\n",
       "            <tr>\n",
       "                        <th id=\"T_d6de6_level0_row71\" class=\"row_heading level0 row71\" >Яснопольский округ</th>\n",
       "                        <td id=\"T_d6de6_row71_col0\" class=\"data row71 col0\" >5</td>\n",
       "                        <td id=\"T_d6de6_row71_col1\" class=\"data row71 col1\" >18</td>\n",
       "                        <td id=\"T_d6de6_row71_col2\" class=\"data row71 col2\" >0.03</td>\n",
       "                        <td id=\"T_d6de6_row71_col3\" class=\"data row71 col3\" >0.01</td>\n",
       "            </tr>\n",
       "            <tr>\n",
       "                        <th id=\"T_d6de6_level0_row72\" class=\"row_heading level0 row72\" >Залесский край</th>\n",
       "                        <td id=\"T_d6de6_row72_col0\" class=\"data row72 col0\" >4</td>\n",
       "                        <td id=\"T_d6de6_row72_col1\" class=\"data row72 col1\" >56</td>\n",
       "                        <td id=\"T_d6de6_row72_col2\" class=\"data row72 col2\" >0.03</td>\n",
       "                        <td id=\"T_d6de6_row72_col3\" class=\"data row72 col3\" >0.03</td>\n",
       "            </tr>\n",
       "            <tr>\n",
       "                        <th id=\"T_d6de6_level0_row73\" class=\"row_heading level0 row73\" >Островогорский округ</th>\n",
       "                        <td id=\"T_d6de6_row73_col0\" class=\"data row73 col0\" >4</td>\n",
       "                        <td id=\"T_d6de6_row73_col1\" class=\"data row73 col1\" >18</td>\n",
       "                        <td id=\"T_d6de6_row73_col2\" class=\"data row73 col2\" >0.03</td>\n",
       "                        <td id=\"T_d6de6_row73_col3\" class=\"data row73 col3\" >0.01</td>\n",
       "            </tr>\n",
       "            <tr>\n",
       "                        <th id=\"T_d6de6_level0_row74\" class=\"row_heading level0 row74\" >Светолесский край</th>\n",
       "                        <td id=\"T_d6de6_row74_col0\" class=\"data row74 col0\" >2</td>\n",
       "                        <td id=\"T_d6de6_row74_col1\" class=\"data row74 col1\" >18</td>\n",
       "                        <td id=\"T_d6de6_row74_col2\" class=\"data row74 col2\" >0.01</td>\n",
       "                        <td id=\"T_d6de6_row74_col3\" class=\"data row74 col3\" >0.01</td>\n",
       "            </tr>\n",
       "            <tr>\n",
       "                        <th id=\"T_d6de6_level0_row75\" class=\"row_heading level0 row75\" >Верхозёрский край</th>\n",
       "                        <td id=\"T_d6de6_row75_col0\" class=\"data row75 col0\" >2</td>\n",
       "                        <td id=\"T_d6de6_row75_col1\" class=\"data row75 col1\" >11</td>\n",
       "                        <td id=\"T_d6de6_row75_col2\" class=\"data row75 col2\" >0.01</td>\n",
       "                        <td id=\"T_d6de6_row75_col3\" class=\"data row75 col3\" >0.01</td>\n",
       "            </tr>\n",
       "            <tr>\n",
       "                        <th id=\"T_d6de6_level0_row76\" class=\"row_heading level0 row76\" >Сосноводолинская область</th>\n",
       "                        <td id=\"T_d6de6_row76_col0\" class=\"data row76 col0\" >1</td>\n",
       "                        <td id=\"T_d6de6_row76_col1\" class=\"data row76 col1\" >9</td>\n",
       "                        <td id=\"T_d6de6_row76_col2\" class=\"data row76 col2\" >0.01</td>\n",
       "                        <td id=\"T_d6de6_row76_col3\" class=\"data row76 col3\" >0.01</td>\n",
       "            </tr>\n",
       "    </tbody></table>"
      ],
      "text/plain": [
       "<pandas.io.formats.style.Styler at 0x7f5a2d96fd00>"
      ]
     },
     "execution_count": 57,
     "metadata": {},
     "output_type": "execute_result"
    }
   ],
   "source": [
    "#создаем сводную таблицу с необходимыми показателями, переименовываем столбцы\n",
    "region_orders_events = final_filtered_autumn.pivot_table(\n",
    "    index='region_name',\n",
    "    values=['order_id', 'event_id'],\n",
    "    aggfunc={\n",
    "        'order_id': 'count',\n",
    "        'event_id': 'nunique',\n",
    "    }\n",
    ").rename(columns={\n",
    "    'order_id': 'orders',\n",
    "    'event_id': 'events'\n",
    "})\n",
    "\n",
    "#добавляем столбцы с долями (в %)\n",
    "region_orders_events['events_%'] = region_orders_events['events'] / region_orders_events['events'].sum() * 100\n",
    "region_orders_events['orders_%'] = region_orders_events['orders'] / region_orders_events['orders'].sum() * 100\n",
    "\n",
    "#сортируем по количеству мероприятий\n",
    "region_orders_events = region_orders_events.sort_values(by='events', ascending=False)\n",
    "\n",
    "#добавляем форматирование в стиле heatmap\n",
    "region_orders_events.style.background_gradient(subset=['orders_%', 'events_%'], cmap='YlOrBr').format({'orders_%': '{:.2f}', 'events_%': '{:.2f}'})\n"
   ]
  },
  {
   "cell_type": "markdown",
   "metadata": {},
   "source": [
    "Абсолютный лидер и по количеству мероприятий, и по количеству заказов – **Каменевский регион**. На его долю приходится 28% всех мероприятий и заказов. \n",
    "Также в тройку лидеров входят Североярская область и Широковская область (по количеству мероприятий)/Медовская область (по количеству заказов). "
   ]
  },
  {
   "cell_type": "markdown",
   "metadata": {},
   "source": [
    "💬 Для каждого билетного партнёра посчитайте общее число уникальных мероприятий, обработанных заказов и суммарную выручку с заказов билетов. Сделайте акцент на наиболее активных партнёрах."
   ]
  },
  {
   "cell_type": "code",
   "execution_count": 58,
   "metadata": {},
   "outputs": [
    {
     "data": {
      "text/html": [
       "<style  type=\"text/css\" >\n",
       "#T_75888_row0_col3,#T_75888_row1_col4,#T_75888_row1_col5{\n",
       "            background-color:  #662506;\n",
       "            color:  #f1f1f1;\n",
       "        }#T_75888_row0_col4{\n",
       "            background-color:  #b64203;\n",
       "            color:  #f1f1f1;\n",
       "        }#T_75888_row0_col5{\n",
       "            background-color:  #a93c03;\n",
       "            color:  #f1f1f1;\n",
       "        }#T_75888_row1_col3{\n",
       "            background-color:  #bc4503;\n",
       "            color:  #f1f1f1;\n",
       "        }#T_75888_row2_col3{\n",
       "            background-color:  #dd5f0c;\n",
       "            color:  #000000;\n",
       "        }#T_75888_row2_col4{\n",
       "            background-color:  #b94303;\n",
       "            color:  #f1f1f1;\n",
       "        }#T_75888_row2_col5{\n",
       "            background-color:  #ee7416;\n",
       "            color:  #000000;\n",
       "        }#T_75888_row3_col3{\n",
       "            background-color:  #febe4a;\n",
       "            color:  #000000;\n",
       "        }#T_75888_row3_col4{\n",
       "            background-color:  #fe9f2e;\n",
       "            color:  #000000;\n",
       "        }#T_75888_row3_col5{\n",
       "            background-color:  #a13804;\n",
       "            color:  #f1f1f1;\n",
       "        }#T_75888_row4_col3,#T_75888_row4_col4{\n",
       "            background-color:  #fec14c;\n",
       "            color:  #000000;\n",
       "        }#T_75888_row4_col5{\n",
       "            background-color:  #fff6b9;\n",
       "            color:  #000000;\n",
       "        }#T_75888_row5_col3{\n",
       "            background-color:  #fedc82;\n",
       "            color:  #000000;\n",
       "        }#T_75888_row5_col4{\n",
       "            background-color:  #ef7718;\n",
       "            color:  #000000;\n",
       "        }#T_75888_row5_col5{\n",
       "            background-color:  #9b3504;\n",
       "            color:  #f1f1f1;\n",
       "        }#T_75888_row6_col3{\n",
       "            background-color:  #fee595;\n",
       "            color:  #000000;\n",
       "        }#T_75888_row6_col4{\n",
       "            background-color:  #fff7be;\n",
       "            color:  #000000;\n",
       "        }#T_75888_row6_col5{\n",
       "            background-color:  #ffefac;\n",
       "            color:  #000000;\n",
       "        }#T_75888_row7_col3{\n",
       "            background-color:  #feeba2;\n",
       "            color:  #000000;\n",
       "        }#T_75888_row7_col4{\n",
       "            background-color:  #ffeea9;\n",
       "            color:  #000000;\n",
       "        }#T_75888_row7_col5{\n",
       "            background-color:  #feeaa1;\n",
       "            color:  #000000;\n",
       "        }#T_75888_row8_col3{\n",
       "            background-color:  #fff1ae;\n",
       "            color:  #000000;\n",
       "        }#T_75888_row8_col4{\n",
       "            background-color:  #fed87a;\n",
       "            color:  #000000;\n",
       "        }#T_75888_row8_col5{\n",
       "            background-color:  #cb4b02;\n",
       "            color:  #f1f1f1;\n",
       "        }#T_75888_row9_col3{\n",
       "            background-color:  #fff3b4;\n",
       "            color:  #000000;\n",
       "        }#T_75888_row9_col4{\n",
       "            background-color:  #fff8c2;\n",
       "            color:  #000000;\n",
       "        }#T_75888_row9_col5{\n",
       "            background-color:  #fee89b;\n",
       "            color:  #000000;\n",
       "        }#T_75888_row10_col3{\n",
       "            background-color:  #fffacb;\n",
       "            color:  #000000;\n",
       "        }#T_75888_row10_col4,#T_75888_row12_col4,#T_75888_row13_col3,#T_75888_row14_col3,#T_75888_row14_col4{\n",
       "            background-color:  #fffcd4;\n",
       "            color:  #000000;\n",
       "        }#T_75888_row10_col5{\n",
       "            background-color:  #fffaca;\n",
       "            color:  #000000;\n",
       "        }#T_75888_row11_col3,#T_75888_row12_col3{\n",
       "            background-color:  #fffbd3;\n",
       "            color:  #000000;\n",
       "        }#T_75888_row11_col4{\n",
       "            background-color:  #fffcd8;\n",
       "            color:  #000000;\n",
       "        }#T_75888_row11_col5{\n",
       "            background-color:  #ffface;\n",
       "            color:  #000000;\n",
       "        }#T_75888_row12_col5{\n",
       "            background-color:  #fff9c6;\n",
       "            color:  #000000;\n",
       "        }#T_75888_row13_col4{\n",
       "            background-color:  #fff9c7;\n",
       "            color:  #000000;\n",
       "        }#T_75888_row13_col5{\n",
       "            background-color:  #fee493;\n",
       "            color:  #000000;\n",
       "        }#T_75888_row14_col5{\n",
       "            background-color:  #fff6ba;\n",
       "            color:  #000000;\n",
       "        }#T_75888_row15_col3,#T_75888_row19_col5{\n",
       "            background-color:  #fffcd6;\n",
       "            color:  #000000;\n",
       "        }#T_75888_row15_col4,#T_75888_row18_col5{\n",
       "            background-color:  #fffee0;\n",
       "            color:  #000000;\n",
       "        }#T_75888_row15_col5,#T_75888_row18_col3{\n",
       "            background-color:  #fffddd;\n",
       "            color:  #000000;\n",
       "        }#T_75888_row16_col3,#T_75888_row16_col4,#T_75888_row17_col3{\n",
       "            background-color:  #fffdd9;\n",
       "            color:  #000000;\n",
       "        }#T_75888_row16_col5{\n",
       "            background-color:  #fffacd;\n",
       "            color:  #000000;\n",
       "        }#T_75888_row17_col4,#T_75888_row19_col4{\n",
       "            background-color:  #fffddc;\n",
       "            color:  #000000;\n",
       "        }#T_75888_row17_col5{\n",
       "            background-color:  #fffbcf;\n",
       "            color:  #000000;\n",
       "        }#T_75888_row18_col4,#T_75888_row24_col4{\n",
       "            background-color:  #fffee1;\n",
       "            color:  #000000;\n",
       "        }#T_75888_row19_col3,#T_75888_row20_col5{\n",
       "            background-color:  #fffedf;\n",
       "            color:  #000000;\n",
       "        }#T_75888_row20_col3,#T_75888_row23_col5,#T_75888_row26_col4{\n",
       "            background-color:  #fffee2;\n",
       "            color:  #000000;\n",
       "        }#T_75888_row20_col4,#T_75888_row21_col3,#T_75888_row22_col3,#T_75888_row23_col4,#T_75888_row28_col5{\n",
       "            background-color:  #ffffe4;\n",
       "            color:  #000000;\n",
       "        }#T_75888_row21_col4,#T_75888_row21_col5,#T_75888_row22_col4,#T_75888_row22_col5,#T_75888_row23_col3,#T_75888_row24_col3,#T_75888_row25_col3,#T_75888_row25_col4,#T_75888_row25_col5,#T_75888_row26_col3,#T_75888_row26_col5,#T_75888_row27_col3,#T_75888_row27_col4,#T_75888_row27_col5,#T_75888_row28_col3,#T_75888_row28_col4,#T_75888_row29_col3,#T_75888_row29_col4,#T_75888_row29_col5,#T_75888_row30_col3,#T_75888_row30_col4,#T_75888_row30_col5,#T_75888_row31_col3,#T_75888_row31_col4,#T_75888_row31_col5,#T_75888_row32_col3,#T_75888_row32_col4,#T_75888_row32_col5,#T_75888_row33_col3,#T_75888_row33_col4,#T_75888_row33_col5,#T_75888_row34_col3,#T_75888_row34_col4,#T_75888_row34_col5{\n",
       "            background-color:  #ffffe5;\n",
       "            color:  #000000;\n",
       "        }#T_75888_row24_col5{\n",
       "            background-color:  #fffddb;\n",
       "            color:  #000000;\n",
       "        }</style><table id=\"T_75888_\" ><thead>    <tr>        <th class=\"blank level0\" ></th>        <th class=\"col_heading level0 col0\" >events</th>        <th class=\"col_heading level0 col1\" >orders</th>        <th class=\"col_heading level0 col2\" >total_revenue</th>        <th class=\"col_heading level0 col3\" >events_%</th>        <th class=\"col_heading level0 col4\" >orders_%</th>        <th class=\"col_heading level0 col5\" >revenue_%</th>    </tr>    <tr>        <th class=\"index_name level0\" >service_name</th>        <th class=\"blank\" ></th>        <th class=\"blank\" ></th>        <th class=\"blank\" ></th>        <th class=\"blank\" ></th>        <th class=\"blank\" ></th>        <th class=\"blank\" ></th>    </tr></thead><tbody>\n",
       "                <tr>\n",
       "                        <th id=\"T_75888_level0_row0\" class=\"row_heading level0 row0\" >Лови билет!</th>\n",
       "                        <td id=\"T_75888_row0_col0\" class=\"data row0 col0\" >3586</td>\n",
       "                        <td id=\"T_75888_row0_col1\" class=\"data row0 col1\" >25718</td>\n",
       "                        <td id=\"T_75888_row0_col2\" class=\"data row0 col2\" >10412266.100000</td>\n",
       "                        <td id=\"T_75888_row0_col3\" class=\"data row0 col3\" >20.85</td>\n",
       "                        <td id=\"T_75888_row0_col4\" class=\"data row0 col4\" >15.31</td>\n",
       "                        <td id=\"T_75888_row0_col5\" class=\"data row0 col5\" >12.65</td>\n",
       "            </tr>\n",
       "            <tr>\n",
       "                        <th id=\"T_75888_level0_row1\" class=\"row_heading level0 row1\" >Билеты без проблем</th>\n",
       "                        <td id=\"T_75888_row1_col0\" class=\"data row1 col0\" >2819</td>\n",
       "                        <td id=\"T_75888_row1_col1\" class=\"data row1 col1\" >32100</td>\n",
       "                        <td id=\"T_75888_row1_col2\" class=\"data row1 col2\" >12459130.950000</td>\n",
       "                        <td id=\"T_75888_row1_col3\" class=\"data row1 col3\" >16.39</td>\n",
       "                        <td id=\"T_75888_row1_col4\" class=\"data row1 col4\" >19.11</td>\n",
       "                        <td id=\"T_75888_row1_col5\" class=\"data row1 col5\" >15.14</td>\n",
       "            </tr>\n",
       "            <tr>\n",
       "                        <th id=\"T_75888_level0_row2\" class=\"row_heading level0 row2\" >Билеты в руки</th>\n",
       "                        <td id=\"T_75888_row2_col0\" class=\"data row2 col0\" >2447</td>\n",
       "                        <td id=\"T_75888_row2_col1\" class=\"data row2 col1\" >25544</td>\n",
       "                        <td id=\"T_75888_row2_col2\" class=\"data row2 col2\" >7620097.500000</td>\n",
       "                        <td id=\"T_75888_row2_col3\" class=\"data row2 col3\" >14.23</td>\n",
       "                        <td id=\"T_75888_row2_col4\" class=\"data row2 col4\" >15.20</td>\n",
       "                        <td id=\"T_75888_row2_col5\" class=\"data row2 col5\" >9.26</td>\n",
       "            </tr>\n",
       "            <tr>\n",
       "                        <th id=\"T_75888_level0_row3\" class=\"row_heading level0 row3\" >Облачко</th>\n",
       "                        <td id=\"T_75888_row3_col0\" class=\"data row3 col0\" >1409</td>\n",
       "                        <td id=\"T_75888_row3_col1\" class=\"data row3 col1\" >15478</td>\n",
       "                        <td id=\"T_75888_row3_col2\" class=\"data row3 col2\" >10611051.690000</td>\n",
       "                        <td id=\"T_75888_row3_col3\" class=\"data row3 col3\" >8.19</td>\n",
       "                        <td id=\"T_75888_row3_col4\" class=\"data row3 col4\" >9.21</td>\n",
       "                        <td id=\"T_75888_row3_col5\" class=\"data row3 col5\" >12.89</td>\n",
       "            </tr>\n",
       "            <tr>\n",
       "                        <th id=\"T_75888_level0_row4\" class=\"row_heading level0 row4\" >Лучшие билеты</th>\n",
       "                        <td id=\"T_75888_row4_col0\" class=\"data row4 col0\" >1377</td>\n",
       "                        <td id=\"T_75888_row4_col1\" class=\"data row4 col1\" >12342</td>\n",
       "                        <td id=\"T_75888_row4_col2\" class=\"data row4 col2\" >1672813.640000</td>\n",
       "                        <td id=\"T_75888_row4_col3\" class=\"data row4 col3\" >8.01</td>\n",
       "                        <td id=\"T_75888_row4_col4\" class=\"data row4 col4\" >7.35</td>\n",
       "                        <td id=\"T_75888_row4_col5\" class=\"data row4 col5\" >2.03</td>\n",
       "            </tr>\n",
       "            <tr>\n",
       "                        <th id=\"T_75888_level0_row5\" class=\"row_heading level0 row5\" >Мой билет</th>\n",
       "                        <td id=\"T_75888_row5_col0\" class=\"data row5 col0\" >1003</td>\n",
       "                        <td id=\"T_75888_row5_col1\" class=\"data row5 col1\" >19403</td>\n",
       "                        <td id=\"T_75888_row5_col2\" class=\"data row5 col2\" >10842032.510000</td>\n",
       "                        <td id=\"T_75888_row5_col3\" class=\"data row5 col3\" >5.83</td>\n",
       "                        <td id=\"T_75888_row5_col4\" class=\"data row5 col4\" >11.55</td>\n",
       "                        <td id=\"T_75888_row5_col5\" class=\"data row5 col5\" >13.17</td>\n",
       "            </tr>\n",
       "            <tr>\n",
       "                        <th id=\"T_75888_level0_row6\" class=\"row_heading level0 row6\" >Тебе билет!</th>\n",
       "                        <td id=\"T_75888_row6_col0\" class=\"data row6 col0\" >858</td>\n",
       "                        <td id=\"T_75888_row6_col1\" class=\"data row6 col1\" >3765</td>\n",
       "                        <td id=\"T_75888_row6_col2\" class=\"data row6 col2\" >2181787.800000</td>\n",
       "                        <td id=\"T_75888_row6_col3\" class=\"data row6 col3\" >4.99</td>\n",
       "                        <td id=\"T_75888_row6_col4\" class=\"data row6 col4\" >2.24</td>\n",
       "                        <td id=\"T_75888_row6_col5\" class=\"data row6 col5\" >2.65</td>\n",
       "            </tr>\n",
       "            <tr>\n",
       "                        <th id=\"T_75888_level0_row7\" class=\"row_heading level0 row7\" >Прачечная</th>\n",
       "                        <td id=\"T_75888_row7_col0\" class=\"data row7 col0\" >728</td>\n",
       "                        <td id=\"T_75888_row7_col1\" class=\"data row7 col1\" >5798</td>\n",
       "                        <td id=\"T_75888_row7_col2\" class=\"data row7 col2\" >2548310.470000</td>\n",
       "                        <td id=\"T_75888_row7_col3\" class=\"data row7 col3\" >4.23</td>\n",
       "                        <td id=\"T_75888_row7_col4\" class=\"data row7 col4\" >3.45</td>\n",
       "                        <td id=\"T_75888_row7_col5\" class=\"data row7 col5\" >3.10</td>\n",
       "            </tr>\n",
       "            <tr>\n",
       "                        <th id=\"T_75888_level0_row8\" class=\"row_heading level0 row8\" >Весь в билетах</th>\n",
       "                        <td id=\"T_75888_row8_col0\" class=\"data row8 col0\" >600</td>\n",
       "                        <td id=\"T_75888_row8_col1\" class=\"data row8 col1\" >9427</td>\n",
       "                        <td id=\"T_75888_row8_col2\" class=\"data row8 col2\" >9379748.640000</td>\n",
       "                        <td id=\"T_75888_row8_col3\" class=\"data row8 col3\" >3.49</td>\n",
       "                        <td id=\"T_75888_row8_col4\" class=\"data row8 col4\" >5.61</td>\n",
       "                        <td id=\"T_75888_row8_col5\" class=\"data row8 col5\" >11.40</td>\n",
       "            </tr>\n",
       "            <tr>\n",
       "                        <th id=\"T_75888_level0_row9\" class=\"row_heading level0 row9\" >Яблоко</th>\n",
       "                        <td id=\"T_75888_row9_col0\" class=\"data row9 col0\" >537</td>\n",
       "                        <td id=\"T_75888_row9_col1\" class=\"data row9 col1\" >3473</td>\n",
       "                        <td id=\"T_75888_row9_col2\" class=\"data row9 col2\" >2763332.310000</td>\n",
       "                        <td id=\"T_75888_row9_col3\" class=\"data row9 col3\" >3.12</td>\n",
       "                        <td id=\"T_75888_row9_col4\" class=\"data row9 col4\" >2.07</td>\n",
       "                        <td id=\"T_75888_row9_col5\" class=\"data row9 col5\" >3.36</td>\n",
       "            </tr>\n",
       "            <tr>\n",
       "                        <th id=\"T_75888_level0_row10\" class=\"row_heading level0 row10\" >Городской дом культуры</th>\n",
       "                        <td id=\"T_75888_row10_col0\" class=\"data row10 col0\" >289</td>\n",
       "                        <td id=\"T_75888_row10_col1\" class=\"data row10 col1\" >1738</td>\n",
       "                        <td id=\"T_75888_row10_col2\" class=\"data row10 col2\" >1054292.870000</td>\n",
       "                        <td id=\"T_75888_row10_col3\" class=\"data row10 col3\" >1.68</td>\n",
       "                        <td id=\"T_75888_row10_col4\" class=\"data row10 col4\" >1.03</td>\n",
       "                        <td id=\"T_75888_row10_col5\" class=\"data row10 col5\" >1.28</td>\n",
       "            </tr>\n",
       "            <tr>\n",
       "                        <th id=\"T_75888_level0_row11\" class=\"row_heading level0 row11\" >Show_ticket</th>\n",
       "                        <td id=\"T_75888_row11_col0\" class=\"data row11 col0\" >204</td>\n",
       "                        <td id=\"T_75888_row11_col1\" class=\"data row11 col1\" >1300</td>\n",
       "                        <td id=\"T_75888_row11_col2\" class=\"data row11 col2\" >906167.060000</td>\n",
       "                        <td id=\"T_75888_row11_col3\" class=\"data row11 col3\" >1.19</td>\n",
       "                        <td id=\"T_75888_row11_col4\" class=\"data row11 col4\" >0.77</td>\n",
       "                        <td id=\"T_75888_row11_col5\" class=\"data row11 col5\" >1.10</td>\n",
       "            </tr>\n",
       "            <tr>\n",
       "                        <th id=\"T_75888_level0_row12\" class=\"row_heading level0 row12\" >За билетом!</th>\n",
       "                        <td id=\"T_75888_row12_col0\" class=\"data row12 col0\" >200</td>\n",
       "                        <td id=\"T_75888_row12_col1\" class=\"data row12 col1\" >1738</td>\n",
       "                        <td id=\"T_75888_row12_col2\" class=\"data row12 col2\" >1200925.260000</td>\n",
       "                        <td id=\"T_75888_row12_col3\" class=\"data row12 col3\" >1.16</td>\n",
       "                        <td id=\"T_75888_row12_col4\" class=\"data row12 col4\" >1.03</td>\n",
       "                        <td id=\"T_75888_row12_col5\" class=\"data row12 col5\" >1.46</td>\n",
       "            </tr>\n",
       "            <tr>\n",
       "                        <th id=\"T_75888_level0_row13\" class=\"row_heading level0 row13\" >Край билетов</th>\n",
       "                        <td id=\"T_75888_row13_col0\" class=\"data row13 col0\" >193</td>\n",
       "                        <td id=\"T_75888_row13_col1\" class=\"data row13 col1\" >3004</td>\n",
       "                        <td id=\"T_75888_row13_col2\" class=\"data row13 col2\" >3037065.170000</td>\n",
       "                        <td id=\"T_75888_row13_col3\" class=\"data row13 col3\" >1.12</td>\n",
       "                        <td id=\"T_75888_row13_col4\" class=\"data row13 col4\" >1.79</td>\n",
       "                        <td id=\"T_75888_row13_col5\" class=\"data row13 col5\" >3.69</td>\n",
       "            </tr>\n",
       "            <tr>\n",
       "                        <th id=\"T_75888_level0_row14\" class=\"row_heading level0 row14\" >Дом культуры</th>\n",
       "                        <td id=\"T_75888_row14_col0\" class=\"data row14 col0\" >191</td>\n",
       "                        <td id=\"T_75888_row14_col1\" class=\"data row14 col1\" >1740</td>\n",
       "                        <td id=\"T_75888_row14_col2\" class=\"data row14 col2\" >1640817.410000</td>\n",
       "                        <td id=\"T_75888_row14_col3\" class=\"data row14 col3\" >1.11</td>\n",
       "                        <td id=\"T_75888_row14_col4\" class=\"data row14 col4\" >1.04</td>\n",
       "                        <td id=\"T_75888_row14_col5\" class=\"data row14 col5\" >1.99</td>\n",
       "            </tr>\n",
       "            <tr>\n",
       "                        <th id=\"T_75888_level0_row15\" class=\"row_heading level0 row15\" >Crazy ticket!</th>\n",
       "                        <td id=\"T_75888_row15_col0\" class=\"data row15 col0\" >178</td>\n",
       "                        <td id=\"T_75888_row15_col1\" class=\"data row15 col1\" >550</td>\n",
       "                        <td id=\"T_75888_row15_col2\" class=\"data row15 col2\" >319451.550000</td>\n",
       "                        <td id=\"T_75888_row15_col3\" class=\"data row15 col3\" >1.04</td>\n",
       "                        <td id=\"T_75888_row15_col4\" class=\"data row15 col4\" >0.33</td>\n",
       "                        <td id=\"T_75888_row15_col5\" class=\"data row15 col5\" >0.39</td>\n",
       "            </tr>\n",
       "            <tr>\n",
       "                        <th id=\"T_75888_level0_row16\" class=\"row_heading level0 row16\" >Быстробилет</th>\n",
       "                        <td id=\"T_75888_row16_col0\" class=\"data row16 col0\" >133</td>\n",
       "                        <td id=\"T_75888_row16_col1\" class=\"data row16 col1\" >1162</td>\n",
       "                        <td id=\"T_75888_row16_col2\" class=\"data row16 col2\" >929493.200000</td>\n",
       "                        <td id=\"T_75888_row16_col3\" class=\"data row16 col3\" >0.77</td>\n",
       "                        <td id=\"T_75888_row16_col4\" class=\"data row16 col4\" >0.69</td>\n",
       "                        <td id=\"T_75888_row16_col5\" class=\"data row16 col5\" >1.13</td>\n",
       "            </tr>\n",
       "            <tr>\n",
       "                        <th id=\"T_75888_level0_row17\" class=\"row_heading level0 row17\" >Мир касс</th>\n",
       "                        <td id=\"T_75888_row17_col0\" class=\"data row17 col0\" >131</td>\n",
       "                        <td id=\"T_75888_row17_col1\" class=\"data row17 col1\" >989</td>\n",
       "                        <td id=\"T_75888_row17_col2\" class=\"data row17 col2\" >837319.310000</td>\n",
       "                        <td id=\"T_75888_row17_col3\" class=\"data row17 col3\" >0.76</td>\n",
       "                        <td id=\"T_75888_row17_col4\" class=\"data row17 col4\" >0.59</td>\n",
       "                        <td id=\"T_75888_row17_col5\" class=\"data row17 col5\" >1.02</td>\n",
       "            </tr>\n",
       "            <tr>\n",
       "                        <th id=\"T_75888_level0_row18\" class=\"row_heading level0 row18\" >Восьмёрка</th>\n",
       "                        <td id=\"T_75888_row18_col0\" class=\"data row18 col0\" >92</td>\n",
       "                        <td id=\"T_75888_row18_col1\" class=\"data row18 col1\" >390</td>\n",
       "                        <td id=\"T_75888_row18_col2\" class=\"data row18 col2\" >238422.400000</td>\n",
       "                        <td id=\"T_75888_row18_col3\" class=\"data row18 col3\" >0.53</td>\n",
       "                        <td id=\"T_75888_row18_col4\" class=\"data row18 col4\" >0.23</td>\n",
       "                        <td id=\"T_75888_row18_col5\" class=\"data row18 col5\" >0.29</td>\n",
       "            </tr>\n",
       "            <tr>\n",
       "                        <th id=\"T_75888_level0_row19\" class=\"row_heading level0 row19\" >Выступления.ру</th>\n",
       "                        <td id=\"T_75888_row19_col0\" class=\"data row19 col0\" >79</td>\n",
       "                        <td id=\"T_75888_row19_col1\" class=\"data row19 col1\" >917</td>\n",
       "                        <td id=\"T_75888_row19_col2\" class=\"data row19 col2\" >606630.120000</td>\n",
       "                        <td id=\"T_75888_row19_col3\" class=\"data row19 col3\" >0.46</td>\n",
       "                        <td id=\"T_75888_row19_col4\" class=\"data row19 col4\" >0.55</td>\n",
       "                        <td id=\"T_75888_row19_col5\" class=\"data row19 col5\" >0.74</td>\n",
       "            </tr>\n",
       "            <tr>\n",
       "                        <th id=\"T_75888_level0_row20\" class=\"row_heading level0 row20\" >Росбилет</th>\n",
       "                        <td id=\"T_75888_row20_col0\" class=\"data row20 col0\" >41</td>\n",
       "                        <td id=\"T_75888_row20_col1\" class=\"data row20 col1\" >189</td>\n",
       "                        <td id=\"T_75888_row20_col2\" class=\"data row20 col2\" >286815.500000</td>\n",
       "                        <td id=\"T_75888_row20_col3\" class=\"data row20 col3\" >0.24</td>\n",
       "                        <td id=\"T_75888_row20_col4\" class=\"data row20 col4\" >0.11</td>\n",
       "                        <td id=\"T_75888_row20_col5\" class=\"data row20 col5\" >0.35</td>\n",
       "            </tr>\n",
       "            <tr>\n",
       "                        <th id=\"T_75888_level0_row21\" class=\"row_heading level0 row21\" >КарандашРУ</th>\n",
       "                        <td id=\"T_75888_row21_col0\" class=\"data row21 col0\" >28</td>\n",
       "                        <td id=\"T_75888_row21_col1\" class=\"data row21 col1\" >69</td>\n",
       "                        <td id=\"T_75888_row21_col2\" class=\"data row21 col2\" >13689.570000</td>\n",
       "                        <td id=\"T_75888_row21_col3\" class=\"data row21 col3\" >0.16</td>\n",
       "                        <td id=\"T_75888_row21_col4\" class=\"data row21 col4\" >0.04</td>\n",
       "                        <td id=\"T_75888_row21_col5\" class=\"data row21 col5\" >0.02</td>\n",
       "            </tr>\n",
       "            <tr>\n",
       "                        <th id=\"T_75888_level0_row22\" class=\"row_heading level0 row22\" >Вперёд!</th>\n",
       "                        <td id=\"T_75888_row22_col0\" class=\"data row22 col0\" >21</td>\n",
       "                        <td id=\"T_75888_row22_col1\" class=\"data row22 col1\" >38</td>\n",
       "                        <td id=\"T_75888_row22_col2\" class=\"data row22 col2\" >14540.020000</td>\n",
       "                        <td id=\"T_75888_row22_col3\" class=\"data row22 col3\" >0.12</td>\n",
       "                        <td id=\"T_75888_row22_col4\" class=\"data row22 col4\" >0.02</td>\n",
       "                        <td id=\"T_75888_row22_col5\" class=\"data row22 col5\" >0.02</td>\n",
       "            </tr>\n",
       "            <tr>\n",
       "                        <th id=\"T_75888_level0_row23\" class=\"row_heading level0 row23\" >Телебилет</th>\n",
       "                        <td id=\"T_75888_row23_col0\" class=\"data row23 col0\" >12</td>\n",
       "                        <td id=\"T_75888_row23_col1\" class=\"data row23 col1\" >206</td>\n",
       "                        <td id=\"T_75888_row23_col2\" class=\"data row23 col2\" >113377.050000</td>\n",
       "                        <td id=\"T_75888_row23_col3\" class=\"data row23 col3\" >0.07</td>\n",
       "                        <td id=\"T_75888_row23_col4\" class=\"data row23 col4\" >0.12</td>\n",
       "                        <td id=\"T_75888_row23_col5\" class=\"data row23 col5\" >0.14</td>\n",
       "            </tr>\n",
       "            <tr>\n",
       "                        <th id=\"T_75888_level0_row24\" class=\"row_heading level0 row24\" >Шоу начинается!</th>\n",
       "                        <td id=\"T_75888_row24_col0\" class=\"data row24 col0\" >11</td>\n",
       "                        <td id=\"T_75888_row24_col1\" class=\"data row24 col1\" >406</td>\n",
       "                        <td id=\"T_75888_row24_col2\" class=\"data row24 col2\" >405148.160000</td>\n",
       "                        <td id=\"T_75888_row24_col3\" class=\"data row24 col3\" >0.06</td>\n",
       "                        <td id=\"T_75888_row24_col4\" class=\"data row24 col4\" >0.24</td>\n",
       "                        <td id=\"T_75888_row24_col5\" class=\"data row24 col5\" >0.49</td>\n",
       "            </tr>\n",
       "            <tr>\n",
       "                        <th id=\"T_75888_level0_row25\" class=\"row_heading level0 row25\" >Билет по телефону</th>\n",
       "                        <td id=\"T_75888_row25_col0\" class=\"data row25 col0\" >10</td>\n",
       "                        <td id=\"T_75888_row25_col1\" class=\"data row25 col1\" >50</td>\n",
       "                        <td id=\"T_75888_row25_col2\" class=\"data row25 col2\" >37807.820000</td>\n",
       "                        <td id=\"T_75888_row25_col3\" class=\"data row25 col3\" >0.06</td>\n",
       "                        <td id=\"T_75888_row25_col4\" class=\"data row25 col4\" >0.03</td>\n",
       "                        <td id=\"T_75888_row25_col5\" class=\"data row25 col5\" >0.05</td>\n",
       "            </tr>\n",
       "            <tr>\n",
       "                        <th id=\"T_75888_level0_row26\" class=\"row_heading level0 row26\" >Радио ticket</th>\n",
       "                        <td id=\"T_75888_row26_col0\" class=\"data row26 col0\" >7</td>\n",
       "                        <td id=\"T_75888_row26_col1\" class=\"data row26 col1\" >322</td>\n",
       "                        <td id=\"T_75888_row26_col2\" class=\"data row26 col2\" >44719.950000</td>\n",
       "                        <td id=\"T_75888_row26_col3\" class=\"data row26 col3\" >0.04</td>\n",
       "                        <td id=\"T_75888_row26_col4\" class=\"data row26 col4\" >0.19</td>\n",
       "                        <td id=\"T_75888_row26_col5\" class=\"data row26 col5\" >0.05</td>\n",
       "            </tr>\n",
       "            <tr>\n",
       "                        <th id=\"T_75888_level0_row27\" class=\"row_heading level0 row27\" >Реестр</th>\n",
       "                        <td id=\"T_75888_row27_col0\" class=\"data row27 col0\" >4</td>\n",
       "                        <td id=\"T_75888_row27_col1\" class=\"data row27 col1\" >16</td>\n",
       "                        <td id=\"T_75888_row27_col2\" class=\"data row27 col2\" >15271.470000</td>\n",
       "                        <td id=\"T_75888_row27_col3\" class=\"data row27 col3\" >0.02</td>\n",
       "                        <td id=\"T_75888_row27_col4\" class=\"data row27 col4\" >0.01</td>\n",
       "                        <td id=\"T_75888_row27_col5\" class=\"data row27 col5\" >0.02</td>\n",
       "            </tr>\n",
       "            <tr>\n",
       "                        <th id=\"T_75888_level0_row28\" class=\"row_heading level0 row28\" >Дырокол</th>\n",
       "                        <td id=\"T_75888_row28_col0\" class=\"data row28 col0\" >2</td>\n",
       "                        <td id=\"T_75888_row28_col1\" class=\"data row28 col1\" >62</td>\n",
       "                        <td id=\"T_75888_row28_col2\" class=\"data row28 col2\" >88888.880000</td>\n",
       "                        <td id=\"T_75888_row28_col3\" class=\"data row28 col3\" >0.01</td>\n",
       "                        <td id=\"T_75888_row28_col4\" class=\"data row28 col4\" >0.04</td>\n",
       "                        <td id=\"T_75888_row28_col5\" class=\"data row28 col5\" >0.11</td>\n",
       "            </tr>\n",
       "            <tr>\n",
       "                        <th id=\"T_75888_level0_row29\" class=\"row_heading level0 row29\" >Тех билет</th>\n",
       "                        <td id=\"T_75888_row29_col0\" class=\"data row29 col0\" >2</td>\n",
       "                        <td id=\"T_75888_row29_col1\" class=\"data row29 col1\" >5</td>\n",
       "                        <td id=\"T_75888_row29_col2\" class=\"data row29 col2\" >1722.630000</td>\n",
       "                        <td id=\"T_75888_row29_col3\" class=\"data row29 col3\" >0.01</td>\n",
       "                        <td id=\"T_75888_row29_col4\" class=\"data row29 col4\" >0.00</td>\n",
       "                        <td id=\"T_75888_row29_col5\" class=\"data row29 col5\" >0.00</td>\n",
       "            </tr>\n",
       "            <tr>\n",
       "                        <th id=\"T_75888_level0_row30\" class=\"row_heading level0 row30\" >Лимоны</th>\n",
       "                        <td id=\"T_75888_row30_col0\" class=\"data row30 col0\" >1</td>\n",
       "                        <td id=\"T_75888_row30_col1\" class=\"data row30 col1\" >1</td>\n",
       "                        <td id=\"T_75888_row30_col2\" class=\"data row30 col2\" >119.930000</td>\n",
       "                        <td id=\"T_75888_row30_col3\" class=\"data row30 col3\" >0.01</td>\n",
       "                        <td id=\"T_75888_row30_col4\" class=\"data row30 col4\" >0.00</td>\n",
       "                        <td id=\"T_75888_row30_col5\" class=\"data row30 col5\" >0.00</td>\n",
       "            </tr>\n",
       "            <tr>\n",
       "                        <th id=\"T_75888_level0_row31\" class=\"row_heading level0 row31\" >Быстрый кассир</th>\n",
       "                        <td id=\"T_75888_row31_col0\" class=\"data row31 col0\" >1</td>\n",
       "                        <td id=\"T_75888_row31_col1\" class=\"data row31 col1\" >8</td>\n",
       "                        <td id=\"T_75888_row31_col2\" class=\"data row31 col2\" >7780.710000</td>\n",
       "                        <td id=\"T_75888_row31_col3\" class=\"data row31 col3\" >0.01</td>\n",
       "                        <td id=\"T_75888_row31_col4\" class=\"data row31 col4\" >0.00</td>\n",
       "                        <td id=\"T_75888_row31_col5\" class=\"data row31 col5\" >0.01</td>\n",
       "            </tr>\n",
       "            <tr>\n",
       "                        <th id=\"T_75888_level0_row32\" class=\"row_heading level0 row32\" >Билеты в интернете</th>\n",
       "                        <td id=\"T_75888_row32_col0\" class=\"data row32 col0\" >1</td>\n",
       "                        <td id=\"T_75888_row32_col1\" class=\"data row32 col1\" >4</td>\n",
       "                        <td id=\"T_75888_row32_col2\" class=\"data row32 col2\" >548.230000</td>\n",
       "                        <td id=\"T_75888_row32_col3\" class=\"data row32 col3\" >0.01</td>\n",
       "                        <td id=\"T_75888_row32_col4\" class=\"data row32 col4\" >0.00</td>\n",
       "                        <td id=\"T_75888_row32_col5\" class=\"data row32 col5\" >0.00</td>\n",
       "            </tr>\n",
       "            <tr>\n",
       "                        <th id=\"T_75888_level0_row33\" class=\"row_heading level0 row33\" >Кино билет</th>\n",
       "                        <td id=\"T_75888_row33_col0\" class=\"data row33 col0\" >1</td>\n",
       "                        <td id=\"T_75888_row33_col1\" class=\"data row33 col1\" >48</td>\n",
       "                        <td id=\"T_75888_row33_col2\" class=\"data row33 col2\" >15872.250000</td>\n",
       "                        <td id=\"T_75888_row33_col3\" class=\"data row33 col3\" >0.01</td>\n",
       "                        <td id=\"T_75888_row33_col4\" class=\"data row33 col4\" >0.03</td>\n",
       "                        <td id=\"T_75888_row33_col5\" class=\"data row33 col5\" >0.02</td>\n",
       "            </tr>\n",
       "            <tr>\n",
       "                        <th id=\"T_75888_level0_row34\" class=\"row_heading level0 row34\" >Зе Бест!</th>\n",
       "                        <td id=\"T_75888_row34_col0\" class=\"data row34 col0\" >1</td>\n",
       "                        <td id=\"T_75888_row34_col1\" class=\"data row34 col1\" >2</td>\n",
       "                        <td id=\"T_75888_row34_col2\" class=\"data row34 col2\" >30.010000</td>\n",
       "                        <td id=\"T_75888_row34_col3\" class=\"data row34 col3\" >0.01</td>\n",
       "                        <td id=\"T_75888_row34_col4\" class=\"data row34 col4\" >0.00</td>\n",
       "                        <td id=\"T_75888_row34_col5\" class=\"data row34 col5\" >0.00</td>\n",
       "            </tr>\n",
       "    </tbody></table>"
      ],
      "text/plain": [
       "<pandas.io.formats.style.Styler at 0x7f5aac42d610>"
      ]
     },
     "execution_count": 58,
     "metadata": {},
     "output_type": "execute_result"
    }
   ],
   "source": [
    "#создаем сводную таблицу с необходимыми показателями, переименовываем столбцы\n",
    "service_orders_events_revenue = final_filtered_autumn.pivot_table(\n",
    "    index='service_name',\n",
    "    values=['order_id', 'event_id','revenue_rub'],\n",
    "    aggfunc={\n",
    "        'order_id': 'count',\n",
    "        'event_id': 'nunique',\n",
    "        'revenue_rub':'sum'\n",
    "    }\n",
    ").rename(columns={\n",
    "    'order_id': 'orders',\n",
    "    'event_id': 'events',\n",
    "    'revenue_rub': 'total_revenue'\n",
    "})\n",
    "\n",
    "#добавляем столбцы с долями (в %)\n",
    "service_orders_events_revenue['events_%'] = service_orders_events_revenue['events'] / service_orders_events_revenue['events'].sum() * 100\n",
    "service_orders_events_revenue['orders_%'] = service_orders_events_revenue['orders'] / service_orders_events_revenue['orders'].sum() * 100\n",
    "service_orders_events_revenue['revenue_%'] = service_orders_events_revenue['total_revenue'] / service_orders_events_revenue['total_revenue'].sum() * 100\n",
    "\n",
    "\n",
    "#сортируем  по количеству мероприятий\n",
    "service_orders_events_revenue = service_orders_events_revenue.sort_values(by='events', ascending=False)\n",
    "\n",
    "#добавляем форматирование в стиле heatmap\n",
    "service_orders_events_revenue.style.background_gradient(subset=['orders_%', 'events_%', 'revenue_%'], cmap='YlOrBr').format({'orders_%': '{:.2f}', 'events_%': '{:.2f}','revenue_%': '{:.2f}'})"
   ]
  },
  {
   "cell_type": "markdown",
   "metadata": {},
   "source": [
    "**Наиболее активные партнёры по доле рынка:**\n",
    "\n",
    "**1. Лови билет!**\n",
    "\n",
    "* Доля мероприятий: 20.85% (самая высокая)\n",
    "* Доля заказов: 15.31%\n",
    "* Доля выручки: 12.65%\n",
    "\n",
    "Самый активный по количеству мероприятий. Однако, несмотря на большой объём событий, приносит относительно меньшую долю выручки — возможно, работает с недорогими билетами.\n",
    "\n",
    "**2. Билеты без проблем**\n",
    "\n",
    "* Доля мероприятий: 16.39%\n",
    "* Доля заказов: 19.11% (лидер по заказам)\n",
    "* Доля выручки: 15.14% (лидер по выручке)\n",
    "\n",
    "Наиболее эффективный партнёр: лидирует как по количеству заказов, так и по выручке. \n",
    "\n",
    "**3. Билеты в руки**\n",
    "\n",
    "* Доля мероприятий: 14.23%\n",
    "* Доля заказов: 15.20%\n",
    "* Доля выручки: 9.26%\n",
    "\n",
    "Довольно активный по событиям и заказам, но заметно уступает по выручке. \n",
    "\n",
    "**4. Облачко**\n",
    "\n",
    "* Доля мероприятий: 8.19%\n",
    "* Доля заказов: 9.21%\n",
    "* Доля выручки: 12.89%\n",
    "\n",
    "Отличается высокой выручкой относительно своей активности — скорее всего, работает с более дорогими билетами или премиум-сегментом.\n",
    "\n",
    "**5. Мой билет**\n",
    "\n",
    "* Доля мероприятий: 5.83%\n",
    "* Доля заказов: 11.55%\n",
    "* Доля выручки: 13.17%\n",
    "\n",
    "Эффективный игрок: относительно небольшая доля мероприятий, но высокая доля заказов и особенно выручки. "
   ]
  },
  {
   "cell_type": "markdown",
   "metadata": {},
   "source": [
    "В сегментах по регионам и билетным партнерам есть явные лидеры. И там, и там на топ-5 приходится более 50% мероприятий. \n",
    "\n",
    "В рейтинге регионов лидеры по мероприятиям и заказам почти совпадают. \n",
    "В рейтинге билетных партнеров наблюдается разнообразие: топы по мероприятиям, заказам и выручке не совпадают однозначно. "
   ]
  },
  {
   "cell_type": "markdown",
   "metadata": {},
   "source": [
    "## Статистический анализ данных и проверка гипотез.\n",
    "\n",
    "### Проверка гипотезы о разнице среднего количества заказов на одного пользователя между мобильным приложением и стационарными устройствами."
   ]
  },
  {
   "cell_type": "markdown",
   "metadata": {},
   "source": [
    "💬 Проверьте две гипотезы, которые предполагают большую активность пользователей мобильных устройств:\n",
    "\n",
    "Среднее количество заказов на одного пользователя мобильного приложения выше по сравнению с пользователями стационарных устройств.\n",
    "\n",
    "Среднее время между заказами пользователей мобильных приложений выше по сравнению с пользователями стационарных устройств."
   ]
  },
  {
   "cell_type": "markdown",
   "metadata": {},
   "source": [
    "Для проверки гипотез сформируем две выборки: для мобильных и стационарных устройств, и изучим их перед проведением теста."
   ]
  },
  {
   "cell_type": "code",
   "execution_count": 59,
   "metadata": {},
   "outputs": [
    {
     "name": "stdout",
     "output_type": "stream",
     "text": [
      "С мобильного приложения сделали заказы 14111 пользователей, со стационарных устройств: 4866 пользователей\n"
     ]
    }
   ],
   "source": [
    "#выделяем из общего датафрейма группы по устройствам\n",
    "mobile = final_filtered_autumn[final_filtered_autumn['device_type_canonical'] == 'mobile']\n",
    "desktop = final_filtered_autumn[final_filtered_autumn['device_type_canonical'] == 'desktop']\n",
    "\n",
    "#считаем количество пользователей в каждой группе\n",
    "mobile_users = mobile['user_id'].nunique()\n",
    "desktop_users = desktop['user_id'].nunique()\n",
    "\n",
    "print (f'С мобильного приложения сделали заказы {mobile_users} пользователей, со стационарных устройств: {desktop_users} пользователей')"
   ]
  },
  {
   "cell_type": "code",
   "execution_count": 60,
   "metadata": {},
   "outputs": [
    {
     "data": {
      "image/png": "[encoded data removed]",
      "text/plain": [
       "<Figure size 864x432 with 1 Axes>"
      ]
     },
     "metadata": {
      "needs_background": "light"
     },
     "output_type": "display_data"
    }
   ],
   "source": [
    "#строим столбчатую диаграмму по количеству пользователей в группах\n",
    "plt.figure(figsize=(12, 6))\n",
    "\n",
    "groups = ['mobile', 'desktop']\n",
    "values = [mobile_users, desktop_users]\n",
    "\n",
    "for i, v in enumerate(values):\n",
    "    plt.text(i, v, str(v), ha='center', va='bottom')\n",
    "\n",
    "plt.bar(groups, values, color=['#556B2F', '#D2691E'])\n",
    "plt.title('Сравнение количества пользователей по устройствам')\n",
    "plt.xlabel('Группа')\n",
    "plt.ylabel('Количество уникальных пользователей')\n",
    "plt.grid(axis = 'y')\n",
    "plt.show()"
   ]
  },
  {
   "cell_type": "markdown",
   "metadata": {},
   "source": [
    "Видим, что наши данные содержат неравномерное распределение между устройствами: со стационарных устройств покупает существенно меньше пользователей (почти втрое). Это не помешает нам проверить гипотезу, но предварительно нужно проверить группы на независимость и нормальное распределение. "
   ]
  },
  {
   "cell_type": "code",
   "execution_count": 61,
   "metadata": {},
   "outputs": [
    {
     "name": "stdout",
     "output_type": "stream",
     "text": [
      "Пользователи, попавшие в обе группы: 3236\n"
     ]
    }
   ],
   "source": [
    "#проверяем пересечение множеств\n",
    "intersection = set(mobile['user_id'].unique()) & set(desktop['user_id'].unique())\n",
    "\n",
    "print(f\"Пользователи, попавшие в обе группы: {len(intersection)}\")"
   ]
  },
  {
   "cell_type": "markdown",
   "metadata": {},
   "source": [
    "⚠️ Ой-ой... Пользователи, делающие заказы с мобильных и десктопов, сильно пересекаются. Для корректности теста нам нужны непересекающиеся множества, поэтому придется удалить пересекающихся пользователей. Это очень сильно понизит количество данных в выборке, но зато будет гарантировать корректность теста, хоть и с  пониженной мощностью из-за малого числа пользователей в одной из групп."
   ]
  },
  {
   "cell_type": "code",
   "execution_count": 62,
   "metadata": {},
   "outputs": [],
   "source": [
    "#удаляем пересекающихся пользователей \n",
    "mobile_clean = mobile[~mobile['user_id'].isin(intersection)]\n",
    "desktop_clean = desktop[~desktop['user_id'].isin(intersection)]"
   ]
  },
  {
   "cell_type": "code",
   "execution_count": 63,
   "metadata": {},
   "outputs": [
    {
     "name": "stdout",
     "output_type": "stream",
     "text": [
      "Пользователи, попавшие в обе группы: 0\n"
     ]
    }
   ],
   "source": [
    "#проверяем пересечение множеств после очистки\n",
    "intersection = set(mobile_clean['user_id'].unique()) & set(desktop_clean['user_id'].unique())\n",
    "\n",
    "print(f\"Пользователи, попавшие в обе группы: {len(intersection)}\")"
   ]
  },
  {
   "cell_type": "code",
   "execution_count": 64,
   "metadata": {
    "scrolled": false
   },
   "outputs": [
    {
     "data": {
      "image/png": "[encoded data removed]",
      "text/plain": [
       "<Figure size 864x432 with 1 Axes>"
      ]
     },
     "metadata": {
      "needs_background": "light"
     },
     "output_type": "display_data"
    }
   ],
   "source": [
    "#строим столбчатую диаграмму по количеству пользователей в группах\n",
    "plt.figure(figsize=(12, 6))\n",
    "\n",
    "groups = ['mobile', 'desktop']\n",
    "values = [mobile_clean['user_id'].nunique(), desktop_clean['user_id'].nunique()]\n",
    "\n",
    "for i, v in enumerate(values):\n",
    "    plt.text(i, v, str(v), ha='center', va='bottom')\n",
    "\n",
    "plt.bar(groups, values, color=['#556B2F', '#D2691E'])\n",
    "plt.title('Сравнение количества пользователей по устройствам')\n",
    "plt.xlabel('Группа')\n",
    "plt.ylabel('Количество уникальных пользователей')\n",
    "plt.grid(axis = 'y')\n",
    "plt.show()"
   ]
  },
  {
   "cell_type": "markdown",
   "metadata": {},
   "source": [
    "Неравномерность в размере групп стала еще больше, но выборки независимы. "
   ]
  },
  {
   "cell_type": "markdown",
   "metadata": {},
   "source": [
    "Сформулируем гипотезы: \n",
    "\n",
    "**H0: Среднее количество заказов на одного пользователя не больше для мобильного приложения и стационарных устройств.**\n",
    "\n",
    "**Н1: Среднее количество заказов на одного пользователя больше для мобильного приложения, чем для стационарных устройств.**"
   ]
  },
  {
   "cell_type": "markdown",
   "metadata": {},
   "source": [
    "Создадим метрики, необходимые для проверки гипотезы."
   ]
  },
  {
   "cell_type": "code",
   "execution_count": 65,
   "metadata": {},
   "outputs": [],
   "source": [
    "#группируем количество заказов по пользователям для мобильных и десктопных заказов\n",
    "mobile_orders = mobile_clean.groupby('user_id')['order_id'].count()\n",
    "desktop_orders = desktop_clean.groupby('user_id')['order_id'].count()"
   ]
  },
  {
   "cell_type": "code",
   "execution_count": 66,
   "metadata": {},
   "outputs": [
    {
     "data": {
      "image/png": "[encoded data removed]",
      "text/plain": [
       "<Figure size 864x432 with 1 Axes>"
      ]
     },
     "metadata": {
      "needs_background": "light"
     },
     "output_type": "display_data"
    }
   ],
   "source": [
    "#строим гистограмму распределения\n",
    "plt.figure(figsize=(12, 6))\n",
    "plt.hist(mobile_orders, bins=10, color='#556B2F', edgecolor='black')\n",
    "plt.title('Распределение количества заказов на одного пользователя (мобильное приложение)')\n",
    "plt.xlabel('Количество заказов')\n",
    "plt.ylabel('Число пользователей')\n",
    "plt.grid(axis='y')\n",
    "plt.show()"
   ]
  },
  {
   "cell_type": "code",
   "execution_count": 67,
   "metadata": {},
   "outputs": [
    {
     "data": {
      "image/png": "[encoded data removed]",
      "text/plain": [
       "<Figure size 864x432 with 1 Axes>"
      ]
     },
     "metadata": {
      "needs_background": "light"
     },
     "output_type": "display_data"
    }
   ],
   "source": [
    "#строим гистограмму распределения\n",
    "plt.figure(figsize=(12, 6))\n",
    "plt.hist(desktop_orders, bins=10, color='#D2691E', edgecolor='black')\n",
    "plt.title('Распределение количества заказов на одного пользователя (десктопы)')\n",
    "plt.xlabel('Количество заказов')\n",
    "plt.ylabel('Число пользователей')\n",
    "plt.grid(axis='y')\n",
    "plt.show()"
   ]
  },
  {
   "cell_type": "markdown",
   "metadata": {},
   "source": [
    "Оба распределения пользователей сильно скошены вправо, не являются нормальными распределениями и имеют выбросы. Основная масса значений находится в интервале в от 0 до 10 заказов. С увеличением количества заказов количество пользователей резко падает. Наблюдаются редкие случаи большого количества заказов (40-50), что является выбросом. \n",
    "\n",
    "По результатам изучения данных было выявлено, **что выборки содержат выбросы и не подлежат нормальному распределению**, а значит, для проверки гипотезы будем использовать непараметрический тест Манна-Уитни."
   ]
  },
  {
   "cell_type": "code",
   "execution_count": 68,
   "metadata": {
    "scrolled": true
   },
   "outputs": [
    {
     "name": "stdout",
     "output_type": "stream",
     "text": [
      "pvalue=3.0044708534596875e-40 < 0.05\n",
      "Нулевая гипотеза не находит подтверждения!\n"
     ]
    }
   ],
   "source": [
    "# на каком уровне значимости проверяем гипотезу о равенстве распределений\n",
    "alpha = 0.05 \n",
    "\n",
    "mobile_orders = mobile_clean.groupby('user_id')['order_id'].count()\n",
    "desktop_orders = desktop_clean.groupby('user_id')['order_id'].count()\n",
    "\n",
    "# применяем тест Манна — Уитни\n",
    "stat_mw, p_value_mw = mannwhitneyu(\n",
    "    mobile_orders, \n",
    "    desktop_orders, \n",
    "    alternative='greater' \n",
    ") \n",
    "\n",
    "if p_value_mw > alpha:\n",
    "    print(f'pvalue={p_value_mw} > {alpha}')\n",
    "    print('Нулевая гипотеза находит подтверждение!')\n",
    "else:\n",
    "    print(f'pvalue={p_value_mw} < {alpha}')\n",
    "    print('Нулевая гипотеза не находит подтверждения!')"
   ]
  },
  {
   "cell_type": "markdown",
   "metadata": {},
   "source": [
    "По результатам проведенного теста есть основания полагать, что среднее количество заказов на одного пользователя **действительно больше для мобильного приложения**, чем для стационарных устройств."
   ]
  },
  {
   "cell_type": "markdown",
   "metadata": {},
   "source": [
    "### Проверка гипотезы о разницы среднего времени между заказами пользователей мобильного приложения и стационарных устройств."
   ]
  },
  {
   "cell_type": "markdown",
   "metadata": {},
   "source": [
    "Среднее время между заказами хранится в столбце `days_since_prev`, который содержит пропуски данных. Для проверки гипотезы удалим пропуски:"
   ]
  },
  {
   "cell_type": "code",
   "execution_count": 69,
   "metadata": {},
   "outputs": [
    {
     "data": {
      "text/plain": [
       "6631"
      ]
     },
     "execution_count": 69,
     "metadata": {},
     "output_type": "execute_result"
    }
   ],
   "source": [
    "#считаем пропуски в датасете\n",
    "mobile_clean['days_since_prev'].isna().sum()"
   ]
  },
  {
   "cell_type": "code",
   "execution_count": 70,
   "metadata": {},
   "outputs": [
    {
     "data": {
      "text/plain": [
       "1122"
      ]
     },
     "execution_count": 70,
     "metadata": {},
     "output_type": "execute_result"
    }
   ],
   "source": [
    "#считаем пропуски в датасете\n",
    "desktop_clean['days_since_prev'].isna().sum()"
   ]
  },
  {
   "cell_type": "code",
   "execution_count": 71,
   "metadata": {},
   "outputs": [],
   "source": [
    "#удаляем пропуски\n",
    "mobile_clean = mobile_clean.dropna(subset=['days_since_prev'])\n",
    "desktop_clean = desktop_clean.dropna(subset=['days_since_prev'])"
   ]
  },
  {
   "cell_type": "markdown",
   "metadata": {},
   "source": [
    "Сформулируем гипотезы:\n",
    "\n",
    "**H0: Среднее время между заказами не больше для мобильного приложения и стационарных устройств.**\n",
    "\n",
    "**Н1: Среднее время между заказами больше для мобильного приложения, чем для стационарных устройств.**\n"
   ]
  },
  {
   "cell_type": "markdown",
   "metadata": {},
   "source": [
    "Создадим метрики, необходимые для проверки гипотезы."
   ]
  },
  {
   "cell_type": "code",
   "execution_count": 72,
   "metadata": {},
   "outputs": [],
   "source": [
    "#считаем среднее время между заказами с группировкой по пользователям для мобильных и десктопов \n",
    "mobile_days_since_prev = mobile_clean.groupby('user_id')['days_since_prev'].mean()\n",
    "desktop_days_since_prev = desktop_clean.groupby('user_id')['days_since_prev'].mean()"
   ]
  },
  {
   "cell_type": "code",
   "execution_count": 73,
   "metadata": {},
   "outputs": [
    {
     "data": {
      "image/png": "[encoded data removed]",
      "text/plain": [
       "<Figure size 864x432 with 1 Axes>"
      ]
     },
     "metadata": {
      "needs_background": "light"
     },
     "output_type": "display_data"
    }
   ],
   "source": [
    "#строим гистограмму распределения\n",
    "plt.figure(figsize=(12, 6))\n",
    "plt.hist(mobile_days_since_prev, bins=30, color='#556B2F', edgecolor='black')\n",
    "plt.title('Распределение времени между заказами (мобильное приложение)')\n",
    "plt.xlabel('Время между заказами (в днях)')\n",
    "plt.ylabel('Число пользователей')\n",
    "plt.grid(axis='y')\n",
    "plt.show()"
   ]
  },
  {
   "cell_type": "code",
   "execution_count": 74,
   "metadata": {
    "scrolled": false
   },
   "outputs": [
    {
     "data": {
      "image/png": "[encoded data removed]",
      "text/plain": [
       "<Figure size 864x432 with 1 Axes>"
      ]
     },
     "metadata": {
      "needs_background": "light"
     },
     "output_type": "display_data"
    }
   ],
   "source": [
    "#строим гистограмму распределения\n",
    "plt.figure(figsize=(12, 6))\n",
    "plt.hist(desktop_days_since_prev, bins=30, color='#D2691E', edgecolor='black')\n",
    "plt.title('Распределение времени между заказами (десктопы)')\n",
    "plt.xlabel('Время между заказами (в днях)')\n",
    "plt.ylabel('Число пользователей')\n",
    "plt.grid(axis='y')\n",
    "plt.show()"
   ]
  },
  {
   "cell_type": "markdown",
   "metadata": {},
   "source": [
    "Для проверки этой гипотезы так же подходит тест Манна–Уитни, так как:\n",
    "\n",
    "* в данных присутствуют выбросы (длинный хвост в правой части вплоть до 140+ дней)\n",
    "\n",
    "* распределение данных не является нормальным (распределение сильно скошено вправо, асимметричное, с длинным хвостом. Большинство пользователей совершают повторные заказы в течение нескольких дней, но встречаются случаи с интервалами в десятки и даже сотни дней)\n",
    "\n",
    "* сравниваются независимые выборки (мобильные и десктоп-пользователи).\n"
   ]
  },
  {
   "cell_type": "code",
   "execution_count": 75,
   "metadata": {},
   "outputs": [
    {
     "name": "stdout",
     "output_type": "stream",
     "text": [
      "pvalue=0.8124986625766982 > 0.05\n",
      "Нулевая гипотеза находит подтверждение!\n"
     ]
    }
   ],
   "source": [
    "#на каком уровне значимости проверяем гипотезу о равенстве распределений\n",
    "alpha = 0.05 \n",
    "\n",
    "mobile_days_since_prev = mobile_clean.groupby('user_id')['days_since_prev'].mean()\n",
    "desktop_days_since_prev = desktop_clean.groupby('user_id')['days_since_prev'].mean()\n",
    "\n",
    "#применяем тест Манна — Уитни\n",
    "stat_mw, p_value_mw = mannwhitneyu(\n",
    "    mobile_days_since_prev, \n",
    "    desktop_days_since_prev, \n",
    "    alternative='greater' \n",
    ") \n",
    "\n",
    "if p_value_mw > alpha:\n",
    "    print(f'pvalue={p_value_mw} > {alpha}')\n",
    "    print('Нулевая гипотеза находит подтверждение!')\n",
    "else:\n",
    "    print(f'pvalue={p_value_mw} < {alpha}')\n",
    "    print('Нулевая гипотеза не находит подтверждения!')"
   ]
  },
  {
   "cell_type": "markdown",
   "metadata": {},
   "source": [
    "По результатам теста нет оснований отвергать нулевую гипотезу, поэтому среднее время между заказами **не отличается** для мобильного приложения и стационарных устройств"
   ]
  },
  {
   "cell_type": "markdown",
   "metadata": {},
   "source": [
    "## Общий вывод и рекомендации"
   ]
  },
  {
   "cell_type": "markdown",
   "metadata": {},
   "source": [
    "Для анализа были использованы данные о бронированиях билетов на сервисе Яндекс Афиша за период с 1 июня по 30 октября 2024 года. В датасет вошли данные о заказах, пользователях, устройствах, партнёрах, типах мероприятий и выручке.\n",
    "\n",
    "**Основные результаты анализа**\n",
    "\n",
    "**Сезонные изменения**\n",
    "\n",
    "Осенью количество заказов существенно выросло по сравнению с летом. Произошло перераспределение спроса по типам мероприятий:\n",
    "\n",
    "* Осенью увеличился интерес к театру и спорту.\n",
    "\n",
    "* Снизилась доля заказов на концерты, стендапы и мероприятия из категории «другое».\n",
    "\n",
    "* Увеличился спрос на мероприятия с детским возрастным ограничением (0+, 6+, 12+), что может говорить о смещении в сторону семейного досуга.\n",
    "\n",
    "* Средняя стоимость билета осенью снизилась в большинстве категорий, вероятно из-за популярности более доступных семейных мероприятий.\n",
    "\n",
    "**Анализ пользовательской активности (осень 2024):**\n",
    "\n",
    "* Общее количество заказов и число активных пользователей постоянно росло в течение осени.\n",
    "* DAU вырос: с ~700 до ~1000-1200.\n",
    "* Среднее число заказов на пользователя стабильно (около 3), с лёгким ростом.\n",
    "* Средняя выручка с одного билета показывала снижение к концу периода.\n",
    "* Обнаружена недельная цикличность: максимум активности — в будни, особенно во вторник и четверг; минимум — в воскресенье.\n",
    "\n",
    "**Популярные события и партнёры** \n",
    "\n",
    "На топ-5 партнёров и регионов приходится более 50% всех заказов.\n",
    "\n",
    "**Результаты проверки гипотез** \n",
    "\n",
    "✅ Среднее количество заказов на пользователя выше у мобильных пользователей — гипотеза подтверждена.\n",
    "\n",
    "❌ Среднее время между заказами не отличается между мобильными и десктоп-пользователями — нулевая гипотеза не отвергнута, различий нет.\n",
    "\n",
    "**Рекомендации** \n",
    "\n",
    "* Учитывать сезонные предпочтения пользователей: осенью активно развивать театральные и спортивные мероприятия, а также семейные форматы.\n",
    "\n",
    "* Оптимизировать ценообразование: снижение выручки при росте заказов говорит о необходимости анализа акций и скидок.\n",
    "\n",
    "* Учитывать недельную цикличность в маркетинговых активностях — активнее продвигать события в начале недели, особенно во вторник и четверг\n",
    "* Укреплять партнёрство с сервисами, демонстрирующими высокую эффективность (лидеры по доле заказов и выручки одновременно).\n",
    "\n",
    "* Продолжить анализ различий между пользователями мобильных и стационарных устройств — мобильные дают больше заказов, возможно, стоит оптимизировать UX под них.\n"
   ]
  }
 ],
 "metadata": {
  "ExecuteTimeLog": [
   {
    "duration": 1326,
    "start_time": "2025-06-25T19:16:11.797Z"
   },
   {
    "duration": 1629,
    "start_time": "2025-06-25T19:16:48.600Z"
   },
   {
    "duration": 1739,
    "start_time": "2025-06-25T19:17:13.242Z"
   },
   {
    "duration": 109,
    "start_time": "2025-06-25T19:17:26.547Z"
   },
   {
    "duration": 94,
    "start_time": "2025-06-25T19:17:29.826Z"
   },
   {
    "duration": 4,
    "start_time": "2025-06-25T19:17:32.360Z"
   },
   {
    "duration": 103,
    "start_time": "2025-06-25T19:18:41.582Z"
   },
   {
    "duration": 119,
    "start_time": "2025-06-25T19:18:57.323Z"
   },
   {
    "duration": 48,
    "start_time": "2025-06-26T10:36:43.612Z"
   },
   {
    "duration": 1268,
    "start_time": "2025-06-26T10:36:51.468Z"
   },
   {
    "duration": 1761,
    "start_time": "2025-06-26T10:36:53.427Z"
   },
   {
    "duration": 107,
    "start_time": "2025-06-26T10:36:55.798Z"
   },
   {
    "duration": 2003,
    "start_time": "2025-06-26T10:36:57.751Z"
   },
   {
    "duration": 9,
    "start_time": "2025-06-26T10:37:44.247Z"
   },
   {
    "duration": 9,
    "start_time": "2025-06-26T10:38:11.244Z"
   },
   {
    "duration": 69,
    "start_time": "2025-06-26T10:38:28.824Z"
   },
   {
    "duration": 88,
    "start_time": "2025-06-26T10:38:36.148Z"
   },
   {
    "duration": 1171,
    "start_time": "2025-06-26T10:40:31.490Z"
   },
   {
    "duration": 87,
    "start_time": "2025-06-26T10:40:32.735Z"
   },
   {
    "duration": 23,
    "start_time": "2025-06-26T10:40:48.701Z"
   },
   {
    "duration": 97,
    "start_time": "2025-06-26T10:40:59.069Z"
   },
   {
    "duration": 78,
    "start_time": "2025-06-26T10:40:59.703Z"
   },
   {
    "duration": 33,
    "start_time": "2025-06-26T10:41:54.731Z"
   },
   {
    "duration": 80,
    "start_time": "2025-06-26T10:41:55.509Z"
   },
   {
    "duration": 5,
    "start_time": "2025-06-26T10:42:19.194Z"
   },
   {
    "duration": 5,
    "start_time": "2025-06-26T10:42:36.823Z"
   },
   {
    "duration": 30,
    "start_time": "2025-06-26T10:42:56.959Z"
   },
   {
    "duration": 90,
    "start_time": "2025-06-26T10:43:23.438Z"
   },
   {
    "duration": 79,
    "start_time": "2025-06-26T10:43:24.136Z"
   },
   {
    "duration": 31,
    "start_time": "2025-06-26T10:44:40.594Z"
   },
   {
    "duration": 77,
    "start_time": "2025-06-26T10:44:41.811Z"
   },
   {
    "duration": 26,
    "start_time": "2025-06-26T10:44:57.295Z"
   },
   {
    "duration": 25,
    "start_time": "2025-06-26T10:45:01.073Z"
   },
   {
    "duration": 71,
    "start_time": "2025-06-26T10:45:01.100Z"
   },
   {
    "duration": 18,
    "start_time": "2025-06-26T10:47:59.727Z"
   },
   {
    "duration": 17,
    "start_time": "2025-06-26T10:48:08.382Z"
   },
   {
    "duration": 79,
    "start_time": "2025-06-26T10:48:36.224Z"
   },
   {
    "duration": 31,
    "start_time": "2025-06-26T10:48:40.550Z"
   },
   {
    "duration": 19,
    "start_time": "2025-06-26T10:48:45.942Z"
   },
   {
    "duration": 16,
    "start_time": "2025-06-26T10:48:49.953Z"
   },
   {
    "duration": 20,
    "start_time": "2025-06-26T10:49:04.735Z"
   },
   {
    "duration": 24,
    "start_time": "2025-06-26T10:49:17.542Z"
   },
   {
    "duration": 24,
    "start_time": "2025-06-26T10:49:29.775Z"
   },
   {
    "duration": 12,
    "start_time": "2025-06-26T10:51:43.794Z"
   },
   {
    "duration": 217,
    "start_time": "2025-06-26T10:51:47.055Z"
   },
   {
    "duration": 221,
    "start_time": "2025-06-26T10:51:53.212Z"
   },
   {
    "duration": 42,
    "start_time": "2025-06-26T10:53:26.667Z"
   },
   {
    "duration": 362,
    "start_time": "2025-06-26T10:53:38.886Z"
   },
   {
    "duration": 20,
    "start_time": "2025-06-26T10:57:48.205Z"
   },
   {
    "duration": 5,
    "start_time": "2025-06-26T11:04:21.037Z"
   },
   {
    "duration": 6,
    "start_time": "2025-06-26T11:05:26.677Z"
   },
   {
    "duration": 7,
    "start_time": "2025-06-26T11:05:44.488Z"
   },
   {
    "duration": 8,
    "start_time": "2025-06-26T11:09:19.210Z"
   },
   {
    "duration": 38,
    "start_time": "2025-06-26T11:12:23.425Z"
   },
   {
    "duration": 18,
    "start_time": "2025-06-26T11:13:12.099Z"
   },
   {
    "duration": 7,
    "start_time": "2025-06-26T11:18:04.625Z"
   },
   {
    "duration": 5,
    "start_time": "2025-06-26T11:18:14.806Z"
   },
   {
    "duration": 9,
    "start_time": "2025-06-26T11:21:11.412Z"
   },
   {
    "duration": 8,
    "start_time": "2025-06-26T11:22:02.845Z"
   },
   {
    "duration": 232,
    "start_time": "2025-06-26T11:23:36.478Z"
   },
   {
    "duration": 26,
    "start_time": "2025-06-26T11:23:44.463Z"
   },
   {
    "duration": 240,
    "start_time": "2025-06-26T11:29:04.462Z"
   },
   {
    "duration": 208,
    "start_time": "2025-06-26T11:30:48.791Z"
   },
   {
    "duration": 203,
    "start_time": "2025-06-26T11:31:40.310Z"
   },
   {
    "duration": 61,
    "start_time": "2025-06-26T11:33:45.519Z"
   },
   {
    "duration": 1881,
    "start_time": "2025-06-26T11:34:49.704Z"
   },
   {
    "duration": 1748,
    "start_time": "2025-06-26T11:35:03.132Z"
   },
   {
    "duration": 1339,
    "start_time": "2025-06-26T11:35:15.863Z"
   },
   {
    "duration": 34,
    "start_time": "2025-06-26T11:39:28.094Z"
   },
   {
    "duration": 240,
    "start_time": "2025-06-26T11:43:29.675Z"
   },
   {
    "duration": 25,
    "start_time": "2025-06-26T11:43:39.991Z"
   },
   {
    "duration": 200,
    "start_time": "2025-06-26T11:43:50.703Z"
   },
   {
    "duration": 8,
    "start_time": "2025-06-26T11:45:58.534Z"
   },
   {
    "duration": 236,
    "start_time": "2025-06-26T11:46:07.253Z"
   },
   {
    "duration": 125,
    "start_time": "2025-06-26T11:46:09.298Z"
   },
   {
    "duration": 223,
    "start_time": "2025-06-26T11:46:22.700Z"
   },
   {
    "duration": 29,
    "start_time": "2025-06-26T11:46:30.458Z"
   },
   {
    "duration": 1527,
    "start_time": "2025-06-26T11:52:59.903Z"
   },
   {
    "duration": 3618,
    "start_time": "2025-06-26T11:53:53.492Z"
   },
   {
    "duration": 3679,
    "start_time": "2025-06-26T11:54:06.577Z"
   },
   {
    "duration": 3639,
    "start_time": "2025-06-26T11:54:12.625Z"
   },
   {
    "duration": 25,
    "start_time": "2025-06-26T11:54:25.556Z"
   },
   {
    "duration": 32,
    "start_time": "2025-06-26T11:55:40.724Z"
   },
   {
    "duration": 29,
    "start_time": "2025-06-26T11:55:48.980Z"
   },
   {
    "duration": 3644,
    "start_time": "2025-06-26T11:55:52.193Z"
   },
   {
    "duration": 32,
    "start_time": "2025-06-26T11:55:55.839Z"
   },
   {
    "duration": 60,
    "start_time": "2025-06-26T11:56:13.256Z"
   },
   {
    "duration": 3595,
    "start_time": "2025-06-26T11:57:53.468Z"
   },
   {
    "duration": 117,
    "start_time": "2025-06-26T11:58:07.819Z"
   },
   {
    "duration": 3744,
    "start_time": "2025-06-26T11:58:07.938Z"
   },
   {
    "duration": 59,
    "start_time": "2025-06-26T11:58:23.150Z"
   },
   {
    "duration": 49,
    "start_time": "2025-06-26T18:13:37.721Z"
   },
   {
    "duration": 1351,
    "start_time": "2025-06-26T18:13:42.441Z"
   },
   {
    "duration": 1512,
    "start_time": "2025-06-26T18:13:43.794Z"
   },
   {
    "duration": 410,
    "start_time": "2025-06-26T18:13:45.307Z"
   },
   {
    "duration": 54,
    "start_time": "2025-06-26T18:13:45.719Z"
   },
   {
    "duration": 246,
    "start_time": "2025-06-26T18:13:45.774Z"
   },
   {
    "duration": 119,
    "start_time": "2025-06-26T18:13:46.021Z"
   },
   {
    "duration": 3452,
    "start_time": "2025-06-26T18:13:47.225Z"
   },
   {
    "duration": 213,
    "start_time": "2025-06-26T18:13:53.403Z"
   },
   {
    "duration": 63,
    "start_time": "2025-06-26T18:20:43.658Z"
   },
   {
    "duration": 191,
    "start_time": "2025-06-26T18:20:56.677Z"
   },
   {
    "duration": 193,
    "start_time": "2025-06-26T18:21:18.434Z"
   },
   {
    "duration": 194,
    "start_time": "2025-06-26T18:21:34.688Z"
   },
   {
    "duration": 21,
    "start_time": "2025-06-26T18:21:55.201Z"
   },
   {
    "duration": 15,
    "start_time": "2025-06-26T18:22:00.415Z"
   },
   {
    "duration": 18,
    "start_time": "2025-06-26T18:22:05.962Z"
   },
   {
    "duration": 18,
    "start_time": "2025-06-26T18:22:20.006Z"
   },
   {
    "duration": 17,
    "start_time": "2025-06-26T18:22:26.173Z"
   },
   {
    "duration": 24,
    "start_time": "2025-06-26T18:22:30.899Z"
   },
   {
    "duration": 24,
    "start_time": "2025-06-26T18:23:08.486Z"
   },
   {
    "duration": 19,
    "start_time": "2025-06-26T18:23:29.466Z"
   },
   {
    "duration": 19,
    "start_time": "2025-06-26T18:24:13.940Z"
   },
   {
    "duration": 25,
    "start_time": "2025-06-26T18:24:28.057Z"
   },
   {
    "duration": 48,
    "start_time": "2025-06-26T18:25:58.590Z"
   },
   {
    "duration": 35,
    "start_time": "2025-06-26T18:26:49.261Z"
   },
   {
    "duration": 247,
    "start_time": "2025-06-26T18:26:51.333Z"
   },
   {
    "duration": 62,
    "start_time": "2025-06-26T18:27:44.169Z"
   },
   {
    "duration": 1173,
    "start_time": "2025-06-26T18:28:12.526Z"
   },
   {
    "duration": 51,
    "start_time": "2025-06-26T18:28:15.560Z"
   },
   {
    "duration": 46,
    "start_time": "2025-06-26T18:29:58.259Z"
   },
   {
    "duration": 191,
    "start_time": "2025-06-26T18:30:00.199Z"
   },
   {
    "duration": 50,
    "start_time": "2025-06-26T18:30:18.746Z"
   },
   {
    "duration": 192,
    "start_time": "2025-06-26T18:30:19.531Z"
   },
   {
    "duration": 86,
    "start_time": "2025-06-26T18:30:28.033Z"
   },
   {
    "duration": 8,
    "start_time": "2025-06-26T18:31:33.174Z"
   },
   {
    "duration": 9,
    "start_time": "2025-06-26T18:31:42.158Z"
   },
   {
    "duration": 7,
    "start_time": "2025-06-26T18:31:47.552Z"
   },
   {
    "duration": 99,
    "start_time": "2025-06-26T18:32:22.138Z"
   },
   {
    "duration": 12,
    "start_time": "2025-06-26T18:32:38.680Z"
   },
   {
    "duration": 38,
    "start_time": "2025-06-26T18:32:40.808Z"
   },
   {
    "duration": 194,
    "start_time": "2025-06-26T18:32:42.276Z"
   },
   {
    "duration": 91,
    "start_time": "2025-06-26T18:32:43.834Z"
   },
   {
    "duration": 3533,
    "start_time": "2025-06-26T18:32:44.467Z"
   },
   {
    "duration": 221,
    "start_time": "2025-06-26T18:32:48.002Z"
   },
   {
    "duration": 13,
    "start_time": "2025-06-26T18:34:16.779Z"
   },
   {
    "duration": 19,
    "start_time": "2025-06-26T18:34:35.653Z"
   },
   {
    "duration": 4,
    "start_time": "2025-06-26T18:35:08.252Z"
   },
   {
    "duration": 41,
    "start_time": "2025-06-26T18:35:09.678Z"
   },
   {
    "duration": 226,
    "start_time": "2025-06-26T18:35:11.134Z"
   },
   {
    "duration": 105,
    "start_time": "2025-06-26T18:35:12.079Z"
   },
   {
    "duration": 3535,
    "start_time": "2025-06-26T18:35:12.599Z"
   },
   {
    "duration": 223,
    "start_time": "2025-06-26T18:35:16.135Z"
   },
   {
    "duration": 22,
    "start_time": "2025-06-26T18:39:42.290Z"
   },
   {
    "duration": 14,
    "start_time": "2025-06-26T18:40:16.127Z"
   },
   {
    "duration": 19,
    "start_time": "2025-06-26T18:40:36.769Z"
   },
   {
    "duration": 18,
    "start_time": "2025-06-26T18:40:44.527Z"
   },
   {
    "duration": 34,
    "start_time": "2025-06-26T18:41:18.503Z"
   },
   {
    "duration": 26,
    "start_time": "2025-06-26T18:42:27.015Z"
   },
   {
    "duration": 18,
    "start_time": "2025-06-26T18:42:34.967Z"
   },
   {
    "duration": 35,
    "start_time": "2025-06-26T18:42:41.592Z"
   },
   {
    "duration": 18,
    "start_time": "2025-06-26T18:43:06.817Z"
   },
   {
    "duration": 40,
    "start_time": "2025-06-26T18:43:13.400Z"
   },
   {
    "duration": 46,
    "start_time": "2025-06-26T18:43:53.225Z"
   },
   {
    "duration": 516,
    "start_time": "2025-06-26T18:45:13.743Z"
   },
   {
    "duration": 482,
    "start_time": "2025-06-26T18:45:40.169Z"
   },
   {
    "duration": 470,
    "start_time": "2025-06-26T18:47:27.113Z"
   },
   {
    "duration": 4,
    "start_time": "2025-06-26T18:48:01.641Z"
   },
   {
    "duration": 474,
    "start_time": "2025-06-26T18:48:39.173Z"
   },
   {
    "duration": 471,
    "start_time": "2025-06-26T18:48:47.671Z"
   },
   {
    "duration": 10,
    "start_time": "2025-06-26T18:50:45.805Z"
   },
   {
    "duration": 484,
    "start_time": "2025-06-26T18:50:52.274Z"
   },
   {
    "duration": 491,
    "start_time": "2025-06-26T18:51:16.654Z"
   },
   {
    "duration": 477,
    "start_time": "2025-06-26T18:51:23.851Z"
   },
   {
    "duration": 478,
    "start_time": "2025-06-26T18:51:55.317Z"
   },
   {
    "duration": 525,
    "start_time": "2025-06-26T18:52:50.242Z"
   },
   {
    "duration": 9,
    "start_time": "2025-06-26T18:53:00.904Z"
   },
   {
    "duration": 78,
    "start_time": "2025-06-26T18:53:06.590Z"
   },
   {
    "duration": 214,
    "start_time": "2025-06-26T18:53:15.281Z"
   },
   {
    "duration": 606,
    "start_time": "2025-06-26T18:55:31.134Z"
   },
   {
    "duration": 217,
    "start_time": "2025-06-26T18:55:42.691Z"
   },
   {
    "duration": 601,
    "start_time": "2025-06-26T18:57:26.207Z"
   },
   {
    "duration": 96,
    "start_time": "2025-06-26T18:58:22.874Z"
   },
   {
    "duration": 18,
    "start_time": "2025-06-26T18:58:42.986Z"
   },
   {
    "duration": 10,
    "start_time": "2025-06-26T18:58:54.256Z"
   },
   {
    "duration": 6,
    "start_time": "2025-06-26T19:04:28.786Z"
   },
   {
    "duration": 12,
    "start_time": "2025-06-26T19:05:33.272Z"
   },
   {
    "duration": 11,
    "start_time": "2025-06-26T19:06:17.512Z"
   },
   {
    "duration": 236,
    "start_time": "2025-06-26T19:07:11.495Z"
   },
   {
    "duration": 48,
    "start_time": "2025-06-26T19:09:00.032Z"
   },
   {
    "duration": 1145,
    "start_time": "2025-06-26T19:09:12.865Z"
   },
   {
    "duration": 2249,
    "start_time": "2025-06-26T19:09:14.012Z"
   },
   {
    "duration": 104,
    "start_time": "2025-06-26T19:09:16.263Z"
   },
   {
    "duration": 527,
    "start_time": "2025-06-26T19:09:16.370Z"
   },
   {
    "duration": 18,
    "start_time": "2025-06-26T19:09:16.898Z"
   },
   {
    "duration": 45,
    "start_time": "2025-06-26T19:09:16.918Z"
   },
   {
    "duration": 10,
    "start_time": "2025-06-26T19:09:17.143Z"
   },
   {
    "duration": 247,
    "start_time": "2025-06-26T19:09:18.237Z"
   },
   {
    "duration": 123,
    "start_time": "2025-06-26T19:09:18.552Z"
   },
   {
    "duration": 221,
    "start_time": "2025-06-26T19:09:20.547Z"
   },
   {
    "duration": 104,
    "start_time": "2025-06-26T19:09:22.313Z"
   },
   {
    "duration": 199,
    "start_time": "2025-06-26T19:09:23.812Z"
   },
   {
    "duration": 18,
    "start_time": "2025-06-26T19:09:26.778Z"
   },
   {
    "duration": 16,
    "start_time": "2025-06-26T19:09:27.556Z"
   },
   {
    "duration": 17,
    "start_time": "2025-06-26T19:09:28.216Z"
   },
   {
    "duration": 26,
    "start_time": "2025-06-26T19:09:28.925Z"
   },
   {
    "duration": 36,
    "start_time": "2025-06-26T19:09:29.645Z"
   },
   {
    "duration": 36,
    "start_time": "2025-06-26T19:09:31.632Z"
   },
   {
    "duration": 34,
    "start_time": "2025-06-26T19:09:32.697Z"
   },
   {
    "duration": 42,
    "start_time": "2025-06-26T19:09:34.181Z"
   },
   {
    "duration": 50,
    "start_time": "2025-06-26T19:09:36.004Z"
   },
   {
    "duration": 508,
    "start_time": "2025-06-26T19:09:38.503Z"
   },
   {
    "duration": 469,
    "start_time": "2025-06-26T19:09:40.496Z"
   },
   {
    "duration": 655,
    "start_time": "2025-06-26T19:09:42.547Z"
   },
   {
    "duration": 5028,
    "start_time": "2025-06-26T19:09:44.941Z"
   },
   {
    "duration": 39,
    "start_time": "2025-06-26T19:10:16.011Z"
   },
   {
    "duration": 5109,
    "start_time": "2025-06-26T19:10:44.033Z"
   },
   {
    "duration": 5138,
    "start_time": "2025-06-26T19:10:55.973Z"
   },
   {
    "duration": 5,
    "start_time": "2025-06-26T19:11:21.791Z"
   },
   {
    "duration": 26,
    "start_time": "2025-06-26T19:11:36.130Z"
   },
   {
    "duration": 75,
    "start_time": "2025-06-26T19:15:41.763Z"
   },
   {
    "duration": 4836,
    "start_time": "2025-06-26T19:16:10.739Z"
   },
   {
    "duration": 29,
    "start_time": "2025-06-26T19:16:34.316Z"
   },
   {
    "duration": 7,
    "start_time": "2025-06-26T19:17:56.434Z"
   },
   {
    "duration": 29,
    "start_time": "2025-06-26T19:17:59.459Z"
   },
   {
    "duration": 45,
    "start_time": "2025-06-27T10:47:05.709Z"
   },
   {
    "duration": 1441,
    "start_time": "2025-06-27T10:47:23.744Z"
   },
   {
    "duration": 3088,
    "start_time": "2025-06-27T10:47:25.187Z"
   },
   {
    "duration": 105,
    "start_time": "2025-06-27T10:47:28.276Z"
   },
   {
    "duration": 530,
    "start_time": "2025-06-27T10:47:28.383Z"
   },
   {
    "duration": 20,
    "start_time": "2025-06-27T10:47:28.915Z"
   },
   {
    "duration": 224,
    "start_time": "2025-06-27T10:47:28.936Z"
   },
   {
    "duration": 10,
    "start_time": "2025-06-27T10:47:29.162Z"
   },
   {
    "duration": 263,
    "start_time": "2025-06-27T10:47:31.593Z"
   },
   {
    "duration": 117,
    "start_time": "2025-06-27T10:47:32.197Z"
   },
   {
    "duration": 207,
    "start_time": "2025-06-27T10:47:32.775Z"
   },
   {
    "duration": 25,
    "start_time": "2025-06-27T10:47:48.093Z"
   },
   {
    "duration": 3275,
    "start_time": "2025-06-27T10:51:48.095Z"
   },
   {
    "duration": 7,
    "start_time": "2025-06-27T10:52:10.983Z"
   },
   {
    "duration": 1804,
    "start_time": "2025-06-27T10:54:20.501Z"
   },
   {
    "duration": 3273,
    "start_time": "2025-06-27T10:54:37.294Z"
   },
   {
    "duration": 6,
    "start_time": "2025-06-27T10:54:41.164Z"
   },
   {
    "duration": 12,
    "start_time": "2025-06-27T10:54:42.145Z"
   },
   {
    "duration": 1864,
    "start_time": "2025-06-27T10:54:43.237Z"
   },
   {
    "duration": 219,
    "start_time": "2025-06-27T10:55:10.173Z"
   },
   {
    "duration": 251,
    "start_time": "2025-06-27T10:55:11.234Z"
   },
   {
    "duration": 4844,
    "start_time": "2025-06-27T10:55:13.527Z"
   },
   {
    "duration": 5,
    "start_time": "2025-06-27T10:55:18.373Z"
   },
   {
    "duration": 28,
    "start_time": "2025-06-27T10:55:18.380Z"
   },
   {
    "duration": 4570,
    "start_time": "2025-06-27T10:55:21.038Z"
   },
   {
    "duration": 29,
    "start_time": "2025-06-27T10:59:27.710Z"
   },
   {
    "duration": 3,
    "start_time": "2025-06-27T11:01:49.954Z"
   },
   {
    "duration": 8,
    "start_time": "2025-06-27T11:06:09.797Z"
   },
   {
    "duration": 23,
    "start_time": "2025-06-27T11:06:18.977Z"
   },
   {
    "duration": 32,
    "start_time": "2025-06-27T11:06:19.408Z"
   },
   {
    "duration": 38,
    "start_time": "2025-06-27T11:06:20.475Z"
   },
   {
    "duration": 44,
    "start_time": "2025-06-27T11:06:22.064Z"
   },
   {
    "duration": 514,
    "start_time": "2025-06-27T11:06:23.320Z"
   },
   {
    "duration": 509,
    "start_time": "2025-06-27T11:06:25.329Z"
   },
   {
    "duration": 693,
    "start_time": "2025-06-27T11:06:27.048Z"
   },
   {
    "duration": 19,
    "start_time": "2025-06-27T11:06:30.788Z"
   },
   {
    "duration": 20,
    "start_time": "2025-06-27T11:06:53.735Z"
   },
   {
    "duration": 13,
    "start_time": "2025-06-27T11:07:18.308Z"
   },
   {
    "duration": 178,
    "start_time": "2025-06-27T11:19:28.726Z"
   },
   {
    "duration": 78,
    "start_time": "2025-06-27T11:25:37.925Z"
   },
   {
    "duration": 1229,
    "start_time": "2025-06-27T11:25:45.951Z"
   },
   {
    "duration": 1830,
    "start_time": "2025-06-27T11:25:47.182Z"
   },
   {
    "duration": 101,
    "start_time": "2025-06-27T11:25:49.014Z"
   },
   {
    "duration": 567,
    "start_time": "2025-06-27T11:25:49.117Z"
   },
   {
    "duration": 19,
    "start_time": "2025-06-27T11:25:49.686Z"
   },
   {
    "duration": 112,
    "start_time": "2025-06-27T11:25:49.706Z"
   },
   {
    "duration": 10,
    "start_time": "2025-06-27T11:25:49.820Z"
   },
   {
    "duration": 289,
    "start_time": "2025-06-27T11:25:49.832Z"
   },
   {
    "duration": 131,
    "start_time": "2025-06-27T11:25:50.123Z"
   },
   {
    "duration": 28,
    "start_time": "2025-06-27T11:25:50.257Z"
   },
   {
    "duration": 224,
    "start_time": "2025-06-27T11:25:50.286Z"
   },
   {
    "duration": 117,
    "start_time": "2025-06-27T11:25:50.512Z"
   },
   {
    "duration": 201,
    "start_time": "2025-06-27T11:25:50.631Z"
   },
   {
    "duration": 5278,
    "start_time": "2025-06-27T11:25:50.833Z"
   },
   {
    "duration": 7,
    "start_time": "2025-06-27T11:25:56.113Z"
   },
   {
    "duration": 43,
    "start_time": "2025-06-27T11:25:56.122Z"
   },
   {
    "duration": 4824,
    "start_time": "2025-06-27T11:25:56.167Z"
   },
   {
    "duration": 18,
    "start_time": "2025-06-27T11:26:00.995Z"
   },
   {
    "duration": 51,
    "start_time": "2025-06-27T11:26:01.015Z"
   },
   {
    "duration": 79,
    "start_time": "2025-06-27T11:26:01.068Z"
   },
   {
    "duration": 27,
    "start_time": "2025-06-27T11:26:01.149Z"
   },
   {
    "duration": 48,
    "start_time": "2025-06-27T11:26:01.178Z"
   },
   {
    "duration": 76,
    "start_time": "2025-06-27T11:26:01.227Z"
   },
   {
    "duration": 28,
    "start_time": "2025-06-27T11:26:01.305Z"
   },
   {
    "duration": 65,
    "start_time": "2025-06-27T11:26:01.335Z"
   },
   {
    "duration": 116,
    "start_time": "2025-06-27T11:26:01.402Z"
   },
   {
    "duration": 66,
    "start_time": "2025-06-27T11:26:01.520Z"
   },
   {
    "duration": 613,
    "start_time": "2025-06-27T11:26:01.588Z"
   },
   {
    "duration": 578,
    "start_time": "2025-06-27T11:26:02.203Z"
   },
   {
    "duration": 752,
    "start_time": "2025-06-27T11:26:02.782Z"
   },
   {
    "duration": 28,
    "start_time": "2025-06-27T11:26:03.536Z"
   },
   {
    "duration": 13,
    "start_time": "2025-06-27T11:26:03.565Z"
   },
   {
    "duration": 7,
    "start_time": "2025-06-27T11:26:28.730Z"
   },
   {
    "duration": 110,
    "start_time": "2025-06-27T11:27:51.590Z"
   },
   {
    "duration": 145,
    "start_time": "2025-06-27T11:27:55.787Z"
   },
   {
    "duration": 79,
    "start_time": "2025-06-27T11:28:01.105Z"
   },
   {
    "duration": 74,
    "start_time": "2025-06-27T11:28:22.650Z"
   },
   {
    "duration": 151,
    "start_time": "2025-06-27T11:31:56.200Z"
   },
   {
    "duration": 108,
    "start_time": "2025-06-27T11:34:21.368Z"
   },
   {
    "duration": 100,
    "start_time": "2025-06-27T11:34:32.184Z"
   },
   {
    "duration": 861,
    "start_time": "2025-06-27T11:34:45.090Z"
   },
   {
    "duration": 60,
    "start_time": "2025-06-27T11:35:27.713Z"
   },
   {
    "duration": 8,
    "start_time": "2025-06-27T11:36:31.607Z"
   },
   {
    "duration": 67,
    "start_time": "2025-06-27T11:38:33.716Z"
   },
   {
    "duration": 10,
    "start_time": "2025-06-27T11:38:55.179Z"
   },
   {
    "duration": 78,
    "start_time": "2025-06-27T11:39:00.445Z"
   },
   {
    "duration": 9,
    "start_time": "2025-06-27T11:39:01.785Z"
   },
   {
    "duration": 23,
    "start_time": "2025-06-27T11:39:44.105Z"
   },
   {
    "duration": 188,
    "start_time": "2025-06-27T11:39:57.057Z"
   },
   {
    "duration": 20,
    "start_time": "2025-06-27T11:40:35.228Z"
   },
   {
    "duration": 114,
    "start_time": "2025-06-27T11:42:43.863Z"
   },
   {
    "duration": 62,
    "start_time": "2025-06-27T11:43:17.982Z"
   },
   {
    "duration": 19,
    "start_time": "2025-06-27T11:43:19.564Z"
   },
   {
    "duration": 69,
    "start_time": "2025-06-27T11:44:19.427Z"
   },
   {
    "duration": 15,
    "start_time": "2025-06-27T11:44:43.206Z"
   },
   {
    "duration": 79,
    "start_time": "2025-06-27T11:50:17.201Z"
   },
   {
    "duration": 118,
    "start_time": "2025-06-27T11:56:07.504Z"
   },
   {
    "duration": 129,
    "start_time": "2025-06-27T11:56:26.991Z"
   },
   {
    "duration": 198,
    "start_time": "2025-06-27T11:56:58.345Z"
   },
   {
    "duration": 77,
    "start_time": "2025-06-27T11:58:33.982Z"
   },
   {
    "duration": 181,
    "start_time": "2025-06-27T11:58:37.176Z"
   },
   {
    "duration": 72,
    "start_time": "2025-06-27T11:58:57.949Z"
   },
   {
    "duration": 118,
    "start_time": "2025-06-27T11:58:58.705Z"
   },
   {
    "duration": 126,
    "start_time": "2025-06-27T11:58:59.470Z"
   },
   {
    "duration": 193,
    "start_time": "2025-06-27T11:59:00.046Z"
   },
   {
    "duration": 4,
    "start_time": "2025-06-27T12:03:43.534Z"
   },
   {
    "duration": 64,
    "start_time": "2025-06-27T19:00:31.734Z"
   },
   {
    "duration": 1452,
    "start_time": "2025-06-27T19:00:42.754Z"
   },
   {
    "duration": 1816,
    "start_time": "2025-06-27T19:00:44.209Z"
   },
   {
    "duration": 113,
    "start_time": "2025-06-27T19:00:46.043Z"
   },
   {
    "duration": 370,
    "start_time": "2025-06-27T19:00:46.159Z"
   },
   {
    "duration": 29,
    "start_time": "2025-06-27T19:00:46.543Z"
   },
   {
    "duration": 50,
    "start_time": "2025-06-27T19:00:46.574Z"
   },
   {
    "duration": 14,
    "start_time": "2025-06-27T19:00:46.625Z"
   },
   {
    "duration": 269,
    "start_time": "2025-06-27T19:00:46.647Z"
   },
   {
    "duration": 142,
    "start_time": "2025-06-27T19:00:46.918Z"
   },
   {
    "duration": 35,
    "start_time": "2025-06-27T19:00:47.064Z"
   },
   {
    "duration": 290,
    "start_time": "2025-06-27T19:00:47.101Z"
   },
   {
    "duration": 125,
    "start_time": "2025-06-27T19:00:47.393Z"
   },
   {
    "duration": 238,
    "start_time": "2025-06-27T19:00:47.519Z"
   },
   {
    "duration": 5945,
    "start_time": "2025-06-27T19:00:47.759Z"
   },
   {
    "duration": 7,
    "start_time": "2025-06-27T19:00:53.706Z"
   },
   {
    "duration": 45,
    "start_time": "2025-06-27T19:00:53.714Z"
   },
   {
    "duration": 5486,
    "start_time": "2025-06-27T19:00:53.762Z"
   },
   {
    "duration": 24,
    "start_time": "2025-06-27T19:00:59.253Z"
   },
   {
    "duration": 39,
    "start_time": "2025-06-27T19:00:59.280Z"
   },
   {
    "duration": 84,
    "start_time": "2025-06-27T19:00:59.321Z"
   },
   {
    "duration": 36,
    "start_time": "2025-06-27T19:00:59.407Z"
   },
   {
    "duration": 37,
    "start_time": "2025-06-27T19:00:59.446Z"
   },
   {
    "duration": 35,
    "start_time": "2025-06-27T19:00:59.485Z"
   },
   {
    "duration": 54,
    "start_time": "2025-06-27T19:00:59.521Z"
   },
   {
    "duration": 34,
    "start_time": "2025-06-27T19:00:59.578Z"
   },
   {
    "duration": 73,
    "start_time": "2025-06-27T19:00:59.613Z"
   },
   {
    "duration": 63,
    "start_time": "2025-06-27T19:00:59.688Z"
   },
   {
    "duration": 603,
    "start_time": "2025-06-27T19:00:59.754Z"
   },
   {
    "duration": 531,
    "start_time": "2025-06-27T19:01:00.359Z"
   },
   {
    "duration": 720,
    "start_time": "2025-06-27T19:01:00.891Z"
   },
   {
    "duration": 33,
    "start_time": "2025-06-27T19:01:01.613Z"
   },
   {
    "duration": 163,
    "start_time": "2025-06-27T19:01:01.648Z"
   },
   {
    "duration": 73,
    "start_time": "2025-06-27T19:01:01.812Z"
   },
   {
    "duration": 83,
    "start_time": "2025-06-27T19:01:01.887Z"
   },
   {
    "duration": 0,
    "start_time": "2025-06-27T19:01:01.971Z"
   },
   {
    "duration": 0,
    "start_time": "2025-06-27T19:01:01.973Z"
   },
   {
    "duration": 0,
    "start_time": "2025-06-27T19:01:01.974Z"
   },
   {
    "duration": 0,
    "start_time": "2025-06-27T19:01:01.975Z"
   },
   {
    "duration": 0,
    "start_time": "2025-06-27T19:01:01.976Z"
   },
   {
    "duration": 59,
    "start_time": "2025-06-27T19:01:03.348Z"
   },
   {
    "duration": 14,
    "start_time": "2025-06-27T19:01:15.544Z"
   },
   {
    "duration": 113,
    "start_time": "2025-06-27T19:01:16.567Z"
   },
   {
    "duration": 59,
    "start_time": "2025-06-27T19:01:18.648Z"
   },
   {
    "duration": 126,
    "start_time": "2025-06-27T19:01:19.407Z"
   },
   {
    "duration": 136,
    "start_time": "2025-06-27T19:01:20.142Z"
   },
   {
    "duration": 4,
    "start_time": "2025-06-27T19:01:21.045Z"
   },
   {
    "duration": 7,
    "start_time": "2025-06-27T19:01:23.170Z"
   },
   {
    "duration": 175,
    "start_time": "2025-06-27T19:02:48.576Z"
   },
   {
    "duration": 170,
    "start_time": "2025-06-27T19:03:02.024Z"
   },
   {
    "duration": 169,
    "start_time": "2025-06-27T19:03:24.085Z"
   },
   {
    "duration": 139,
    "start_time": "2025-06-27T19:03:33.611Z"
   },
   {
    "duration": 145,
    "start_time": "2025-06-27T19:04:06.616Z"
   },
   {
    "duration": 197,
    "start_time": "2025-06-27T19:05:36.905Z"
   },
   {
    "duration": 188,
    "start_time": "2025-06-27T19:05:49.993Z"
   },
   {
    "duration": 192,
    "start_time": "2025-06-27T19:06:33.654Z"
   },
   {
    "duration": 84,
    "start_time": "2025-06-27T19:07:09.802Z"
   },
   {
    "duration": 163,
    "start_time": "2025-06-27T19:07:31.235Z"
   },
   {
    "duration": 150,
    "start_time": "2025-06-27T19:09:10.783Z"
   },
   {
    "duration": 71,
    "start_time": "2025-06-27T19:10:13.545Z"
   },
   {
    "duration": 158,
    "start_time": "2025-06-27T19:10:52.563Z"
   },
   {
    "duration": 198,
    "start_time": "2025-06-27T19:11:16.524Z"
   },
   {
    "duration": 18,
    "start_time": "2025-06-27T19:14:51.481Z"
   },
   {
    "duration": 53,
    "start_time": "2025-06-27T19:15:51.600Z"
   },
   {
    "duration": 65,
    "start_time": "2025-06-27T19:18:56.452Z"
   },
   {
    "duration": 50,
    "start_time": "2025-06-27T19:19:04.986Z"
   },
   {
    "duration": 50,
    "start_time": "2025-06-27T19:19:39.981Z"
   },
   {
    "duration": 59,
    "start_time": "2025-06-27T19:21:27.518Z"
   },
   {
    "duration": 75,
    "start_time": "2025-06-27T19:21:41.650Z"
   },
   {
    "duration": 62,
    "start_time": "2025-06-27T19:21:51.923Z"
   },
   {
    "duration": 70,
    "start_time": "2025-06-27T19:22:04.330Z"
   },
   {
    "duration": 59,
    "start_time": "2025-06-27T19:22:21.211Z"
   },
   {
    "duration": 54,
    "start_time": "2025-06-27T19:22:39.274Z"
   },
   {
    "duration": 54,
    "start_time": "2025-06-27T19:23:47.968Z"
   },
   {
    "duration": 341,
    "start_time": "2025-06-27T19:24:45.529Z"
   },
   {
    "duration": 277,
    "start_time": "2025-06-27T19:25:41.367Z"
   },
   {
    "duration": 113,
    "start_time": "2025-06-27T19:25:58.650Z"
   },
   {
    "duration": 351,
    "start_time": "2025-06-27T19:28:02.887Z"
   },
   {
    "duration": 357,
    "start_time": "2025-06-27T19:28:17.961Z"
   },
   {
    "duration": 322,
    "start_time": "2025-06-27T19:28:39.253Z"
   },
   {
    "duration": 358,
    "start_time": "2025-06-27T19:28:48.722Z"
   },
   {
    "duration": 325,
    "start_time": "2025-06-27T19:29:01.228Z"
   },
   {
    "duration": 343,
    "start_time": "2025-06-27T19:29:05.761Z"
   },
   {
    "duration": 347,
    "start_time": "2025-06-27T19:29:10.558Z"
   },
   {
    "duration": 308,
    "start_time": "2025-06-27T19:29:25.632Z"
   },
   {
    "duration": 338,
    "start_time": "2025-06-27T19:29:38.551Z"
   },
   {
    "duration": 419,
    "start_time": "2025-06-27T19:29:47.650Z"
   },
   {
    "duration": 372,
    "start_time": "2025-06-27T19:29:59.595Z"
   },
   {
    "duration": 341,
    "start_time": "2025-06-27T19:30:05.655Z"
   },
   {
    "duration": 344,
    "start_time": "2025-06-27T19:30:12.727Z"
   },
   {
    "duration": 378,
    "start_time": "2025-06-27T19:30:18.176Z"
   },
   {
    "duration": 403,
    "start_time": "2025-06-27T19:30:24.891Z"
   },
   {
    "duration": 339,
    "start_time": "2025-06-27T19:30:31.728Z"
   },
   {
    "duration": 385,
    "start_time": "2025-06-27T19:30:43.273Z"
   },
   {
    "duration": 347,
    "start_time": "2025-06-27T19:30:48.521Z"
   },
   {
    "duration": 359,
    "start_time": "2025-06-27T19:30:52.230Z"
   },
   {
    "duration": 381,
    "start_time": "2025-06-27T19:30:58.576Z"
   },
   {
    "duration": 447,
    "start_time": "2025-06-27T19:31:05.854Z"
   },
   {
    "duration": 353,
    "start_time": "2025-06-27T19:31:12.227Z"
   },
   {
    "duration": 375,
    "start_time": "2025-06-27T19:31:17.211Z"
   },
   {
    "duration": 387,
    "start_time": "2025-06-27T19:33:13.683Z"
   },
   {
    "duration": 64,
    "start_time": "2025-06-27T19:34:23.506Z"
   },
   {
    "duration": 61,
    "start_time": "2025-06-27T19:35:26.322Z"
   },
   {
    "duration": 85,
    "start_time": "2025-06-27T19:35:46.556Z"
   },
   {
    "duration": 347,
    "start_time": "2025-06-27T19:35:48.339Z"
   },
   {
    "duration": 55,
    "start_time": "2025-06-27T19:35:49.273Z"
   },
   {
    "duration": 315,
    "start_time": "2025-06-27T19:36:41.723Z"
   },
   {
    "duration": 282,
    "start_time": "2025-06-27T19:36:58.338Z"
   },
   {
    "duration": 274,
    "start_time": "2025-06-27T19:37:12.244Z"
   },
   {
    "duration": 297,
    "start_time": "2025-06-27T19:37:18.408Z"
   },
   {
    "duration": 298,
    "start_time": "2025-06-27T19:37:39.756Z"
   },
   {
    "duration": 45,
    "start_time": "2025-06-27T19:38:43.176Z"
   },
   {
    "duration": 336,
    "start_time": "2025-06-27T19:39:58.226Z"
   },
   {
    "duration": 432,
    "start_time": "2025-06-27T19:40:29.531Z"
   },
   {
    "duration": 340,
    "start_time": "2025-06-27T19:40:56.406Z"
   },
   {
    "duration": 389,
    "start_time": "2025-06-27T19:41:06.223Z"
   },
   {
    "duration": 356,
    "start_time": "2025-06-27T19:41:16.949Z"
   },
   {
    "duration": 343,
    "start_time": "2025-06-27T19:41:24.949Z"
   },
   {
    "duration": 72,
    "start_time": "2025-06-27T19:44:20.748Z"
   },
   {
    "duration": 23,
    "start_time": "2025-06-27T19:45:22.270Z"
   },
   {
    "duration": 22,
    "start_time": "2025-06-27T19:45:52.851Z"
   },
   {
    "duration": 5,
    "start_time": "2025-06-27T19:46:17.667Z"
   },
   {
    "duration": 59,
    "start_time": "2025-06-27T19:46:51.028Z"
   },
   {
    "duration": 54,
    "start_time": "2025-06-27T19:48:38.095Z"
   },
   {
    "duration": 320,
    "start_time": "2025-06-27T19:49:46.971Z"
   },
   {
    "duration": 12,
    "start_time": "2025-06-27T19:50:49.827Z"
   },
   {
    "duration": 63,
    "start_time": "2025-06-27T19:53:28.147Z"
   },
   {
    "duration": 442,
    "start_time": "2025-06-27T19:53:42.209Z"
   },
   {
    "duration": 422,
    "start_time": "2025-06-27T19:54:32.853Z"
   },
   {
    "duration": 58,
    "start_time": "2025-06-27T19:56:44.851Z"
   },
   {
    "duration": 57,
    "start_time": "2025-06-27T19:57:37.378Z"
   },
   {
    "duration": 64,
    "start_time": "2025-06-27T19:58:02.308Z"
   },
   {
    "duration": 53,
    "start_time": "2025-06-27T19:58:16.958Z"
   },
   {
    "duration": 96,
    "start_time": "2025-06-27T19:59:28.427Z"
   },
   {
    "duration": 57,
    "start_time": "2025-06-27T20:00:21.055Z"
   },
   {
    "duration": 64,
    "start_time": "2025-06-27T20:02:05.710Z"
   },
   {
    "duration": 60,
    "start_time": "2025-06-27T20:02:08.895Z"
   },
   {
    "duration": 53,
    "start_time": "2025-06-27T20:02:22.780Z"
   },
   {
    "duration": 57,
    "start_time": "2025-06-27T20:03:36.060Z"
   },
   {
    "duration": 69,
    "start_time": "2025-06-27T20:04:04.723Z"
   },
   {
    "duration": 53,
    "start_time": "2025-06-27T20:04:28.956Z"
   },
   {
    "duration": 66,
    "start_time": "2025-06-27T20:04:46.286Z"
   },
   {
    "duration": 54,
    "start_time": "2025-06-27T20:05:08.251Z"
   },
   {
    "duration": 161,
    "start_time": "2025-06-27T20:05:41.430Z"
   },
   {
    "duration": 62,
    "start_time": "2025-06-27T20:05:52.717Z"
   },
   {
    "duration": 55,
    "start_time": "2025-06-27T20:05:59.480Z"
   },
   {
    "duration": 71,
    "start_time": "2025-06-27T20:06:04.137Z"
   },
   {
    "duration": 57,
    "start_time": "2025-06-27T20:06:26.075Z"
   },
   {
    "duration": 58,
    "start_time": "2025-06-27T20:06:40.538Z"
   },
   {
    "duration": 72,
    "start_time": "2025-06-27T20:06:56.332Z"
   },
   {
    "duration": 60,
    "start_time": "2025-06-27T20:07:35.192Z"
   },
   {
    "duration": 60,
    "start_time": "2025-06-27T20:08:41.051Z"
   },
   {
    "duration": 64,
    "start_time": "2025-06-27T20:09:26.813Z"
   },
   {
    "duration": 166,
    "start_time": "2025-06-27T20:13:45.313Z"
   },
   {
    "duration": 442,
    "start_time": "2025-06-27T20:15:31.842Z"
   },
   {
    "duration": 1347,
    "start_time": "2025-06-28T11:30:11.414Z"
   },
   {
    "duration": 2229,
    "start_time": "2025-06-28T11:30:12.763Z"
   },
   {
    "duration": 104,
    "start_time": "2025-06-28T11:30:14.994Z"
   },
   {
    "duration": 839,
    "start_time": "2025-06-28T11:30:15.100Z"
   },
   {
    "duration": 17,
    "start_time": "2025-06-28T11:30:15.941Z"
   },
   {
    "duration": 51,
    "start_time": "2025-06-28T11:30:15.971Z"
   },
   {
    "duration": 10,
    "start_time": "2025-06-28T11:30:16.024Z"
   },
   {
    "duration": 327,
    "start_time": "2025-06-28T11:30:16.035Z"
   },
   {
    "duration": 128,
    "start_time": "2025-06-28T11:30:16.364Z"
   },
   {
    "duration": 26,
    "start_time": "2025-06-28T11:30:16.495Z"
   },
   {
    "duration": 229,
    "start_time": "2025-06-28T11:30:16.523Z"
   },
   {
    "duration": 118,
    "start_time": "2025-06-28T11:30:16.754Z"
   },
   {
    "duration": 208,
    "start_time": "2025-06-28T11:30:16.874Z"
   },
   {
    "duration": 5196,
    "start_time": "2025-06-28T11:30:17.084Z"
   },
   {
    "duration": 8,
    "start_time": "2025-06-28T11:30:22.281Z"
   },
   {
    "duration": 31,
    "start_time": "2025-06-28T11:30:22.291Z"
   },
   {
    "duration": 4741,
    "start_time": "2025-06-28T11:30:22.324Z"
   },
   {
    "duration": 24,
    "start_time": "2025-06-28T11:30:27.067Z"
   },
   {
    "duration": 17,
    "start_time": "2025-06-28T11:30:27.093Z"
   },
   {
    "duration": 30,
    "start_time": "2025-06-28T11:30:27.112Z"
   },
   {
    "duration": 73,
    "start_time": "2025-06-28T11:30:27.144Z"
   },
   {
    "duration": 16,
    "start_time": "2025-06-28T11:30:27.219Z"
   },
   {
    "duration": 23,
    "start_time": "2025-06-28T11:30:27.237Z"
   },
   {
    "duration": 34,
    "start_time": "2025-06-28T11:30:27.261Z"
   },
   {
    "duration": 24,
    "start_time": "2025-06-28T11:30:27.297Z"
   },
   {
    "duration": 33,
    "start_time": "2025-06-28T11:30:27.323Z"
   },
   {
    "duration": 61,
    "start_time": "2025-06-28T11:30:27.357Z"
   },
   {
    "duration": 49,
    "start_time": "2025-06-28T11:30:27.422Z"
   },
   {
    "duration": 534,
    "start_time": "2025-06-28T11:30:27.472Z"
   },
   {
    "duration": 534,
    "start_time": "2025-06-28T11:30:28.007Z"
   },
   {
    "duration": 672,
    "start_time": "2025-06-28T11:30:28.543Z"
   },
   {
    "duration": 19,
    "start_time": "2025-06-28T11:30:29.217Z"
   },
   {
    "duration": 168,
    "start_time": "2025-06-28T11:30:29.237Z"
   },
   {
    "duration": 82,
    "start_time": "2025-06-28T11:30:29.407Z"
   },
   {
    "duration": 13,
    "start_time": "2025-06-28T11:30:29.491Z"
   },
   {
    "duration": 132,
    "start_time": "2025-06-28T11:30:29.505Z"
   },
   {
    "duration": 73,
    "start_time": "2025-06-28T11:30:29.638Z"
   },
   {
    "duration": 132,
    "start_time": "2025-06-28T11:30:29.713Z"
   },
   {
    "duration": 146,
    "start_time": "2025-06-28T11:30:29.847Z"
   },
   {
    "duration": 4,
    "start_time": "2025-06-28T11:30:29.994Z"
   },
   {
    "duration": 225,
    "start_time": "2025-06-28T11:30:30.000Z"
   },
   {
    "duration": 76,
    "start_time": "2025-06-28T11:30:30.227Z"
   },
   {
    "duration": 439,
    "start_time": "2025-06-28T11:30:30.305Z"
   },
   {
    "duration": 65,
    "start_time": "2025-06-28T11:30:30.746Z"
   },
   {
    "duration": 349,
    "start_time": "2025-06-28T11:30:30.812Z"
   },
   {
    "duration": 47,
    "start_time": "2025-06-28T11:30:31.171Z"
   },
   {
    "duration": 367,
    "start_time": "2025-06-28T11:30:31.220Z"
   },
   {
    "duration": 120,
    "start_time": "2025-06-28T11:30:31.589Z"
   },
   {
    "duration": 278,
    "start_time": "2025-06-28T11:34:46.217Z"
   },
   {
    "duration": 451,
    "start_time": "2025-06-28T11:35:23.479Z"
   },
   {
    "duration": 127,
    "start_time": "2025-06-28T11:41:54.224Z"
   },
   {
    "duration": 19,
    "start_time": "2025-06-28T11:42:19.539Z"
   },
   {
    "duration": 25,
    "start_time": "2025-06-28T11:42:38.092Z"
   },
   {
    "duration": 20,
    "start_time": "2025-06-28T11:42:46.813Z"
   },
   {
    "duration": 109,
    "start_time": "2025-06-28T11:46:25.731Z"
   },
   {
    "duration": 134,
    "start_time": "2025-06-28T11:48:31.843Z"
   },
   {
    "duration": 111,
    "start_time": "2025-06-28T11:48:58.767Z"
   },
   {
    "duration": 108,
    "start_time": "2025-06-28T11:49:02.708Z"
   },
   {
    "duration": 1467,
    "start_time": "2025-06-28T11:49:44.422Z"
   },
   {
    "duration": 1678,
    "start_time": "2025-06-28T11:50:04.261Z"
   },
   {
    "duration": 106,
    "start_time": "2025-06-28T11:50:27.232Z"
   },
   {
    "duration": 1545,
    "start_time": "2025-06-28T11:55:23.756Z"
   },
   {
    "duration": 1517,
    "start_time": "2025-06-28T11:55:53.147Z"
   },
   {
    "duration": 1512,
    "start_time": "2025-06-28T11:57:04.731Z"
   },
   {
    "duration": 133,
    "start_time": "2025-06-28T11:58:16.768Z"
   },
   {
    "duration": 1479,
    "start_time": "2025-06-28T11:58:44.097Z"
   },
   {
    "duration": 113,
    "start_time": "2025-06-28T11:58:53.358Z"
   },
   {
    "duration": 114,
    "start_time": "2025-06-28T11:59:09.201Z"
   },
   {
    "duration": 120,
    "start_time": "2025-06-28T11:59:42.508Z"
   },
   {
    "duration": 104,
    "start_time": "2025-06-28T12:00:14.203Z"
   },
   {
    "duration": 108,
    "start_time": "2025-06-28T12:00:29.042Z"
   },
   {
    "duration": 123,
    "start_time": "2025-06-28T12:00:56.117Z"
   },
   {
    "duration": 119,
    "start_time": "2025-06-28T12:01:08.468Z"
   },
   {
    "duration": 1643,
    "start_time": "2025-06-28T12:01:55.014Z"
   },
   {
    "duration": 105,
    "start_time": "2025-06-28T12:02:02.908Z"
   },
   {
    "duration": 22,
    "start_time": "2025-06-28T12:03:47.259Z"
   },
   {
    "duration": 130,
    "start_time": "2025-06-28T12:04:16.107Z"
   },
   {
    "duration": 103,
    "start_time": "2025-06-28T12:04:58.304Z"
   },
   {
    "duration": 103,
    "start_time": "2025-06-28T12:06:05.997Z"
   },
   {
    "duration": 353,
    "start_time": "2025-06-28T12:08:22.718Z"
   },
   {
    "duration": 171,
    "start_time": "2025-06-28T12:08:33.916Z"
   },
   {
    "duration": 165,
    "start_time": "2025-06-28T12:10:13.088Z"
   },
   {
    "duration": 173,
    "start_time": "2025-06-28T12:10:24.988Z"
   },
   {
    "duration": 274,
    "start_time": "2025-06-28T12:11:18.886Z"
   },
   {
    "duration": 1573,
    "start_time": "2025-06-28T12:11:31.256Z"
   },
   {
    "duration": 1903,
    "start_time": "2025-06-28T12:11:41.592Z"
   },
   {
    "duration": 1603,
    "start_time": "2025-06-28T12:11:57.211Z"
   },
   {
    "duration": 1467,
    "start_time": "2025-06-28T12:12:24.215Z"
   },
   {
    "duration": 1514,
    "start_time": "2025-06-28T12:12:36.062Z"
   },
   {
    "duration": 168,
    "start_time": "2025-06-28T12:12:45.227Z"
   },
   {
    "duration": 185,
    "start_time": "2025-06-28T12:13:10.748Z"
   },
   {
    "duration": 174,
    "start_time": "2025-06-28T12:13:35.992Z"
   },
   {
    "duration": 161,
    "start_time": "2025-06-28T12:14:45.753Z"
   },
   {
    "duration": 165,
    "start_time": "2025-06-28T12:15:02.350Z"
   },
   {
    "duration": 169,
    "start_time": "2025-06-28T12:15:07.605Z"
   },
   {
    "duration": 168,
    "start_time": "2025-06-28T12:15:24.907Z"
   },
   {
    "duration": 165,
    "start_time": "2025-06-28T12:15:32.936Z"
   },
   {
    "duration": 157,
    "start_time": "2025-06-28T12:15:37.433Z"
   },
   {
    "duration": 158,
    "start_time": "2025-06-28T12:15:42.670Z"
   },
   {
    "duration": 256,
    "start_time": "2025-06-28T12:16:40.519Z"
   },
   {
    "duration": 160,
    "start_time": "2025-06-28T12:16:49.446Z"
   },
   {
    "duration": 171,
    "start_time": "2025-06-28T12:17:44.818Z"
   },
   {
    "duration": 90,
    "start_time": "2025-06-28T12:19:30.615Z"
   },
   {
    "duration": 192,
    "start_time": "2025-06-28T12:20:56.061Z"
   },
   {
    "duration": 344,
    "start_time": "2025-06-28T12:25:26.497Z"
   },
   {
    "duration": 203,
    "start_time": "2025-06-28T12:25:51.580Z"
   },
   {
    "duration": 255,
    "start_time": "2025-06-28T12:26:56.742Z"
   },
   {
    "duration": 257,
    "start_time": "2025-06-28T12:27:31.495Z"
   },
   {
    "duration": 249,
    "start_time": "2025-06-28T12:27:40.561Z"
   },
   {
    "duration": 260,
    "start_time": "2025-06-28T12:28:00.746Z"
   },
   {
    "duration": 257,
    "start_time": "2025-06-28T12:28:31.956Z"
   },
   {
    "duration": 118,
    "start_time": "2025-06-28T12:35:57.270Z"
   },
   {
    "duration": 116,
    "start_time": "2025-06-28T12:36:19.677Z"
   },
   {
    "duration": 247,
    "start_time": "2025-06-28T12:38:07.159Z"
   },
   {
    "duration": 409,
    "start_time": "2025-06-28T12:39:51.853Z"
   },
   {
    "duration": 367,
    "start_time": "2025-06-28T12:40:24.107Z"
   },
   {
    "duration": 326,
    "start_time": "2025-06-28T12:40:40.097Z"
   },
   {
    "duration": 366,
    "start_time": "2025-06-28T12:40:44.309Z"
   },
   {
    "duration": 385,
    "start_time": "2025-06-28T12:41:08.712Z"
   },
   {
    "duration": 400,
    "start_time": "2025-06-28T12:42:13.078Z"
   },
   {
    "duration": 384,
    "start_time": "2025-06-28T12:50:29.605Z"
   },
   {
    "duration": 423,
    "start_time": "2025-06-28T12:50:57.027Z"
   },
   {
    "duration": 14,
    "start_time": "2025-06-28T12:52:56.226Z"
   },
   {
    "duration": 326,
    "start_time": "2025-06-28T12:53:03.829Z"
   },
   {
    "duration": 224,
    "start_time": "2025-06-28T12:53:13.176Z"
   },
   {
    "duration": 382,
    "start_time": "2025-06-28T12:53:18.505Z"
   },
   {
    "duration": 356,
    "start_time": "2025-06-28T12:53:41.634Z"
   },
   {
    "duration": 357,
    "start_time": "2025-06-28T12:54:25.933Z"
   },
   {
    "duration": 430,
    "start_time": "2025-06-28T12:55:05.167Z"
   },
   {
    "duration": 371,
    "start_time": "2025-06-28T12:55:34.968Z"
   },
   {
    "duration": 426,
    "start_time": "2025-06-28T12:56:24.548Z"
   },
   {
    "duration": 419,
    "start_time": "2025-06-28T12:56:47.836Z"
   },
   {
    "duration": 319,
    "start_time": "2025-06-28T12:56:55.747Z"
   },
   {
    "duration": 396,
    "start_time": "2025-06-28T12:57:37.843Z"
   },
   {
    "duration": 319,
    "start_time": "2025-06-28T12:57:45.962Z"
   },
   {
    "duration": 377,
    "start_time": "2025-06-28T12:58:04.571Z"
   },
   {
    "duration": 334,
    "start_time": "2025-06-28T12:58:09.303Z"
   },
   {
    "duration": 148,
    "start_time": "2025-06-28T12:58:39.302Z"
   },
   {
    "duration": 122,
    "start_time": "2025-06-28T12:58:53.311Z"
   },
   {
    "duration": 246,
    "start_time": "2025-06-28T12:59:07.326Z"
   },
   {
    "duration": 119,
    "start_time": "2025-06-28T12:59:16.318Z"
   },
   {
    "duration": 135,
    "start_time": "2025-06-28T12:59:26.399Z"
   },
   {
    "duration": 148,
    "start_time": "2025-06-28T12:59:32.246Z"
   },
   {
    "duration": 167,
    "start_time": "2025-06-28T13:00:00.422Z"
   },
   {
    "duration": 166,
    "start_time": "2025-06-28T13:00:11.880Z"
   },
   {
    "duration": 399,
    "start_time": "2025-06-28T13:01:59.900Z"
   },
   {
    "duration": 371,
    "start_time": "2025-06-28T13:02:22.884Z"
   },
   {
    "duration": 353,
    "start_time": "2025-06-28T13:02:41.392Z"
   },
   {
    "duration": 344,
    "start_time": "2025-06-28T13:02:48.473Z"
   },
   {
    "duration": 388,
    "start_time": "2025-06-28T13:03:08.190Z"
   },
   {
    "duration": 445,
    "start_time": "2025-06-28T13:03:12.508Z"
   },
   {
    "duration": 119,
    "start_time": "2025-06-28T13:10:14.191Z"
   },
   {
    "duration": 191,
    "start_time": "2025-06-28T13:10:18.750Z"
   },
   {
    "duration": 198,
    "start_time": "2025-06-28T13:10:23.090Z"
   },
   {
    "duration": 176,
    "start_time": "2025-06-28T13:10:27.412Z"
   },
   {
    "duration": 192,
    "start_time": "2025-06-28T13:10:34.032Z"
   },
   {
    "duration": 300,
    "start_time": "2025-06-28T13:10:57.414Z"
   },
   {
    "duration": 359,
    "start_time": "2025-06-28T13:11:09.299Z"
   },
   {
    "duration": 409,
    "start_time": "2025-06-28T13:11:37.076Z"
   },
   {
    "duration": 295,
    "start_time": "2025-06-28T13:12:04.076Z"
   },
   {
    "duration": 1428,
    "start_time": "2025-06-28T19:15:09.601Z"
   },
   {
    "duration": 1756,
    "start_time": "2025-06-28T19:15:11.031Z"
   },
   {
    "duration": 119,
    "start_time": "2025-06-28T19:15:12.789Z"
   },
   {
    "duration": 326,
    "start_time": "2025-06-28T19:15:12.910Z"
   },
   {
    "duration": 27,
    "start_time": "2025-06-28T19:15:13.242Z"
   },
   {
    "duration": 31,
    "start_time": "2025-06-28T19:15:13.271Z"
   },
   {
    "duration": 11,
    "start_time": "2025-06-28T19:15:13.304Z"
   },
   {
    "duration": 307,
    "start_time": "2025-06-28T19:15:13.316Z"
   },
   {
    "duration": 145,
    "start_time": "2025-06-28T19:15:13.625Z"
   },
   {
    "duration": 24,
    "start_time": "2025-06-28T19:15:13.773Z"
   },
   {
    "duration": 268,
    "start_time": "2025-06-28T19:15:13.799Z"
   },
   {
    "duration": 132,
    "start_time": "2025-06-28T19:15:14.069Z"
   },
   {
    "duration": 239,
    "start_time": "2025-06-28T19:15:14.203Z"
   },
   {
    "duration": 5843,
    "start_time": "2025-06-28T19:15:14.445Z"
   },
   {
    "duration": 7,
    "start_time": "2025-06-28T19:15:20.290Z"
   },
   {
    "duration": 39,
    "start_time": "2025-06-28T19:15:20.299Z"
   },
   {
    "duration": 5481,
    "start_time": "2025-06-28T19:15:20.341Z"
   },
   {
    "duration": 40,
    "start_time": "2025-06-28T19:15:25.824Z"
   },
   {
    "duration": 25,
    "start_time": "2025-06-28T19:15:25.866Z"
   },
   {
    "duration": 48,
    "start_time": "2025-06-28T19:15:25.893Z"
   },
   {
    "duration": 42,
    "start_time": "2025-06-28T19:15:25.943Z"
   },
   {
    "duration": 34,
    "start_time": "2025-06-28T19:15:25.986Z"
   },
   {
    "duration": 35,
    "start_time": "2025-06-28T19:15:26.022Z"
   },
   {
    "duration": 37,
    "start_time": "2025-06-28T19:15:26.058Z"
   },
   {
    "duration": 46,
    "start_time": "2025-06-28T19:15:26.096Z"
   },
   {
    "duration": 42,
    "start_time": "2025-06-28T19:15:26.145Z"
   },
   {
    "duration": 72,
    "start_time": "2025-06-28T19:15:26.189Z"
   },
   {
    "duration": 50,
    "start_time": "2025-06-28T19:15:26.264Z"
   },
   {
    "duration": 628,
    "start_time": "2025-06-28T19:15:26.316Z"
   },
   {
    "duration": 579,
    "start_time": "2025-06-28T19:15:26.947Z"
   },
   {
    "duration": 802,
    "start_time": "2025-06-28T19:15:27.528Z"
   },
   {
    "duration": 28,
    "start_time": "2025-06-28T19:15:28.331Z"
   },
   {
    "duration": 193,
    "start_time": "2025-06-28T19:15:28.361Z"
   },
   {
    "duration": 74,
    "start_time": "2025-06-28T19:15:28.557Z"
   },
   {
    "duration": 25,
    "start_time": "2025-06-28T19:15:28.632Z"
   },
   {
    "duration": 147,
    "start_time": "2025-06-28T19:15:28.659Z"
   },
   {
    "duration": 83,
    "start_time": "2025-06-28T19:15:28.808Z"
   },
   {
    "duration": 159,
    "start_time": "2025-06-28T19:15:28.894Z"
   },
   {
    "duration": 163,
    "start_time": "2025-06-28T19:15:29.055Z"
   },
   {
    "duration": 4,
    "start_time": "2025-06-28T19:15:29.220Z"
   },
   {
    "duration": 193,
    "start_time": "2025-06-28T19:15:29.226Z"
   },
   {
    "duration": 94,
    "start_time": "2025-06-28T19:15:29.421Z"
   },
   {
    "duration": 470,
    "start_time": "2025-06-28T19:15:29.517Z"
   },
   {
    "duration": 80,
    "start_time": "2025-06-28T19:15:29.988Z"
   },
   {
    "duration": 377,
    "start_time": "2025-06-28T19:15:30.069Z"
   },
   {
    "duration": 47,
    "start_time": "2025-06-28T19:15:30.450Z"
   },
   {
    "duration": 413,
    "start_time": "2025-06-28T19:15:30.499Z"
   },
   {
    "duration": 126,
    "start_time": "2025-06-28T19:15:30.914Z"
   },
   {
    "duration": 180,
    "start_time": "2025-06-28T19:15:31.044Z"
   },
   {
    "duration": 304,
    "start_time": "2025-06-28T19:15:31.225Z"
   },
   {
    "duration": 262,
    "start_time": "2025-06-28T19:15:31.531Z"
   },
   {
    "duration": 215,
    "start_time": "2025-06-28T19:15:31.796Z"
   },
   {
    "duration": 237,
    "start_time": "2025-06-28T19:15:32.013Z"
   },
   {
    "duration": 400,
    "start_time": "2025-06-28T19:15:32.253Z"
   },
   {
    "duration": 306,
    "start_time": "2025-06-28T19:15:32.655Z"
   },
   {
    "duration": 111,
    "start_time": "2025-06-28T19:18:39.954Z"
   },
   {
    "duration": 109,
    "start_time": "2025-06-28T19:18:47.643Z"
   },
   {
    "duration": 296,
    "start_time": "2025-06-28T19:18:49.117Z"
   },
   {
    "duration": 214,
    "start_time": "2025-06-28T19:18:49.848Z"
   },
   {
    "duration": 192,
    "start_time": "2025-06-28T19:18:50.800Z"
   },
   {
    "duration": 207,
    "start_time": "2025-06-28T19:18:51.074Z"
   },
   {
    "duration": 326,
    "start_time": "2025-06-28T19:18:51.532Z"
   },
   {
    "duration": 336,
    "start_time": "2025-06-28T19:18:52.491Z"
   },
   {
    "duration": 74,
    "start_time": "2025-06-28T19:22:35.269Z"
   },
   {
    "duration": 97,
    "start_time": "2025-06-28T19:22:46.067Z"
   },
   {
    "duration": 58,
    "start_time": "2025-06-28T19:23:44.521Z"
   },
   {
    "duration": 51,
    "start_time": "2025-06-28T19:23:57.124Z"
   },
   {
    "duration": 68,
    "start_time": "2025-06-28T19:25:05.281Z"
   },
   {
    "duration": 113,
    "start_time": "2025-06-28T19:26:33.902Z"
   },
   {
    "duration": 106,
    "start_time": "2025-06-28T19:26:54.206Z"
   },
   {
    "duration": 84,
    "start_time": "2025-06-28T19:27:17.660Z"
   },
   {
    "duration": 123,
    "start_time": "2025-06-28T19:27:42.981Z"
   },
   {
    "duration": 1080,
    "start_time": "2025-06-28T19:28:01.269Z"
   },
   {
    "duration": 1771,
    "start_time": "2025-06-28T19:29:25.951Z"
   },
   {
    "duration": 2006,
    "start_time": "2025-06-28T19:30:00.030Z"
   },
   {
    "duration": 1297,
    "start_time": "2025-06-28T19:30:29.603Z"
   },
   {
    "duration": 1077,
    "start_time": "2025-06-28T19:30:33.218Z"
   },
   {
    "duration": 3719,
    "start_time": "2025-06-28T19:31:25.948Z"
   },
   {
    "duration": 3635,
    "start_time": "2025-06-28T19:31:38.535Z"
   },
   {
    "duration": 3249,
    "start_time": "2025-06-28T19:32:33.232Z"
   },
   {
    "duration": 3560,
    "start_time": "2025-06-28T19:32:46.384Z"
   },
   {
    "duration": 2445,
    "start_time": "2025-06-28T19:33:53.296Z"
   },
   {
    "duration": 2702,
    "start_time": "2025-06-28T19:34:12.188Z"
   },
   {
    "duration": 3472,
    "start_time": "2025-06-28T19:34:46.219Z"
   },
   {
    "duration": 46,
    "start_time": "2025-06-28T19:35:59.656Z"
   },
   {
    "duration": 3599,
    "start_time": "2025-06-28T19:36:01.262Z"
   },
   {
    "duration": 1114,
    "start_time": "2025-06-28T19:38:57.376Z"
   },
   {
    "duration": 3549,
    "start_time": "2025-06-28T19:38:58.528Z"
   },
   {
    "duration": 54,
    "start_time": "2025-06-28T19:40:48.880Z"
   },
   {
    "duration": 53,
    "start_time": "2025-06-28T19:41:32.780Z"
   },
   {
    "duration": 46,
    "start_time": "2025-06-28T19:42:01.012Z"
   },
   {
    "duration": 2357,
    "start_time": "2025-06-28T19:42:03.885Z"
   },
   {
    "duration": 55,
    "start_time": "2025-06-28T19:42:32.255Z"
   },
   {
    "duration": 21,
    "start_time": "2025-06-28T19:44:21.362Z"
   },
   {
    "duration": 56,
    "start_time": "2025-06-28T19:44:39.899Z"
   },
   {
    "duration": 56,
    "start_time": "2025-06-28T19:45:21.447Z"
   },
   {
    "duration": 55,
    "start_time": "2025-06-28T19:45:34.854Z"
   },
   {
    "duration": 55,
    "start_time": "2025-06-28T19:45:51.489Z"
   },
   {
    "duration": 138,
    "start_time": "2025-06-28T19:47:50.626Z"
   },
   {
    "duration": 3075,
    "start_time": "2025-06-28T19:47:57.968Z"
   },
   {
    "duration": 55,
    "start_time": "2025-06-28T19:48:34.352Z"
   },
   {
    "duration": 52,
    "start_time": "2025-06-28T19:48:52.129Z"
   },
   {
    "duration": 64,
    "start_time": "2025-06-28T19:52:02.108Z"
   },
   {
    "duration": 67,
    "start_time": "2025-06-28T19:52:24.314Z"
   },
   {
    "duration": 41,
    "start_time": "2025-06-28T19:55:02.967Z"
   },
   {
    "duration": 31,
    "start_time": "2025-06-28T19:56:28.405Z"
   },
   {
    "duration": 33,
    "start_time": "2025-06-28T19:58:01.379Z"
   },
   {
    "duration": 35,
    "start_time": "2025-06-28T19:58:21.796Z"
   },
   {
    "duration": 60,
    "start_time": "2025-06-28T19:58:37.406Z"
   },
   {
    "duration": 84,
    "start_time": "2025-06-28T19:58:41.671Z"
   },
   {
    "duration": 60,
    "start_time": "2025-06-28T19:59:11.418Z"
   },
   {
    "duration": 46,
    "start_time": "2025-06-28T19:59:34.382Z"
   },
   {
    "duration": 16,
    "start_time": "2025-06-28T19:59:41.711Z"
   },
   {
    "duration": 16,
    "start_time": "2025-06-28T20:00:01.505Z"
   },
   {
    "duration": 17,
    "start_time": "2025-06-28T20:00:27.255Z"
   },
   {
    "duration": 30,
    "start_time": "2025-06-28T20:00:39.683Z"
   },
   {
    "duration": 70,
    "start_time": "2025-06-28T20:00:57.738Z"
   },
   {
    "duration": 78,
    "start_time": "2025-06-28T20:01:43.420Z"
   },
   {
    "duration": 60,
    "start_time": "2025-06-28T20:02:26.076Z"
   },
   {
    "duration": 74,
    "start_time": "2025-06-28T20:02:31.983Z"
   },
   {
    "duration": 83,
    "start_time": "2025-06-28T20:03:17.899Z"
   },
   {
    "duration": 72,
    "start_time": "2025-06-28T20:03:44.985Z"
   },
   {
    "duration": 191,
    "start_time": "2025-06-28T20:04:22.951Z"
   },
   {
    "duration": 7,
    "start_time": "2025-06-28T20:05:00.451Z"
   },
   {
    "duration": 82,
    "start_time": "2025-06-28T20:05:05.049Z"
   },
   {
    "duration": 76,
    "start_time": "2025-06-28T20:07:22.452Z"
   },
   {
    "duration": 78,
    "start_time": "2025-06-28T20:07:34.624Z"
   },
   {
    "duration": 77,
    "start_time": "2025-06-28T20:07:38.835Z"
   },
   {
    "duration": 71,
    "start_time": "2025-06-28T20:08:18.843Z"
   },
   {
    "duration": 1423,
    "start_time": "2025-06-29T18:35:54.795Z"
   },
   {
    "duration": 1561,
    "start_time": "2025-06-29T18:35:56.221Z"
   },
   {
    "duration": 114,
    "start_time": "2025-06-29T18:35:57.783Z"
   },
   {
    "duration": 248,
    "start_time": "2025-06-29T18:35:57.900Z"
   },
   {
    "duration": 23,
    "start_time": "2025-06-29T18:35:58.149Z"
   },
   {
    "duration": 65,
    "start_time": "2025-06-29T18:35:58.174Z"
   },
   {
    "duration": 12,
    "start_time": "2025-06-29T18:35:58.241Z"
   },
   {
    "duration": 283,
    "start_time": "2025-06-29T18:35:58.255Z"
   },
   {
    "duration": 129,
    "start_time": "2025-06-29T18:35:58.540Z"
   },
   {
    "duration": 27,
    "start_time": "2025-06-29T18:35:58.673Z"
   },
   {
    "duration": 250,
    "start_time": "2025-06-29T18:35:58.702Z"
   },
   {
    "duration": 149,
    "start_time": "2025-06-29T18:35:58.954Z"
   },
   {
    "duration": 226,
    "start_time": "2025-06-29T18:35:59.105Z"
   },
   {
    "duration": 5656,
    "start_time": "2025-06-29T18:35:59.333Z"
   },
   {
    "duration": 8,
    "start_time": "2025-06-29T18:36:04.990Z"
   },
   {
    "duration": 27,
    "start_time": "2025-06-29T18:36:05.000Z"
   },
   {
    "duration": 5379,
    "start_time": "2025-06-29T18:36:05.029Z"
   },
   {
    "duration": 26,
    "start_time": "2025-06-29T18:36:10.410Z"
   },
   {
    "duration": 123,
    "start_time": "2025-06-29T18:36:10.438Z"
   },
   {
    "duration": 32,
    "start_time": "2025-06-29T18:36:10.563Z"
   },
   {
    "duration": 19,
    "start_time": "2025-06-29T18:36:10.597Z"
   },
   {
    "duration": 43,
    "start_time": "2025-06-29T18:36:10.618Z"
   },
   {
    "duration": 25,
    "start_time": "2025-06-29T18:36:10.663Z"
   },
   {
    "duration": 37,
    "start_time": "2025-06-29T18:36:10.691Z"
   },
   {
    "duration": 48,
    "start_time": "2025-06-29T18:36:10.731Z"
   },
   {
    "duration": 66,
    "start_time": "2025-06-29T18:36:10.781Z"
   },
   {
    "duration": 44,
    "start_time": "2025-06-29T18:36:10.849Z"
   },
   {
    "duration": 124,
    "start_time": "2025-06-29T18:36:10.899Z"
   },
   {
    "duration": 565,
    "start_time": "2025-06-29T18:36:11.025Z"
   },
   {
    "duration": 556,
    "start_time": "2025-06-29T18:36:11.592Z"
   },
   {
    "duration": 744,
    "start_time": "2025-06-29T18:36:12.149Z"
   },
   {
    "duration": 21,
    "start_time": "2025-06-29T18:36:12.895Z"
   },
   {
    "duration": 236,
    "start_time": "2025-06-29T18:36:12.918Z"
   },
   {
    "duration": 79,
    "start_time": "2025-06-29T18:36:13.156Z"
   },
   {
    "duration": 30,
    "start_time": "2025-06-29T18:36:13.236Z"
   },
   {
    "duration": 135,
    "start_time": "2025-06-29T18:36:13.268Z"
   },
   {
    "duration": 81,
    "start_time": "2025-06-29T18:36:13.405Z"
   },
   {
    "duration": 152,
    "start_time": "2025-06-29T18:36:13.488Z"
   },
   {
    "duration": 167,
    "start_time": "2025-06-29T18:36:13.643Z"
   },
   {
    "duration": 5,
    "start_time": "2025-06-29T18:36:13.812Z"
   },
   {
    "duration": 191,
    "start_time": "2025-06-29T18:36:13.819Z"
   },
   {
    "duration": 86,
    "start_time": "2025-06-29T18:36:14.012Z"
   },
   {
    "duration": 459,
    "start_time": "2025-06-29T18:36:14.100Z"
   },
   {
    "duration": 63,
    "start_time": "2025-06-29T18:36:14.560Z"
   },
   {
    "duration": 348,
    "start_time": "2025-06-29T18:36:14.625Z"
   },
   {
    "duration": 50,
    "start_time": "2025-06-29T18:36:14.975Z"
   },
   {
    "duration": 390,
    "start_time": "2025-06-29T18:36:15.027Z"
   },
   {
    "duration": 112,
    "start_time": "2025-06-29T18:36:15.419Z"
   },
   {
    "duration": 107,
    "start_time": "2025-06-29T18:36:15.533Z"
   },
   {
    "duration": 319,
    "start_time": "2025-06-29T18:36:15.642Z"
   },
   {
    "duration": 222,
    "start_time": "2025-06-29T18:36:15.963Z"
   },
   {
    "duration": 207,
    "start_time": "2025-06-29T18:36:16.187Z"
   },
   {
    "duration": 214,
    "start_time": "2025-06-29T18:36:16.396Z"
   },
   {
    "duration": 383,
    "start_time": "2025-06-29T18:36:16.612Z"
   },
   {
    "duration": 360,
    "start_time": "2025-06-29T18:36:16.996Z"
   },
   {
    "duration": 185,
    "start_time": "2025-06-29T18:36:17.360Z"
   },
   {
    "duration": 84,
    "start_time": "2025-06-29T18:36:17.547Z"
   },
   {
    "duration": 9,
    "start_time": "2025-06-29T18:38:21.482Z"
   },
   {
    "duration": 6,
    "start_time": "2025-06-29T18:38:29.587Z"
   },
   {
    "duration": 77,
    "start_time": "2025-06-29T18:53:28.391Z"
   },
   {
    "duration": 94,
    "start_time": "2025-06-29T18:55:35.847Z"
   },
   {
    "duration": 84,
    "start_time": "2025-06-29T18:55:52.146Z"
   },
   {
    "duration": 96,
    "start_time": "2025-06-29T18:56:28.821Z"
   },
   {
    "duration": 143,
    "start_time": "2025-06-29T18:57:52.328Z"
   },
   {
    "duration": 142,
    "start_time": "2025-06-29T18:58:14.129Z"
   },
   {
    "duration": 109,
    "start_time": "2025-06-29T19:01:44.435Z"
   },
   {
    "duration": 10,
    "start_time": "2025-06-29T19:02:23.931Z"
   },
   {
    "duration": 19,
    "start_time": "2025-06-29T19:04:13.940Z"
   },
   {
    "duration": 26,
    "start_time": "2025-06-29T19:05:56.074Z"
   },
   {
    "duration": 26,
    "start_time": "2025-06-29T19:06:03.359Z"
   },
   {
    "duration": 74,
    "start_time": "2025-06-29T19:08:17.023Z"
   },
   {
    "duration": 15,
    "start_time": "2025-06-29T19:10:17.238Z"
   },
   {
    "duration": 17,
    "start_time": "2025-06-29T19:10:29.629Z"
   },
   {
    "duration": 23,
    "start_time": "2025-06-29T19:10:37.074Z"
   },
   {
    "duration": 22,
    "start_time": "2025-06-29T19:10:47.079Z"
   },
   {
    "duration": 15,
    "start_time": "2025-06-29T19:11:07.804Z"
   },
   {
    "duration": 16,
    "start_time": "2025-06-29T19:11:32.246Z"
   },
   {
    "duration": 17,
    "start_time": "2025-06-29T19:15:02.563Z"
   },
   {
    "duration": 15,
    "start_time": "2025-06-29T19:19:12.223Z"
   },
   {
    "duration": 19,
    "start_time": "2025-06-29T19:19:15.888Z"
   },
   {
    "duration": 9,
    "start_time": "2025-06-29T19:19:44.914Z"
   },
   {
    "duration": 6,
    "start_time": "2025-06-29T19:19:54.927Z"
   },
   {
    "duration": 11,
    "start_time": "2025-06-29T19:20:43.367Z"
   },
   {
    "duration": 8,
    "start_time": "2025-06-29T19:21:42.573Z"
   },
   {
    "duration": 11,
    "start_time": "2025-06-29T19:25:32.292Z"
   },
   {
    "duration": 14,
    "start_time": "2025-06-29T19:25:56.071Z"
   },
   {
    "duration": 13,
    "start_time": "2025-06-29T19:26:02.131Z"
   },
   {
    "duration": 11,
    "start_time": "2025-06-29T19:26:04.259Z"
   },
   {
    "duration": 14,
    "start_time": "2025-06-29T19:26:04.825Z"
   },
   {
    "duration": 357,
    "start_time": "2025-06-29T19:27:35.273Z"
   },
   {
    "duration": 332,
    "start_time": "2025-06-29T19:28:21.793Z"
   },
   {
    "duration": 298,
    "start_time": "2025-06-29T19:28:27.351Z"
   },
   {
    "duration": 348,
    "start_time": "2025-06-29T19:28:41.022Z"
   },
   {
    "duration": 170,
    "start_time": "2025-06-29T19:28:58.257Z"
   },
   {
    "duration": 206,
    "start_time": "2025-06-29T19:29:35.738Z"
   },
   {
    "duration": 9,
    "start_time": "2025-06-29T19:30:18.087Z"
   },
   {
    "duration": 13,
    "start_time": "2025-06-29T19:49:42.944Z"
   },
   {
    "duration": 22,
    "start_time": "2025-06-29T19:51:36.553Z"
   },
   {
    "duration": 23,
    "start_time": "2025-06-29T19:51:44.077Z"
   },
   {
    "duration": 24,
    "start_time": "2025-06-29T19:52:27.717Z"
   },
   {
    "duration": 7,
    "start_time": "2025-06-29T19:54:17.171Z"
   },
   {
    "duration": 6,
    "start_time": "2025-06-29T19:54:40.167Z"
   },
   {
    "duration": 108,
    "start_time": "2025-06-29T19:56:02.164Z"
   },
   {
    "duration": 16,
    "start_time": "2025-06-29T19:58:53.075Z"
   },
   {
    "duration": 16,
    "start_time": "2025-06-29T19:58:55.393Z"
   },
   {
    "duration": 36,
    "start_time": "2025-06-29T20:00:32.374Z"
   },
   {
    "duration": 221,
    "start_time": "2025-06-29T20:01:26.951Z"
   },
   {
    "duration": 195,
    "start_time": "2025-06-29T20:01:32.852Z"
   },
   {
    "duration": 192,
    "start_time": "2025-06-29T20:02:32.236Z"
   },
   {
    "duration": 17,
    "start_time": "2025-06-29T20:02:55.257Z"
   },
   {
    "duration": 20,
    "start_time": "2025-06-29T20:03:30.604Z"
   },
   {
    "duration": 15,
    "start_time": "2025-06-29T20:03:41.650Z"
   },
   {
    "duration": 7,
    "start_time": "2025-06-29T20:03:58.883Z"
   },
   {
    "duration": 4,
    "start_time": "2025-06-29T20:04:10.426Z"
   },
   {
    "duration": 6,
    "start_time": "2025-06-29T20:05:13.407Z"
   },
   {
    "duration": 5,
    "start_time": "2025-06-29T20:05:22.484Z"
   },
   {
    "duration": 6,
    "start_time": "2025-06-29T20:08:38.327Z"
   },
   {
    "duration": 7,
    "start_time": "2025-06-29T20:08:45.335Z"
   },
   {
    "duration": 33,
    "start_time": "2025-06-29T20:10:55.762Z"
   },
   {
    "duration": 38,
    "start_time": "2025-06-29T20:11:49.982Z"
   },
   {
    "duration": 15,
    "start_time": "2025-06-29T20:11:52.555Z"
   },
   {
    "duration": 378,
    "start_time": "2025-06-29T20:11:53.385Z"
   },
   {
    "duration": 202,
    "start_time": "2025-06-29T20:11:54.803Z"
   },
   {
    "duration": 28,
    "start_time": "2025-06-29T20:12:03.312Z"
   },
   {
    "duration": 5,
    "start_time": "2025-06-29T20:12:39.931Z"
   },
   {
    "duration": 16,
    "start_time": "2025-06-29T20:13:16.292Z"
   },
   {
    "duration": 20,
    "start_time": "2025-06-29T20:13:49.945Z"
   },
   {
    "duration": 58,
    "start_time": "2025-06-29T20:13:54.824Z"
   },
   {
    "duration": 9,
    "start_time": "2025-06-29T20:13:57.652Z"
   },
   {
    "duration": 2002,
    "start_time": "2025-06-29T20:14:32.102Z"
   },
   {
    "duration": 220,
    "start_time": "2025-06-29T20:16:03.076Z"
   },
   {
    "duration": 5,
    "start_time": "2025-06-29T20:17:03.723Z"
   },
   {
    "duration": 4,
    "start_time": "2025-06-29T20:17:18.733Z"
   },
   {
    "duration": 14,
    "start_time": "2025-06-29T20:17:29.363Z"
   },
   {
    "duration": 175,
    "start_time": "2025-06-29T20:17:30.574Z"
   },
   {
    "duration": 174,
    "start_time": "2025-06-29T20:17:33.400Z"
   },
   {
    "duration": 77,
    "start_time": "2025-06-29T20:18:03.544Z"
   },
   {
    "duration": 6,
    "start_time": "2025-06-29T20:18:08.873Z"
   },
   {
    "duration": 5,
    "start_time": "2025-06-29T20:18:13.265Z"
   },
   {
    "duration": 6,
    "start_time": "2025-06-29T20:18:25.981Z"
   },
   {
    "duration": 4,
    "start_time": "2025-06-29T20:18:47.765Z"
   },
   {
    "duration": 5,
    "start_time": "2025-06-29T20:18:51.403Z"
   },
   {
    "duration": 13,
    "start_time": "2025-06-29T20:18:52.110Z"
   },
   {
    "duration": 5,
    "start_time": "2025-06-29T20:18:52.799Z"
   },
   {
    "duration": 5,
    "start_time": "2025-06-29T20:19:00.875Z"
   },
   {
    "duration": 5,
    "start_time": "2025-06-29T20:19:12.224Z"
   },
   {
    "duration": 5,
    "start_time": "2025-06-29T20:19:42.767Z"
   },
   {
    "duration": 4,
    "start_time": "2025-06-29T20:19:54.799Z"
   },
   {
    "duration": 6,
    "start_time": "2025-06-29T20:19:56.995Z"
   },
   {
    "duration": 5,
    "start_time": "2025-06-29T20:20:01.864Z"
   },
   {
    "duration": 5,
    "start_time": "2025-06-29T20:20:02.572Z"
   },
   {
    "duration": 1239,
    "start_time": "2025-06-29T20:20:10.653Z"
   },
   {
    "duration": 1396,
    "start_time": "2025-06-29T20:20:11.893Z"
   },
   {
    "duration": 119,
    "start_time": "2025-06-29T20:20:13.290Z"
   },
   {
    "duration": 261,
    "start_time": "2025-06-29T20:20:13.412Z"
   },
   {
    "duration": 21,
    "start_time": "2025-06-29T20:20:13.675Z"
   },
   {
    "duration": 78,
    "start_time": "2025-06-29T20:20:13.698Z"
   },
   {
    "duration": 11,
    "start_time": "2025-06-29T20:20:13.778Z"
   },
   {
    "duration": 305,
    "start_time": "2025-06-29T20:20:13.791Z"
   },
   {
    "duration": 156,
    "start_time": "2025-06-29T20:20:14.098Z"
   },
   {
    "duration": 26,
    "start_time": "2025-06-29T20:20:14.257Z"
   },
   {
    "duration": 243,
    "start_time": "2025-06-29T20:20:14.284Z"
   },
   {
    "duration": 121,
    "start_time": "2025-06-29T20:20:14.529Z"
   },
   {
    "duration": 219,
    "start_time": "2025-06-29T20:20:14.652Z"
   },
   {
    "duration": 5578,
    "start_time": "2025-06-29T20:20:14.872Z"
   },
   {
    "duration": 13,
    "start_time": "2025-06-29T20:20:20.452Z"
   },
   {
    "duration": 28,
    "start_time": "2025-06-29T20:20:20.467Z"
   },
   {
    "duration": 4987,
    "start_time": "2025-06-29T20:20:20.497Z"
   },
   {
    "duration": 25,
    "start_time": "2025-06-29T20:20:25.486Z"
   },
   {
    "duration": 18,
    "start_time": "2025-06-29T20:20:25.513Z"
   },
   {
    "duration": 51,
    "start_time": "2025-06-29T20:20:25.533Z"
   },
   {
    "duration": 18,
    "start_time": "2025-06-29T20:20:25.586Z"
   },
   {
    "duration": 19,
    "start_time": "2025-06-29T20:20:25.605Z"
   },
   {
    "duration": 53,
    "start_time": "2025-06-29T20:20:25.626Z"
   },
   {
    "duration": 50,
    "start_time": "2025-06-29T20:20:25.681Z"
   },
   {
    "duration": 53,
    "start_time": "2025-06-29T20:20:25.734Z"
   },
   {
    "duration": 83,
    "start_time": "2025-06-29T20:20:25.789Z"
   },
   {
    "duration": 42,
    "start_time": "2025-06-29T20:20:25.874Z"
   },
   {
    "duration": 60,
    "start_time": "2025-06-29T20:20:25.920Z"
   },
   {
    "duration": 579,
    "start_time": "2025-06-29T20:20:25.982Z"
   },
   {
    "duration": 555,
    "start_time": "2025-06-29T20:20:26.563Z"
   },
   {
    "duration": 750,
    "start_time": "2025-06-29T20:20:27.119Z"
   },
   {
    "duration": 20,
    "start_time": "2025-06-29T20:20:27.871Z"
   },
   {
    "duration": 177,
    "start_time": "2025-06-29T20:20:27.893Z"
   },
   {
    "duration": 96,
    "start_time": "2025-06-29T20:20:28.072Z"
   },
   {
    "duration": 13,
    "start_time": "2025-06-29T20:20:28.170Z"
   },
   {
    "duration": 136,
    "start_time": "2025-06-29T20:20:28.184Z"
   },
   {
    "duration": 73,
    "start_time": "2025-06-29T20:20:28.322Z"
   },
   {
    "duration": 141,
    "start_time": "2025-06-29T20:20:28.397Z"
   },
   {
    "duration": 153,
    "start_time": "2025-06-29T20:20:28.540Z"
   },
   {
    "duration": 4,
    "start_time": "2025-06-29T20:20:28.694Z"
   },
   {
    "duration": 180,
    "start_time": "2025-06-29T20:20:28.700Z"
   },
   {
    "duration": 90,
    "start_time": "2025-06-29T20:20:28.882Z"
   },
   {
    "duration": 448,
    "start_time": "2025-06-29T20:20:28.975Z"
   },
   {
    "duration": 75,
    "start_time": "2025-06-29T20:20:29.425Z"
   },
   {
    "duration": 378,
    "start_time": "2025-06-29T20:20:29.502Z"
   },
   {
    "duration": 46,
    "start_time": "2025-06-29T20:20:29.882Z"
   },
   {
    "duration": 365,
    "start_time": "2025-06-29T20:20:29.930Z"
   },
   {
    "duration": 114,
    "start_time": "2025-06-29T20:20:30.297Z"
   },
   {
    "duration": 120,
    "start_time": "2025-06-29T20:20:30.413Z"
   },
   {
    "duration": 280,
    "start_time": "2025-06-29T20:20:30.535Z"
   },
   {
    "duration": 224,
    "start_time": "2025-06-29T20:20:30.817Z"
   },
   {
    "duration": 198,
    "start_time": "2025-06-29T20:20:31.043Z"
   },
   {
    "duration": 216,
    "start_time": "2025-06-29T20:20:31.242Z"
   },
   {
    "duration": 391,
    "start_time": "2025-06-29T20:20:31.460Z"
   },
   {
    "duration": 308,
    "start_time": "2025-06-29T20:20:31.853Z"
   },
   {
    "duration": 184,
    "start_time": "2025-06-29T20:20:32.163Z"
   },
   {
    "duration": 86,
    "start_time": "2025-06-29T20:20:32.349Z"
   },
   {
    "duration": 100,
    "start_time": "2025-06-29T20:20:32.437Z"
   },
   {
    "duration": 164,
    "start_time": "2025-06-29T20:20:32.539Z"
   },
   {
    "duration": 19,
    "start_time": "2025-06-29T20:20:32.705Z"
   },
   {
    "duration": 75,
    "start_time": "2025-06-29T20:20:32.726Z"
   },
   {
    "duration": 10,
    "start_time": "2025-06-29T20:20:32.804Z"
   },
   {
    "duration": 144,
    "start_time": "2025-06-29T20:20:32.816Z"
   },
   {
    "duration": 13,
    "start_time": "2025-06-29T20:20:32.962Z"
   },
   {
    "duration": 185,
    "start_time": "2025-06-29T20:20:32.977Z"
   },
   {
    "duration": 180,
    "start_time": "2025-06-29T20:20:33.164Z"
   },
   {
    "duration": 27,
    "start_time": "2025-06-29T20:20:33.346Z"
   },
   {
    "duration": 5,
    "start_time": "2025-06-29T20:20:33.375Z"
   },
   {
    "duration": 23,
    "start_time": "2025-06-29T20:20:33.382Z"
   },
   {
    "duration": 17,
    "start_time": "2025-06-29T20:20:33.407Z"
   },
   {
    "duration": 5,
    "start_time": "2025-06-29T20:20:33.426Z"
   },
   {
    "duration": 29,
    "start_time": "2025-06-29T20:20:33.432Z"
   },
   {
    "duration": 11,
    "start_time": "2025-06-29T20:20:33.462Z"
   },
   {
    "duration": 219,
    "start_time": "2025-06-29T20:20:33.475Z"
   },
   {
    "duration": 206,
    "start_time": "2025-06-29T20:20:33.696Z"
   },
   {
    "duration": 4,
    "start_time": "2025-06-29T20:20:33.904Z"
   },
   {
    "duration": 21,
    "start_time": "2025-06-29T20:20:33.909Z"
   },
   {
    "duration": 14,
    "start_time": "2025-06-29T20:21:11.990Z"
   },
   {
    "duration": 10,
    "start_time": "2025-06-29T20:21:34.106Z"
   },
   {
    "duration": 195,
    "start_time": "2025-06-29T20:21:36.037Z"
   },
   {
    "duration": 209,
    "start_time": "2025-06-29T20:21:37.182Z"
   },
   {
    "duration": 4,
    "start_time": "2025-06-29T20:21:48.123Z"
   },
   {
    "duration": 20,
    "start_time": "2025-06-29T20:22:04.531Z"
   },
   {
    "duration": 53,
    "start_time": "2025-06-30T10:35:45.805Z"
   },
   {
    "duration": 1356,
    "start_time": "2025-06-30T10:35:48.690Z"
   },
   {
    "duration": 2052,
    "start_time": "2025-06-30T10:35:50.049Z"
   },
   {
    "duration": 109,
    "start_time": "2025-06-30T10:35:52.103Z"
   },
   {
    "duration": 104,
    "start_time": "2025-06-30T10:36:42.383Z"
   },
   {
    "duration": 59,
    "start_time": "2025-06-30T10:38:16.566Z"
   },
   {
    "duration": 308,
    "start_time": "2025-06-30T10:38:19.614Z"
   },
   {
    "duration": 24,
    "start_time": "2025-06-30T10:38:21.537Z"
   },
   {
    "duration": 34,
    "start_time": "2025-06-30T10:38:28.498Z"
   },
   {
    "duration": 10,
    "start_time": "2025-06-30T10:38:40.177Z"
   },
   {
    "duration": 8,
    "start_time": "2025-06-30T10:41:26.777Z"
   },
   {
    "duration": 8,
    "start_time": "2025-06-30T10:41:29.095Z"
   },
   {
    "duration": 11,
    "start_time": "2025-06-30T10:41:33.646Z"
   },
   {
    "duration": 273,
    "start_time": "2025-06-30T10:41:36.518Z"
   },
   {
    "duration": 122,
    "start_time": "2025-06-30T10:41:37.305Z"
   },
   {
    "duration": 23,
    "start_time": "2025-06-30T10:41:38.555Z"
   },
   {
    "duration": 221,
    "start_time": "2025-06-30T10:41:41.177Z"
   },
   {
    "duration": 3567,
    "start_time": "2025-06-30T10:43:59.132Z"
   },
   {
    "duration": 9,
    "start_time": "2025-06-30T10:44:02.700Z"
   },
   {
    "duration": 12,
    "start_time": "2025-06-30T10:44:03.394Z"
   },
   {
    "duration": 3486,
    "start_time": "2025-06-30T10:44:12.313Z"
   },
   {
    "duration": 5,
    "start_time": "2025-06-30T10:44:15.801Z"
   },
   {
    "duration": 228,
    "start_time": "2025-06-30T10:44:22.143Z"
   },
   {
    "duration": 207,
    "start_time": "2025-06-30T10:44:23.440Z"
   },
   {
    "duration": 5299,
    "start_time": "2025-06-30T10:44:25.468Z"
   },
   {
    "duration": 5,
    "start_time": "2025-06-30T10:44:30.770Z"
   },
   {
    "duration": 33,
    "start_time": "2025-06-30T10:44:30.776Z"
   },
   {
    "duration": 4949,
    "start_time": "2025-06-30T10:44:33.851Z"
   },
   {
    "duration": 23,
    "start_time": "2025-06-30T10:44:39.299Z"
   },
   {
    "duration": 17,
    "start_time": "2025-06-30T10:45:42.605Z"
   },
   {
    "duration": 36,
    "start_time": "2025-06-30T10:46:09.912Z"
   },
   {
    "duration": 17,
    "start_time": "2025-06-30T10:47:05.367Z"
   },
   {
    "duration": 16,
    "start_time": "2025-06-30T10:47:13.315Z"
   },
   {
    "duration": 24,
    "start_time": "2025-06-30T10:47:37.948Z"
   },
   {
    "duration": 33,
    "start_time": "2025-06-30T10:48:13.466Z"
   },
   {
    "duration": 33,
    "start_time": "2025-06-30T10:48:28.766Z"
   },
   {
    "duration": 47,
    "start_time": "2025-06-30T10:48:46.315Z"
   },
   {
    "duration": 9,
    "start_time": "2025-06-30T10:49:52.365Z"
   },
   {
    "duration": 612,
    "start_time": "2025-06-30T10:49:57.027Z"
   },
   {
    "duration": 722,
    "start_time": "2025-06-30T10:49:58.547Z"
   },
   {
    "duration": 8,
    "start_time": "2025-06-30T10:49:59.740Z"
   },
   {
    "duration": 18,
    "start_time": "2025-06-30T10:53:22.853Z"
   },
   {
    "duration": 187,
    "start_time": "2025-06-30T10:54:03.974Z"
   },
   {
    "duration": 77,
    "start_time": "2025-06-30T10:55:47.708Z"
   },
   {
    "duration": 136,
    "start_time": "2025-06-30T10:56:51.511Z"
   },
   {
    "duration": 11,
    "start_time": "2025-06-30T10:58:42.508Z"
   },
   {
    "duration": 125,
    "start_time": "2025-06-30T10:58:52.539Z"
   },
   {
    "duration": 67,
    "start_time": "2025-06-30T10:58:54.350Z"
   },
   {
    "duration": 156,
    "start_time": "2025-06-30T10:58:55.218Z"
   },
   {
    "duration": 146,
    "start_time": "2025-06-30T10:59:58.155Z"
   },
   {
    "duration": 5,
    "start_time": "2025-06-30T11:01:29.481Z"
   },
   {
    "duration": 79,
    "start_time": "2025-06-30T11:03:56.209Z"
   },
   {
    "duration": 20,
    "start_time": "2025-06-30T11:04:01.833Z"
   },
   {
    "duration": 14,
    "start_time": "2025-06-30T11:04:07.653Z"
   },
   {
    "duration": 187,
    "start_time": "2025-06-30T11:04:13.471Z"
   },
   {
    "duration": 57,
    "start_time": "2025-06-30T11:04:14.971Z"
   },
   {
    "duration": 454,
    "start_time": "2025-06-30T11:04:15.554Z"
   },
   {
    "duration": 65,
    "start_time": "2025-06-30T11:04:16.991Z"
   },
   {
    "duration": 319,
    "start_time": "2025-06-30T11:04:17.756Z"
   },
   {
    "duration": 42,
    "start_time": "2025-06-30T11:04:44.950Z"
   },
   {
    "duration": 345,
    "start_time": "2025-06-30T11:04:50.723Z"
   },
   {
    "duration": 144,
    "start_time": "2025-06-30T11:05:36.413Z"
   },
   {
    "duration": 1459,
    "start_time": "2025-06-30T18:35:38.060Z"
   },
   {
    "duration": 1390,
    "start_time": "2025-06-30T18:35:39.521Z"
   },
   {
    "duration": 112,
    "start_time": "2025-06-30T18:35:40.913Z"
   },
   {
    "duration": 254,
    "start_time": "2025-06-30T18:35:41.027Z"
   },
   {
    "duration": 19,
    "start_time": "2025-06-30T18:35:41.283Z"
   },
   {
    "duration": 30,
    "start_time": "2025-06-30T18:35:41.304Z"
   },
   {
    "duration": 10,
    "start_time": "2025-06-30T18:35:41.336Z"
   },
   {
    "duration": 291,
    "start_time": "2025-06-30T18:35:41.348Z"
   },
   {
    "duration": 130,
    "start_time": "2025-06-30T18:35:41.641Z"
   },
   {
    "duration": 25,
    "start_time": "2025-06-30T18:35:41.772Z"
   },
   {
    "duration": 262,
    "start_time": "2025-06-30T18:35:41.799Z"
   },
   {
    "duration": 122,
    "start_time": "2025-06-30T18:35:42.063Z"
   },
   {
    "duration": 214,
    "start_time": "2025-06-30T18:35:42.186Z"
   },
   {
    "duration": 5358,
    "start_time": "2025-06-30T18:35:42.405Z"
   },
   {
    "duration": 13,
    "start_time": "2025-06-30T18:35:47.764Z"
   },
   {
    "duration": 39,
    "start_time": "2025-06-30T18:35:47.779Z"
   },
   {
    "duration": 4845,
    "start_time": "2025-06-30T18:35:47.820Z"
   },
   {
    "duration": 31,
    "start_time": "2025-06-30T18:35:52.667Z"
   },
   {
    "duration": 19,
    "start_time": "2025-06-30T18:35:52.700Z"
   },
   {
    "duration": 57,
    "start_time": "2025-06-30T18:35:52.721Z"
   },
   {
    "duration": 30,
    "start_time": "2025-06-30T18:35:52.780Z"
   },
   {
    "duration": 22,
    "start_time": "2025-06-30T18:35:52.812Z"
   },
   {
    "duration": 25,
    "start_time": "2025-06-30T18:35:52.836Z"
   },
   {
    "duration": 49,
    "start_time": "2025-06-30T18:35:52.863Z"
   },
   {
    "duration": 28,
    "start_time": "2025-06-30T18:35:52.914Z"
   },
   {
    "duration": 56,
    "start_time": "2025-06-30T18:35:52.943Z"
   },
   {
    "duration": 42,
    "start_time": "2025-06-30T18:35:53.001Z"
   },
   {
    "duration": 65,
    "start_time": "2025-06-30T18:35:53.045Z"
   },
   {
    "duration": 635,
    "start_time": "2025-06-30T18:35:53.112Z"
   },
   {
    "duration": 539,
    "start_time": "2025-06-30T18:35:53.749Z"
   },
   {
    "duration": 715,
    "start_time": "2025-06-30T18:35:54.289Z"
   },
   {
    "duration": 4,
    "start_time": "2025-06-30T18:35:55.006Z"
   },
   {
    "duration": 30,
    "start_time": "2025-06-30T18:35:55.012Z"
   },
   {
    "duration": 174,
    "start_time": "2025-06-30T18:35:55.043Z"
   },
   {
    "duration": 84,
    "start_time": "2025-06-30T18:35:55.219Z"
   },
   {
    "duration": 13,
    "start_time": "2025-06-30T18:35:55.305Z"
   },
   {
    "duration": 133,
    "start_time": "2025-06-30T18:35:55.319Z"
   },
   {
    "duration": 71,
    "start_time": "2025-06-30T18:35:55.454Z"
   },
   {
    "duration": 194,
    "start_time": "2025-06-30T18:35:55.527Z"
   },
   {
    "duration": 164,
    "start_time": "2025-06-30T18:35:55.723Z"
   },
   {
    "duration": 7,
    "start_time": "2025-06-30T18:35:55.894Z"
   },
   {
    "duration": 173,
    "start_time": "2025-06-30T18:35:55.903Z"
   },
   {
    "duration": 73,
    "start_time": "2025-06-30T18:35:56.078Z"
   },
   {
    "duration": 406,
    "start_time": "2025-06-30T18:35:56.153Z"
   },
   {
    "duration": 67,
    "start_time": "2025-06-30T18:35:56.561Z"
   },
   {
    "duration": 359,
    "start_time": "2025-06-30T18:35:56.630Z"
   },
   {
    "duration": 47,
    "start_time": "2025-06-30T18:35:56.991Z"
   },
   {
    "duration": 362,
    "start_time": "2025-06-30T18:35:57.040Z"
   },
   {
    "duration": 110,
    "start_time": "2025-06-30T18:35:57.403Z"
   },
   {
    "duration": 110,
    "start_time": "2025-06-30T18:35:57.515Z"
   },
   {
    "duration": 278,
    "start_time": "2025-06-30T18:35:57.627Z"
   },
   {
    "duration": 214,
    "start_time": "2025-06-30T18:35:57.907Z"
   },
   {
    "duration": 195,
    "start_time": "2025-06-30T18:35:58.123Z"
   },
   {
    "duration": 205,
    "start_time": "2025-06-30T18:35:58.320Z"
   },
   {
    "duration": 343,
    "start_time": "2025-06-30T18:35:58.527Z"
   },
   {
    "duration": 300,
    "start_time": "2025-06-30T18:35:58.876Z"
   },
   {
    "duration": 171,
    "start_time": "2025-06-30T18:35:59.178Z"
   },
   {
    "duration": 79,
    "start_time": "2025-06-30T18:35:59.351Z"
   },
   {
    "duration": 95,
    "start_time": "2025-06-30T18:35:59.431Z"
   },
   {
    "duration": 148,
    "start_time": "2025-06-30T18:35:59.528Z"
   },
   {
    "duration": 16,
    "start_time": "2025-06-30T18:35:59.678Z"
   },
   {
    "duration": 20,
    "start_time": "2025-06-30T18:35:59.696Z"
   },
   {
    "duration": 7,
    "start_time": "2025-06-30T18:35:59.718Z"
   },
   {
    "duration": 167,
    "start_time": "2025-06-30T18:35:59.727Z"
   },
   {
    "duration": 13,
    "start_time": "2025-06-30T18:35:59.896Z"
   },
   {
    "duration": 181,
    "start_time": "2025-06-30T18:35:59.910Z"
   },
   {
    "duration": 179,
    "start_time": "2025-06-30T18:36:00.093Z"
   },
   {
    "duration": 22,
    "start_time": "2025-06-30T18:36:00.273Z"
   },
   {
    "duration": 53,
    "start_time": "2025-06-30T18:36:00.297Z"
   },
   {
    "duration": 20,
    "start_time": "2025-06-30T18:36:00.352Z"
   },
   {
    "duration": 35,
    "start_time": "2025-06-30T18:36:00.374Z"
   },
   {
    "duration": 46,
    "start_time": "2025-06-30T18:36:00.410Z"
   },
   {
    "duration": 222,
    "start_time": "2025-06-30T18:36:00.458Z"
   },
   {
    "duration": 206,
    "start_time": "2025-06-30T18:36:00.681Z"
   },
   {
    "duration": 5,
    "start_time": "2025-06-30T18:36:00.889Z"
   },
   {
    "duration": 20,
    "start_time": "2025-06-30T18:36:00.895Z"
   },
   {
    "duration": 110,
    "start_time": "2025-06-30T18:52:11.383Z"
   },
   {
    "duration": 195,
    "start_time": "2025-06-30T18:56:28.510Z"
   },
   {
    "duration": 214,
    "start_time": "2025-06-30T19:02:31.032Z"
   },
   {
    "duration": 77,
    "start_time": "2025-06-30T19:02:57.934Z"
   },
   {
    "duration": 358,
    "start_time": "2025-06-30T19:07:25.103Z"
   },
   {
    "duration": 337,
    "start_time": "2025-06-30T19:07:34.427Z"
   },
   {
    "duration": 68,
    "start_time": "2025-06-30T19:17:25.229Z"
   },
   {
    "duration": 67,
    "start_time": "2025-06-30T19:23:39.247Z"
   },
   {
    "duration": 79,
    "start_time": "2025-06-30T19:23:46.827Z"
   },
   {
    "duration": 259,
    "start_time": "2025-06-30T19:41:53.548Z"
   },
   {
    "duration": 170,
    "start_time": "2025-06-30T19:42:10.206Z"
   },
   {
    "duration": 18,
    "start_time": "2025-06-30T19:43:07.939Z"
   },
   {
    "duration": 16,
    "start_time": "2025-06-30T19:43:17.904Z"
   },
   {
    "duration": 16,
    "start_time": "2025-06-30T19:43:24.551Z"
   },
   {
    "duration": 175,
    "start_time": "2025-06-30T19:47:37.292Z"
   },
   {
    "duration": 187,
    "start_time": "2025-06-30T19:47:44.407Z"
   },
   {
    "duration": 91,
    "start_time": "2025-06-30T20:03:12.080Z"
   },
   {
    "duration": 91,
    "start_time": "2025-06-30T20:03:22.904Z"
   },
   {
    "duration": 93,
    "start_time": "2025-06-30T20:04:02.924Z"
   },
   {
    "duration": 94,
    "start_time": "2025-06-30T20:04:13.883Z"
   },
   {
    "duration": 1157,
    "start_time": "2025-06-30T20:05:28.525Z"
   },
   {
    "duration": 1245,
    "start_time": "2025-06-30T20:05:29.684Z"
   },
   {
    "duration": 113,
    "start_time": "2025-06-30T20:05:30.930Z"
   },
   {
    "duration": 319,
    "start_time": "2025-06-30T20:05:31.046Z"
   },
   {
    "duration": 23,
    "start_time": "2025-06-30T20:05:31.367Z"
   },
   {
    "duration": 30,
    "start_time": "2025-06-30T20:05:31.392Z"
   },
   {
    "duration": 122,
    "start_time": "2025-06-30T20:05:31.424Z"
   },
   {
    "duration": 336,
    "start_time": "2025-06-30T20:05:31.548Z"
   },
   {
    "duration": 138,
    "start_time": "2025-06-30T20:05:31.886Z"
   },
   {
    "duration": 33,
    "start_time": "2025-06-30T20:05:32.028Z"
   },
   {
    "duration": 231,
    "start_time": "2025-06-30T20:05:32.063Z"
   },
   {
    "duration": 112,
    "start_time": "2025-06-30T20:05:32.296Z"
   },
   {
    "duration": 200,
    "start_time": "2025-06-30T20:05:32.410Z"
   },
   {
    "duration": 5488,
    "start_time": "2025-06-30T20:05:32.612Z"
   },
   {
    "duration": 7,
    "start_time": "2025-06-30T20:05:38.102Z"
   },
   {
    "duration": 41,
    "start_time": "2025-06-30T20:05:38.111Z"
   },
   {
    "duration": 4839,
    "start_time": "2025-06-30T20:05:38.154Z"
   },
   {
    "duration": 25,
    "start_time": "2025-06-30T20:05:42.994Z"
   },
   {
    "duration": 17,
    "start_time": "2025-06-30T20:05:43.022Z"
   },
   {
    "duration": 56,
    "start_time": "2025-06-30T20:05:43.041Z"
   },
   {
    "duration": 18,
    "start_time": "2025-06-30T20:05:43.099Z"
   },
   {
    "duration": 19,
    "start_time": "2025-06-30T20:05:43.119Z"
   },
   {
    "duration": 50,
    "start_time": "2025-06-30T20:05:43.139Z"
   },
   {
    "duration": 34,
    "start_time": "2025-06-30T20:05:43.191Z"
   },
   {
    "duration": 26,
    "start_time": "2025-06-30T20:05:43.227Z"
   },
   {
    "duration": 34,
    "start_time": "2025-06-30T20:05:43.276Z"
   },
   {
    "duration": 40,
    "start_time": "2025-06-30T20:05:43.312Z"
   },
   {
    "duration": 46,
    "start_time": "2025-06-30T20:05:43.377Z"
   },
   {
    "duration": 605,
    "start_time": "2025-06-30T20:05:43.425Z"
   },
   {
    "duration": 545,
    "start_time": "2025-06-30T20:05:44.032Z"
   },
   {
    "duration": 719,
    "start_time": "2025-06-30T20:05:44.579Z"
   },
   {
    "duration": 4,
    "start_time": "2025-06-30T20:05:45.300Z"
   },
   {
    "duration": 52,
    "start_time": "2025-06-30T20:05:45.306Z"
   },
   {
    "duration": 156,
    "start_time": "2025-06-30T20:05:45.360Z"
   },
   {
    "duration": 84,
    "start_time": "2025-06-30T20:05:45.517Z"
   },
   {
    "duration": 13,
    "start_time": "2025-06-30T20:05:45.603Z"
   },
   {
    "duration": 134,
    "start_time": "2025-06-30T20:05:45.618Z"
   },
   {
    "duration": 78,
    "start_time": "2025-06-30T20:05:45.754Z"
   },
   {
    "duration": 159,
    "start_time": "2025-06-30T20:05:45.834Z"
   },
   {
    "duration": 147,
    "start_time": "2025-06-30T20:05:45.995Z"
   },
   {
    "duration": 3,
    "start_time": "2025-06-30T20:05:46.144Z"
   },
   {
    "duration": 178,
    "start_time": "2025-06-30T20:05:46.149Z"
   },
   {
    "duration": 87,
    "start_time": "2025-06-30T20:05:46.329Z"
   },
   {
    "duration": 404,
    "start_time": "2025-06-30T20:05:46.417Z"
   },
   {
    "duration": 76,
    "start_time": "2025-06-30T20:05:46.822Z"
   },
   {
    "duration": 338,
    "start_time": "2025-06-30T20:05:46.900Z"
   },
   {
    "duration": 53,
    "start_time": "2025-06-30T20:05:47.240Z"
   },
   {
    "duration": 346,
    "start_time": "2025-06-30T20:05:47.295Z"
   },
   {
    "duration": 108,
    "start_time": "2025-06-30T20:05:47.643Z"
   },
   {
    "duration": 104,
    "start_time": "2025-06-30T20:05:47.753Z"
   },
   {
    "duration": 264,
    "start_time": "2025-06-30T20:05:47.858Z"
   },
   {
    "duration": 208,
    "start_time": "2025-06-30T20:05:48.123Z"
   },
   {
    "duration": 191,
    "start_time": "2025-06-30T20:05:48.333Z"
   },
   {
    "duration": 197,
    "start_time": "2025-06-30T20:05:48.526Z"
   },
   {
    "duration": 344,
    "start_time": "2025-06-30T20:05:48.724Z"
   },
   {
    "duration": 297,
    "start_time": "2025-06-30T20:05:49.070Z"
   },
   {
    "duration": 175,
    "start_time": "2025-06-30T20:05:49.376Z"
   },
   {
    "duration": 102,
    "start_time": "2025-06-30T20:05:49.553Z"
   },
   {
    "duration": 103,
    "start_time": "2025-06-30T20:05:49.657Z"
   },
   {
    "duration": 148,
    "start_time": "2025-06-30T20:05:49.761Z"
   },
   {
    "duration": 17,
    "start_time": "2025-06-30T20:05:49.911Z"
   },
   {
    "duration": 40,
    "start_time": "2025-06-30T20:05:49.930Z"
   },
   {
    "duration": 9,
    "start_time": "2025-06-30T20:05:49.972Z"
   },
   {
    "duration": 152,
    "start_time": "2025-06-30T20:05:49.983Z"
   },
   {
    "duration": 14,
    "start_time": "2025-06-30T20:05:50.137Z"
   },
   {
    "duration": 212,
    "start_time": "2025-06-30T20:05:50.154Z"
   },
   {
    "duration": 187,
    "start_time": "2025-06-30T20:05:50.368Z"
   },
   {
    "duration": 26,
    "start_time": "2025-06-30T20:05:50.557Z"
   },
   {
    "duration": 4,
    "start_time": "2025-06-30T20:05:50.585Z"
   },
   {
    "duration": 29,
    "start_time": "2025-06-30T20:05:50.591Z"
   },
   {
    "duration": 17,
    "start_time": "2025-06-30T20:05:50.622Z"
   },
   {
    "duration": 10,
    "start_time": "2025-06-30T20:05:50.641Z"
   },
   {
    "duration": 195,
    "start_time": "2025-06-30T20:05:50.653Z"
   },
   {
    "duration": 202,
    "start_time": "2025-06-30T20:05:50.850Z"
   },
   {
    "duration": 29,
    "start_time": "2025-06-30T20:05:51.054Z"
   },
   {
    "duration": 1261,
    "start_time": "2025-07-01T14:32:07.555Z"
   },
   {
    "duration": 1465,
    "start_time": "2025-07-01T14:32:08.818Z"
   },
   {
    "duration": 107,
    "start_time": "2025-07-01T14:32:10.285Z"
   },
   {
    "duration": 244,
    "start_time": "2025-07-01T14:32:10.394Z"
   },
   {
    "duration": 22,
    "start_time": "2025-07-01T14:32:10.640Z"
   },
   {
    "duration": 52,
    "start_time": "2025-07-01T14:32:10.664Z"
   },
   {
    "duration": 11,
    "start_time": "2025-07-01T14:32:10.717Z"
   },
   {
    "duration": 261,
    "start_time": "2025-07-01T14:32:10.729Z"
   },
   {
    "duration": 128,
    "start_time": "2025-07-01T14:32:10.991Z"
   },
   {
    "duration": 25,
    "start_time": "2025-07-01T14:32:11.122Z"
   },
   {
    "duration": 230,
    "start_time": "2025-07-01T14:32:11.148Z"
   },
   {
    "duration": 115,
    "start_time": "2025-07-01T14:32:11.380Z"
   },
   {
    "duration": 217,
    "start_time": "2025-07-01T14:32:11.497Z"
   },
   {
    "duration": 5042,
    "start_time": "2025-07-01T14:32:11.715Z"
   },
   {
    "duration": 7,
    "start_time": "2025-07-01T14:32:16.762Z"
   },
   {
    "duration": 38,
    "start_time": "2025-07-01T14:32:16.771Z"
   },
   {
    "duration": 4663,
    "start_time": "2025-07-01T14:32:16.811Z"
   },
   {
    "duration": 23,
    "start_time": "2025-07-01T14:32:21.476Z"
   },
   {
    "duration": 17,
    "start_time": "2025-07-01T14:32:21.500Z"
   },
   {
    "duration": 49,
    "start_time": "2025-07-01T14:32:21.518Z"
   },
   {
    "duration": 28,
    "start_time": "2025-07-01T14:32:21.569Z"
   },
   {
    "duration": 29,
    "start_time": "2025-07-01T14:32:21.599Z"
   },
   {
    "duration": 43,
    "start_time": "2025-07-01T14:32:21.630Z"
   },
   {
    "duration": 47,
    "start_time": "2025-07-01T14:32:21.675Z"
   },
   {
    "duration": 39,
    "start_time": "2025-07-01T14:32:21.723Z"
   },
   {
    "duration": 33,
    "start_time": "2025-07-01T14:32:21.764Z"
   },
   {
    "duration": 39,
    "start_time": "2025-07-01T14:32:21.799Z"
   },
   {
    "duration": 60,
    "start_time": "2025-07-01T14:32:21.842Z"
   },
   {
    "duration": 564,
    "start_time": "2025-07-01T14:32:21.903Z"
   },
   {
    "duration": 551,
    "start_time": "2025-07-01T14:32:22.469Z"
   },
   {
    "duration": 805,
    "start_time": "2025-07-01T14:32:23.022Z"
   },
   {
    "duration": 4,
    "start_time": "2025-07-01T14:32:23.829Z"
   },
   {
    "duration": 39,
    "start_time": "2025-07-01T14:32:23.834Z"
   },
   {
    "duration": 221,
    "start_time": "2025-07-01T14:32:23.874Z"
   },
   {
    "duration": 89,
    "start_time": "2025-07-01T14:32:24.097Z"
   },
   {
    "duration": 15,
    "start_time": "2025-07-01T14:32:24.187Z"
   },
   {
    "duration": 169,
    "start_time": "2025-07-01T14:32:24.204Z"
   },
   {
    "duration": 63,
    "start_time": "2025-07-01T14:32:24.375Z"
   },
   {
    "duration": 150,
    "start_time": "2025-07-01T14:32:24.440Z"
   },
   {
    "duration": 154,
    "start_time": "2025-07-01T14:32:24.592Z"
   },
   {
    "duration": 4,
    "start_time": "2025-07-01T14:32:24.749Z"
   },
   {
    "duration": 177,
    "start_time": "2025-07-01T14:32:24.761Z"
   },
   {
    "duration": 75,
    "start_time": "2025-07-01T14:32:24.940Z"
   },
   {
    "duration": 384,
    "start_time": "2025-07-01T14:32:25.017Z"
   },
   {
    "duration": 68,
    "start_time": "2025-07-01T14:32:25.404Z"
   },
   {
    "duration": 320,
    "start_time": "2025-07-01T14:32:25.474Z"
   },
   {
    "duration": 44,
    "start_time": "2025-07-01T14:32:25.796Z"
   },
   {
    "duration": 341,
    "start_time": "2025-07-01T14:32:25.842Z"
   },
   {
    "duration": 104,
    "start_time": "2025-07-01T14:32:26.185Z"
   },
   {
    "duration": 106,
    "start_time": "2025-07-01T14:32:26.291Z"
   },
   {
    "duration": 276,
    "start_time": "2025-07-01T14:32:26.399Z"
   },
   {
    "duration": 216,
    "start_time": "2025-07-01T14:32:26.677Z"
   },
   {
    "duration": 198,
    "start_time": "2025-07-01T14:32:26.895Z"
   },
   {
    "duration": 207,
    "start_time": "2025-07-01T14:32:27.094Z"
   },
   {
    "duration": 371,
    "start_time": "2025-07-01T14:32:27.303Z"
   },
   {
    "duration": 315,
    "start_time": "2025-07-01T14:32:27.675Z"
   },
   {
    "duration": 174,
    "start_time": "2025-07-01T14:32:27.992Z"
   },
   {
    "duration": 73,
    "start_time": "2025-07-01T14:32:28.167Z"
   },
   {
    "duration": 101,
    "start_time": "2025-07-01T14:32:28.241Z"
   },
   {
    "duration": 157,
    "start_time": "2025-07-01T14:32:28.343Z"
   },
   {
    "duration": 15,
    "start_time": "2025-07-01T14:32:28.502Z"
   },
   {
    "duration": 34,
    "start_time": "2025-07-01T14:32:28.519Z"
   },
   {
    "duration": 12,
    "start_time": "2025-07-01T14:32:28.555Z"
   },
   {
    "duration": 152,
    "start_time": "2025-07-01T14:32:28.569Z"
   },
   {
    "duration": 13,
    "start_time": "2025-07-01T14:32:28.723Z"
   },
   {
    "duration": 174,
    "start_time": "2025-07-01T14:32:28.738Z"
   },
   {
    "duration": 179,
    "start_time": "2025-07-01T14:32:28.915Z"
   },
   {
    "duration": 23,
    "start_time": "2025-07-01T14:32:29.095Z"
   },
   {
    "duration": 5,
    "start_time": "2025-07-01T14:32:29.120Z"
   },
   {
    "duration": 5,
    "start_time": "2025-07-01T14:32:29.128Z"
   },
   {
    "duration": 17,
    "start_time": "2025-07-01T14:32:29.162Z"
   },
   {
    "duration": 14,
    "start_time": "2025-07-01T14:32:29.180Z"
   },
   {
    "duration": 208,
    "start_time": "2025-07-01T14:32:29.196Z"
   },
   {
    "duration": 203,
    "start_time": "2025-07-01T14:32:29.406Z"
   },
   {
    "duration": 18,
    "start_time": "2025-07-01T14:32:29.611Z"
   }
  ],
  "colab": {
   "provenance": []
  },
  "kernelspec": {
   "display_name": "Python 3 (ipykernel)",
   "language": "python",
   "name": "python3"
  },
  "language_info": {
   "codemirror_mode": {
    "name": "ipython",
    "version": 3
   },
   "file_extension": ".py",
   "mimetype": "text/x-python",
   "name": "python",
   "nbconvert_exporter": "python",
   "pygments_lexer": "ipython3",
   "version": "3.9.7"
  },
  "toc": {
   "base_numbering": 1,
   "nav_menu": {},
   "number_sections": true,
   "sideBar": true,
   "skip_h1_title": true,
   "title_cell": "Table of Contents",
   "title_sidebar": "Contents",
   "toc_cell": false,
   "toc_position": {},
   "toc_section_display": true,
   "toc_window_display": false
  }
 },
 "nbformat": 4,
 "nbformat_minor": 1
}
