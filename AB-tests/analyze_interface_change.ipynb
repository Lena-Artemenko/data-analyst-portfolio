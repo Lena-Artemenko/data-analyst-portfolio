{
 "cells": [
  {
   "cell_type": "code",
   "execution_count": 1,
   "id": "ebf4272c",
   "metadata": {
    "id": "_CZryx2OsH-s"
   },
   "outputs": [],
   "source": [
    "#импортируем нужные библиотеки\n",
    "import pandas as pd\n",
    "import matplotlib.pyplot as plt\n",
    "import seaborn as sns\n",
    "from scipy.stats import mannwhitneyu"
   ]
  },
  {
   "cell_type": "code",
   "execution_count": 2,
   "id": "DjFcJbeGsTIg",
   "metadata": {
    "id": "DjFcJbeGsTIg"
   },
   "outputs": [],
   "source": [
    "#загружаем данные\n",
    "participants = pd.read_csv('https://____/ab_test_participants.csv')\n",
    "events = pd.read_csv('https://_____/ab_test_events.zip',\n",
    "                     parse_dates=['event_dt'], low_memory=False)"
   ]
  },
  {
   "cell_type": "code",
   "execution_count": 3,
   "id": "0ad22e98",
   "metadata": {
    "scrolled": false
   },
   "outputs": [
    {
     "data": {
      "text/html": [
       "<div>\n",
       "<style scoped>\n",
       "    .dataframe tbody tr th:only-of-type {\n",
       "        vertical-align: middle;\n",
       "    }\n",
       "\n",
       "    .dataframe tbody tr th {\n",
       "        vertical-align: top;\n",
       "    }\n",
       "\n",
       "    .dataframe thead th {\n",
       "        text-align: right;\n",
       "    }\n",
       "</style>\n",
       "<table border=\"1\" class=\"dataframe\">\n",
       "  <thead>\n",
       "    <tr style=\"text-align: right;\">\n",
       "      <th></th>\n",
       "      <th>user_id</th>\n",
       "      <th>group</th>\n",
       "      <th>ab_test</th>\n",
       "      <th>device</th>\n",
       "    </tr>\n",
       "  </thead>\n",
       "  <tbody>\n",
       "    <tr>\n",
       "      <th>0</th>\n",
       "      <td>0002CE61FF2C4011</td>\n",
       "      <td>B</td>\n",
       "      <td>interface_eu_test</td>\n",
       "      <td>Mac</td>\n",
       "    </tr>\n",
       "    <tr>\n",
       "      <th>1</th>\n",
       "      <td>001064FEAAB631A1</td>\n",
       "      <td>B</td>\n",
       "      <td>recommender_system_test</td>\n",
       "      <td>Android</td>\n",
       "    </tr>\n",
       "    <tr>\n",
       "      <th>2</th>\n",
       "      <td>001064FEAAB631A1</td>\n",
       "      <td>A</td>\n",
       "      <td>interface_eu_test</td>\n",
       "      <td>Android</td>\n",
       "    </tr>\n",
       "    <tr>\n",
       "      <th>3</th>\n",
       "      <td>0010A1C096941592</td>\n",
       "      <td>A</td>\n",
       "      <td>recommender_system_test</td>\n",
       "      <td>Android</td>\n",
       "    </tr>\n",
       "    <tr>\n",
       "      <th>4</th>\n",
       "      <td>001E72F50D1C48FA</td>\n",
       "      <td>A</td>\n",
       "      <td>interface_eu_test</td>\n",
       "      <td>Mac</td>\n",
       "    </tr>\n",
       "  </tbody>\n",
       "</table>\n",
       "</div>"
      ],
      "text/plain": [
       "            user_id group                  ab_test   device\n",
       "0  0002CE61FF2C4011     B        interface_eu_test      Mac\n",
       "1  001064FEAAB631A1     B  recommender_system_test  Android\n",
       "2  001064FEAAB631A1     A        interface_eu_test  Android\n",
       "3  0010A1C096941592     A  recommender_system_test  Android\n",
       "4  001E72F50D1C48FA     A        interface_eu_test      Mac"
      ]
     },
     "execution_count": 3,
     "metadata": {},
     "output_type": "execute_result"
    }
   ],
   "source": [
    "#знакомимся с данными\n",
    "participants.head(5)"
   ]
  },
  {
   "cell_type": "code",
   "execution_count": 4,
   "id": "1772ac06",
   "metadata": {
    "scrolled": false
   },
   "outputs": [
    {
     "name": "stdout",
     "output_type": "stream",
     "text": [
      "<class 'pandas.core.frame.DataFrame'>\n",
      "RangeIndex: 14525 entries, 0 to 14524\n",
      "Data columns (total 4 columns):\n",
      " #   Column   Non-Null Count  Dtype \n",
      "---  ------   --------------  ----- \n",
      " 0   user_id  14525 non-null  object\n",
      " 1   group    14525 non-null  object\n",
      " 2   ab_test  14525 non-null  object\n",
      " 3   device   14525 non-null  object\n",
      "dtypes: object(4)\n",
      "memory usage: 454.0+ KB\n"
     ]
    }
   ],
   "source": [
    "#проверяем типы данных и пропуски\n",
    "participants.info()"
   ]
  },
  {
   "cell_type": "code",
   "execution_count": 5,
   "id": "d7937f90",
   "metadata": {},
   "outputs": [],
   "source": [
    "#так как нас интересует только тест interface_eu_test, сразу отфильтруем данные\n",
    "participants_interface_eu_test = participants[participants['ab_test'] == 'interface_eu_test']"
   ]
  },
  {
   "cell_type": "code",
   "execution_count": 6,
   "id": "ce720ab7",
   "metadata": {},
   "outputs": [
    {
     "data": {
      "text/plain": [
       "0"
      ]
     },
     "execution_count": 6,
     "metadata": {},
     "output_type": "execute_result"
    }
   ],
   "source": [
    "#проверяем данные на дубликаты\n",
    "participants_interface_eu_test['user_id'].duplicated().sum()"
   ]
  },
  {
   "cell_type": "code",
   "execution_count": 7,
   "id": "84ce6b71",
   "metadata": {
    "scrolled": true
   },
   "outputs": [
    {
     "data": {
      "text/html": [
       "<div>\n",
       "<style scoped>\n",
       "    .dataframe tbody tr th:only-of-type {\n",
       "        vertical-align: middle;\n",
       "    }\n",
       "\n",
       "    .dataframe tbody tr th {\n",
       "        vertical-align: top;\n",
       "    }\n",
       "\n",
       "    .dataframe thead th {\n",
       "        text-align: right;\n",
       "    }\n",
       "</style>\n",
       "<table border=\"1\" class=\"dataframe\">\n",
       "  <thead>\n",
       "    <tr style=\"text-align: right;\">\n",
       "      <th></th>\n",
       "      <th>user_id</th>\n",
       "      <th>event_dt</th>\n",
       "      <th>event_name</th>\n",
       "      <th>details</th>\n",
       "    </tr>\n",
       "  </thead>\n",
       "  <tbody>\n",
       "    <tr>\n",
       "      <th>0</th>\n",
       "      <td>GLOBAL</td>\n",
       "      <td>2020-12-01 00:00:00</td>\n",
       "      <td>End of Black Friday Ads Campaign</td>\n",
       "      <td>ZONE_CODE15</td>\n",
       "    </tr>\n",
       "    <tr>\n",
       "      <th>1</th>\n",
       "      <td>CCBE9E7E99F94A08</td>\n",
       "      <td>2020-12-01 00:00:11</td>\n",
       "      <td>registration</td>\n",
       "      <td>0.0</td>\n",
       "    </tr>\n",
       "    <tr>\n",
       "      <th>2</th>\n",
       "      <td>GLOBAL</td>\n",
       "      <td>2020-12-01 00:00:25</td>\n",
       "      <td>product_page</td>\n",
       "      <td>NaN</td>\n",
       "    </tr>\n",
       "    <tr>\n",
       "      <th>3</th>\n",
       "      <td>CCBE9E7E99F94A08</td>\n",
       "      <td>2020-12-01 00:00:33</td>\n",
       "      <td>login</td>\n",
       "      <td>NaN</td>\n",
       "    </tr>\n",
       "    <tr>\n",
       "      <th>4</th>\n",
       "      <td>CCBE9E7E99F94A08</td>\n",
       "      <td>2020-12-01 00:00:52</td>\n",
       "      <td>product_page</td>\n",
       "      <td>NaN</td>\n",
       "    </tr>\n",
       "  </tbody>\n",
       "</table>\n",
       "</div>"
      ],
      "text/plain": [
       "            user_id            event_dt                        event_name  \\\n",
       "0            GLOBAL 2020-12-01 00:00:00  End of Black Friday Ads Campaign   \n",
       "1  CCBE9E7E99F94A08 2020-12-01 00:00:11                      registration   \n",
       "2            GLOBAL 2020-12-01 00:00:25                      product_page   \n",
       "3  CCBE9E7E99F94A08 2020-12-01 00:00:33                             login   \n",
       "4  CCBE9E7E99F94A08 2020-12-01 00:00:52                      product_page   \n",
       "\n",
       "       details  \n",
       "0  ZONE_CODE15  \n",
       "1          0.0  \n",
       "2          NaN  \n",
       "3          NaN  \n",
       "4          NaN  "
      ]
     },
     "execution_count": 7,
     "metadata": {},
     "output_type": "execute_result"
    }
   ],
   "source": [
    "#знакомимся с данными\n",
    "events.head(5)"
   ]
  },
  {
   "cell_type": "code",
   "execution_count": 8,
   "id": "5a545183",
   "metadata": {
    "scrolled": false
   },
   "outputs": [
    {
     "name": "stdout",
     "output_type": "stream",
     "text": [
      "<class 'pandas.core.frame.DataFrame'>\n",
      "RangeIndex: 787286 entries, 0 to 787285\n",
      "Data columns (total 4 columns):\n",
      " #   Column      Non-Null Count   Dtype         \n",
      "---  ------      --------------   -----         \n",
      " 0   user_id     787286 non-null  object        \n",
      " 1   event_dt    787286 non-null  datetime64[ns]\n",
      " 2   event_name  787286 non-null  object        \n",
      " 3   details     249022 non-null  object        \n",
      "dtypes: datetime64[ns](1), object(3)\n",
      "memory usage: 24.0+ MB\n"
     ]
    }
   ],
   "source": [
    "#проверяем типы данных и пропуски\n",
    "events.info()"
   ]
  },
  {
   "cell_type": "markdown",
   "id": "27cfc4cf",
   "metadata": {},
   "source": [
    "Дубликаты в данном датасете проверять не имеет смысла, так как нет полей, подразумевающих уникальность. Столец `details` содержит пропуски, что также ок -- не все события имеют детализированную информацию (например, события авторизации). "
   ]
  },
  {
   "cell_type": "code",
   "execution_count": 9,
   "id": "b9c90c43",
   "metadata": {
    "scrolled": true
   },
   "outputs": [
    {
     "data": {
      "text/plain": [
       "array(['End of Black Friday Ads Campaign', 'registration', 'product_page',\n",
       "       'login', 'product_cart', 'purchase',\n",
       "       'Start of Christmas&New Year Promo',\n",
       "       'Start of CIS New Year Gift Lottery'], dtype=object)"
      ]
     },
     "execution_count": 9,
     "metadata": {},
     "output_type": "execute_result"
    }
   ],
   "source": [
    "#посмотрим, какие события есть в датасете, чтобы отобрать нужные\n",
    "events['event_name'].unique()"
   ]
  },
  {
   "cell_type": "code",
   "execution_count": 10,
   "id": "ec1c27c2",
   "metadata": {},
   "outputs": [],
   "source": [
    "#отфильтруем только события registration и purchase\n",
    "events_goal = events[(events['event_name'] == 'registration') | (events['event_name'] == 'purchase')]"
   ]
  },
  {
   "cell_type": "code",
   "execution_count": 11,
   "id": "aNa3zHrKslEN",
   "metadata": {
    "id": "aNa3zHrKslEN"
   },
   "outputs": [],
   "source": [
    "#объединим датасеты с пользователями и событиями \n",
    "merged_df = participants_interface_eu_test.merge(events_goal, on='user_id', how='left')"
   ]
  },
  {
   "cell_type": "code",
   "execution_count": 12,
   "id": "06190775",
   "metadata": {
    "scrolled": true
   },
   "outputs": [
    {
     "name": "stdout",
     "output_type": "stream",
     "text": [
      "В группе А: 5383 пользователей, в группе В: 5467 пользователей\n"
     ]
    }
   ],
   "source": [
    "#сгруппируем пользователей и посчитаем кол-во по группам\n",
    "group_a = merged_df[merged_df['group'] == 'A']['user_id'].nunique()\n",
    "group_b = merged_df[merged_df['group'] == 'B']['user_id'].nunique()\n",
    "print (f'В группе А: {group_a} пользователей, в группе В: {group_b} пользователей')"
   ]
  },
  {
   "cell_type": "code",
   "execution_count": 13,
   "id": "77c80c70",
   "metadata": {
    "scrolled": false
   },
   "outputs": [
    {
     "data": {
      "image/png": "[encoded data removed]",
      "text/plain": [
       "<Figure size 864x432 with 1 Axes>"
      ]
     },
     "metadata": {
      "needs_background": "light"
     },
     "output_type": "display_data"
    }
   ],
   "source": [
    "#строим столбчатую диаграмму по количеству пользователей в группах\n",
    "plt.figure(figsize=(12, 6))\n",
    "\n",
    "groups = ['A', 'B']\n",
    "values = [group_a, group_b]\n",
    "\n",
    "for i, v in enumerate(values):\n",
    "    plt.text(i, v, str(v), ha='center', va='bottom')\n",
    "\n",
    "plt.bar(groups, values, color=['#900020', '#D2691E'])\n",
    "plt.title('Сравнение количества пользователей в группах А и В')\n",
    "plt.xlabel('Группа')\n",
    "plt.ylabel('Количество уникальных пользователей')\n",
    "plt.grid(axis = 'y')\n",
    "plt.show()"
   ]
  },
  {
   "cell_type": "markdown",
   "id": "6e4573f5",
   "metadata": {},
   "source": [
    "Пользователи по группам распределены достаточно равномерно. Проверим пересечения в группах:"
   ]
  },
  {
   "cell_type": "code",
   "execution_count": 14,
   "id": "8c877849",
   "metadata": {},
   "outputs": [
    {
     "name": "stdout",
     "output_type": "stream",
     "text": [
      "Пользователи, попавшие в обе группы: 0\n"
     ]
    }
   ],
   "source": [
    "#создаем множество пользователей из группы А\n",
    "users_a = set(merged_df[merged_df['group'] == 'A']['user_id'].unique())\n",
    "#создаем множество пользователей из группы В\n",
    "users_b = set(merged_df[merged_df['group'] == 'B']['user_id'].unique())\n",
    "\n",
    "#проверяем пересечение множеств\n",
    "intersection = users_a & users_b\n",
    "\n",
    "print(f\"Пользователи, попавшие в обе группы: {len(intersection)}\")\n"
   ]
  },
  {
   "cell_type": "code",
   "execution_count": 15,
   "id": "sES4-dKts0Yb",
   "metadata": {
    "id": "sES4-dKts0Yb"
   },
   "outputs": [],
   "source": [
    "#посчитаем дату регистрации для каждого user_id\n",
    "registration_dates = merged_df[merged_df['event_name'] == 'registration'][['user_id', 'event_dt']]\n",
    "registration_dates = registration_dates.rename(columns={'event_dt': 'registration_dt'})\n",
    "\n",
    "#объединяем с исходной таблицей, чтобы у каждого события была дата регистрации\n",
    "merged_with_reg_date = merged_df.merge(registration_dates, on='user_id', how='left')\n",
    "\n",
    "#cчитаем разницу между событием и регистрацией (лайфтайм)\n",
    "merged_with_reg_date['lifetime_days'] = (merged_with_reg_date['event_dt'] - merged_with_reg_date['registration_dt']).dt.days\n",
    "\n",
    "#офильтруем события, которые произошли в течение первых 7 дней \n",
    "events_7_days = merged_with_reg_date[merged_with_reg_date['lifetime_days'] <= 7]\n",
    "\n",
    "#отфильтруем данные только о покупках \n",
    "events_7_days_purchase = events_7_days[events_7_days['event_name'] == 'purchase']"
   ]
  },
  {
   "cell_type": "code",
   "execution_count": 16,
   "id": "7c9eddd0",
   "metadata": {
    "scrolled": false
   },
   "outputs": [
    {
     "data": {
      "image/png": "[encoded data removed]",
      "text/plain": [
       "<Figure size 864x432 with 1 Axes>"
      ]
     },
     "metadata": {
      "needs_background": "light"
     },
     "output_type": "display_data"
    }
   ],
   "source": [
    "#построим гистограмму для распределения дней до покупки\n",
    "plt.figure(figsize=(12, 6))\n",
    "plt.hist(events_7_days_purchase['lifetime_days'], bins=20, color='#900020', edgecolor='black')\n",
    "plt.title('Распределение дней до покупки с момента регистрации')\n",
    "plt.xlabel('Дней до покупки')\n",
    "plt.ylabel('Количество пользователей')\n",
    "plt.grid(axis='y')\n",
    "plt.show()"
   ]
  },
  {
   "cell_type": "markdown",
   "id": "8af2d363",
   "metadata": {},
   "source": [
    "Данные по дням до покупки распределены нормально, со смещением вправо. Чаще всего покупают через 2 дня после регистрации, также частым результатом явлется 1 и 3 дня. "
   ]
  },
  {
   "cell_type": "code",
   "execution_count": 17,
   "id": "7d97b466",
   "metadata": {
    "scrolled": true
   },
   "outputs": [
    {
     "name": "stdout",
     "output_type": "stream",
     "text": [
      "Необходимый размер выборки для каждой группы: 3759\n"
     ]
    }
   ],
   "source": [
    "import numpy as np\n",
    "from statsmodels.stats.power import NormalIndPower\n",
    "\n",
    "# Задаём параметры\n",
    "p1 = 0.3  # базовая конверсия \n",
    "p2 = 0.33 #ожидаемый уровень конверсии\n",
    "alpha = 0.05  #уровень значимости\n",
    "beta = 0.2  # ошибка второго рода, часто 1 - мощность\n",
    "power = 0.8  #мощность теста\n",
    "\n",
    "# Инициализируем класс NormalIndPower\n",
    "power_analysis = NormalIndPower()\n",
    "\n",
    "# Рассчитываем размер выборки\n",
    "sample_size = power_analysis.solve_power(\n",
    "    effect_size = (p2 - p1) / np.sqrt((p1*(1-p1) + p2*(1-p2))/2),\n",
    "    power = power,\n",
    "    alpha = alpha,\n",
    "    ratio = 1 # Равномерное распределение выборок\n",
    ")\n",
    "\n",
    "print(f\"Необходимый размер выборки для каждой группы: {int(sample_size)}\")"
   ]
  },
  {
   "cell_type": "markdown",
   "id": "414e1575",
   "metadata": {},
   "source": [
    "Текущий размер выборок (5383/5467 пользователей) больше расчетного ✅"
   ]
  },
  {
   "cell_type": "markdown",
   "id": "SadyUDgZs0t3",
   "metadata": {
    "id": "SadyUDgZs0t3"
   },
   "source": [
    "- рассчитайте для каждой группы количество посетителей, сделавших покупку, и общее количество посетителей."
   ]
  },
  {
   "cell_type": "code",
   "execution_count": 18,
   "id": "7ph853Xks4sy",
   "metadata": {
    "id": "7ph853Xks4sy",
    "scrolled": true
   },
   "outputs": [],
   "source": [
    "#считаем общее количество пользователей\n",
    "total_users_per_group = merged_df.groupby('group')['user_id'].nunique()\n",
    "\n",
    "#считаем количество пользователей, сделавших покупку в течение 7 дней после регистраии\n",
    "buyers_per_group = events_7_days_purchase.groupby('group')['user_id'].nunique()"
   ]
  },
  {
   "cell_type": "code",
   "execution_count": 19,
   "id": "ed8e9603",
   "metadata": {},
   "outputs": [
    {
     "data": {
      "text/html": [
       "<div>\n",
       "<style scoped>\n",
       "    .dataframe tbody tr th:only-of-type {\n",
       "        vertical-align: middle;\n",
       "    }\n",
       "\n",
       "    .dataframe tbody tr th {\n",
       "        vertical-align: top;\n",
       "    }\n",
       "\n",
       "    .dataframe thead th {\n",
       "        text-align: right;\n",
       "    }\n",
       "</style>\n",
       "<table border=\"1\" class=\"dataframe\">\n",
       "  <thead>\n",
       "    <tr style=\"text-align: right;\">\n",
       "      <th></th>\n",
       "      <th>total_users</th>\n",
       "      <th>buyers</th>\n",
       "      <th>conversion</th>\n",
       "    </tr>\n",
       "    <tr>\n",
       "      <th>group</th>\n",
       "      <th></th>\n",
       "      <th></th>\n",
       "      <th></th>\n",
       "    </tr>\n",
       "  </thead>\n",
       "  <tbody>\n",
       "    <tr>\n",
       "      <th>A</th>\n",
       "      <td>5383</td>\n",
       "      <td>1542</td>\n",
       "      <td>28.65</td>\n",
       "    </tr>\n",
       "    <tr>\n",
       "      <th>B</th>\n",
       "      <td>5467</td>\n",
       "      <td>1687</td>\n",
       "      <td>30.86</td>\n",
       "    </tr>\n",
       "  </tbody>\n",
       "</table>\n",
       "</div>"
      ],
      "text/plain": [
       "       total_users  buyers  conversion\n",
       "group                                 \n",
       "A             5383    1542       28.65\n",
       "B             5467    1687       30.86"
      ]
     },
     "metadata": {},
     "output_type": "display_data"
    }
   ],
   "source": [
    "#объединяем в одну таблицу\n",
    "conversion_summary = pd.DataFrame({'total_users': total_users_per_group,'buyers': buyers_per_group})\n",
    "\n",
    "# Добавляем столбец с конверсией в процентах\n",
    "conversion_summary['conversion'] = ((conversion_summary['buyers'] / conversion_summary['total_users']) * 100).round(2)\n",
    "\n",
    "display (conversion_summary)"
   ]
  },
  {
   "cell_type": "markdown",
   "id": "b8026ef5",
   "metadata": {
    "id": "hHTHPkJYs8mE"
   },
   "source": [
    "Предварительно: после изменения интерфейса конверсия действительно выросла. Однако изменение конверсии составляет 2,2%, что меньше минимального ожидаемого эффекта по ТЗ (3%). "
   ]
  },
  {
   "cell_type": "markdown",
   "id": "811f4f2f",
   "metadata": {},
   "source": [
    "Сформулируем гипотезы. \n",
    "\n",
    "**После изменения интерфейса сайта, конверсия зарегистрированных пользователей в покупателей (в течение 7 дней после регистрации):**\n",
    "\n",
    "H0: конверсия в группе А = конверсии в группе B \n",
    "\n",
    "H1: конверсия в группе А < конверсии в группе B"
   ]
  },
  {
   "cell_type": "code",
   "execution_count": 20,
   "id": "02a897ae",
   "metadata": {},
   "outputs": [
    {
     "name": "stdout",
     "output_type": "stream",
     "text": [
      "n_a=8522, n_b=9655\n",
      "m_a=3139, m_b=4188\n",
      "p_a=0.36834076507862007, p_b=0.43376488865872603\n",
      "Предпосылка о достаточном количестве данных выполняется\n"
     ]
    }
   ],
   "source": [
    "#для проверки используем z-тест пропорций, так как имеем дело с долевой метрикой, \n",
    "# но сначала нужно проверить предпосылку о доcтаточном количестве данных\n",
    "\n",
    "# n_a, n_b - все пользователи по группам\n",
    "n_a, n_b = events_7_days[events_7_days['group'] == 'A'].shape[0], events_7_days[events_7_days['group'] == 'B'].shape[0]\n",
    "\n",
    "# m_a, m_b - все покупатели по группам\n",
    "m_a = events_7_days_purchase[events_7_days_purchase['group'] == 'A'].shape[0]\n",
    "m_b = events_7_days_purchase[events_7_days_purchase['group'] == 'B'].shape[0]\n",
    "\n",
    "# p_a, p_b - доли успехов по группам\n",
    "p_a, p_b = m_a/n_a, m_b/n_b \n",
    "\n",
    "#выводим расчеты на экран\n",
    "print(f'n_a={n_a}, n_b={n_b}')\n",
    "\n",
    "\n",
    "print(f'm_a={m_a}, m_b={m_b}')\n",
    "\n",
    "\n",
    "print(f'p_a={p_a}, p_b={p_b}')\n",
    "\n",
    "#проверяем предпосылку о достаточном количестве данных\n",
    "if (p_a*n_a > 10)and((1-p_a)*n_a > 10)and(p_b*n_b > 10)and((1-p_b)*n_b > 10):\n",
    "    print('Предпосылка о достаточном количестве данных выполняется')\n",
    "else:\n",
    "    print('Предпосылка о достаточном количестве данных НЕ выполняется')"
   ]
  },
  {
   "cell_type": "code",
   "execution_count": 21,
   "id": "l_KOziBQtL3t",
   "metadata": {
    "id": "l_KOziBQtL3t"
   },
   "outputs": [
    {
     "name": "stdout",
     "output_type": "stream",
     "text": [
      "pvalue=1.4345536122905723e-19 < 0.05\n",
      "Нулевая гипотеза не находит подтверждения! Доля успешных сесий в группе В выше, чем в группе А.\n"
     ]
    }
   ],
   "source": [
    "#импортируем библиотеки для z-теста пропорций\n",
    "from statsmodels.stats.proportion import proportions_ztest\n",
    "\n",
    "\n",
    "#задаем уровень значимости\n",
    "alpha = 0.05 \n",
    "\n",
    "#считаем тест в одном направлении \n",
    "stat_ztest, p_value_ztest = proportions_ztest(\n",
    "    [m_a, m_b],\n",
    "    [n_a, n_b],\n",
    "    alternative='smaller' \n",
    ")\n",
    "\n",
    "if p_value_ztest > alpha:\n",
    "    print(f'pvalue={p_value_ztest} > {alpha}')\n",
    "    print('Нулевая гипотеза находит подтверждение! Доли успешных сессий в группах А и В равны.')\n",
    "else:\n",
    "    print(f'pvalue={p_value_ztest} < {alpha}')\n",
    "    print('Нулевая гипотеза не находит подтверждения! Доля успешных сесий в группе В выше, чем в группе А.')"
   ]
  },
  {
   "cell_type": "markdown",
   "id": "npoPPSKytKvR",
   "metadata": {
    "id": "npoPPSKytKvR"
   },
   "source": [
    "### Выводы по результатам A/B-теста\n",
    "\n",
    "Мы провели A/B-тест с целью выяснить, влияет ли упрощение интерфейса сайта на увеличение конверсии пользователей в покупку.\n",
    "\n",
    "Согласно результатам статистического теста, p-value = 1.43, что меньше 0.05, поэтому мы отвергаем нулевую гипотезу.\n",
    "\n",
    "Это означает, что различие в конверсии между группами статистически значимо, и группа B (с новым интерфейсом) действительно показывает более высокую конверсию, чем группа A.\n",
    "\n",
    "\n",
    "Конверсия в группе A: 28.65%\n",
    "\n",
    "Конверсия в группе B: 30.86%\n",
    "\n",
    "Абсолютный прирост: +2.21 процентных пункта.\n",
    "\n",
    "В техническом задании была указана цель: увеличение конверсии как минимум на 3 процентных пункта.\n",
    "Фактический прирост составил 2.21 п.п., то есть меньше запланированного значения.\n",
    "\n",
    "**Итоговый вывод:**\n",
    "Да, новый интерфейс работает лучше, и он статистически значимо улучшает поведение пользователей.\n",
    "Однако, целевой прирост в +3% не достигнут, поэтому стоит либо еще доработать интерфейс, либо ориентироваться на полученное улучшение. "
   ]
  }
 ],
 "metadata": {
  "ExecuteTimeLog": [
   {
    "duration": 1426,
    "start_time": "2025-06-11T11:11:08.774Z"
   },
   {
    "duration": 77,
    "start_time": "2025-06-11T11:11:48.910Z"
   },
   {
    "duration": 3,
    "start_time": "2025-06-11T11:11:50.626Z"
   },
   {
    "duration": 78,
    "start_time": "2025-06-11T11:11:51.125Z"
   },
   {
    "duration": 69,
    "start_time": "2025-06-11T11:11:55.683Z"
   },
   {
    "duration": 13,
    "start_time": "2025-06-11T11:12:11.872Z"
   },
   {
    "duration": 6,
    "start_time": "2025-06-11T11:12:53.499Z"
   },
   {
    "duration": 6,
    "start_time": "2025-06-11T11:13:48.027Z"
   },
   {
    "duration": 14,
    "start_time": "2025-06-11T11:14:16.796Z"
   },
   {
    "duration": 4,
    "start_time": "2025-06-11T11:14:53.994Z"
   },
   {
    "duration": 20,
    "start_time": "2025-06-11T11:15:55.331Z"
   },
   {
    "duration": 14,
    "start_time": "2025-06-11T11:15:57.325Z"
   },
   {
    "duration": 5,
    "start_time": "2025-06-11T11:15:58.200Z"
   },
   {
    "duration": 13,
    "start_time": "2025-06-11T11:15:58.990Z"
   },
   {
    "duration": 6,
    "start_time": "2025-06-11T11:16:09.782Z"
   },
   {
    "duration": 17,
    "start_time": "2025-06-11T11:16:45.872Z"
   },
   {
    "duration": 5,
    "start_time": "2025-06-11T11:16:46.951Z"
   },
   {
    "duration": 6,
    "start_time": "2025-06-11T11:16:51.854Z"
   },
   {
    "duration": 15,
    "start_time": "2025-06-11T11:16:52.502Z"
   },
   {
    "duration": 6,
    "start_time": "2025-06-11T11:16:58.159Z"
   },
   {
    "duration": 6,
    "start_time": "2025-06-11T11:17:02.252Z"
   },
   {
    "duration": 6,
    "start_time": "2025-06-11T11:17:19.652Z"
   },
   {
    "duration": 99,
    "start_time": "2025-06-11T11:17:58.291Z"
   },
   {
    "duration": 7,
    "start_time": "2025-06-11T11:18:00.312Z"
   },
   {
    "duration": 5,
    "start_time": "2025-06-11T11:18:00.822Z"
   },
   {
    "duration": 5,
    "start_time": "2025-06-11T11:18:08.474Z"
   },
   {
    "duration": 5,
    "start_time": "2025-06-11T11:18:19.027Z"
   },
   {
    "duration": 59,
    "start_time": "2025-06-11T11:19:23.503Z"
   },
   {
    "duration": 11,
    "start_time": "2025-06-11T11:19:36.609Z"
   },
   {
    "duration": 5,
    "start_time": "2025-06-11T11:19:58.909Z"
   },
   {
    "duration": 4,
    "start_time": "2025-06-11T11:20:08.005Z"
   },
   {
    "duration": 4,
    "start_time": "2025-06-11T11:20:27.127Z"
   },
   {
    "duration": 6,
    "start_time": "2025-06-11T11:22:43.313Z"
   },
   {
    "duration": 8,
    "start_time": "2025-06-11T11:23:39.437Z"
   },
   {
    "duration": 7,
    "start_time": "2025-06-11T11:23:54.910Z"
   },
   {
    "duration": 8,
    "start_time": "2025-06-11T11:24:06.935Z"
   },
   {
    "duration": 8,
    "start_time": "2025-06-11T11:24:49.035Z"
   },
   {
    "duration": 167,
    "start_time": "2025-06-11T11:26:38.505Z"
   },
   {
    "duration": 10,
    "start_time": "2025-06-11T11:29:13.990Z"
   },
   {
    "duration": 13,
    "start_time": "2025-06-11T11:30:16.082Z"
   },
   {
    "duration": 9,
    "start_time": "2025-06-11T11:30:39.443Z"
   },
   {
    "duration": 9,
    "start_time": "2025-06-11T11:31:03.872Z"
   },
   {
    "duration": 9,
    "start_time": "2025-06-11T11:32:22.651Z"
   },
   {
    "duration": 12,
    "start_time": "2025-06-11T11:37:19.724Z"
   },
   {
    "duration": 10,
    "start_time": "2025-06-11T11:38:23.283Z"
   },
   {
    "duration": 367,
    "start_time": "2025-06-11T11:38:24.332Z"
   },
   {
    "duration": 147,
    "start_time": "2025-06-11T11:38:35.379Z"
   },
   {
    "duration": 20,
    "start_time": "2025-06-11T11:38:46.492Z"
   },
   {
    "duration": 9,
    "start_time": "2025-06-11T11:39:04.348Z"
   },
   {
    "duration": 10,
    "start_time": "2025-06-11T11:39:16.200Z"
   },
   {
    "duration": 10,
    "start_time": "2025-06-11T11:39:21.222Z"
   },
   {
    "duration": 9,
    "start_time": "2025-06-11T11:39:25.328Z"
   },
   {
    "duration": 9,
    "start_time": "2025-06-11T11:41:50.407Z"
   },
   {
    "duration": 8,
    "start_time": "2025-06-11T11:41:51.066Z"
   },
   {
    "duration": 413,
    "start_time": "2025-06-11T11:46:28.498Z"
   },
   {
    "duration": 308,
    "start_time": "2025-06-11T11:46:53.831Z"
   },
   {
    "duration": 314,
    "start_time": "2025-06-11T11:47:02.693Z"
   },
   {
    "duration": 281,
    "start_time": "2025-06-11T11:47:17.644Z"
   },
   {
    "duration": 376,
    "start_time": "2025-06-11T11:47:24.777Z"
   },
   {
    "duration": 153,
    "start_time": "2025-06-11T11:47:34.150Z"
   },
   {
    "duration": 205,
    "start_time": "2025-06-11T11:48:17.490Z"
   },
   {
    "duration": 12,
    "start_time": "2025-06-11T11:50:17.527Z"
   },
   {
    "duration": 8,
    "start_time": "2025-06-11T11:50:24.631Z"
   },
   {
    "duration": 179,
    "start_time": "2025-06-11T11:50:38.702Z"
   },
   {
    "duration": 184,
    "start_time": "2025-06-11T11:50:44.877Z"
   },
   {
    "duration": 164,
    "start_time": "2025-06-11T11:50:53.292Z"
   },
   {
    "duration": 165,
    "start_time": "2025-06-11T11:50:58.375Z"
   },
   {
    "duration": 7,
    "start_time": "2025-06-11T11:51:52.456Z"
   },
   {
    "duration": 179,
    "start_time": "2025-06-11T11:52:15.666Z"
   },
   {
    "duration": 3,
    "start_time": "2025-06-11T12:03:24.369Z"
   },
   {
    "duration": 16,
    "start_time": "2025-06-11T12:07:05.125Z"
   },
   {
    "duration": 15,
    "start_time": "2025-06-11T12:08:18.630Z"
   },
   {
    "duration": 169,
    "start_time": "2025-06-11T12:24:55.455Z"
   },
   {
    "duration": 174,
    "start_time": "2025-06-11T12:25:12.046Z"
   },
   {
    "duration": 167,
    "start_time": "2025-06-11T12:25:21.422Z"
   },
   {
    "duration": 277,
    "start_time": "2025-06-11T12:25:59.138Z"
   },
   {
    "duration": 175,
    "start_time": "2025-06-11T12:26:12.161Z"
   },
   {
    "duration": 1666,
    "start_time": "2025-06-11T12:28:05.347Z"
   },
   {
    "duration": 9,
    "start_time": "2025-06-11T12:28:22.321Z"
   },
   {
    "duration": 9,
    "start_time": "2025-06-11T12:28:36.164Z"
   },
   {
    "duration": 47,
    "start_time": "2025-06-11T19:15:45.775Z"
   },
   {
    "duration": 6,
    "start_time": "2025-06-11T19:15:48.637Z"
   },
   {
    "duration": 1306,
    "start_time": "2025-06-11T19:15:54.569Z"
   },
   {
    "duration": 72,
    "start_time": "2025-06-11T19:15:55.877Z"
   },
   {
    "duration": 12,
    "start_time": "2025-06-11T19:15:55.951Z"
   },
   {
    "duration": 4,
    "start_time": "2025-06-11T19:15:55.965Z"
   },
   {
    "duration": 8,
    "start_time": "2025-06-11T19:15:55.970Z"
   },
   {
    "duration": 12,
    "start_time": "2025-06-11T19:15:55.980Z"
   },
   {
    "duration": 175,
    "start_time": "2025-06-11T19:15:55.993Z"
   },
   {
    "duration": 9,
    "start_time": "2025-06-11T19:15:56.170Z"
   },
   {
    "duration": 24,
    "start_time": "2025-06-11T19:15:56.180Z"
   },
   {
    "duration": 8,
    "start_time": "2025-06-11T19:15:56.207Z"
   },
   {
    "duration": 179,
    "start_time": "2025-06-11T19:15:56.217Z"
   },
   {
    "duration": 205,
    "start_time": "2025-06-11T19:15:56.398Z"
   },
   {
    "duration": 9,
    "start_time": "2025-06-11T19:15:56.604Z"
   },
   {
    "duration": 196,
    "start_time": "2025-06-11T19:15:56.614Z"
   },
   {
    "duration": 8,
    "start_time": "2025-06-11T19:15:56.812Z"
   },
   {
    "duration": 187,
    "start_time": "2025-06-11T19:15:56.822Z"
   },
   {
    "duration": 27,
    "start_time": "2025-06-11T19:15:57.011Z"
   },
   {
    "duration": 1724,
    "start_time": "2025-06-11T19:15:57.040Z"
   },
   {
    "duration": 8,
    "start_time": "2025-06-11T19:15:58.766Z"
   },
   {
    "duration": 12,
    "start_time": "2025-06-11T19:15:58.775Z"
   },
   {
    "duration": 8,
    "start_time": "2025-06-11T19:15:58.788Z"
   },
   {
    "duration": 12,
    "start_time": "2025-06-11T19:17:17.024Z"
   },
   {
    "duration": 96,
    "start_time": "2025-06-11T19:17:58.569Z"
   },
   {
    "duration": 13,
    "start_time": "2025-06-11T19:18:03.636Z"
   },
   {
    "duration": 7,
    "start_time": "2025-06-11T19:18:07.143Z"
   },
   {
    "duration": 280,
    "start_time": "2025-06-11T19:19:08.537Z"
   },
   {
    "duration": 8,
    "start_time": "2025-06-11T19:19:15.949Z"
   },
   {
    "duration": 7,
    "start_time": "2025-06-11T19:19:34.128Z"
   },
   {
    "duration": 7,
    "start_time": "2025-06-11T19:19:53.470Z"
   },
   {
    "duration": 8,
    "start_time": "2025-06-11T19:20:11.226Z"
   },
   {
    "duration": 4,
    "start_time": "2025-06-11T19:21:30.570Z"
   },
   {
    "duration": 5,
    "start_time": "2025-06-11T19:21:39.313Z"
   },
   {
    "duration": 101,
    "start_time": "2025-06-11T19:22:37.463Z"
   },
   {
    "duration": 194,
    "start_time": "2025-06-11T19:31:01.261Z"
   },
   {
    "duration": 43,
    "start_time": "2025-06-11T19:32:13.416Z"
   },
   {
    "duration": 43,
    "start_time": "2025-06-11T19:33:18.494Z"
   },
   {
    "duration": 1014,
    "start_time": "2025-06-11T19:34:29.645Z"
   },
   {
    "duration": 283,
    "start_time": "2025-06-11T19:34:47.661Z"
   },
   {
    "duration": 52,
    "start_time": "2025-06-11T19:34:55.579Z"
   },
   {
    "duration": 51,
    "start_time": "2025-06-11T19:35:00.744Z"
   },
   {
    "duration": 100,
    "start_time": "2025-06-11T19:35:32.436Z"
   },
   {
    "duration": 10,
    "start_time": "2025-06-11T19:35:45.450Z"
   },
   {
    "duration": 67,
    "start_time": "2025-06-11T19:36:08.432Z"
   },
   {
    "duration": 68,
    "start_time": "2025-06-11T19:36:16.244Z"
   },
   {
    "duration": 10,
    "start_time": "2025-06-11T19:38:51.082Z"
   },
   {
    "duration": 9,
    "start_time": "2025-06-11T19:38:58.377Z"
   },
   {
    "duration": 29,
    "start_time": "2025-06-11T19:39:08.183Z"
   },
   {
    "duration": 20,
    "start_time": "2025-06-11T19:40:23.284Z"
   },
   {
    "duration": 14,
    "start_time": "2025-06-11T19:40:29.379Z"
   },
   {
    "duration": 14,
    "start_time": "2025-06-11T19:40:40.823Z"
   },
   {
    "duration": 172,
    "start_time": "2025-06-11T19:40:56.429Z"
   },
   {
    "duration": 116,
    "start_time": "2025-06-11T19:41:41.697Z"
   },
   {
    "duration": 11,
    "start_time": "2025-06-11T19:43:18.220Z"
   },
   {
    "duration": 980,
    "start_time": "2025-06-11T19:49:27.006Z"
   },
   {
    "duration": 22,
    "start_time": "2025-06-11T19:51:06.796Z"
   },
   {
    "duration": 11,
    "start_time": "2025-06-11T19:51:17.153Z"
   },
   {
    "duration": 17,
    "start_time": "2025-06-11T19:53:16.849Z"
   },
   {
    "duration": 12,
    "start_time": "2025-06-11T19:56:42.545Z"
   },
   {
    "duration": 13,
    "start_time": "2025-06-11T19:57:20.461Z"
   },
   {
    "duration": 7,
    "start_time": "2025-06-11T20:00:01.120Z"
   },
   {
    "duration": 8,
    "start_time": "2025-06-11T20:00:13.348Z"
   },
   {
    "duration": 980,
    "start_time": "2025-06-11T20:01:16.392Z"
   },
   {
    "duration": 13,
    "start_time": "2025-06-11T20:02:22.843Z"
   },
   {
    "duration": 11,
    "start_time": "2025-06-11T20:03:41.117Z"
   },
   {
    "duration": 5,
    "start_time": "2025-06-11T20:03:44.900Z"
   },
   {
    "duration": 9,
    "start_time": "2025-06-11T20:03:56.391Z"
   },
   {
    "duration": 10,
    "start_time": "2025-06-11T20:04:12.161Z"
   },
   {
    "duration": 12,
    "start_time": "2025-06-11T20:09:49.677Z"
   },
   {
    "duration": 156,
    "start_time": "2025-06-11T20:11:19.674Z"
   },
   {
    "duration": 25,
    "start_time": "2025-06-11T20:13:23.919Z"
   },
   {
    "duration": 22,
    "start_time": "2025-06-11T20:14:04.585Z"
   },
   {
    "duration": 11,
    "start_time": "2025-06-11T20:14:05.623Z"
   },
   {
    "duration": 228,
    "start_time": "2025-06-11T20:14:10.365Z"
   },
   {
    "duration": 156,
    "start_time": "2025-06-11T20:14:43.264Z"
   },
   {
    "duration": 13,
    "start_time": "2025-06-11T20:14:46.694Z"
   },
   {
    "duration": 10,
    "start_time": "2025-06-11T20:14:50.787Z"
   },
   {
    "duration": 10,
    "start_time": "2025-06-11T20:14:51.965Z"
   },
   {
    "duration": 24,
    "start_time": "2025-06-11T20:16:08.164Z"
   },
   {
    "duration": 11,
    "start_time": "2025-06-11T20:16:08.942Z"
   },
   {
    "duration": 11,
    "start_time": "2025-06-11T20:16:19.450Z"
   },
   {
    "duration": 161,
    "start_time": "2025-06-11T20:16:24.253Z"
   },
   {
    "duration": 16,
    "start_time": "2025-06-11T20:16:29.183Z"
   },
   {
    "duration": 10,
    "start_time": "2025-06-11T20:16:30.825Z"
   },
   {
    "duration": 10,
    "start_time": "2025-06-11T20:16:33.796Z"
   },
   {
    "duration": 8,
    "start_time": "2025-06-11T20:16:50.493Z"
   },
   {
    "duration": 10,
    "start_time": "2025-06-11T20:16:51.390Z"
   },
   {
    "duration": 10,
    "start_time": "2025-06-11T20:17:07.161Z"
   },
   {
    "duration": 11,
    "start_time": "2025-06-11T20:17:07.930Z"
   },
   {
    "duration": 11,
    "start_time": "2025-06-11T20:17:24.494Z"
   },
   {
    "duration": 8,
    "start_time": "2025-06-11T20:18:01.061Z"
   },
   {
    "duration": 10,
    "start_time": "2025-06-11T20:18:02.031Z"
   },
   {
    "duration": 9,
    "start_time": "2025-06-11T20:18:56.807Z"
   },
   {
    "duration": 7,
    "start_time": "2025-06-11T20:19:14.807Z"
   },
   {
    "duration": 10,
    "start_time": "2025-06-11T20:19:15.419Z"
   },
   {
    "duration": 7,
    "start_time": "2025-06-11T20:19:31.712Z"
   },
   {
    "duration": 9,
    "start_time": "2025-06-11T20:19:32.291Z"
   },
   {
    "duration": 24,
    "start_time": "2025-06-11T20:20:21.689Z"
   },
   {
    "duration": 11,
    "start_time": "2025-06-11T20:20:22.398Z"
   },
   {
    "duration": 13,
    "start_time": "2025-06-11T20:20:25.977Z"
   },
   {
    "duration": 158,
    "start_time": "2025-06-11T20:20:29.700Z"
   },
   {
    "duration": 14,
    "start_time": "2025-06-11T20:20:32.416Z"
   },
   {
    "duration": 8,
    "start_time": "2025-06-11T20:20:35.262Z"
   },
   {
    "duration": 9,
    "start_time": "2025-06-11T20:20:35.915Z"
   },
   {
    "duration": 11,
    "start_time": "2025-06-11T20:20:55.084Z"
   },
   {
    "duration": 10,
    "start_time": "2025-06-11T20:20:55.839Z"
   },
   {
    "duration": 10,
    "start_time": "2025-06-11T20:21:08.446Z"
   },
   {
    "duration": 16,
    "start_time": "2025-06-11T20:27:25.731Z"
   },
   {
    "duration": 8,
    "start_time": "2025-06-11T20:27:35.063Z"
   },
   {
    "duration": 5,
    "start_time": "2025-06-11T20:27:47.915Z"
   },
   {
    "duration": 14,
    "start_time": "2025-06-11T20:30:37.353Z"
   },
   {
    "duration": 14,
    "start_time": "2025-06-11T20:32:07.823Z"
   },
   {
    "duration": 13,
    "start_time": "2025-06-11T20:32:18.214Z"
   },
   {
    "duration": 12,
    "start_time": "2025-06-11T20:32:44.400Z"
   },
   {
    "duration": 153,
    "start_time": "2025-06-11T20:33:20.285Z"
   },
   {
    "duration": 10,
    "start_time": "2025-06-11T20:33:43.606Z"
   },
   {
    "duration": 10,
    "start_time": "2025-06-11T20:33:50.713Z"
   },
   {
    "duration": 10,
    "start_time": "2025-06-11T20:33:54.637Z"
   },
   {
    "duration": 10,
    "start_time": "2025-06-11T20:34:04.916Z"
   },
   {
    "duration": 53,
    "start_time": "2025-06-12T10:34:34.037Z"
   },
   {
    "duration": 1366,
    "start_time": "2025-06-12T10:34:39.226Z"
   },
   {
    "duration": 106,
    "start_time": "2025-06-12T10:34:40.594Z"
   },
   {
    "duration": 28,
    "start_time": "2025-06-12T10:34:40.701Z"
   },
   {
    "duration": 19,
    "start_time": "2025-06-12T10:34:40.731Z"
   },
   {
    "duration": 15,
    "start_time": "2025-06-12T10:34:40.752Z"
   },
   {
    "duration": 104,
    "start_time": "2025-06-12T10:34:40.769Z"
   },
   {
    "duration": 157,
    "start_time": "2025-06-12T10:34:40.874Z"
   },
   {
    "duration": 8,
    "start_time": "2025-06-12T10:34:41.033Z"
   },
   {
    "duration": 24,
    "start_time": "2025-06-12T10:34:41.043Z"
   },
   {
    "duration": 9,
    "start_time": "2025-06-12T10:34:41.069Z"
   },
   {
    "duration": 255,
    "start_time": "2025-06-12T10:34:41.079Z"
   },
   {
    "duration": 182,
    "start_time": "2025-06-12T10:34:41.336Z"
   },
   {
    "duration": 8,
    "start_time": "2025-06-12T10:34:41.520Z"
   },
   {
    "duration": 195,
    "start_time": "2025-06-12T10:34:41.530Z"
   },
   {
    "duration": 8,
    "start_time": "2025-06-12T10:34:41.726Z"
   },
   {
    "duration": 313,
    "start_time": "2025-06-12T10:34:41.735Z"
   },
   {
    "duration": 16,
    "start_time": "2025-06-12T10:34:42.049Z"
   },
   {
    "duration": 1617,
    "start_time": "2025-06-12T10:34:42.067Z"
   },
   {
    "duration": 8,
    "start_time": "2025-06-12T10:34:43.686Z"
   },
   {
    "duration": 145,
    "start_time": "2025-06-12T10:34:43.704Z"
   },
   {
    "duration": 32,
    "start_time": "2025-06-12T10:34:43.851Z"
   },
   {
    "duration": 18,
    "start_time": "2025-06-12T10:34:43.885Z"
   },
   {
    "duration": 21,
    "start_time": "2025-06-12T10:34:43.905Z"
   },
   {
    "duration": 169,
    "start_time": "2025-06-12T10:34:43.928Z"
   },
   {
    "duration": 78,
    "start_time": "2025-06-12T10:34:44.099Z"
   },
   {
    "duration": 131,
    "start_time": "2025-06-12T10:34:44.179Z"
   },
   {
    "duration": 94,
    "start_time": "2025-06-12T10:34:44.312Z"
   },
   {
    "duration": 15,
    "start_time": "2025-06-12T10:34:44.409Z"
   },
   {
    "duration": 149,
    "start_time": "2025-06-12T10:34:44.425Z"
   },
   {
    "duration": 13,
    "start_time": "2025-06-12T10:34:44.576Z"
   },
   {
    "duration": 144,
    "start_time": "2025-06-12T10:34:44.604Z"
   },
   {
    "duration": 182,
    "start_time": "2025-06-12T10:34:44.749Z"
   },
   {
    "duration": 66,
    "start_time": "2025-06-12T10:34:44.933Z"
   },
   {
    "duration": 10,
    "start_time": "2025-06-12T10:34:45.001Z"
   },
   {
    "duration": 159,
    "start_time": "2025-06-12T10:34:45.013Z"
   },
   {
    "duration": 53,
    "start_time": "2025-06-12T10:34:45.173Z"
   },
   {
    "duration": 51,
    "start_time": "2025-06-12T10:34:45.228Z"
   },
   {
    "duration": 10,
    "start_time": "2025-06-12T10:39:12.223Z"
   },
   {
    "duration": 10,
    "start_time": "2025-06-12T10:39:14.528Z"
   },
   {
    "duration": 25,
    "start_time": "2025-06-12T10:39:46.518Z"
   },
   {
    "duration": 176,
    "start_time": "2025-06-12T10:39:47.197Z"
   },
   {
    "duration": 11,
    "start_time": "2025-06-12T10:39:56.496Z"
   }
  ],
  "colab": {
   "provenance": [],
   "toc_visible": true
  },
  "kernelspec": {
   "display_name": "Python 3 (ipykernel)",
   "language": "python",
   "name": "python3"
  },
  "language_info": {
   "codemirror_mode": {
    "name": "ipython",
    "version": 3
   },
   "file_extension": ".py",
   "mimetype": "text/x-python",
   "name": "python",
   "nbconvert_exporter": "python",
   "pygments_lexer": "ipython3",
   "version": "3.9.7"
  },
  "toc": {
   "base_numbering": 1,
   "nav_menu": {},
   "number_sections": true,
   "sideBar": true,
   "skip_h1_title": true,
   "title_cell": "Table of Contents",
   "title_sidebar": "Contents",
   "toc_cell": false,
   "toc_position": {
    "height": "calc(100% - 180px)",
    "left": "10px",
    "top": "150px",
    "width": "184px"
   },
   "toc_section_display": true,
   "toc_window_display": true
  }
 },
 "nbformat": 4,
 "nbformat_minor": 5
}
