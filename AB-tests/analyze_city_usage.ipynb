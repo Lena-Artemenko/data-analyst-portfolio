{
 "cells": [
  {
   "cell_type": "markdown",
   "id": "_E41Wr5fqnFT",
   "metadata": {
    "id": "_E41Wr5fqnFT"
   },
   "source": [
    "# Проверка гипотезы в Python"
   ]
  },
  {
   "cell_type": "markdown",
   "id": "6f7d21d6",
   "metadata": {
    "id": "6f7d21d6"
   },
   "source": [
    "## 1. Загрузка данных и знакомство с ними\n"
   ]
  },
  {
   "cell_type": "code",
   "execution_count": 1,
   "id": "05faf34b",
   "metadata": {
    "id": "05faf34b"
   },
   "outputs": [],
   "source": [
    "#импортируем нужные библиотеки\n",
    "import pandas as pd\n",
    "import matplotlib.pyplot as plt\n",
    "import seaborn as sns\n",
    "from scipy.stats import mannwhitneyu"
   ]
  },
  {
   "cell_type": "code",
   "execution_count": 39,
   "id": "ce87c1db",
   "metadata": {
    "id": "ce87c1db",
    "scrolled": false
   },
   "outputs": [
    {
     "data": {
      "text/html": [
       "<div>\n",
       "<style scoped>\n",
       "    .dataframe tbody tr th:only-of-type {\n",
       "        vertical-align: middle;\n",
       "    }\n",
       "\n",
       "    .dataframe tbody tr th {\n",
       "        vertical-align: top;\n",
       "    }\n",
       "\n",
       "    .dataframe thead th {\n",
       "        text-align: right;\n",
       "    }\n",
       "</style>\n",
       "<table border=\"1\" class=\"dataframe\">\n",
       "  <thead>\n",
       "    <tr style=\"text-align: right;\">\n",
       "      <th></th>\n",
       "      <th>Unnamed: 0</th>\n",
       "      <th>city</th>\n",
       "      <th>puid</th>\n",
       "      <th>hours</th>\n",
       "    </tr>\n",
       "  </thead>\n",
       "  <tbody>\n",
       "    <tr>\n",
       "      <th>0</th>\n",
       "      <td>0</td>\n",
       "      <td>Москва</td>\n",
       "      <td>9668</td>\n",
       "      <td>26.167776</td>\n",
       "    </tr>\n",
       "    <tr>\n",
       "      <th>1</th>\n",
       "      <td>1</td>\n",
       "      <td>Москва</td>\n",
       "      <td>16598</td>\n",
       "      <td>82.111217</td>\n",
       "    </tr>\n",
       "    <tr>\n",
       "      <th>2</th>\n",
       "      <td>2</td>\n",
       "      <td>Москва</td>\n",
       "      <td>80401</td>\n",
       "      <td>4.656906</td>\n",
       "    </tr>\n",
       "    <tr>\n",
       "      <th>3</th>\n",
       "      <td>3</td>\n",
       "      <td>Москва</td>\n",
       "      <td>140205</td>\n",
       "      <td>1.840556</td>\n",
       "    </tr>\n",
       "    <tr>\n",
       "      <th>4</th>\n",
       "      <td>4</td>\n",
       "      <td>Москва</td>\n",
       "      <td>248755</td>\n",
       "      <td>151.326434</td>\n",
       "    </tr>\n",
       "  </tbody>\n",
       "</table>\n",
       "</div>"
      ],
      "text/plain": [
       "   Unnamed: 0    city    puid       hours\n",
       "0           0  Москва    9668   26.167776\n",
       "1           1  Москва   16598   82.111217\n",
       "2           2  Москва   80401    4.656906\n",
       "3           3  Москва  140205    1.840556\n",
       "4           4  Москва  248755  151.326434"
      ]
     },
     "execution_count": 39,
     "metadata": {},
     "output_type": "execute_result"
    }
   ],
   "source": [
    "#загружаем и просматриваем данные\n",
    "yandex_knigi_data = pd.read_csv('https://code.s3.yandex.net/datasets/yandex_knigi_data.csv')\n",
    "yandex_knigi_data.head(5)"
   ]
  },
  {
   "cell_type": "code",
   "execution_count": 3,
   "id": "f68a7419",
   "metadata": {
    "id": "f68a7419",
    "scrolled": true
   },
   "outputs": [
    {
     "name": "stdout",
     "output_type": "stream",
     "text": [
      "<class 'pandas.core.frame.DataFrame'>\n",
      "RangeIndex: 8784 entries, 0 to 8783\n",
      "Data columns (total 4 columns):\n",
      " #   Column      Non-Null Count  Dtype  \n",
      "---  ------      --------------  -----  \n",
      " 0   Unnamed: 0  8784 non-null   int64  \n",
      " 1   city        8784 non-null   object \n",
      " 2   puid        8784 non-null   int64  \n",
      " 3   hours       8784 non-null   float64\n",
      "dtypes: float64(1), int64(2), object(1)\n",
      "memory usage: 274.6+ KB\n"
     ]
    }
   ],
   "source": [
    "#проверяем типы данных и пропуски\n",
    "yandex_knigi_data.info()"
   ]
  },
  {
   "cell_type": "code",
   "execution_count": 4,
   "id": "cb5c421f",
   "metadata": {},
   "outputs": [
    {
     "data": {
      "text/plain": [
       "244"
      ]
     },
     "execution_count": 4,
     "metadata": {},
     "output_type": "execute_result"
    }
   ],
   "source": [
    "#проверяем наличие дубликатов в столбце с id пользователей\n",
    "yandex_knigi_data['puid'].duplicated().sum()"
   ]
  },
  {
   "cell_type": "code",
   "execution_count": 5,
   "id": "fba6d9c8",
   "metadata": {
    "scrolled": false
   },
   "outputs": [],
   "source": [
    "#удаляем дубликаты\n",
    "yandex_knigi_cleaned = yandex_knigi_data.drop_duplicates('puid')"
   ]
  },
  {
   "cell_type": "code",
   "execution_count": 6,
   "id": "a5237a8f",
   "metadata": {},
   "outputs": [
    {
     "name": "stdout",
     "output_type": "stream",
     "text": [
      "В Москве: 6234 пользователей, в Санкт-Петербурге: 2306 пользователей\n"
     ]
    }
   ],
   "source": [
    "#выделяем из общего датафрейма группы по городам \n",
    "msk_users = yandex_knigi_cleaned[yandex_knigi_cleaned['city'] == 'Москва']\n",
    "spb_users = yandex_knigi_cleaned[yandex_knigi_cleaned['city'] == 'Санкт-Петербург']\n",
    "\n",
    "#считаем количество пользователей в каждом городе\n",
    "msk_users_cnt = msk_users['puid'].nunique()\n",
    "spb_users_cnt = spb_users['puid'].nunique()\n",
    "\n",
    "\n",
    "print (f'В Москве: {msk_users_cnt} пользователей, в Санкт-Петербурге: {spb_users_cnt} пользователей')"
   ]
  },
  {
   "cell_type": "code",
   "execution_count": 7,
   "id": "5c923974",
   "metadata": {
    "scrolled": false
   },
   "outputs": [
    {
     "data": {
      "image/png": "[encoded data removed]",
      "text/plain": [
       "<Figure size 864x432 with 1 Axes>"
      ]
     },
     "metadata": {
      "needs_background": "light"
     },
     "output_type": "display_data"
    }
   ],
   "source": [
    "#строим столбчатую диаграмму по количеству пользователей в городах\n",
    "plt.figure(figsize=(12, 6))\n",
    "\n",
    "groups = ['Москва', 'Санкт-Петербург']\n",
    "values = [msk_users_cnt, spb_users_cnt]\n",
    "\n",
    "for i, v in enumerate(values):\n",
    "    plt.text(i, v, str(v), ha='center', va='bottom')\n",
    "\n",
    "plt.bar(groups, values, color=['#900020', '#D2691E'])\n",
    "plt.title('Сравнение количества пользователей в Москве и Санкт-Петербурге')\n",
    "plt.xlabel('Группа')\n",
    "plt.ylabel('Количество уникальных пользователей')\n",
    "plt.grid(axis = 'y')\n",
    "plt.show()"
   ]
  },
  {
   "cell_type": "markdown",
   "id": "cb5a4bf7",
   "metadata": {},
   "source": [
    "Видим, что наши данные содержат неравномерное распределение между городами: в Санкт-Петербурге почти втрое меньше пользователей. Это не помешает нам проверить гипотезу, но предварительно нужно проверить группы на независимость и нормальное распределение (далее). А пока посмотрим на статистики групп."
   ]
  },
  {
   "cell_type": "code",
   "execution_count": 8,
   "id": "239ae87f",
   "metadata": {
    "scrolled": true
   },
   "outputs": [
    {
     "data": {
      "text/plain": [
       "count    6234.000000\n",
       "mean       10.881092\n",
       "std        36.851683\n",
       "min         0.000018\n",
       "25%         0.059903\n",
       "50%         0.924498\n",
       "75%         5.939972\n",
       "max       857.209373\n",
       "Name: hours, dtype: float64"
      ]
     },
     "execution_count": 8,
     "metadata": {},
     "output_type": "execute_result"
    }
   ],
   "source": [
    "#посчитаем статистики для групп пользователей \n",
    "msk_users['hours'].describe()"
   ]
  },
  {
   "cell_type": "code",
   "execution_count": 9,
   "id": "f357cf28",
   "metadata": {},
   "outputs": [
    {
     "data": {
      "text/plain": [
       "count    2306.000000\n",
       "mean       11.264433\n",
       "std        39.831755\n",
       "min         0.000025\n",
       "25%         0.060173\n",
       "50%         0.875355\n",
       "75%         6.138424\n",
       "max       978.764775\n",
       "Name: hours, dtype: float64"
      ]
     },
     "execution_count": 9,
     "metadata": {},
     "output_type": "execute_result"
    }
   ],
   "source": [
    "spb_users['hours'].describe()"
   ]
  },
  {
   "cell_type": "markdown",
   "id": "eed75221",
   "metadata": {},
   "source": [
    "Данные в Москве и Санкт-Петербурге отличаются, но незначительно. Медианные значения выборок находятся близко. В Санкт-Петербурге выше стандартное отклонение, что может говорить о наличии выбросов. Статистики говорят о схожем поведении пользователей в городах. "
   ]
  },
  {
   "cell_type": "code",
   "execution_count": 10,
   "id": "12af433d",
   "metadata": {
    "scrolled": true
   },
   "outputs": [
    {
     "name": "stdout",
     "output_type": "stream",
     "text": [
      "Пользователи, попавшие в обе группы: 0\n"
     ]
    }
   ],
   "source": [
    "#создаем множество пользователей для проверки пересечений\n",
    "\n",
    "users_msk_set = set(yandex_knigi_cleaned[yandex_knigi_cleaned['city'] == 'Москва']['puid'].unique())\n",
    "users_spb_set = set(yandex_knigi_cleaned[yandex_knigi_cleaned['city'] == 'Санкт-Петербург']['puid'].unique())\n",
    "\n",
    "#проверяем пересечение множеств\n",
    "intersection = users_msk_set & users_spb_set\n",
    "\n",
    "print(f\"Пользователи, попавшие в обе группы: {len(intersection)}\")"
   ]
  },
  {
   "cell_type": "markdown",
   "id": "13535fbb",
   "metadata": {},
   "source": [
    "Условие по независимости выборок выполнено ✅"
   ]
  },
  {
   "cell_type": "code",
   "execution_count": 11,
   "id": "f9a5360b",
   "metadata": {},
   "outputs": [
    {
     "data": {
      "image/png": "[encoded data removed]",
      "text/plain": [
       "<Figure size 864x432 with 1 Axes>"
      ]
     },
     "metadata": {
      "needs_background": "light"
     },
     "output_type": "display_data"
    }
   ],
   "source": [
    "#строим гистограмму с распределением времени прослушивания для пользователей из Москвы\n",
    "plt.figure(figsize=(12, 6))\n",
    "plt.hist(msk_users['hours'], bins=20, color='#900020', edgecolor='black')\n",
    "plt.title('Распределение времени (в часах) пользователей из Москвы')\n",
    "plt.xlabel('Часы в приложении')\n",
    "plt.ylabel('Количество пользователей (puid)')\n",
    "plt.grid(axis='y')\n",
    "plt.show()"
   ]
  },
  {
   "cell_type": "code",
   "execution_count": 12,
   "id": "772dc3d9",
   "metadata": {
    "scrolled": false
   },
   "outputs": [
    {
     "data": {
      "image/png": "[encoded data removed]",
      "text/plain": [
       "<Figure size 864x432 with 1 Axes>"
      ]
     },
     "metadata": {
      "needs_background": "light"
     },
     "output_type": "display_data"
    }
   ],
   "source": [
    "#строим гистограмму с распределением времени прослушивания для пользователей из Спб\n",
    "\n",
    "plt.figure(figsize=(12, 6))\n",
    "plt.hist(spb_users['hours'], bins=20, color='#D2691E', edgecolor='black')\n",
    "plt.title('Распределение времени (в часах) пользователей из Санкт-Петербурга')\n",
    "plt.xlabel('Часы в приложении')\n",
    "plt.ylabel('Количество пользователей (puid)')\n",
    "plt.grid(axis='y')\n",
    "plt.show()"
   ]
  },
  {
   "cell_type": "markdown",
   "id": "fee4b073",
   "metadata": {},
   "source": [
    "Построив гистограммы каждой выборки, видим, что данные сильно скошены вправо, а также содержат выбросы. Используем межквантильный размах, чтобы очистить выбросы. "
   ]
  },
  {
   "cell_type": "code",
   "execution_count": 13,
   "id": "6aa186b2",
   "metadata": {},
   "outputs": [],
   "source": [
    "#вычислим квартильные значения\n",
    "Q1 = msk_users['hours'].quantile(0.25)\n",
    "Q3 = msk_users['hours'].quantile(0.75)\n",
    "IQR = Q3 - Q1\n",
    "\n",
    "# определим границы для \"нормальных\" значений\n",
    "lower_bound = Q1 - 1.5 * IQR\n",
    "upper_bound = Q3 + 1.5 * IQR\n",
    "\n",
    "# отфильтруем DataFrame\n",
    "msk_users_filtered = msk_users[(msk_users['hours'] >= lower_bound) & (msk_users['hours'] <= upper_bound)]"
   ]
  },
  {
   "cell_type": "code",
   "execution_count": 14,
   "id": "028717c7",
   "metadata": {
    "scrolled": false
   },
   "outputs": [
    {
     "data": {
      "image/png": "[encoded data removed]",
      "text/plain": [
       "<Figure size 864x432 with 1 Axes>"
      ]
     },
     "metadata": {
      "needs_background": "light"
     },
     "output_type": "display_data"
    }
   ],
   "source": [
    "#построим гистограмму для \"очищенных данных\" по Москве\n",
    "plt.figure(figsize=(12, 6))\n",
    "\n",
    "plt.hist(msk_users_filtered['hours'], bins=20, color='#900020', edgecolor='black')\n",
    "plt.title('Распределение времени (в часах) пользователей из Москвы')\n",
    "plt.xlabel('Часы в приложении')\n",
    "plt.ylabel('Количество пользователей (puid)')\n",
    "plt.grid(axis='y')\n",
    "plt.show()"
   ]
  },
  {
   "cell_type": "code",
   "execution_count": 15,
   "id": "1dcf224c",
   "metadata": {},
   "outputs": [],
   "source": [
    "#вычислим квартильные значения\n",
    "Q1 = spb_users['hours'].quantile(0.25)\n",
    "Q3 = spb_users['hours'].quantile(0.75)\n",
    "IQR = Q3 - Q1\n",
    "\n",
    "# определим границы для \"нормальных\" значений\n",
    "lower_bound = Q1 - 1.5 * IQR\n",
    "upper_bound = Q3 + 1.5 * IQR\n",
    "\n",
    "# отфильтруем DataFrame\n",
    "spb_users_filtered = spb_users[(spb_users['hours'] >= lower_bound) & (spb_users['hours'] <= upper_bound)]"
   ]
  },
  {
   "cell_type": "code",
   "execution_count": 16,
   "id": "4087fc3a",
   "metadata": {
    "scrolled": false
   },
   "outputs": [
    {
     "data": {
      "image/png": "[encoded data removed]",
      "text/plain": [
       "<Figure size 864x432 with 1 Axes>"
      ]
     },
     "metadata": {
      "needs_background": "light"
     },
     "output_type": "display_data"
    }
   ],
   "source": [
    "#построим гистограмму для \"очищенных данных\" по Спб\n",
    "plt.figure(figsize=(12, 6))\n",
    "\n",
    "plt.hist(spb_users_filtered['hours'], bins=20, color='#D2691E', edgecolor='black')\n",
    "plt.title('Распределение времени (в часах) пользователей из Санкт-Петербурга')\n",
    "plt.xlabel('Часы в приложении')\n",
    "plt.ylabel('Количество пользователей (puid)')\n",
    "plt.grid(axis='y')\n",
    "plt.show()"
   ]
  },
  {
   "cell_type": "markdown",
   "id": "ea64ac9e",
   "metadata": {},
   "source": [
    "Распределения пользователей в обоих городах сильно скошены вправо, и не являются нормальными распределениями. \n",
    "Основная масса значений находится в интервале в от 0 до 1 часа, т.е. большинство пользователей провели очень мало времени. С увеличением времени количество пользователей резко падает. Наблюдаются редкие случаи длительного использования (вплоть до 15 часов).\n",
    "\n",
    "По результатам изучения данных было выявлено, что выборки не подвержены нормальному распределению, а значит, для проверки гипотезы будем использовать непараметрический тест Манна-Уитни. "
   ]
  },
  {
   "cell_type": "markdown",
   "id": "956e82e2",
   "metadata": {
    "id": "956e82e2"
   },
   "source": [
    "## 2. Проверка гипотезы в Python\n",
    "\n",
    "\n",
    "- Нулевая гипотеза H₀: Средняя активность пользователей в часах в двух группах (Москва и Санкт-Петербург) не различается.\n",
    "\n",
    "- Альтернативная гипотеза H₁: Средняя активность пользователей в Санкт-Петербурге больше, и это различие статистически значимо."
   ]
  },
  {
   "cell_type": "code",
   "execution_count": 17,
   "id": "8f845151",
   "metadata": {},
   "outputs": [
    {
     "name": "stdout",
     "output_type": "stream",
     "text": [
      "pvalue=0.6189600878052618 > 0.05\n",
      "Нулевая гипотеза находит подтверждение!\n"
     ]
    }
   ],
   "source": [
    "# на каком уровне значимости проверяем гипотезу о равенстве распределений\n",
    "alpha = 0.05 \n",
    "\n",
    "# выборка целевой метрики для группы A\n",
    "metric_a = msk_users[msk_users.city=='Москва'].hours\n",
    "# выборка целевой метрики для группы B\n",
    "metric_b = spb_users[spb_users.city=='Санкт-Петербург'].hours\n",
    "\n",
    "# применяем тест Манна — Уитни\n",
    "stat_mw, p_value_mw = mannwhitneyu(\n",
    "    metric_a, \n",
    "    metric_b, \n",
    "    alternative='less' # Альтернативная гипотеза двусторонняя\n",
    ") \n",
    "\n",
    "if p_value_mw > alpha:\n",
    "    print(f'pvalue={p_value_mw} > {alpha}')\n",
    "    print('Нулевая гипотеза находит подтверждение!')\n",
    "else:\n",
    "    print(f'pvalue={p_value_mw} < {alpha}')\n",
    "    print('Нулевая гипотеза не находит подтверждения!')"
   ]
  },
  {
   "cell_type": "markdown",
   "id": "6953e84c",
   "metadata": {
    "id": "6953e84c"
   },
   "source": [
    "## 3. Аналитическая записка\n",
    "\n"
   ]
  },
  {
   "cell_type": "markdown",
   "id": "4b4ea189",
   "metadata": {},
   "source": [
    "В данном случае для проверки статистических гипотез был выбран непараметрический тест Манна-Уитни, так как выборки не имеют нормального распределения, а также содержат выбросы. \n",
    "\n",
    "Уровень статистической значимости: 0.05\n",
    "\n",
    "На основании полученного значения p-value = 0.619, которое значительно превышает уровень значимости 0.05, у нас нет оснований отклонять нулевую гипотезу. Это означает, что **статистически значимой разницы в среднем времени активности между пользователями из Санкт-Петербурга и Москвы не выявлено.**\n",
    "\n",
    "Возможные причины такого результата:\n",
    "\n",
    "1. Разницы между группами действительно нет. Несмотря на незначительное различие в средних значениях, оно может быть случайным, а не обоснованным поведением пользователей из разных городов.\n",
    "\n",
    "2. Наличие выбросов. В выборках наблюдаются высокие стандартные отклонения (37–40 часов) и экстремальные значения (максимумы около 900 часов). Это снижает чувствительность теста к небольшим сдвигам в среднем значении."
   ]
  }
 ],
 "metadata": {
  "ExecuteTimeLog": [
   {
    "duration": 1426,
    "start_time": "2025-06-11T11:11:08.774Z"
   },
   {
    "duration": 77,
    "start_time": "2025-06-11T11:11:48.910Z"
   },
   {
    "duration": 3,
    "start_time": "2025-06-11T11:11:50.626Z"
   },
   {
    "duration": 78,
    "start_time": "2025-06-11T11:11:51.125Z"
   },
   {
    "duration": 69,
    "start_time": "2025-06-11T11:11:55.683Z"
   },
   {
    "duration": 13,
    "start_time": "2025-06-11T11:12:11.872Z"
   },
   {
    "duration": 6,
    "start_time": "2025-06-11T11:12:53.499Z"
   },
   {
    "duration": 6,
    "start_time": "2025-06-11T11:13:48.027Z"
   },
   {
    "duration": 14,
    "start_time": "2025-06-11T11:14:16.796Z"
   },
   {
    "duration": 4,
    "start_time": "2025-06-11T11:14:53.994Z"
   },
   {
    "duration": 20,
    "start_time": "2025-06-11T11:15:55.331Z"
   },
   {
    "duration": 14,
    "start_time": "2025-06-11T11:15:57.325Z"
   },
   {
    "duration": 5,
    "start_time": "2025-06-11T11:15:58.200Z"
   },
   {
    "duration": 13,
    "start_time": "2025-06-11T11:15:58.990Z"
   },
   {
    "duration": 6,
    "start_time": "2025-06-11T11:16:09.782Z"
   },
   {
    "duration": 17,
    "start_time": "2025-06-11T11:16:45.872Z"
   },
   {
    "duration": 5,
    "start_time": "2025-06-11T11:16:46.951Z"
   },
   {
    "duration": 6,
    "start_time": "2025-06-11T11:16:51.854Z"
   },
   {
    "duration": 15,
    "start_time": "2025-06-11T11:16:52.502Z"
   },
   {
    "duration": 6,
    "start_time": "2025-06-11T11:16:58.159Z"
   },
   {
    "duration": 6,
    "start_time": "2025-06-11T11:17:02.252Z"
   },
   {
    "duration": 6,
    "start_time": "2025-06-11T11:17:19.652Z"
   },
   {
    "duration": 99,
    "start_time": "2025-06-11T11:17:58.291Z"
   },
   {
    "duration": 7,
    "start_time": "2025-06-11T11:18:00.312Z"
   },
   {
    "duration": 5,
    "start_time": "2025-06-11T11:18:00.822Z"
   },
   {
    "duration": 5,
    "start_time": "2025-06-11T11:18:08.474Z"
   },
   {
    "duration": 5,
    "start_time": "2025-06-11T11:18:19.027Z"
   },
   {
    "duration": 59,
    "start_time": "2025-06-11T11:19:23.503Z"
   },
   {
    "duration": 11,
    "start_time": "2025-06-11T11:19:36.609Z"
   },
   {
    "duration": 5,
    "start_time": "2025-06-11T11:19:58.909Z"
   },
   {
    "duration": 4,
    "start_time": "2025-06-11T11:20:08.005Z"
   },
   {
    "duration": 4,
    "start_time": "2025-06-11T11:20:27.127Z"
   },
   {
    "duration": 6,
    "start_time": "2025-06-11T11:22:43.313Z"
   },
   {
    "duration": 8,
    "start_time": "2025-06-11T11:23:39.437Z"
   },
   {
    "duration": 7,
    "start_time": "2025-06-11T11:23:54.910Z"
   },
   {
    "duration": 8,
    "start_time": "2025-06-11T11:24:06.935Z"
   },
   {
    "duration": 8,
    "start_time": "2025-06-11T11:24:49.035Z"
   },
   {
    "duration": 167,
    "start_time": "2025-06-11T11:26:38.505Z"
   },
   {
    "duration": 10,
    "start_time": "2025-06-11T11:29:13.990Z"
   },
   {
    "duration": 13,
    "start_time": "2025-06-11T11:30:16.082Z"
   },
   {
    "duration": 9,
    "start_time": "2025-06-11T11:30:39.443Z"
   },
   {
    "duration": 9,
    "start_time": "2025-06-11T11:31:03.872Z"
   },
   {
    "duration": 9,
    "start_time": "2025-06-11T11:32:22.651Z"
   },
   {
    "duration": 12,
    "start_time": "2025-06-11T11:37:19.724Z"
   },
   {
    "duration": 10,
    "start_time": "2025-06-11T11:38:23.283Z"
   },
   {
    "duration": 367,
    "start_time": "2025-06-11T11:38:24.332Z"
   },
   {
    "duration": 147,
    "start_time": "2025-06-11T11:38:35.379Z"
   },
   {
    "duration": 20,
    "start_time": "2025-06-11T11:38:46.492Z"
   },
   {
    "duration": 9,
    "start_time": "2025-06-11T11:39:04.348Z"
   },
   {
    "duration": 10,
    "start_time": "2025-06-11T11:39:16.200Z"
   },
   {
    "duration": 10,
    "start_time": "2025-06-11T11:39:21.222Z"
   },
   {
    "duration": 9,
    "start_time": "2025-06-11T11:39:25.328Z"
   },
   {
    "duration": 9,
    "start_time": "2025-06-11T11:41:50.407Z"
   },
   {
    "duration": 8,
    "start_time": "2025-06-11T11:41:51.066Z"
   },
   {
    "duration": 413,
    "start_time": "2025-06-11T11:46:28.498Z"
   },
   {
    "duration": 308,
    "start_time": "2025-06-11T11:46:53.831Z"
   },
   {
    "duration": 314,
    "start_time": "2025-06-11T11:47:02.693Z"
   },
   {
    "duration": 281,
    "start_time": "2025-06-11T11:47:17.644Z"
   },
   {
    "duration": 376,
    "start_time": "2025-06-11T11:47:24.777Z"
   },
   {
    "duration": 153,
    "start_time": "2025-06-11T11:47:34.150Z"
   },
   {
    "duration": 205,
    "start_time": "2025-06-11T11:48:17.490Z"
   },
   {
    "duration": 12,
    "start_time": "2025-06-11T11:50:17.527Z"
   },
   {
    "duration": 8,
    "start_time": "2025-06-11T11:50:24.631Z"
   },
   {
    "duration": 179,
    "start_time": "2025-06-11T11:50:38.702Z"
   },
   {
    "duration": 184,
    "start_time": "2025-06-11T11:50:44.877Z"
   },
   {
    "duration": 164,
    "start_time": "2025-06-11T11:50:53.292Z"
   },
   {
    "duration": 165,
    "start_time": "2025-06-11T11:50:58.375Z"
   },
   {
    "duration": 7,
    "start_time": "2025-06-11T11:51:52.456Z"
   },
   {
    "duration": 179,
    "start_time": "2025-06-11T11:52:15.666Z"
   },
   {
    "duration": 3,
    "start_time": "2025-06-11T12:03:24.369Z"
   },
   {
    "duration": 16,
    "start_time": "2025-06-11T12:07:05.125Z"
   },
   {
    "duration": 15,
    "start_time": "2025-06-11T12:08:18.630Z"
   },
   {
    "duration": 169,
    "start_time": "2025-06-11T12:24:55.455Z"
   },
   {
    "duration": 174,
    "start_time": "2025-06-11T12:25:12.046Z"
   },
   {
    "duration": 167,
    "start_time": "2025-06-11T12:25:21.422Z"
   },
   {
    "duration": 277,
    "start_time": "2025-06-11T12:25:59.138Z"
   },
   {
    "duration": 175,
    "start_time": "2025-06-11T12:26:12.161Z"
   },
   {
    "duration": 1666,
    "start_time": "2025-06-11T12:28:05.347Z"
   },
   {
    "duration": 9,
    "start_time": "2025-06-11T12:28:22.321Z"
   },
   {
    "duration": 9,
    "start_time": "2025-06-11T12:28:36.164Z"
   },
   {
    "duration": 47,
    "start_time": "2025-06-11T19:15:45.775Z"
   },
   {
    "duration": 6,
    "start_time": "2025-06-11T19:15:48.637Z"
   },
   {
    "duration": 1306,
    "start_time": "2025-06-11T19:15:54.569Z"
   },
   {
    "duration": 72,
    "start_time": "2025-06-11T19:15:55.877Z"
   },
   {
    "duration": 12,
    "start_time": "2025-06-11T19:15:55.951Z"
   },
   {
    "duration": 4,
    "start_time": "2025-06-11T19:15:55.965Z"
   },
   {
    "duration": 8,
    "start_time": "2025-06-11T19:15:55.970Z"
   },
   {
    "duration": 12,
    "start_time": "2025-06-11T19:15:55.980Z"
   },
   {
    "duration": 175,
    "start_time": "2025-06-11T19:15:55.993Z"
   },
   {
    "duration": 9,
    "start_time": "2025-06-11T19:15:56.170Z"
   },
   {
    "duration": 24,
    "start_time": "2025-06-11T19:15:56.180Z"
   },
   {
    "duration": 8,
    "start_time": "2025-06-11T19:15:56.207Z"
   },
   {
    "duration": 179,
    "start_time": "2025-06-11T19:15:56.217Z"
   },
   {
    "duration": 205,
    "start_time": "2025-06-11T19:15:56.398Z"
   },
   {
    "duration": 9,
    "start_time": "2025-06-11T19:15:56.604Z"
   },
   {
    "duration": 196,
    "start_time": "2025-06-11T19:15:56.614Z"
   },
   {
    "duration": 8,
    "start_time": "2025-06-11T19:15:56.812Z"
   },
   {
    "duration": 187,
    "start_time": "2025-06-11T19:15:56.822Z"
   },
   {
    "duration": 27,
    "start_time": "2025-06-11T19:15:57.011Z"
   },
   {
    "duration": 1724,
    "start_time": "2025-06-11T19:15:57.040Z"
   },
   {
    "duration": 8,
    "start_time": "2025-06-11T19:15:58.766Z"
   },
   {
    "duration": 12,
    "start_time": "2025-06-11T19:15:58.775Z"
   },
   {
    "duration": 8,
    "start_time": "2025-06-11T19:15:58.788Z"
   },
   {
    "duration": 12,
    "start_time": "2025-06-11T19:17:17.024Z"
   },
   {
    "duration": 96,
    "start_time": "2025-06-11T19:17:58.569Z"
   },
   {
    "duration": 13,
    "start_time": "2025-06-11T19:18:03.636Z"
   },
   {
    "duration": 7,
    "start_time": "2025-06-11T19:18:07.143Z"
   },
   {
    "duration": 280,
    "start_time": "2025-06-11T19:19:08.537Z"
   },
   {
    "duration": 8,
    "start_time": "2025-06-11T19:19:15.949Z"
   },
   {
    "duration": 7,
    "start_time": "2025-06-11T19:19:34.128Z"
   },
   {
    "duration": 7,
    "start_time": "2025-06-11T19:19:53.470Z"
   },
   {
    "duration": 8,
    "start_time": "2025-06-11T19:20:11.226Z"
   },
   {
    "duration": 4,
    "start_time": "2025-06-11T19:21:30.570Z"
   },
   {
    "duration": 5,
    "start_time": "2025-06-11T19:21:39.313Z"
   },
   {
    "duration": 101,
    "start_time": "2025-06-11T19:22:37.463Z"
   },
   {
    "duration": 194,
    "start_time": "2025-06-11T19:31:01.261Z"
   },
   {
    "duration": 43,
    "start_time": "2025-06-11T19:32:13.416Z"
   },
   {
    "duration": 43,
    "start_time": "2025-06-11T19:33:18.494Z"
   },
   {
    "duration": 1014,
    "start_time": "2025-06-11T19:34:29.645Z"
   },
   {
    "duration": 283,
    "start_time": "2025-06-11T19:34:47.661Z"
   },
   {
    "duration": 52,
    "start_time": "2025-06-11T19:34:55.579Z"
   },
   {
    "duration": 51,
    "start_time": "2025-06-11T19:35:00.744Z"
   },
   {
    "duration": 100,
    "start_time": "2025-06-11T19:35:32.436Z"
   },
   {
    "duration": 10,
    "start_time": "2025-06-11T19:35:45.450Z"
   },
   {
    "duration": 67,
    "start_time": "2025-06-11T19:36:08.432Z"
   },
   {
    "duration": 68,
    "start_time": "2025-06-11T19:36:16.244Z"
   },
   {
    "duration": 10,
    "start_time": "2025-06-11T19:38:51.082Z"
   },
   {
    "duration": 9,
    "start_time": "2025-06-11T19:38:58.377Z"
   },
   {
    "duration": 29,
    "start_time": "2025-06-11T19:39:08.183Z"
   },
   {
    "duration": 20,
    "start_time": "2025-06-11T19:40:23.284Z"
   },
   {
    "duration": 14,
    "start_time": "2025-06-11T19:40:29.379Z"
   },
   {
    "duration": 14,
    "start_time": "2025-06-11T19:40:40.823Z"
   },
   {
    "duration": 172,
    "start_time": "2025-06-11T19:40:56.429Z"
   },
   {
    "duration": 116,
    "start_time": "2025-06-11T19:41:41.697Z"
   },
   {
    "duration": 11,
    "start_time": "2025-06-11T19:43:18.220Z"
   },
   {
    "duration": 980,
    "start_time": "2025-06-11T19:49:27.006Z"
   },
   {
    "duration": 22,
    "start_time": "2025-06-11T19:51:06.796Z"
   },
   {
    "duration": 11,
    "start_time": "2025-06-11T19:51:17.153Z"
   },
   {
    "duration": 17,
    "start_time": "2025-06-11T19:53:16.849Z"
   },
   {
    "duration": 12,
    "start_time": "2025-06-11T19:56:42.545Z"
   },
   {
    "duration": 13,
    "start_time": "2025-06-11T19:57:20.461Z"
   },
   {
    "duration": 7,
    "start_time": "2025-06-11T20:00:01.120Z"
   },
   {
    "duration": 8,
    "start_time": "2025-06-11T20:00:13.348Z"
   },
   {
    "duration": 980,
    "start_time": "2025-06-11T20:01:16.392Z"
   },
   {
    "duration": 13,
    "start_time": "2025-06-11T20:02:22.843Z"
   },
   {
    "duration": 11,
    "start_time": "2025-06-11T20:03:41.117Z"
   },
   {
    "duration": 5,
    "start_time": "2025-06-11T20:03:44.900Z"
   },
   {
    "duration": 9,
    "start_time": "2025-06-11T20:03:56.391Z"
   },
   {
    "duration": 10,
    "start_time": "2025-06-11T20:04:12.161Z"
   },
   {
    "duration": 12,
    "start_time": "2025-06-11T20:09:49.677Z"
   },
   {
    "duration": 156,
    "start_time": "2025-06-11T20:11:19.674Z"
   },
   {
    "duration": 25,
    "start_time": "2025-06-11T20:13:23.919Z"
   },
   {
    "duration": 22,
    "start_time": "2025-06-11T20:14:04.585Z"
   },
   {
    "duration": 11,
    "start_time": "2025-06-11T20:14:05.623Z"
   },
   {
    "duration": 228,
    "start_time": "2025-06-11T20:14:10.365Z"
   },
   {
    "duration": 156,
    "start_time": "2025-06-11T20:14:43.264Z"
   },
   {
    "duration": 13,
    "start_time": "2025-06-11T20:14:46.694Z"
   },
   {
    "duration": 10,
    "start_time": "2025-06-11T20:14:50.787Z"
   },
   {
    "duration": 10,
    "start_time": "2025-06-11T20:14:51.965Z"
   },
   {
    "duration": 24,
    "start_time": "2025-06-11T20:16:08.164Z"
   },
   {
    "duration": 11,
    "start_time": "2025-06-11T20:16:08.942Z"
   },
   {
    "duration": 11,
    "start_time": "2025-06-11T20:16:19.450Z"
   },
   {
    "duration": 161,
    "start_time": "2025-06-11T20:16:24.253Z"
   },
   {
    "duration": 16,
    "start_time": "2025-06-11T20:16:29.183Z"
   },
   {
    "duration": 10,
    "start_time": "2025-06-11T20:16:30.825Z"
   },
   {
    "duration": 10,
    "start_time": "2025-06-11T20:16:33.796Z"
   },
   {
    "duration": 8,
    "start_time": "2025-06-11T20:16:50.493Z"
   },
   {
    "duration": 10,
    "start_time": "2025-06-11T20:16:51.390Z"
   },
   {
    "duration": 10,
    "start_time": "2025-06-11T20:17:07.161Z"
   },
   {
    "duration": 11,
    "start_time": "2025-06-11T20:17:07.930Z"
   },
   {
    "duration": 11,
    "start_time": "2025-06-11T20:17:24.494Z"
   },
   {
    "duration": 8,
    "start_time": "2025-06-11T20:18:01.061Z"
   },
   {
    "duration": 10,
    "start_time": "2025-06-11T20:18:02.031Z"
   },
   {
    "duration": 9,
    "start_time": "2025-06-11T20:18:56.807Z"
   },
   {
    "duration": 7,
    "start_time": "2025-06-11T20:19:14.807Z"
   },
   {
    "duration": 10,
    "start_time": "2025-06-11T20:19:15.419Z"
   },
   {
    "duration": 7,
    "start_time": "2025-06-11T20:19:31.712Z"
   },
   {
    "duration": 9,
    "start_time": "2025-06-11T20:19:32.291Z"
   },
   {
    "duration": 24,
    "start_time": "2025-06-11T20:20:21.689Z"
   },
   {
    "duration": 11,
    "start_time": "2025-06-11T20:20:22.398Z"
   },
   {
    "duration": 13,
    "start_time": "2025-06-11T20:20:25.977Z"
   },
   {
    "duration": 158,
    "start_time": "2025-06-11T20:20:29.700Z"
   },
   {
    "duration": 14,
    "start_time": "2025-06-11T20:20:32.416Z"
   },
   {
    "duration": 8,
    "start_time": "2025-06-11T20:20:35.262Z"
   },
   {
    "duration": 9,
    "start_time": "2025-06-11T20:20:35.915Z"
   },
   {
    "duration": 11,
    "start_time": "2025-06-11T20:20:55.084Z"
   },
   {
    "duration": 10,
    "start_time": "2025-06-11T20:20:55.839Z"
   },
   {
    "duration": 10,
    "start_time": "2025-06-11T20:21:08.446Z"
   },
   {
    "duration": 16,
    "start_time": "2025-06-11T20:27:25.731Z"
   },
   {
    "duration": 8,
    "start_time": "2025-06-11T20:27:35.063Z"
   },
   {
    "duration": 5,
    "start_time": "2025-06-11T20:27:47.915Z"
   },
   {
    "duration": 14,
    "start_time": "2025-06-11T20:30:37.353Z"
   },
   {
    "duration": 14,
    "start_time": "2025-06-11T20:32:07.823Z"
   },
   {
    "duration": 13,
    "start_time": "2025-06-11T20:32:18.214Z"
   },
   {
    "duration": 12,
    "start_time": "2025-06-11T20:32:44.400Z"
   },
   {
    "duration": 153,
    "start_time": "2025-06-11T20:33:20.285Z"
   },
   {
    "duration": 10,
    "start_time": "2025-06-11T20:33:43.606Z"
   },
   {
    "duration": 10,
    "start_time": "2025-06-11T20:33:50.713Z"
   },
   {
    "duration": 10,
    "start_time": "2025-06-11T20:33:54.637Z"
   },
   {
    "duration": 10,
    "start_time": "2025-06-11T20:34:04.916Z"
   },
   {
    "duration": 53,
    "start_time": "2025-06-12T10:34:34.037Z"
   },
   {
    "duration": 1366,
    "start_time": "2025-06-12T10:34:39.226Z"
   },
   {
    "duration": 106,
    "start_time": "2025-06-12T10:34:40.594Z"
   },
   {
    "duration": 28,
    "start_time": "2025-06-12T10:34:40.701Z"
   },
   {
    "duration": 19,
    "start_time": "2025-06-12T10:34:40.731Z"
   },
   {
    "duration": 15,
    "start_time": "2025-06-12T10:34:40.752Z"
   },
   {
    "duration": 104,
    "start_time": "2025-06-12T10:34:40.769Z"
   },
   {
    "duration": 157,
    "start_time": "2025-06-12T10:34:40.874Z"
   },
   {
    "duration": 8,
    "start_time": "2025-06-12T10:34:41.033Z"
   },
   {
    "duration": 24,
    "start_time": "2025-06-12T10:34:41.043Z"
   },
   {
    "duration": 9,
    "start_time": "2025-06-12T10:34:41.069Z"
   },
   {
    "duration": 255,
    "start_time": "2025-06-12T10:34:41.079Z"
   },
   {
    "duration": 182,
    "start_time": "2025-06-12T10:34:41.336Z"
   },
   {
    "duration": 8,
    "start_time": "2025-06-12T10:34:41.520Z"
   },
   {
    "duration": 195,
    "start_time": "2025-06-12T10:34:41.530Z"
   },
   {
    "duration": 8,
    "start_time": "2025-06-12T10:34:41.726Z"
   },
   {
    "duration": 313,
    "start_time": "2025-06-12T10:34:41.735Z"
   },
   {
    "duration": 16,
    "start_time": "2025-06-12T10:34:42.049Z"
   },
   {
    "duration": 1617,
    "start_time": "2025-06-12T10:34:42.067Z"
   },
   {
    "duration": 8,
    "start_time": "2025-06-12T10:34:43.686Z"
   },
   {
    "duration": 145,
    "start_time": "2025-06-12T10:34:43.704Z"
   },
   {
    "duration": 32,
    "start_time": "2025-06-12T10:34:43.851Z"
   },
   {
    "duration": 18,
    "start_time": "2025-06-12T10:34:43.885Z"
   },
   {
    "duration": 21,
    "start_time": "2025-06-12T10:34:43.905Z"
   },
   {
    "duration": 169,
    "start_time": "2025-06-12T10:34:43.928Z"
   },
   {
    "duration": 78,
    "start_time": "2025-06-12T10:34:44.099Z"
   },
   {
    "duration": 131,
    "start_time": "2025-06-12T10:34:44.179Z"
   },
   {
    "duration": 94,
    "start_time": "2025-06-12T10:34:44.312Z"
   },
   {
    "duration": 15,
    "start_time": "2025-06-12T10:34:44.409Z"
   },
   {
    "duration": 149,
    "start_time": "2025-06-12T10:34:44.425Z"
   },
   {
    "duration": 13,
    "start_time": "2025-06-12T10:34:44.576Z"
   },
   {
    "duration": 144,
    "start_time": "2025-06-12T10:34:44.604Z"
   },
   {
    "duration": 182,
    "start_time": "2025-06-12T10:34:44.749Z"
   },
   {
    "duration": 66,
    "start_time": "2025-06-12T10:34:44.933Z"
   },
   {
    "duration": 10,
    "start_time": "2025-06-12T10:34:45.001Z"
   },
   {
    "duration": 159,
    "start_time": "2025-06-12T10:34:45.013Z"
   },
   {
    "duration": 53,
    "start_time": "2025-06-12T10:34:45.173Z"
   },
   {
    "duration": 51,
    "start_time": "2025-06-12T10:34:45.228Z"
   },
   {
    "duration": 10,
    "start_time": "2025-06-12T10:39:12.223Z"
   },
   {
    "duration": 10,
    "start_time": "2025-06-12T10:39:14.528Z"
   },
   {
    "duration": 25,
    "start_time": "2025-06-12T10:39:46.518Z"
   },
   {
    "duration": 176,
    "start_time": "2025-06-12T10:39:47.197Z"
   },
   {
    "duration": 11,
    "start_time": "2025-06-12T10:39:56.496Z"
   }
  ],
  "colab": {
   "provenance": [],
   "toc_visible": true
  },
  "kernelspec": {
   "display_name": "Python 3 (ipykernel)",
   "language": "python",
   "name": "python3"
  },
  "language_info": {
   "codemirror_mode": {
    "name": "ipython",
    "version": 3
   },
   "file_extension": ".py",
   "mimetype": "text/x-python",
   "name": "python",
   "nbconvert_exporter": "python",
   "pygments_lexer": "ipython3",
   "version": "3.9.7"
  },
  "toc": {
   "base_numbering": 1,
   "nav_menu": {},
   "number_sections": true,
   "sideBar": true,
   "skip_h1_title": true,
   "title_cell": "Table of Contents",
   "title_sidebar": "Contents",
   "toc_cell": false,
   "toc_position": {
    "height": "calc(100% - 180px)",
    "left": "10px",
    "top": "150px",
    "width": "184px"
   },
   "toc_section_display": true,
   "toc_window_display": true
  }
 },
 "nbformat": 4,
 "nbformat_minor": 5
}
